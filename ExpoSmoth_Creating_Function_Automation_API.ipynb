{
  "nbformat": 4,
  "nbformat_minor": 0,
  "metadata": {
    "colab": {
      "name": "ExpoSmoth-Creating_Function_Automation_API.ipynb",
      "provenance": [],
      "collapsed_sections": [
        "k0Ahp_z2fXFK",
        "Xs5_uzscTHS1",
        "qfCGz0n-f6WV"
      ],
      "include_colab_link": true
    },
    "kernelspec": {
      "name": "python3",
      "display_name": "Python 3"
    },
    "language_info": {
      "name": "python"
    }
  },
  "cells": [
    {
      "cell_type": "markdown",
      "metadata": {
        "id": "view-in-github",
        "colab_type": "text"
      },
      "source": [
        "<a href=\"https://colab.research.google.com/github/SergJohn/Crypto-Prediction-2022-Project/blob/main/ExpoSmoth_Creating_Function_Automation_API.ipynb\" target=\"_parent\"><img src=\"https://colab.research.google.com/assets/colab-badge.svg\" alt=\"Open In Colab\"/></a>"
      ]
    },
    {
      "cell_type": "markdown",
      "source": [
        "---\n",
        "**Holtwinters**\n",
        "First attempt - as the data does not have trend or seasonality, it is not performing well\n",
        "---"
      ],
      "metadata": {
        "id": "k0Ahp_z2fXFK"
      }
    },
    {
      "cell_type": "code",
      "execution_count": null,
      "metadata": {
        "id": "9Rf9mxa_2utt"
      },
      "outputs": [],
      "source": [
        " # Load the libraries\n",
        "import pandas as pd\n",
        "from matplotlib import pyplot as plt\n",
        "from statsmodels.tsa.holtwinters import ExponentialSmoothing as HWES\n",
        "\n",
        "import warnings\n",
        "warnings.filterwarnings('ignore') # We can suppress the warnings"
      ]
    },
    {
      "cell_type": "code",
      "source": [
        "# Read the data set into a Pandas data frame. Note that the Date column (column 0) is the index column and it has \n",
        "# the format mm-dd-yyyy.\n",
        "df = pd.read_csv('BTC-USD.csv', index_col = [0])\n",
        "#df = pd.read_csv('BTC-USD.csv')\n",
        "\n",
        "# By default, date columns are represented as object when loading data from a CSV file. To read the date column correctly, \n",
        "# we can use the argument parse_dates to specify a list of date columns.\n",
        "\n",
        "df.head()"
      ],
      "metadata": {
        "colab": {
          "base_uri": "https://localhost:8080/",
          "height": 238
        },
        "id": "21EvcjUJOcYx",
        "outputId": "dde5ea32-39d8-4fd3-8afd-6b32ae8badd1"
      },
      "execution_count": null,
      "outputs": [
        {
          "output_type": "execute_result",
          "data": {
            "text/plain": [
              "                  Open        High         Low       Close   Adj Close  \\\n",
              "Date                                                                     \n",
              "2014-10-16  394.518005  398.807007  373.070007  382.556000  382.556000   \n",
              "2014-10-17  382.756012  385.477997  375.389008  383.757996  383.757996   \n",
              "2014-10-18  383.976013  395.157990  378.971008  391.441986  391.441986   \n",
              "2014-10-19  391.253998  393.938995  386.457001  389.545990  389.545990   \n",
              "2014-10-20  389.230988  390.084015  378.252014  382.845001  382.845001   \n",
              "\n",
              "              Volume  \n",
              "Date                  \n",
              "2014-10-16  26990000  \n",
              "2014-10-17  13600700  \n",
              "2014-10-18  11416800  \n",
              "2014-10-19   5914570  \n",
              "2014-10-20  16419000  "
            ],
            "text/html": [
              "\n",
              "  <div id=\"df-3a4d3a85-cca7-4597-a222-5db32aa8f704\">\n",
              "    <div class=\"colab-df-container\">\n",
              "      <div>\n",
              "<style scoped>\n",
              "    .dataframe tbody tr th:only-of-type {\n",
              "        vertical-align: middle;\n",
              "    }\n",
              "\n",
              "    .dataframe tbody tr th {\n",
              "        vertical-align: top;\n",
              "    }\n",
              "\n",
              "    .dataframe thead th {\n",
              "        text-align: right;\n",
              "    }\n",
              "</style>\n",
              "<table border=\"1\" class=\"dataframe\">\n",
              "  <thead>\n",
              "    <tr style=\"text-align: right;\">\n",
              "      <th></th>\n",
              "      <th>Open</th>\n",
              "      <th>High</th>\n",
              "      <th>Low</th>\n",
              "      <th>Close</th>\n",
              "      <th>Adj Close</th>\n",
              "      <th>Volume</th>\n",
              "    </tr>\n",
              "    <tr>\n",
              "      <th>Date</th>\n",
              "      <th></th>\n",
              "      <th></th>\n",
              "      <th></th>\n",
              "      <th></th>\n",
              "      <th></th>\n",
              "      <th></th>\n",
              "    </tr>\n",
              "  </thead>\n",
              "  <tbody>\n",
              "    <tr>\n",
              "      <th>2014-10-16</th>\n",
              "      <td>394.518005</td>\n",
              "      <td>398.807007</td>\n",
              "      <td>373.070007</td>\n",
              "      <td>382.556000</td>\n",
              "      <td>382.556000</td>\n",
              "      <td>26990000</td>\n",
              "    </tr>\n",
              "    <tr>\n",
              "      <th>2014-10-17</th>\n",
              "      <td>382.756012</td>\n",
              "      <td>385.477997</td>\n",
              "      <td>375.389008</td>\n",
              "      <td>383.757996</td>\n",
              "      <td>383.757996</td>\n",
              "      <td>13600700</td>\n",
              "    </tr>\n",
              "    <tr>\n",
              "      <th>2014-10-18</th>\n",
              "      <td>383.976013</td>\n",
              "      <td>395.157990</td>\n",
              "      <td>378.971008</td>\n",
              "      <td>391.441986</td>\n",
              "      <td>391.441986</td>\n",
              "      <td>11416800</td>\n",
              "    </tr>\n",
              "    <tr>\n",
              "      <th>2014-10-19</th>\n",
              "      <td>391.253998</td>\n",
              "      <td>393.938995</td>\n",
              "      <td>386.457001</td>\n",
              "      <td>389.545990</td>\n",
              "      <td>389.545990</td>\n",
              "      <td>5914570</td>\n",
              "    </tr>\n",
              "    <tr>\n",
              "      <th>2014-10-20</th>\n",
              "      <td>389.230988</td>\n",
              "      <td>390.084015</td>\n",
              "      <td>378.252014</td>\n",
              "      <td>382.845001</td>\n",
              "      <td>382.845001</td>\n",
              "      <td>16419000</td>\n",
              "    </tr>\n",
              "  </tbody>\n",
              "</table>\n",
              "</div>\n",
              "      <button class=\"colab-df-convert\" onclick=\"convertToInteractive('df-3a4d3a85-cca7-4597-a222-5db32aa8f704')\"\n",
              "              title=\"Convert this dataframe to an interactive table.\"\n",
              "              style=\"display:none;\">\n",
              "        \n",
              "  <svg xmlns=\"http://www.w3.org/2000/svg\" height=\"24px\"viewBox=\"0 0 24 24\"\n",
              "       width=\"24px\">\n",
              "    <path d=\"M0 0h24v24H0V0z\" fill=\"none\"/>\n",
              "    <path d=\"M18.56 5.44l.94 2.06.94-2.06 2.06-.94-2.06-.94-.94-2.06-.94 2.06-2.06.94zm-11 1L8.5 8.5l.94-2.06 2.06-.94-2.06-.94L8.5 2.5l-.94 2.06-2.06.94zm10 10l.94 2.06.94-2.06 2.06-.94-2.06-.94-.94-2.06-.94 2.06-2.06.94z\"/><path d=\"M17.41 7.96l-1.37-1.37c-.4-.4-.92-.59-1.43-.59-.52 0-1.04.2-1.43.59L10.3 9.45l-7.72 7.72c-.78.78-.78 2.05 0 2.83L4 21.41c.39.39.9.59 1.41.59.51 0 1.02-.2 1.41-.59l7.78-7.78 2.81-2.81c.8-.78.8-2.07 0-2.86zM5.41 20L4 18.59l7.72-7.72 1.47 1.35L5.41 20z\"/>\n",
              "  </svg>\n",
              "      </button>\n",
              "      \n",
              "  <style>\n",
              "    .colab-df-container {\n",
              "      display:flex;\n",
              "      flex-wrap:wrap;\n",
              "      gap: 12px;\n",
              "    }\n",
              "\n",
              "    .colab-df-convert {\n",
              "      background-color: #E8F0FE;\n",
              "      border: none;\n",
              "      border-radius: 50%;\n",
              "      cursor: pointer;\n",
              "      display: none;\n",
              "      fill: #1967D2;\n",
              "      height: 32px;\n",
              "      padding: 0 0 0 0;\n",
              "      width: 32px;\n",
              "    }\n",
              "\n",
              "    .colab-df-convert:hover {\n",
              "      background-color: #E2EBFA;\n",
              "      box-shadow: 0px 1px 2px rgba(60, 64, 67, 0.3), 0px 1px 3px 1px rgba(60, 64, 67, 0.15);\n",
              "      fill: #174EA6;\n",
              "    }\n",
              "\n",
              "    [theme=dark] .colab-df-convert {\n",
              "      background-color: #3B4455;\n",
              "      fill: #D2E3FC;\n",
              "    }\n",
              "\n",
              "    [theme=dark] .colab-df-convert:hover {\n",
              "      background-color: #434B5C;\n",
              "      box-shadow: 0px 1px 3px 1px rgba(0, 0, 0, 0.15);\n",
              "      filter: drop-shadow(0px 1px 2px rgba(0, 0, 0, 0.3));\n",
              "      fill: #FFFFFF;\n",
              "    }\n",
              "  </style>\n",
              "\n",
              "      <script>\n",
              "        const buttonEl =\n",
              "          document.querySelector('#df-3a4d3a85-cca7-4597-a222-5db32aa8f704 button.colab-df-convert');\n",
              "        buttonEl.style.display =\n",
              "          google.colab.kernel.accessAllowed ? 'block' : 'none';\n",
              "\n",
              "        async function convertToInteractive(key) {\n",
              "          const element = document.querySelector('#df-3a4d3a85-cca7-4597-a222-5db32aa8f704');\n",
              "          const dataTable =\n",
              "            await google.colab.kernel.invokeFunction('convertToInteractive',\n",
              "                                                     [key], {});\n",
              "          if (!dataTable) return;\n",
              "\n",
              "          const docLinkHtml = 'Like what you see? Visit the ' +\n",
              "            '<a target=\"_blank\" href=https://colab.research.google.com/notebooks/data_table.ipynb>data table notebook</a>'\n",
              "            + ' to learn more about interactive tables.';\n",
              "          element.innerHTML = '';\n",
              "          dataTable['output_type'] = 'display_data';\n",
              "          await google.colab.output.renderOutput(dataTable, element);\n",
              "          const docLink = document.createElement('div');\n",
              "          docLink.innerHTML = docLinkHtml;\n",
              "          element.appendChild(docLink);\n",
              "        }\n",
              "      </script>\n",
              "    </div>\n",
              "  </div>\n",
              "  "
            ]
          },
          "metadata": {},
          "execution_count": 28
        }
      ]
    },
    {
      "cell_type": "code",
      "source": [
        "df.drop(['High', 'Low', 'Open', 'Volume', 'Adj Close'], axis=1, inplace=True)"
      ],
      "metadata": {
        "id": "jI6Jm3T9OhFN"
      },
      "execution_count": null,
      "outputs": []
    },
    {
      "cell_type": "code",
      "source": [
        "# Plot the data:\n",
        "df.plot()\n",
        "\n",
        "# Show the plot\n",
        "plt.show()"
      ],
      "metadata": {
        "colab": {
          "base_uri": "https://localhost:8080/",
          "height": 281
        },
        "id": "3zk9u0luOv5_",
        "outputId": "11ba625b-d06e-4c00-e0a2-3fb5cae8f120"
      },
      "execution_count": null,
      "outputs": [
        {
          "output_type": "display_data",
          "data": {
            "text/plain": [
              "<Figure size 432x288 with 1 Axes>"
            ],
            "image/png": "[encoded data removed]"
          },
          "metadata": {
            "needs_background": "light"
          }
        }
      ]
    },
    {
      "cell_type": "code",
      "source": [
        "# get data from dataset from July 2020\n",
        "start_date = '2020-07-16'\n",
        "end_date = '2022-02-02'\n",
        "mask = (df['Date'] > start_date) & (df['Date'] <= end_date)\n",
        "df = df.loc[mask] "
      ],
      "metadata": {
        "id": "DZnHTzfcQBNb"
      },
      "execution_count": null,
      "outputs": []
    },
    {
      "cell_type": "code",
      "source": [
        "# Important step to make the model work - Set the Date column as Index\n",
        "#df[\"Date\"] = pd.to_datetime(df[\"Date\"])\n",
        "df.set_index('Date', inplace=True)\n",
        "df.index = pd.PeriodIndex(df.index, freq=\"D\")\n",
        "df.head()"
      ],
      "metadata": {
        "id": "_oV98Y0RQMnM"
      },
      "execution_count": null,
      "outputs": []
    },
    {
      "cell_type": "code",
      "source": [
        "# Split between the training and the test data sets. The last 12 periods form the test data.\n",
        "df_train = df.iloc[:-12]    # Remove last 12 rows\n",
        "df_test = df.iloc[-12:]     # Consider only last 12 rows\n",
        "\n",
        "# Display the size of the dataframes\n",
        "df_train.shape, df_test.shape"
      ],
      "metadata": {
        "colab": {
          "base_uri": "https://localhost:8080/"
        },
        "id": "vyWMN2iOO_3d",
        "outputId": "9fe224fa-47db-438a-a191-f34650ed8b86"
      },
      "execution_count": null,
      "outputs": [
        {
          "output_type": "execute_result",
          "data": {
            "text/plain": [
              "((2697, 1), (12, 1))"
            ]
          },
          "metadata": {},
          "execution_count": 31
        }
      ]
    },
    {
      "cell_type": "code",
      "source": [
        "# Build and train the model on the training data. In the above chart, the level of the time series seems to be \n",
        "# increasing linearly. So we set the trend as additive. However, the seasonal variation around each level seems to be \n",
        "# increasing in proportion to the current level. So we set the seasonality to multiplicative.\n",
        "model = HWES(df_train, seasonal_periods = 12, trend = 'add', seasonal = 'mul')\n",
        "\n",
        "# Train the model\n",
        "fitted = model.fit()"
      ],
      "metadata": {
        "id": "FcSqp2RFPDa9"
      },
      "execution_count": null,
      "outputs": []
    },
    {
      "cell_type": "code",
      "source": [
        "# Print out the training summary.\n",
        "print(fitted.summary())"
      ],
      "metadata": {
        "colab": {
          "base_uri": "https://localhost:8080/"
        },
        "id": "8h7xoIkIPGFf",
        "outputId": "bfbce6fd-63e0-4446-f36d-737ba8355f76"
      },
      "execution_count": null,
      "outputs": [
        {
          "output_type": "stream",
          "name": "stdout",
          "text": [
            "                       ExponentialSmoothing Model Results                       \n",
            "================================================================================\n",
            "Dep. Variable:                    endog   No. Observations:                 2697\n",
            "Model:             ExponentialSmoothing   SSE                     1866673421.068\n",
            "Optimized:                         True   AIC                          36299.984\n",
            "Trend:                         Additive   BIC                          36394.383\n",
            "Seasonal:                Multiplicative   AICC                         36300.240\n",
            "Seasonal Periods:                    12   Date:                 Wed, 06 Apr 2022\n",
            "Box-Cox:                          False   Time:                         14:32:22\n",
            "Box-Cox Coeff.:                    None                                         \n",
            "=================================================================================\n",
            "                          coeff                 code              optimized      \n",
            "---------------------------------------------------------------------------------\n",
            "smoothing_level               0.7894737                alpha                 True\n",
            "smoothing_slope               0.0526316                 beta                 True\n",
            "smoothing_seasonal            0.0526316                gamma                 True\n",
            "initial_level                 11537.375                  l.0                 True\n",
            "initial_slope                6.3368e-22                  b.0                 True\n",
            "initial_seasons.0             0.0331580                  s.0                 True\n",
            "initial_seasons.1             0.0332622                  s.1                 True\n",
            "initial_seasons.2             0.0339282                  s.2                 True\n",
            "initial_seasons.3             0.0337638                  s.3                 True\n",
            "initial_seasons.4             0.0331830                  s.4                 True\n",
            "initial_seasons.5             0.0334977                  s.5                 True\n",
            "initial_seasons.6             0.0332102                  s.6                 True\n",
            "initial_seasons.7             0.0310657                  s.7                 True\n",
            "initial_seasons.8             0.0310595                  s.8                 True\n",
            "initial_seasons.9             0.0300997                  s.9                 True\n",
            "initial_seasons.10            0.0307439                 s.10                 True\n",
            "initial_seasons.11            0.0305953                 s.11                 True\n",
            "---------------------------------------------------------------------------------\n"
          ]
        }
      ]
    },
    {
      "cell_type": "code",
      "source": [
        "# Create an out of sample forecast for the next 12 steps beyond the final data point in the training data set.\n",
        "Pricing_forecast = fitted.forecast(steps = 12)"
      ],
      "metadata": {
        "id": "DZBgvSbhPIbC"
      },
      "execution_count": null,
      "outputs": []
    },
    {
      "cell_type": "code",
      "source": [
        "df_train.shape, df_test.shape, Pricing_forecast.shape"
      ],
      "metadata": {
        "colab": {
          "base_uri": "https://localhost:8080/"
        },
        "id": "UIo8pDN-POFG",
        "outputId": "7185f3a8-c881-42aa-9666-d6eeb28720af"
      },
      "execution_count": null,
      "outputs": [
        {
          "output_type": "execute_result",
          "data": {
            "text/plain": [
              "((2697, 1), (12, 1), (12,))"
            ]
          },
          "metadata": {},
          "execution_count": 88
        }
      ]
    },
    {
      "cell_type": "code",
      "source": [
        "df_train[316:328].shape, df_test.shape, Pricing_forecast.shape"
      ],
      "metadata": {
        "colab": {
          "base_uri": "https://localhost:8080/"
        },
        "id": "XG10JzKvPQcH",
        "outputId": "f34a370f-eaae-4737-8386-36ebeb415669"
      },
      "execution_count": null,
      "outputs": [
        {
          "output_type": "execute_result",
          "data": {
            "text/plain": [
              "((12, 1), (12, 1), (12,))"
            ]
          },
          "metadata": {},
          "execution_count": 89
        }
      ]
    },
    {
      "cell_type": "code",
      "source": [
        "# Plot the training data, the test data and the forecast on the same plot.\n",
        "fig = plt.figure(figsize = (16, 10))\n",
        "fig.suptitle('Plot Test')\n",
        "past, = plt.plot(df_train.index, df_train, 'b.-', label = 'Pricing History')\n",
        "future, = plt.plot(df_test.index, df_test, 'r.-', label = 'Actual Price')\n",
        "predicted_future, = plt.plot(df_test.index, Pricing_forecast, 'g.-', label = 'Price Forecast')\n",
        "plt.legend(handles = [past, future, predicted_future])\n",
        "plt.show()"
      ],
      "metadata": {
        "colab": {
          "base_uri": "https://localhost:8080/",
          "height": 662
        },
        "id": "vF5OtyZ_PWx4",
        "outputId": "cbc7e0a8-b43d-4bda-e623-a2a14334a0c6"
      },
      "execution_count": null,
      "outputs": [
        {
          "output_type": "display_data",
          "data": {
            "text/plain": [
              "<Figure size 1152x720 with 1 Axes>"
            ],
            "image/png": "[encoded data removed]"
          },
          "metadata": {
            "needs_background": "light"
          }
        }
      ]
    },
    {
      "cell_type": "code",
      "source": [
        "# Plot the training data, the test data and the forecast on the same plot.\n",
        "fig = plt.figure(figsize = (16, 10))\n",
        "fig.suptitle('Plot test 2')\n",
        "past, = plt.plot(df_train[316:328].index, df_train[316:328], 'b.-', label = 'Price History')\n",
        "future, = plt.plot(df_test.index, df_test, 'r.-', label = 'Actual Price')\n",
        "predicted_future, = plt.plot(df_test.index, Pricing_forecast, 'g.-', label = 'Price Forecast')\n",
        "plt.legend(handles = [past, future, predicted_future])\n",
        "plt.show()"
      ],
      "metadata": {
        "colab": {
          "base_uri": "https://localhost:8080/",
          "height": 662
        },
        "id": "-WYIFdepPZ0B",
        "outputId": "794e6348-e1b8-4d8a-b584-a52ce95d50b5"
      },
      "execution_count": null,
      "outputs": [
        {
          "output_type": "display_data",
          "data": {
            "text/plain": [
              "<Figure size 1152x720 with 1 Axes>"
            ],
            "image/png": "[encoded data removed]"
          },
          "metadata": {
            "needs_background": "light"
          }
        }
      ]
    },
    {
      "cell_type": "code",
      "source": [
        "from sklearn.metrics import mean_absolute_error, mean_squared_error, r2_score\n",
        "\n",
        "print(f'Mean Absolute Error = {mean_absolute_error(df_test, Pricing_forecast)}')\n",
        "print(f'Mean Squared Error = {mean_squared_error(df_test, Pricing_forecast)}')\n",
        "print(f'r^2 score = {r2_score(df_test, Pricing_forecast)}')"
      ],
      "metadata": {
        "colab": {
          "base_uri": "https://localhost:8080/"
        },
        "id": "7xt5u62SQjHl",
        "outputId": "d465997b-3fab-4850-ef03-72da600a24ce"
      },
      "execution_count": null,
      "outputs": [
        {
          "output_type": "stream",
          "name": "stdout",
          "text": [
            "Mean Absolute Error = 1057.8881659729461\n",
            "Mean Squared Error = 1721340.5926209453\n",
            "r^2 score = -0.4091849040951363\n"
          ]
        }
      ]
    },
    {
      "cell_type": "markdown",
      "source": [
        "The holt's approach did not gave good results due to the lack of trending and seasonality... let's try another approach."
      ],
      "metadata": {
        "id": "eDjSiO5wkKtL"
      }
    },
    {
      "cell_type": "markdown",
      "source": [
        "---\n",
        "**Trying Simple Exponential Smoothing**\n",
        "---"
      ],
      "metadata": {
        "id": "Xs5_uzscTHS1"
      }
    },
    {
      "cell_type": "code",
      "source": [
        "# Load all related libraries\n",
        "#import esFunctions as es\n",
        "import pandas as pd\n",
        "import numpy as np\n",
        "%matplotlib inline\n",
        "from matplotlib import pyplot as plt\n",
        "from matplotlib import axes\n",
        "\n",
        "import warnings\n",
        "warnings.filterwarnings('ignore') # We can suppress the warnings"
      ],
      "metadata": {
        "id": "7BMRuictQ18f"
      },
      "execution_count": 53,
      "outputs": []
    },
    {
      "cell_type": "code",
      "source": [
        "# Function code to perform single or simple exponential smoothing\n",
        "def single_exp_smoothing(x, alpha):\n",
        "    F = [x[0]]                                  # first value is same as series\n",
        "    for t in range(1, len(x)):                  # for loop for all values stored in x\n",
        "        F.append(alpha * x[t] + (1 - alpha) * F[t - 1])\n",
        "        if x[t] == np.NaN:\n",
        "          x[t] = F[t - 1]\n",
        "          F.append(alpha * x[t] + (1 - alpha) * F[t - 1])\n",
        "    return F"
      ],
      "metadata": {
        "id": "U7q8boi0mwJf"
      },
      "execution_count": 148,
      "outputs": []
    },
    {
      "cell_type": "code",
      "source": [
        "# Load the data file\n",
        "df = pd.read_csv('BTC-USD.csv')\n",
        "\n",
        "# Display the first five records\n",
        "df.head()"
      ],
      "metadata": {
        "colab": {
          "base_uri": "https://localhost:8080/",
          "height": 206
        },
        "id": "GAxWsavwTSZs",
        "outputId": "e9bf4008-3df3-4cb1-9345-e9c78d3d7bf8"
      },
      "execution_count": 163,
      "outputs": [
        {
          "output_type": "execute_result",
          "data": {
            "text/plain": [
              "         Date        Open        High         Low       Close   Adj Close  \\\n",
              "0  2014-10-16  394.518005  398.807007  373.070007  382.556000  382.556000   \n",
              "1  2014-10-17  382.756012  385.477997  375.389008  383.757996  383.757996   \n",
              "2  2014-10-18  383.976013  395.157990  378.971008  391.441986  391.441986   \n",
              "3  2014-10-19  391.253998  393.938995  386.457001  389.545990  389.545990   \n",
              "4  2014-10-20  389.230988  390.084015  378.252014  382.845001  382.845001   \n",
              "\n",
              "     Volume  \n",
              "0  26990000  \n",
              "1  13600700  \n",
              "2  11416800  \n",
              "3   5914570  \n",
              "4  16419000  "
            ],
            "text/html": [
              "\n",
              "  <div id=\"df-050caf3b-e303-4bb6-9209-1225b5020e38\">\n",
              "    <div class=\"colab-df-container\">\n",
              "      <div>\n",
              "<style scoped>\n",
              "    .dataframe tbody tr th:only-of-type {\n",
              "        vertical-align: middle;\n",
              "    }\n",
              "\n",
              "    .dataframe tbody tr th {\n",
              "        vertical-align: top;\n",
              "    }\n",
              "\n",
              "    .dataframe thead th {\n",
              "        text-align: right;\n",
              "    }\n",
              "</style>\n",
              "<table border=\"1\" class=\"dataframe\">\n",
              "  <thead>\n",
              "    <tr style=\"text-align: right;\">\n",
              "      <th></th>\n",
              "      <th>Date</th>\n",
              "      <th>Open</th>\n",
              "      <th>High</th>\n",
              "      <th>Low</th>\n",
              "      <th>Close</th>\n",
              "      <th>Adj Close</th>\n",
              "      <th>Volume</th>\n",
              "    </tr>\n",
              "  </thead>\n",
              "  <tbody>\n",
              "    <tr>\n",
              "      <th>0</th>\n",
              "      <td>2014-10-16</td>\n",
              "      <td>394.518005</td>\n",
              "      <td>398.807007</td>\n",
              "      <td>373.070007</td>\n",
              "      <td>382.556000</td>\n",
              "      <td>382.556000</td>\n",
              "      <td>26990000</td>\n",
              "    </tr>\n",
              "    <tr>\n",
              "      <th>1</th>\n",
              "      <td>2014-10-17</td>\n",
              "      <td>382.756012</td>\n",
              "      <td>385.477997</td>\n",
              "      <td>375.389008</td>\n",
              "      <td>383.757996</td>\n",
              "      <td>383.757996</td>\n",
              "      <td>13600700</td>\n",
              "    </tr>\n",
              "    <tr>\n",
              "      <th>2</th>\n",
              "      <td>2014-10-18</td>\n",
              "      <td>383.976013</td>\n",
              "      <td>395.157990</td>\n",
              "      <td>378.971008</td>\n",
              "      <td>391.441986</td>\n",
              "      <td>391.441986</td>\n",
              "      <td>11416800</td>\n",
              "    </tr>\n",
              "    <tr>\n",
              "      <th>3</th>\n",
              "      <td>2014-10-19</td>\n",
              "      <td>391.253998</td>\n",
              "      <td>393.938995</td>\n",
              "      <td>386.457001</td>\n",
              "      <td>389.545990</td>\n",
              "      <td>389.545990</td>\n",
              "      <td>5914570</td>\n",
              "    </tr>\n",
              "    <tr>\n",
              "      <th>4</th>\n",
              "      <td>2014-10-20</td>\n",
              "      <td>389.230988</td>\n",
              "      <td>390.084015</td>\n",
              "      <td>378.252014</td>\n",
              "      <td>382.845001</td>\n",
              "      <td>382.845001</td>\n",
              "      <td>16419000</td>\n",
              "    </tr>\n",
              "  </tbody>\n",
              "</table>\n",
              "</div>\n",
              "      <button class=\"colab-df-convert\" onclick=\"convertToInteractive('df-050caf3b-e303-4bb6-9209-1225b5020e38')\"\n",
              "              title=\"Convert this dataframe to an interactive table.\"\n",
              "              style=\"display:none;\">\n",
              "        \n",
              "  <svg xmlns=\"http://www.w3.org/2000/svg\" height=\"24px\"viewBox=\"0 0 24 24\"\n",
              "       width=\"24px\">\n",
              "    <path d=\"M0 0h24v24H0V0z\" fill=\"none\"/>\n",
              "    <path d=\"M18.56 5.44l.94 2.06.94-2.06 2.06-.94-2.06-.94-.94-2.06-.94 2.06-2.06.94zm-11 1L8.5 8.5l.94-2.06 2.06-.94-2.06-.94L8.5 2.5l-.94 2.06-2.06.94zm10 10l.94 2.06.94-2.06 2.06-.94-2.06-.94-.94-2.06-.94 2.06-2.06.94z\"/><path d=\"M17.41 7.96l-1.37-1.37c-.4-.4-.92-.59-1.43-.59-.52 0-1.04.2-1.43.59L10.3 9.45l-7.72 7.72c-.78.78-.78 2.05 0 2.83L4 21.41c.39.39.9.59 1.41.59.51 0 1.02-.2 1.41-.59l7.78-7.78 2.81-2.81c.8-.78.8-2.07 0-2.86zM5.41 20L4 18.59l7.72-7.72 1.47 1.35L5.41 20z\"/>\n",
              "  </svg>\n",
              "      </button>\n",
              "      \n",
              "  <style>\n",
              "    .colab-df-container {\n",
              "      display:flex;\n",
              "      flex-wrap:wrap;\n",
              "      gap: 12px;\n",
              "    }\n",
              "\n",
              "    .colab-df-convert {\n",
              "      background-color: #E8F0FE;\n",
              "      border: none;\n",
              "      border-radius: 50%;\n",
              "      cursor: pointer;\n",
              "      display: none;\n",
              "      fill: #1967D2;\n",
              "      height: 32px;\n",
              "      padding: 0 0 0 0;\n",
              "      width: 32px;\n",
              "    }\n",
              "\n",
              "    .colab-df-convert:hover {\n",
              "      background-color: #E2EBFA;\n",
              "      box-shadow: 0px 1px 2px rgba(60, 64, 67, 0.3), 0px 1px 3px 1px rgba(60, 64, 67, 0.15);\n",
              "      fill: #174EA6;\n",
              "    }\n",
              "\n",
              "    [theme=dark] .colab-df-convert {\n",
              "      background-color: #3B4455;\n",
              "      fill: #D2E3FC;\n",
              "    }\n",
              "\n",
              "    [theme=dark] .colab-df-convert:hover {\n",
              "      background-color: #434B5C;\n",
              "      box-shadow: 0px 1px 3px 1px rgba(0, 0, 0, 0.15);\n",
              "      filter: drop-shadow(0px 1px 2px rgba(0, 0, 0, 0.3));\n",
              "      fill: #FFFFFF;\n",
              "    }\n",
              "  </style>\n",
              "\n",
              "      <script>\n",
              "        const buttonEl =\n",
              "          document.querySelector('#df-050caf3b-e303-4bb6-9209-1225b5020e38 button.colab-df-convert');\n",
              "        buttonEl.style.display =\n",
              "          google.colab.kernel.accessAllowed ? 'block' : 'none';\n",
              "\n",
              "        async function convertToInteractive(key) {\n",
              "          const element = document.querySelector('#df-050caf3b-e303-4bb6-9209-1225b5020e38');\n",
              "          const dataTable =\n",
              "            await google.colab.kernel.invokeFunction('convertToInteractive',\n",
              "                                                     [key], {});\n",
              "          if (!dataTable) return;\n",
              "\n",
              "          const docLinkHtml = 'Like what you see? Visit the ' +\n",
              "            '<a target=\"_blank\" href=https://colab.research.google.com/notebooks/data_table.ipynb>data table notebook</a>'\n",
              "            + ' to learn more about interactive tables.';\n",
              "          element.innerHTML = '';\n",
              "          dataTable['output_type'] = 'display_data';\n",
              "          await google.colab.output.renderOutput(dataTable, element);\n",
              "          const docLink = document.createElement('div');\n",
              "          docLink.innerHTML = docLinkHtml;\n",
              "          element.appendChild(docLink);\n",
              "        }\n",
              "      </script>\n",
              "    </div>\n",
              "  </div>\n",
              "  "
            ]
          },
          "metadata": {},
          "execution_count": 163
        }
      ]
    },
    {
      "cell_type": "code",
      "source": [
        "df['Date'].tail(1)"
      ],
      "metadata": {
        "colab": {
          "base_uri": "https://localhost:8080/"
        },
        "id": "IwdPaVttYvC1",
        "outputId": "83944fe2-de88-4899-fee6-f09ae0007a81"
      },
      "execution_count": 164,
      "outputs": [
        {
          "output_type": "execute_result",
          "data": {
            "text/plain": [
              "2708    2022-03-16\n",
              "Name: Date, dtype: object"
            ]
          },
          "metadata": {},
          "execution_count": 164
        }
      ]
    },
    {
      "cell_type": "code",
      "source": [
        "test_close_last = df['Close'].tail(1)\n",
        "print(test_close_last)"
      ],
      "metadata": {
        "colab": {
          "base_uri": "https://localhost:8080/"
        },
        "id": "DIt6wTrtj5Ky",
        "outputId": "768312b4-6382-44b5-d281-92b945324e78"
      },
      "execution_count": 165,
      "outputs": [
        {
          "output_type": "stream",
          "name": "stdout",
          "text": [
            "2708    40769.9375\n",
            "Name: Close, dtype: float64\n"
          ]
        }
      ]
    },
    {
      "cell_type": "code",
      "source": [
        "df.drop(['High', 'Low', 'Open', 'Volume', 'Adj Close'], axis=1, inplace=True)"
      ],
      "metadata": {
        "id": "H-AI9kXQTbYj"
      },
      "execution_count": 166,
      "outputs": []
    },
    {
      "cell_type": "code",
      "source": [
        "df.head(3)"
      ],
      "metadata": {
        "colab": {
          "base_uri": "https://localhost:8080/",
          "height": 144
        },
        "id": "svtkcdXV2UXt",
        "outputId": "08bb93f9-6b51-43cd-f202-1e7da2d6647f"
      },
      "execution_count": 167,
      "outputs": [
        {
          "output_type": "execute_result",
          "data": {
            "text/plain": [
              "         Date       Close\n",
              "0  2014-10-16  382.556000\n",
              "1  2014-10-17  383.757996\n",
              "2  2014-10-18  391.441986"
            ],
            "text/html": [
              "\n",
              "  <div id=\"df-18d6c275-d03a-49f1-9989-579dd95cca8b\">\n",
              "    <div class=\"colab-df-container\">\n",
              "      <div>\n",
              "<style scoped>\n",
              "    .dataframe tbody tr th:only-of-type {\n",
              "        vertical-align: middle;\n",
              "    }\n",
              "\n",
              "    .dataframe tbody tr th {\n",
              "        vertical-align: top;\n",
              "    }\n",
              "\n",
              "    .dataframe thead th {\n",
              "        text-align: right;\n",
              "    }\n",
              "</style>\n",
              "<table border=\"1\" class=\"dataframe\">\n",
              "  <thead>\n",
              "    <tr style=\"text-align: right;\">\n",
              "      <th></th>\n",
              "      <th>Date</th>\n",
              "      <th>Close</th>\n",
              "    </tr>\n",
              "  </thead>\n",
              "  <tbody>\n",
              "    <tr>\n",
              "      <th>0</th>\n",
              "      <td>2014-10-16</td>\n",
              "      <td>382.556000</td>\n",
              "    </tr>\n",
              "    <tr>\n",
              "      <th>1</th>\n",
              "      <td>2014-10-17</td>\n",
              "      <td>383.757996</td>\n",
              "    </tr>\n",
              "    <tr>\n",
              "      <th>2</th>\n",
              "      <td>2014-10-18</td>\n",
              "      <td>391.441986</td>\n",
              "    </tr>\n",
              "  </tbody>\n",
              "</table>\n",
              "</div>\n",
              "      <button class=\"colab-df-convert\" onclick=\"convertToInteractive('df-18d6c275-d03a-49f1-9989-579dd95cca8b')\"\n",
              "              title=\"Convert this dataframe to an interactive table.\"\n",
              "              style=\"display:none;\">\n",
              "        \n",
              "  <svg xmlns=\"http://www.w3.org/2000/svg\" height=\"24px\"viewBox=\"0 0 24 24\"\n",
              "       width=\"24px\">\n",
              "    <path d=\"M0 0h24v24H0V0z\" fill=\"none\"/>\n",
              "    <path d=\"M18.56 5.44l.94 2.06.94-2.06 2.06-.94-2.06-.94-.94-2.06-.94 2.06-2.06.94zm-11 1L8.5 8.5l.94-2.06 2.06-.94-2.06-.94L8.5 2.5l-.94 2.06-2.06.94zm10 10l.94 2.06.94-2.06 2.06-.94-2.06-.94-.94-2.06-.94 2.06-2.06.94z\"/><path d=\"M17.41 7.96l-1.37-1.37c-.4-.4-.92-.59-1.43-.59-.52 0-1.04.2-1.43.59L10.3 9.45l-7.72 7.72c-.78.78-.78 2.05 0 2.83L4 21.41c.39.39.9.59 1.41.59.51 0 1.02-.2 1.41-.59l7.78-7.78 2.81-2.81c.8-.78.8-2.07 0-2.86zM5.41 20L4 18.59l7.72-7.72 1.47 1.35L5.41 20z\"/>\n",
              "  </svg>\n",
              "      </button>\n",
              "      \n",
              "  <style>\n",
              "    .colab-df-container {\n",
              "      display:flex;\n",
              "      flex-wrap:wrap;\n",
              "      gap: 12px;\n",
              "    }\n",
              "\n",
              "    .colab-df-convert {\n",
              "      background-color: #E8F0FE;\n",
              "      border: none;\n",
              "      border-radius: 50%;\n",
              "      cursor: pointer;\n",
              "      display: none;\n",
              "      fill: #1967D2;\n",
              "      height: 32px;\n",
              "      padding: 0 0 0 0;\n",
              "      width: 32px;\n",
              "    }\n",
              "\n",
              "    .colab-df-convert:hover {\n",
              "      background-color: #E2EBFA;\n",
              "      box-shadow: 0px 1px 2px rgba(60, 64, 67, 0.3), 0px 1px 3px 1px rgba(60, 64, 67, 0.15);\n",
              "      fill: #174EA6;\n",
              "    }\n",
              "\n",
              "    [theme=dark] .colab-df-convert {\n",
              "      background-color: #3B4455;\n",
              "      fill: #D2E3FC;\n",
              "    }\n",
              "\n",
              "    [theme=dark] .colab-df-convert:hover {\n",
              "      background-color: #434B5C;\n",
              "      box-shadow: 0px 1px 3px 1px rgba(0, 0, 0, 0.15);\n",
              "      filter: drop-shadow(0px 1px 2px rgba(0, 0, 0, 0.3));\n",
              "      fill: #FFFFFF;\n",
              "    }\n",
              "  </style>\n",
              "\n",
              "      <script>\n",
              "        const buttonEl =\n",
              "          document.querySelector('#df-18d6c275-d03a-49f1-9989-579dd95cca8b button.colab-df-convert');\n",
              "        buttonEl.style.display =\n",
              "          google.colab.kernel.accessAllowed ? 'block' : 'none';\n",
              "\n",
              "        async function convertToInteractive(key) {\n",
              "          const element = document.querySelector('#df-18d6c275-d03a-49f1-9989-579dd95cca8b');\n",
              "          const dataTable =\n",
              "            await google.colab.kernel.invokeFunction('convertToInteractive',\n",
              "                                                     [key], {});\n",
              "          if (!dataTable) return;\n",
              "\n",
              "          const docLinkHtml = 'Like what you see? Visit the ' +\n",
              "            '<a target=\"_blank\" href=https://colab.research.google.com/notebooks/data_table.ipynb>data table notebook</a>'\n",
              "            + ' to learn more about interactive tables.';\n",
              "          element.innerHTML = '';\n",
              "          dataTable['output_type'] = 'display_data';\n",
              "          await google.colab.output.renderOutput(dataTable, element);\n",
              "          const docLink = document.createElement('div');\n",
              "          docLink.innerHTML = docLinkHtml;\n",
              "          element.appendChild(docLink);\n",
              "        }\n",
              "      </script>\n",
              "    </div>\n",
              "  </div>\n",
              "  "
            ]
          },
          "metadata": {},
          "execution_count": 167
        }
      ]
    },
    {
      "cell_type": "code",
      "source": [
        "# Add a new column (SES) in the dataframe\n",
        "#df['SES'] = es.single_exp_smoothing(df['Close'], 0.8)\n",
        "df['SES'] = single_exp_smoothing(df['Close'], 0.8)\n",
        "\n",
        "# Display first five records\n",
        "df.head()"
      ],
      "metadata": {
        "colab": {
          "base_uri": "https://localhost:8080/",
          "height": 206
        },
        "id": "HCgt8lbJTXUc",
        "outputId": "d0b04497-a55b-4b30-e499-181fa167006e"
      },
      "execution_count": 168,
      "outputs": [
        {
          "output_type": "execute_result",
          "data": {
            "text/plain": [
              "         Date       Close         SES\n",
              "0  2014-10-16  382.556000  382.556000\n",
              "1  2014-10-17  383.757996  383.517597\n",
              "2  2014-10-18  391.441986  389.857108\n",
              "3  2014-10-19  389.545990  389.608214\n",
              "4  2014-10-20  382.845001  384.197644"
            ],
            "text/html": [
              "\n",
              "  <div id=\"df-0b416994-3a3b-44d1-85fd-ef54434c7786\">\n",
              "    <div class=\"colab-df-container\">\n",
              "      <div>\n",
              "<style scoped>\n",
              "    .dataframe tbody tr th:only-of-type {\n",
              "        vertical-align: middle;\n",
              "    }\n",
              "\n",
              "    .dataframe tbody tr th {\n",
              "        vertical-align: top;\n",
              "    }\n",
              "\n",
              "    .dataframe thead th {\n",
              "        text-align: right;\n",
              "    }\n",
              "</style>\n",
              "<table border=\"1\" class=\"dataframe\">\n",
              "  <thead>\n",
              "    <tr style=\"text-align: right;\">\n",
              "      <th></th>\n",
              "      <th>Date</th>\n",
              "      <th>Close</th>\n",
              "      <th>SES</th>\n",
              "    </tr>\n",
              "  </thead>\n",
              "  <tbody>\n",
              "    <tr>\n",
              "      <th>0</th>\n",
              "      <td>2014-10-16</td>\n",
              "      <td>382.556000</td>\n",
              "      <td>382.556000</td>\n",
              "    </tr>\n",
              "    <tr>\n",
              "      <th>1</th>\n",
              "      <td>2014-10-17</td>\n",
              "      <td>383.757996</td>\n",
              "      <td>383.517597</td>\n",
              "    </tr>\n",
              "    <tr>\n",
              "      <th>2</th>\n",
              "      <td>2014-10-18</td>\n",
              "      <td>391.441986</td>\n",
              "      <td>389.857108</td>\n",
              "    </tr>\n",
              "    <tr>\n",
              "      <th>3</th>\n",
              "      <td>2014-10-19</td>\n",
              "      <td>389.545990</td>\n",
              "      <td>389.608214</td>\n",
              "    </tr>\n",
              "    <tr>\n",
              "      <th>4</th>\n",
              "      <td>2014-10-20</td>\n",
              "      <td>382.845001</td>\n",
              "      <td>384.197644</td>\n",
              "    </tr>\n",
              "  </tbody>\n",
              "</table>\n",
              "</div>\n",
              "      <button class=\"colab-df-convert\" onclick=\"convertToInteractive('df-0b416994-3a3b-44d1-85fd-ef54434c7786')\"\n",
              "              title=\"Convert this dataframe to an interactive table.\"\n",
              "              style=\"display:none;\">\n",
              "        \n",
              "  <svg xmlns=\"http://www.w3.org/2000/svg\" height=\"24px\"viewBox=\"0 0 24 24\"\n",
              "       width=\"24px\">\n",
              "    <path d=\"M0 0h24v24H0V0z\" fill=\"none\"/>\n",
              "    <path d=\"M18.56 5.44l.94 2.06.94-2.06 2.06-.94-2.06-.94-.94-2.06-.94 2.06-2.06.94zm-11 1L8.5 8.5l.94-2.06 2.06-.94-2.06-.94L8.5 2.5l-.94 2.06-2.06.94zm10 10l.94 2.06.94-2.06 2.06-.94-2.06-.94-.94-2.06-.94 2.06-2.06.94z\"/><path d=\"M17.41 7.96l-1.37-1.37c-.4-.4-.92-.59-1.43-.59-.52 0-1.04.2-1.43.59L10.3 9.45l-7.72 7.72c-.78.78-.78 2.05 0 2.83L4 21.41c.39.39.9.59 1.41.59.51 0 1.02-.2 1.41-.59l7.78-7.78 2.81-2.81c.8-.78.8-2.07 0-2.86zM5.41 20L4 18.59l7.72-7.72 1.47 1.35L5.41 20z\"/>\n",
              "  </svg>\n",
              "      </button>\n",
              "      \n",
              "  <style>\n",
              "    .colab-df-container {\n",
              "      display:flex;\n",
              "      flex-wrap:wrap;\n",
              "      gap: 12px;\n",
              "    }\n",
              "\n",
              "    .colab-df-convert {\n",
              "      background-color: #E8F0FE;\n",
              "      border: none;\n",
              "      border-radius: 50%;\n",
              "      cursor: pointer;\n",
              "      display: none;\n",
              "      fill: #1967D2;\n",
              "      height: 32px;\n",
              "      padding: 0 0 0 0;\n",
              "      width: 32px;\n",
              "    }\n",
              "\n",
              "    .colab-df-convert:hover {\n",
              "      background-color: #E2EBFA;\n",
              "      box-shadow: 0px 1px 2px rgba(60, 64, 67, 0.3), 0px 1px 3px 1px rgba(60, 64, 67, 0.15);\n",
              "      fill: #174EA6;\n",
              "    }\n",
              "\n",
              "    [theme=dark] .colab-df-convert {\n",
              "      background-color: #3B4455;\n",
              "      fill: #D2E3FC;\n",
              "    }\n",
              "\n",
              "    [theme=dark] .colab-df-convert:hover {\n",
              "      background-color: #434B5C;\n",
              "      box-shadow: 0px 1px 3px 1px rgba(0, 0, 0, 0.15);\n",
              "      filter: drop-shadow(0px 1px 2px rgba(0, 0, 0, 0.3));\n",
              "      fill: #FFFFFF;\n",
              "    }\n",
              "  </style>\n",
              "\n",
              "      <script>\n",
              "        const buttonEl =\n",
              "          document.querySelector('#df-0b416994-3a3b-44d1-85fd-ef54434c7786 button.colab-df-convert');\n",
              "        buttonEl.style.display =\n",
              "          google.colab.kernel.accessAllowed ? 'block' : 'none';\n",
              "\n",
              "        async function convertToInteractive(key) {\n",
              "          const element = document.querySelector('#df-0b416994-3a3b-44d1-85fd-ef54434c7786');\n",
              "          const dataTable =\n",
              "            await google.colab.kernel.invokeFunction('convertToInteractive',\n",
              "                                                     [key], {});\n",
              "          if (!dataTable) return;\n",
              "\n",
              "          const docLinkHtml = 'Like what you see? Visit the ' +\n",
              "            '<a target=\"_blank\" href=https://colab.research.google.com/notebooks/data_table.ipynb>data table notebook</a>'\n",
              "            + ' to learn more about interactive tables.';\n",
              "          element.innerHTML = '';\n",
              "          dataTable['output_type'] = 'display_data';\n",
              "          await google.colab.output.renderOutput(dataTable, element);\n",
              "          const docLink = document.createElement('div');\n",
              "          docLink.innerHTML = docLinkHtml;\n",
              "          element.appendChild(docLink);\n",
              "        }\n",
              "      </script>\n",
              "    </div>\n",
              "  </div>\n",
              "  "
            ]
          },
          "metadata": {},
          "execution_count": 168
        }
      ]
    },
    {
      "cell_type": "code",
      "source": [
        "# plot the above dataframe\n",
        "fig = plt.figure(figsize = (5.5, 5.5))\n",
        "ax = fig.add_subplot(2, 1, 1)\n",
        "fig.subplots_adjust(hspace = 0.5)\n",
        "df['Close'].plot(ax = ax)\n",
        "ax.set_title('Plot test')\n",
        "ax = fig.add_subplot(2, 1, 2)\n",
        "df['SES'].plot(ax = ax, color = 'r')\n",
        "ax.set_title('Single Exponential Smoothing')\n",
        "\n",
        "# Save the png file on your folder\n",
        "plt.savefig('_02_1.png', format = 'png', dpi = 300)"
      ],
      "metadata": {
        "colab": {
          "base_uri": "https://localhost:8080/",
          "height": 363
        },
        "id": "-bQl62FBTiAW",
        "outputId": "beef4954-ba5b-4ad6-83f0-fffc849c7db8"
      },
      "execution_count": 169,
      "outputs": [
        {
          "output_type": "display_data",
          "data": {
            "text/plain": [
              "<Figure size 396x396 with 2 Axes>"
            ],
            "image/png": "[encoded data removed]"
          },
          "metadata": {
            "needs_background": "light"
          }
        }
      ]
    },
    {
      "cell_type": "code",
      "source": [
        "# Comapre Single exponential smooting for three values of alpha (0.2, 0.6, 0.8)\n",
        "#df['SES2'] = es.single_exp_smoothing(df['Close'], 0.2)\n",
        "#df['SES6'] = es.single_exp_smoothing(df['Close'], 0.6)\n",
        "#df['SES8'] = es.single_exp_smoothing(df['Close'], 0.8)\n",
        "\n",
        "# Comapre Single exponential smooting for three values of alpha (0.2, 0.6, 0.8)\n",
        "df['SES2'] = single_exp_smoothing(df['Close'], 0.2)\n",
        "df['SES6'] = single_exp_smoothing(df['Close'], 0.6)\n",
        "df['SES8'] = single_exp_smoothing(df['Close'], 0.8)"
      ],
      "metadata": {
        "id": "idFtWrwhTpac"
      },
      "execution_count": 170,
      "outputs": []
    },
    {
      "cell_type": "code",
      "source": [
        "# plot three figures for three values of alpha\n",
        "f, axarr = plt.subplots(3, sharex = True)\n",
        "f.set_size_inches(5.5, 5.5)\n",
        "\n",
        "df['Close'].iloc[:45].plot(color='b', linestyle = '-', ax=axarr[0])\n",
        "df['SES2'].iloc[:45].plot(color='r', linestyle = '--', ax=axarr[0])\n",
        "axarr[0].set_title('Alpha 0.2')\n",
        "\n",
        "df['Close'].iloc[:45].plot(color='b', linestyle = '-', ax=axarr[1])\n",
        "df['SES6'].iloc[:45].plot(color='r', linestyle = '--', ax=axarr[1])\n",
        "axarr[1].set_title('Alpha 0.6')\n",
        "\n",
        "df['Close'].iloc[:45].plot(color='b', linestyle = '-', ax=axarr[2])\n",
        "df['SES8'].iloc[:45].plot(color='r', linestyle = '--', ax=axarr[2])\n",
        "axarr[2].set_title('Alpha 0.8')\n",
        "plt.savefig('_02_02.png', format='png', dpi=300)"
      ],
      "metadata": {
        "colab": {
          "base_uri": "https://localhost:8080/",
          "height": 363
        },
        "id": "P2wRMCxFTxej",
        "outputId": "9f4e4640-d2ef-4692-b5b9-c51187b9c797"
      },
      "execution_count": 171,
      "outputs": [
        {
          "output_type": "display_data",
          "data": {
            "text/plain": [
              "<Figure size 396x396 with 3 Axes>"
            ],
            "image/png": "[encoded data removed]"
          },
          "metadata": {
            "needs_background": "light"
          }
        }
      ]
    },
    {
      "cell_type": "code",
      "source": [
        "Pricing_forecast = df['SES8'].iloc[:45]\n",
        "df_test = df['Close'].iloc[:45]"
      ],
      "metadata": {
        "id": "1YHdzZf5USOK"
      },
      "execution_count": 172,
      "outputs": []
    },
    {
      "cell_type": "code",
      "source": [
        "from sklearn.metrics import mean_absolute_error, mean_squared_error, r2_score\n",
        "\n",
        "print(f'Mean Absolute Error = {mean_absolute_error(df_test, Pricing_forecast)}')\n",
        "print(f'Mean Squared Error = {mean_squared_error(df_test, Pricing_forecast)}')\n",
        "print(f'r^2 score = {r2_score(df_test, Pricing_forecast)}')"
      ],
      "metadata": {
        "colab": {
          "base_uri": "https://localhost:8080/"
        },
        "id": "fGpTIe6JT2Sd",
        "outputId": "7d3b24c4-7913-4050-d4d0-43716b96bbed"
      },
      "execution_count": 173,
      "outputs": [
        {
          "output_type": "stream",
          "name": "stdout",
          "text": [
            "Mean Absolute Error = 1.7462065456312037\n",
            "Mean Squared Error = 7.098476386034409\n",
            "r^2 score = 0.9862466206951394\n"
          ]
        }
      ]
    },
    {
      "cell_type": "code",
      "source": [
        "df.tail()"
      ],
      "metadata": {
        "colab": {
          "base_uri": "https://localhost:8080/",
          "height": 206
        },
        "id": "W6-3-4Qecr7i",
        "outputId": "827d6781-a03e-4023-b40b-2ea5583b3568"
      },
      "execution_count": 174,
      "outputs": [
        {
          "output_type": "execute_result",
          "data": {
            "text/plain": [
              "            Date         Close           SES          SES2          SES6  \\\n",
              "2704  2022-03-12  38904.011719  38922.894667  39557.202784  39039.989539   \n",
              "2705  2022-03-13  37849.664063  38064.310184  39215.695040  38325.794254   \n",
              "2706  2022-03-14  39666.753906  39346.265162  39305.906813  39130.370045   \n",
              "2707  2022-03-15  39338.785156  39340.281157  39312.482482  39255.419112   \n",
              "2708  2022-03-16  40769.937500  40484.006231  39603.973485  40164.130145   \n",
              "\n",
              "              SES8  \n",
              "2704  38922.894667  \n",
              "2705  38064.310184  \n",
              "2706  39346.265162  \n",
              "2707  39340.281157  \n",
              "2708  40484.006231  "
            ],
            "text/html": [
              "\n",
              "  <div id=\"df-a911a418-6479-44c0-92cf-c0ba03006d5b\">\n",
              "    <div class=\"colab-df-container\">\n",
              "      <div>\n",
              "<style scoped>\n",
              "    .dataframe tbody tr th:only-of-type {\n",
              "        vertical-align: middle;\n",
              "    }\n",
              "\n",
              "    .dataframe tbody tr th {\n",
              "        vertical-align: top;\n",
              "    }\n",
              "\n",
              "    .dataframe thead th {\n",
              "        text-align: right;\n",
              "    }\n",
              "</style>\n",
              "<table border=\"1\" class=\"dataframe\">\n",
              "  <thead>\n",
              "    <tr style=\"text-align: right;\">\n",
              "      <th></th>\n",
              "      <th>Date</th>\n",
              "      <th>Close</th>\n",
              "      <th>SES</th>\n",
              "      <th>SES2</th>\n",
              "      <th>SES6</th>\n",
              "      <th>SES8</th>\n",
              "    </tr>\n",
              "  </thead>\n",
              "  <tbody>\n",
              "    <tr>\n",
              "      <th>2704</th>\n",
              "      <td>2022-03-12</td>\n",
              "      <td>38904.011719</td>\n",
              "      <td>38922.894667</td>\n",
              "      <td>39557.202784</td>\n",
              "      <td>39039.989539</td>\n",
              "      <td>38922.894667</td>\n",
              "    </tr>\n",
              "    <tr>\n",
              "      <th>2705</th>\n",
              "      <td>2022-03-13</td>\n",
              "      <td>37849.664063</td>\n",
              "      <td>38064.310184</td>\n",
              "      <td>39215.695040</td>\n",
              "      <td>38325.794254</td>\n",
              "      <td>38064.310184</td>\n",
              "    </tr>\n",
              "    <tr>\n",
              "      <th>2706</th>\n",
              "      <td>2022-03-14</td>\n",
              "      <td>39666.753906</td>\n",
              "      <td>39346.265162</td>\n",
              "      <td>39305.906813</td>\n",
              "      <td>39130.370045</td>\n",
              "      <td>39346.265162</td>\n",
              "    </tr>\n",
              "    <tr>\n",
              "      <th>2707</th>\n",
              "      <td>2022-03-15</td>\n",
              "      <td>39338.785156</td>\n",
              "      <td>39340.281157</td>\n",
              "      <td>39312.482482</td>\n",
              "      <td>39255.419112</td>\n",
              "      <td>39340.281157</td>\n",
              "    </tr>\n",
              "    <tr>\n",
              "      <th>2708</th>\n",
              "      <td>2022-03-16</td>\n",
              "      <td>40769.937500</td>\n",
              "      <td>40484.006231</td>\n",
              "      <td>39603.973485</td>\n",
              "      <td>40164.130145</td>\n",
              "      <td>40484.006231</td>\n",
              "    </tr>\n",
              "  </tbody>\n",
              "</table>\n",
              "</div>\n",
              "      <button class=\"colab-df-convert\" onclick=\"convertToInteractive('df-a911a418-6479-44c0-92cf-c0ba03006d5b')\"\n",
              "              title=\"Convert this dataframe to an interactive table.\"\n",
              "              style=\"display:none;\">\n",
              "        \n",
              "  <svg xmlns=\"http://www.w3.org/2000/svg\" height=\"24px\"viewBox=\"0 0 24 24\"\n",
              "       width=\"24px\">\n",
              "    <path d=\"M0 0h24v24H0V0z\" fill=\"none\"/>\n",
              "    <path d=\"M18.56 5.44l.94 2.06.94-2.06 2.06-.94-2.06-.94-.94-2.06-.94 2.06-2.06.94zm-11 1L8.5 8.5l.94-2.06 2.06-.94-2.06-.94L8.5 2.5l-.94 2.06-2.06.94zm10 10l.94 2.06.94-2.06 2.06-.94-2.06-.94-.94-2.06-.94 2.06-2.06.94z\"/><path d=\"M17.41 7.96l-1.37-1.37c-.4-.4-.92-.59-1.43-.59-.52 0-1.04.2-1.43.59L10.3 9.45l-7.72 7.72c-.78.78-.78 2.05 0 2.83L4 21.41c.39.39.9.59 1.41.59.51 0 1.02-.2 1.41-.59l7.78-7.78 2.81-2.81c.8-.78.8-2.07 0-2.86zM5.41 20L4 18.59l7.72-7.72 1.47 1.35L5.41 20z\"/>\n",
              "  </svg>\n",
              "      </button>\n",
              "      \n",
              "  <style>\n",
              "    .colab-df-container {\n",
              "      display:flex;\n",
              "      flex-wrap:wrap;\n",
              "      gap: 12px;\n",
              "    }\n",
              "\n",
              "    .colab-df-convert {\n",
              "      background-color: #E8F0FE;\n",
              "      border: none;\n",
              "      border-radius: 50%;\n",
              "      cursor: pointer;\n",
              "      display: none;\n",
              "      fill: #1967D2;\n",
              "      height: 32px;\n",
              "      padding: 0 0 0 0;\n",
              "      width: 32px;\n",
              "    }\n",
              "\n",
              "    .colab-df-convert:hover {\n",
              "      background-color: #E2EBFA;\n",
              "      box-shadow: 0px 1px 2px rgba(60, 64, 67, 0.3), 0px 1px 3px 1px rgba(60, 64, 67, 0.15);\n",
              "      fill: #174EA6;\n",
              "    }\n",
              "\n",
              "    [theme=dark] .colab-df-convert {\n",
              "      background-color: #3B4455;\n",
              "      fill: #D2E3FC;\n",
              "    }\n",
              "\n",
              "    [theme=dark] .colab-df-convert:hover {\n",
              "      background-color: #434B5C;\n",
              "      box-shadow: 0px 1px 3px 1px rgba(0, 0, 0, 0.15);\n",
              "      filter: drop-shadow(0px 1px 2px rgba(0, 0, 0, 0.3));\n",
              "      fill: #FFFFFF;\n",
              "    }\n",
              "  </style>\n",
              "\n",
              "      <script>\n",
              "        const buttonEl =\n",
              "          document.querySelector('#df-a911a418-6479-44c0-92cf-c0ba03006d5b button.colab-df-convert');\n",
              "        buttonEl.style.display =\n",
              "          google.colab.kernel.accessAllowed ? 'block' : 'none';\n",
              "\n",
              "        async function convertToInteractive(key) {\n",
              "          const element = document.querySelector('#df-a911a418-6479-44c0-92cf-c0ba03006d5b');\n",
              "          const dataTable =\n",
              "            await google.colab.kernel.invokeFunction('convertToInteractive',\n",
              "                                                     [key], {});\n",
              "          if (!dataTable) return;\n",
              "\n",
              "          const docLinkHtml = 'Like what you see? Visit the ' +\n",
              "            '<a target=\"_blank\" href=https://colab.research.google.com/notebooks/data_table.ipynb>data table notebook</a>'\n",
              "            + ' to learn more about interactive tables.';\n",
              "          element.innerHTML = '';\n",
              "          dataTable['output_type'] = 'display_data';\n",
              "          await google.colab.output.renderOutput(dataTable, element);\n",
              "          const docLink = document.createElement('div');\n",
              "          docLink.innerHTML = docLinkHtml;\n",
              "          element.appendChild(docLink);\n",
              "        }\n",
              "      </script>\n",
              "    </div>\n",
              "  </div>\n",
              "  "
            ]
          },
          "metadata": {},
          "execution_count": 174
        }
      ]
    },
    {
      "cell_type": "code",
      "source": [
        "pip install sktime"
      ],
      "metadata": {
        "id": "xCSwx1kX8Ti3"
      },
      "execution_count": null,
      "outputs": []
    },
    {
      "cell_type": "code",
      "source": [
        "from sktime.utils.plotting import plot_series"
      ],
      "metadata": {
        "id": "Q4_tt2IE8MPh"
      },
      "execution_count": 175,
      "outputs": []
    },
    {
      "cell_type": "code",
      "source": [
        "plot_series(df['Close'].iloc[-25:], df['SES8'].iloc[-25:], labels = [\"train\", \"pred\"])"
      ],
      "metadata": {
        "colab": {
          "base_uri": "https://localhost:8080/",
          "height": 300
        },
        "id": "I9g4-FQo4x6O",
        "outputId": "52cfbd6e-7f04-4746-bc40-3d0882414fe7"
      },
      "execution_count": 176,
      "outputs": [
        {
          "output_type": "execute_result",
          "data": {
            "text/plain": [
              "(<Figure size 1152x288 with 1 Axes>,\n",
              " <matplotlib.axes._subplots.AxesSubplot at 0x7f68ef7bfc90>)"
            ]
          },
          "metadata": {},
          "execution_count": 176
        },
        {
          "output_type": "display_data",
          "data": {
            "text/plain": [
              "<Figure size 1152x288 with 1 Axes>"
            ],
            "image/png": "[encoded data removed]"
          },
          "metadata": {
            "needs_background": "light"
          }
        }
      ]
    },
    {
      "cell_type": "code",
      "source": [
        "x = df['SES8'].tail(1)\n",
        "print(x)"
      ],
      "metadata": {
        "colab": {
          "base_uri": "https://localhost:8080/"
        },
        "id": "rmbo0h0L4xui",
        "outputId": "86d8023a-802c-4049-ed48-253533bbb57b"
      },
      "execution_count": 177,
      "outputs": [
        {
          "output_type": "stream",
          "name": "stdout",
          "text": [
            "2708    40484.006231\n",
            "Name: SES8, dtype: float64\n"
          ]
        }
      ]
    },
    {
      "cell_type": "markdown",
      "source": [
        "---\n",
        "Let's check the accuracy when using 0.2 of Alfa"
      ],
      "metadata": {
        "id": "u43afHDYks5Q"
      }
    },
    {
      "cell_type": "code",
      "source": [
        "Pricing_forecast = df['SES2'].iloc[:45]\n",
        "df_test = df['Close'].iloc[:45]"
      ],
      "metadata": {
        "id": "78TbOiJwUbxY"
      },
      "execution_count": null,
      "outputs": []
    },
    {
      "cell_type": "code",
      "source": [
        "from sklearn.metrics import mean_absolute_error, mean_squared_error, r2_score\n",
        "\n",
        "print(f'Mean Absolute Error = {mean_absolute_error(df_test, Pricing_forecast)}')\n",
        "print(f'Mean Squared Error = {mean_squared_error(df_test, Pricing_forecast)}')\n",
        "print(f'r^2 score = {r2_score(df_test, Pricing_forecast)}')"
      ],
      "metadata": {
        "colab": {
          "base_uri": "https://localhost:8080/"
        },
        "id": "RTXn_GFcYMFE",
        "outputId": "870557c9-233c-43b0-ee96-7f9032e6a2eb"
      },
      "execution_count": null,
      "outputs": [
        {
          "output_type": "stream",
          "name": "stdout",
          "text": [
            "Mean Absolute Error = 10.748052052139379\n",
            "Mean Squared Error = 233.8338765685811\n",
            "r^2 score = 0.5469441857831823\n"
          ]
        }
      ]
    },
    {
      "cell_type": "markdown",
      "source": [
        "---\n",
        "Clearly 0.8 Alfa gives a better accuracy on the Model"
      ],
      "metadata": {
        "id": "k-H3m5Nsk2V1"
      }
    },
    {
      "cell_type": "markdown",
      "source": [
        "---\n",
        "**Now making the initial idea gets form**\n",
        "---\n",
        "Make a HTTP request to an external API, getting the real time of the crypto and apply to a formula to give a sort of 'intention' to the user, afterwards"
      ],
      "metadata": {
        "id": "qfCGz0n-f6WV"
      }
    },
    {
      "cell_type": "code",
      "source": [
        "import requests\n"
      ],
      "metadata": {
        "id": "53mDymQsbRQK"
      },
      "execution_count": 188,
      "outputs": []
    },
    {
      "cell_type": "code",
      "source": [
        "real_time_price = requests.get('https://bitpay.com/api/rates/USD')\n",
        "print(real_time_price.status_code)"
      ],
      "metadata": {
        "colab": {
          "base_uri": "https://localhost:8080/"
        },
        "id": "YHUvgySCbYna",
        "outputId": "89f9154e-ab80-4547-ba5e-dde68f78c7f8"
      },
      "execution_count": 189,
      "outputs": [
        {
          "output_type": "stream",
          "name": "stdout",
          "text": [
            "200\n"
          ]
        }
      ]
    },
    {
      "cell_type": "code",
      "source": [
        "print(real_time_price.content)"
      ],
      "metadata": {
        "colab": {
          "base_uri": "https://localhost:8080/"
        },
        "id": "AzviiRUVbzTv",
        "outputId": "09f6bd4c-d109-4dba-95bd-fedfaa51fe58"
      },
      "execution_count": 190,
      "outputs": [
        {
          "output_type": "stream",
          "name": "stdout",
          "text": [
            "b'{\"code\":\"USD\",\"name\":\"US Dollar\",\"rate\":39164.9}'\n"
          ]
        }
      ]
    },
    {
      "cell_type": "code",
      "source": [
        "print(real_time_price.json())"
      ],
      "metadata": {
        "colab": {
          "base_uri": "https://localhost:8080/"
        },
        "id": "NPYPiVZRb0ug",
        "outputId": "18d1563d-b62c-4500-d217-da4e2dd2ff72"
      },
      "execution_count": 191,
      "outputs": [
        {
          "output_type": "stream",
          "name": "stdout",
          "text": [
            "{'code': 'USD', 'name': 'US Dollar', 'rate': 39164.9}\n"
          ]
        }
      ]
    },
    {
      "cell_type": "code",
      "source": [
        "x = real_time_price.json()"
      ],
      "metadata": {
        "id": "DTuVuRotfSuA"
      },
      "execution_count": 192,
      "outputs": []
    },
    {
      "cell_type": "code",
      "source": [
        "print(x)"
      ],
      "metadata": {
        "colab": {
          "base_uri": "https://localhost:8080/"
        },
        "id": "Go4Qc-TdfZT6",
        "outputId": "b418f9ef-ba98-4b2a-e5f7-6467fdab8010"
      },
      "execution_count": 193,
      "outputs": [
        {
          "output_type": "stream",
          "name": "stdout",
          "text": [
            "{'code': 'USD', 'name': 'US Dollar', 'rate': 39164.9}\n"
          ]
        }
      ]
    },
    {
      "cell_type": "code",
      "source": [
        "print(x['rate'])"
      ],
      "metadata": {
        "colab": {
          "base_uri": "https://localhost:8080/"
        },
        "id": "mRc0MzuNfwQe",
        "outputId": "57fa3a9c-5125-4049-e6d1-3e8a927569e1"
      },
      "execution_count": 194,
      "outputs": [
        {
          "output_type": "stream",
          "name": "stdout",
          "text": [
            "39164.9\n"
          ]
        }
      ]
    },
    {
      "cell_type": "markdown",
      "source": [
        "put all the code from the API call in one function"
      ],
      "metadata": {
        "id": "Xasu4TgPirwS"
      }
    },
    {
      "cell_type": "code",
      "source": [
        "def find_real_time_value():\n",
        "  real_time_price = requests.get('https://bitpay.com/api/rates/USD')\n",
        "  #print(real_time_price.status_code)\n",
        "  #print(real_time_price.content)\n",
        "  #print(real_time_price.json())\n",
        "  x = real_time_price.json()\n",
        "  #print(x)\n",
        "  #print(x['rate'])\n",
        "  return x['rate']\n",
        "\n",
        "find_real_time_value()"
      ],
      "metadata": {
        "colab": {
          "base_uri": "https://localhost:8080/"
        },
        "id": "kZNqUjbTfy63",
        "outputId": "02daeb3b-f898-4bd6-ebe0-4ad92f40e819"
      },
      "execution_count": 195,
      "outputs": [
        {
          "output_type": "execute_result",
          "data": {
            "text/plain": [
              "39169.44"
            ]
          },
          "metadata": {},
          "execution_count": 195
        }
      ]
    },
    {
      "cell_type": "code",
      "source": [
        "test = find_real_time_value()\n",
        "print(test)"
      ],
      "metadata": {
        "colab": {
          "base_uri": "https://localhost:8080/"
        },
        "id": "iz5ryotpi9VI",
        "outputId": "92bbd60a-a91b-4c50-f746-8b6ba6c92dd0"
      },
      "execution_count": 196,
      "outputs": [
        {
          "output_type": "stream",
          "name": "stdout",
          "text": [
            "39164.9\n"
          ]
        }
      ]
    },
    {
      "cell_type": "code",
      "source": [
        "if test > test_close_last.item():\n",
        "  print('real time is bigger')\n",
        "else:\n",
        "  print('the closing time is bigger')"
      ],
      "metadata": {
        "colab": {
          "base_uri": "https://localhost:8080/"
        },
        "id": "C0h4UmtqjUiK",
        "outputId": "034f72e0-2cfe-4719-8067-33a6116b1621"
      },
      "execution_count": 197,
      "outputs": [
        {
          "output_type": "stream",
          "name": "stdout",
          "text": [
            "the closing time is bigger\n"
          ]
        }
      ]
    },
    {
      "cell_type": "markdown",
      "source": [
        "---\n",
        "Tests are working as expected...\n",
        "\n",
        "\n",
        "Next step: Create a function, based on business ideas, investiments facts, or even in statistical point of view and we can find time to check this out. \n",
        "\n",
        "Example: \n",
        "\n",
        "\n",
        "1.   When the amount is increasing 1000 more, sell it to generate profit and prevent losses\n",
        "2.   When it falls  2/3 of the profit, sells to prevent losses\n",
        "3.   When it is 1/3 below the average, buys to generate profit when it goes up\n",
        "4.   When it reaches a limit similar of when the cryptos die, do not buy. or another example, do not buy if it is below 2/3 of the average.\n",
        "\n",
        "\n",
        "\n",
        "Decide through the function a few rules, such as:\n",
        "*  hold\n",
        "*  sell\n",
        "*  buy"
      ],
      "metadata": {
        "id": "sZP7RjWMlBnH"
      }
    },
    {
      "cell_type": "code",
      "source": [
        ""
      ],
      "metadata": {
        "id": "KGMHP61NkdVW"
      },
      "execution_count": 197,
      "outputs": []
    }
  ]
}