{
 "cells": [
  {
   "cell_type": "markdown",
   "metadata": {
    "id": "PGzPFzSlcfMW"
   },
   "source": [
    "---\n",
    "# **Exponential Smoothing Model Applied to Bitcoin**\n",
    "\n",
    "---\n"
   ]
  },
  {
   "cell_type": "markdown",
   "metadata": {},
   "source": [
    "### Imports"
   ]
  },
  {
   "cell_type": "markdown",
   "metadata": {},
   "source": [
    "Installing the dependencies that enables to get access to the dataset"
   ]
  },
  {
   "cell_type": "code",
   "execution_count": 1,
   "metadata": {},
   "outputs": [
    {
     "name": "stdout",
     "output_type": "stream",
     "text": [
      "Requirement already satisfied: pandas in /opt/anaconda3/lib/python3.8/site-packages (1.4.2)\n",
      "Requirement already satisfied: pip in /opt/anaconda3/lib/python3.8/site-packages (22.0.4)\n",
      "Requirement already satisfied: install in /opt/anaconda3/lib/python3.8/site-packages (1.3.5)\n",
      "Requirement already satisfied: pandas-datareader in /opt/anaconda3/lib/python3.8/site-packages (0.10.0)\n",
      "Requirement already satisfied: pytz>=2020.1 in /opt/anaconda3/lib/python3.8/site-packages (from pandas) (2020.1)\n",
      "Requirement already satisfied: python-dateutil>=2.8.1 in /opt/anaconda3/lib/python3.8/site-packages (from pandas) (2.8.1)\n",
      "Requirement already satisfied: numpy>=1.18.5 in /opt/anaconda3/lib/python3.8/site-packages (from pandas) (1.19.5)\n",
      "Requirement already satisfied: lxml in /opt/anaconda3/lib/python3.8/site-packages (from pandas-datareader) (4.6.1)\n",
      "Requirement already satisfied: requests>=2.19.0 in /opt/anaconda3/lib/python3.8/site-packages (from pandas-datareader) (2.24.0)\n",
      "Requirement already satisfied: six>=1.5 in /opt/anaconda3/lib/python3.8/site-packages (from python-dateutil>=2.8.1->pandas) (1.15.0)\n",
      "Requirement already satisfied: idna<3,>=2.5 in /opt/anaconda3/lib/python3.8/site-packages (from requests>=2.19.0->pandas-datareader) (2.10)\n",
      "Requirement already satisfied: chardet<4,>=3.0.2 in /opt/anaconda3/lib/python3.8/site-packages (from requests>=2.19.0->pandas-datareader) (3.0.4)\n",
      "Requirement already satisfied: certifi>=2017.4.17 in /opt/anaconda3/lib/python3.8/site-packages (from requests>=2.19.0->pandas-datareader) (2020.6.20)\n",
      "Requirement already satisfied: urllib3!=1.25.0,!=1.25.1,<1.26,>=1.21.1 in /opt/anaconda3/lib/python3.8/site-packages (from requests>=2.19.0->pandas-datareader) (1.25.11)\n",
      "Note: you may need to restart the kernel to use updated packages.\n"
     ]
    }
   ],
   "source": [
    "#pip install --upgrade pandas pip install --upgrade pandas-datareader"
   ]
  },
  {
   "cell_type": "code",
   "execution_count": 2,
   "metadata": {},
   "outputs": [
    {
     "name": "stdout",
     "output_type": "stream",
     "text": [
      "Requirement already satisfied: pandas-datareader in /opt/anaconda3/lib/python3.8/site-packages (0.10.0)\n",
      "Requirement already satisfied: pandas>=0.23 in /opt/anaconda3/lib/python3.8/site-packages (from pandas-datareader) (1.4.2)\n",
      "Requirement already satisfied: requests>=2.19.0 in /opt/anaconda3/lib/python3.8/site-packages (from pandas-datareader) (2.24.0)\n",
      "Requirement already satisfied: lxml in /opt/anaconda3/lib/python3.8/site-packages (from pandas-datareader) (4.6.1)\n",
      "Requirement already satisfied: python-dateutil>=2.8.1 in /opt/anaconda3/lib/python3.8/site-packages (from pandas>=0.23->pandas-datareader) (2.8.1)\n",
      "Requirement already satisfied: numpy>=1.18.5 in /opt/anaconda3/lib/python3.8/site-packages (from pandas>=0.23->pandas-datareader) (1.19.5)\n",
      "Requirement already satisfied: pytz>=2020.1 in /opt/anaconda3/lib/python3.8/site-packages (from pandas>=0.23->pandas-datareader) (2020.1)\n",
      "Requirement already satisfied: certifi>=2017.4.17 in /opt/anaconda3/lib/python3.8/site-packages (from requests>=2.19.0->pandas-datareader) (2020.6.20)\n",
      "Requirement already satisfied: chardet<4,>=3.0.2 in /opt/anaconda3/lib/python3.8/site-packages (from requests>=2.19.0->pandas-datareader) (3.0.4)\n",
      "Requirement already satisfied: urllib3!=1.25.0,!=1.25.1,<1.26,>=1.21.1 in /opt/anaconda3/lib/python3.8/site-packages (from requests>=2.19.0->pandas-datareader) (1.25.11)\n",
      "Requirement already satisfied: idna<3,>=2.5 in /opt/anaconda3/lib/python3.8/site-packages (from requests>=2.19.0->pandas-datareader) (2.10)\n",
      "Requirement already satisfied: six>=1.5 in /opt/anaconda3/lib/python3.8/site-packages (from python-dateutil>=2.8.1->pandas>=0.23->pandas-datareader) (1.15.0)\n",
      "Note: you may need to restart the kernel to use updated packages.\n"
     ]
    }
   ],
   "source": [
    "#pip install pandas-datareader"
   ]
  },
  {
   "cell_type": "code",
   "execution_count": 1,
   "metadata": {},
   "outputs": [],
   "source": [
    "import pandas_datareader as pdr\n",
    "import pandas as pd\n",
    "from datetime import datetime"
   ]
  },
  {
   "cell_type": "code",
   "execution_count": 2,
   "metadata": {},
   "outputs": [],
   "source": [
    "import pandas as pd"
   ]
  },
  {
   "cell_type": "markdown",
   "metadata": {},
   "source": [
    "---\n",
    "Importing the ExponentialSmoothing algorithm from statsmodels package"
   ]
  },
  {
   "cell_type": "code",
   "execution_count": 3,
   "metadata": {
    "colab": {
     "base_uri": "https://localhost:8080/",
     "height": 304
    },
    "id": "iW2uz0TRRU5B",
    "outputId": "8bcffb06-cf08-4701-aa05-8d90b1d70090"
   },
   "outputs": [],
   "source": [
    "from statsmodels.tsa.statespace.exponential_smoothing import ExponentialSmoothing"
   ]
  },
  {
   "cell_type": "markdown",
   "metadata": {},
   "source": [
    "---\n",
    "Through the pandas_datareader, let's get access to the Yahoo Finance.\n",
    "This line of code will get the data from 2020 afterwards."
   ]
  },
  {
   "cell_type": "code",
   "execution_count": 4,
   "metadata": {
    "colab": {
     "base_uri": "https://localhost:8080/",
     "height": 182
    },
    "id": "7azKIPrBW2cW",
    "outputId": "0356940c-0543-45ae-c8e4-98ca49f5b717"
   },
   "outputs": [],
   "source": [
    "df = pdr.get_data_yahoo('BTC-USD')"
   ]
  },
  {
   "cell_type": "markdown",
   "metadata": {},
   "source": [
    "### Preparing the Data"
   ]
  },
  {
   "cell_type": "markdown",
   "metadata": {},
   "source": [
    "---\n",
    "Now, it is time to drop a few columns of the dataset and keep the Close column, in order to proceeding with our implementation"
   ]
  },
  {
   "cell_type": "code",
   "execution_count": 5,
   "metadata": {
    "id": "FPW1pgkTXC90"
   },
   "outputs": [],
   "source": [
    "df.drop(['High', 'Low', 'Open', 'Volume', 'Adj Close'], axis=1, inplace=True)"
   ]
  },
  {
   "cell_type": "markdown",
   "metadata": {},
   "source": [
    "---\n",
    "Transforming the index in a Date column"
   ]
  },
  {
   "cell_type": "code",
   "execution_count": 6,
   "metadata": {},
   "outputs": [],
   "source": [
    "df=df.reset_index()"
   ]
  },
  {
   "cell_type": "code",
   "execution_count": 7,
   "metadata": {
    "id": "uz-RYCd8XG6Y"
   },
   "outputs": [
    {
     "data": {
      "text/html": [
       "<div>\n",
       "<style scoped>\n",
       "    .dataframe tbody tr th:only-of-type {\n",
       "        vertical-align: middle;\n",
       "    }\n",
       "\n",
       "    .dataframe tbody tr th {\n",
       "        vertical-align: top;\n",
       "    }\n",
       "\n",
       "    .dataframe thead th {\n",
       "        text-align: right;\n",
       "    }\n",
       "</style>\n",
       "<table border=\"1\" class=\"dataframe\">\n",
       "  <thead>\n",
       "    <tr style=\"text-align: right;\">\n",
       "      <th></th>\n",
       "      <th>Date</th>\n",
       "      <th>Close</th>\n",
       "    </tr>\n",
       "  </thead>\n",
       "  <tbody>\n",
       "    <tr>\n",
       "      <th>1821</th>\n",
       "      <td>2022-05-05</td>\n",
       "      <td>36575.140625</td>\n",
       "    </tr>\n",
       "    <tr>\n",
       "      <th>1822</th>\n",
       "      <td>2022-05-06</td>\n",
       "      <td>36040.921875</td>\n",
       "    </tr>\n",
       "    <tr>\n",
       "      <th>1823</th>\n",
       "      <td>2022-05-07</td>\n",
       "      <td>35501.953125</td>\n",
       "    </tr>\n",
       "    <tr>\n",
       "      <th>1824</th>\n",
       "      <td>2022-05-08</td>\n",
       "      <td>34059.265625</td>\n",
       "    </tr>\n",
       "    <tr>\n",
       "      <th>1825</th>\n",
       "      <td>2022-05-09</td>\n",
       "      <td>32399.279297</td>\n",
       "    </tr>\n",
       "  </tbody>\n",
       "</table>\n",
       "</div>"
      ],
      "text/plain": [
       "           Date         Close\n",
       "1821 2022-05-05  36575.140625\n",
       "1822 2022-05-06  36040.921875\n",
       "1823 2022-05-07  35501.953125\n",
       "1824 2022-05-08  34059.265625\n",
       "1825 2022-05-09  32399.279297"
      ]
     },
     "execution_count": 7,
     "metadata": {},
     "output_type": "execute_result"
    }
   ],
   "source": [
    "df[\"Date\"] = pd.to_datetime(df[\"Date\"])\n",
    "df.tail()"
   ]
  },
  {
   "cell_type": "markdown",
   "metadata": {},
   "source": [
    "---\n",
    "\n",
    "### Prediction"
   ]
  },
  {
   "cell_type": "markdown",
   "metadata": {},
   "source": [
    "\n",
    "The following code will train, and fit the model, proceeding with and forecast of the desired amount of days - HORIZON, on this case -.\n",
    "\n",
    "---"
   ]
  },
  {
   "cell_type": "code",
   "execution_count": 8,
   "metadata": {
    "id": "lIdGNSq9RUy_"
   },
   "outputs": [
    {
     "data": {
      "text/html": [
       "<div>\n",
       "<style scoped>\n",
       "    .dataframe tbody tr th:only-of-type {\n",
       "        vertical-align: middle;\n",
       "    }\n",
       "\n",
       "    .dataframe tbody tr th {\n",
       "        vertical-align: top;\n",
       "    }\n",
       "\n",
       "    .dataframe thead th {\n",
       "        text-align: right;\n",
       "    }\n",
       "</style>\n",
       "<table border=\"1\" class=\"dataframe\">\n",
       "  <thead>\n",
       "    <tr style=\"text-align: right;\">\n",
       "      <th>Close</th>\n",
       "      <th>mean</th>\n",
       "      <th>mean_se</th>\n",
       "      <th>mean_ci_lower</th>\n",
       "      <th>mean_ci_upper</th>\n",
       "    </tr>\n",
       "  </thead>\n",
       "  <tbody>\n",
       "    <tr>\n",
       "      <th>1826</th>\n",
       "      <td>32444.950259</td>\n",
       "      <td>984.765174</td>\n",
       "      <td>31182.922909</td>\n",
       "      <td>33706.977609</td>\n",
       "    </tr>\n",
       "    <tr>\n",
       "      <th>1827</th>\n",
       "      <td>32444.950259</td>\n",
       "      <td>1374.079339</td>\n",
       "      <td>30683.996731</td>\n",
       "      <td>34205.903787</td>\n",
       "    </tr>\n",
       "    <tr>\n",
       "      <th>1828</th>\n",
       "      <td>32444.950259</td>\n",
       "      <td>1675.238972</td>\n",
       "      <td>30298.045133</td>\n",
       "      <td>34591.855386</td>\n",
       "    </tr>\n",
       "    <tr>\n",
       "      <th>1829</th>\n",
       "      <td>32444.950259</td>\n",
       "      <td>1929.963004</td>\n",
       "      <td>29971.603151</td>\n",
       "      <td>34918.297368</td>\n",
       "    </tr>\n",
       "    <tr>\n",
       "      <th>1830</th>\n",
       "      <td>32444.950259</td>\n",
       "      <td>2154.782768</td>\n",
       "      <td>29683.485030</td>\n",
       "      <td>35206.415489</td>\n",
       "    </tr>\n",
       "  </tbody>\n",
       "</table>\n",
       "</div>"
      ],
      "text/plain": [
       "Close          mean      mean_se  mean_ci_lower  mean_ci_upper\n",
       "1826   32444.950259   984.765174   31182.922909   33706.977609\n",
       "1827   32444.950259  1374.079339   30683.996731   34205.903787\n",
       "1828   32444.950259  1675.238972   30298.045133   34591.855386\n",
       "1829   32444.950259  1929.963004   29971.603151   34918.297368\n",
       "1830   32444.950259  2154.782768   29683.485030   35206.415489"
      ]
     },
     "execution_count": 8,
     "metadata": {},
     "output_type": "execute_result"
    }
   ],
   "source": [
    "HORIZON = 10\n",
    "\n",
    "model = ExponentialSmoothing(endog = df['Close'])\n",
    "results = model.fit()\n",
    "\n",
    "preds = results.get_forecast(steps=HORIZON)\n",
    "\n",
    "preds.summary_frame(alpha=0.2).head()"
   ]
  },
  {
   "cell_type": "markdown",
   "metadata": {},
   "source": [
    "---\n",
    "The summary_frame above displays the mean, which on this case is the value predicted, and the confidence interval which is the lower and the upper columns on the very right hand side of the frame.\n",
    "\n",
    "Note that the Exponential Smoothing prediction of the following 10 steps of the dataset have the same value. What will influency our prediction graph into a straith line.\n",
    "It is due to the fact that the Exponential Smoothing formula requires the previous value of the dataset to predict the next value, and as our dataset has an ending, the formula will predict only one step ahead.\n",
    "\n",
    "It does not mean that our prediction is wrong, just shows us that the Simple Exponential Smoothing Statistical prediction has also some sort of limitations. On the other hand, the precition has an upper and a lower bounder, which statistically places our prediction in a range of possible values.\n",
    "\n",
    "The alternative for this, in case the business case requires more than one step ahead prediction, is to use the Multi-Step Forecasting methods. Not included in this project as our business case does not require it.\n",
    "\n",
    "\n",
    "---"
   ]
  },
  {
   "cell_type": "code",
   "execution_count": 9,
   "metadata": {},
   "outputs": [
    {
     "name": "stdout",
     "output_type": "stream",
     "text": [
      "1826    32444.950259\n",
      "dtype: float64\n"
     ]
    }
   ],
   "source": [
    "print(results.forecast(steps=1))"
   ]
  },
  {
   "cell_type": "markdown",
   "metadata": {},
   "source": [
    "The print above was done to explore the structure of the returned data from the forecast() function. This line of code is relevant and massively important for our Decision-making feature.\n",
    "\n",
    "---"
   ]
  },
  {
   "cell_type": "markdown",
   "metadata": {},
   "source": [
    "### Visualization"
   ]
  },
  {
   "cell_type": "markdown",
   "metadata": {},
   "source": [
    "---\n",
    "\n",
    "The plot below displays the predicted values + the confidence interval generated in this model implementation.\n",
    "For the sake of a better visualization, it was scaled for the last 25 observations.\n",
    "\n",
    "---"
   ]
  },
  {
   "cell_type": "code",
   "execution_count": 11,
   "metadata": {
    "id": "VsyEIc6vSrUH"
   },
   "outputs": [
    {
     "data": {
      "text/plain": [
       "<matplotlib.legend.Legend at 0x7fb87e86f460>"
      ]
     },
     "execution_count": 11,
     "metadata": {},
     "output_type": "execute_result"
    },
    {
     "data": {
      "image/png": "[encoded data removed]",
      "text/plain": [
       "<Figure size 864x288 with 1 Axes>"
      ]
     },
     "metadata": {
      "needs_background": "light"
     },
     "output_type": "display_data"
    }
   ],
   "source": [
    "ax = df['Close'].iloc[-25:].plot(figsize=(12,4))\n",
    "forecast_80 = preds.summary_frame(alpha=0.2)[['mean', 'mean_ci_lower', 'mean_ci_upper']]\n",
    "forecast_90 = preds.summary_frame(alpha=0.1)[['mean', 'mean_ci_lower', 'mean_ci_upper']]\n",
    "\n",
    "ax.fill_between(forecast_90.index, forecast_90['mean_ci_lower'], forecast_90['mean_ci_upper'], alpha=0.5, label='90% PI')\n",
    "ax.fill_between(forecast_80.index, forecast_90['mean_ci_lower'], forecast_80['mean_ci_upper'], alpha=0.5, label='80% PI')\n",
    "\n",
    "forecast_80['mean'].iloc[-25:].plot(ax=ax, label='forecast', color='red')\n",
    "\n",
    "results.fittedvalues.iloc[-25:].plot(ax=ax, label='fitted', color='green', linestyle='--')\n",
    "\n",
    "ax.legend(loc=3)"
   ]
  },
  {
   "cell_type": "markdown",
   "metadata": {},
   "source": [
    "### Evaluation"
   ]
  },
  {
   "cell_type": "markdown",
   "metadata": {
    "id": "Udw1A4S8WJiN"
   },
   "source": [
    "Statistical model"
   ]
  },
  {
   "cell_type": "code",
   "execution_count": 12,
   "metadata": {
    "id": "NSHOR-96R_Df"
   },
   "outputs": [
    {
     "data": {
      "text/html": [
       "<table class=\"simpletable\">\n",
       "<caption>Exponential Smoothing Results</caption>\n",
       "<tr>\n",
       "  <th>Dep. Variable:</th>         <td>Close</td>      <th>  No. Observations:  </th>    <td>1826</td>   \n",
       "</tr>\n",
       "<tr>\n",
       "  <th>Model:</th>             <td>ETS(A, N, N)</td>   <th>  Log Likelihood     </th> <td>-15176.510</td>\n",
       "</tr>\n",
       "<tr>\n",
       "  <th>Date:</th>            <td>Mon, 09 May 2022</td> <th>  AIC                </th>  <td>30359.020</td>\n",
       "</tr>\n",
       "<tr>\n",
       "  <th>Time:</th>                <td>17:32:15</td>     <th>  BIC                </th>  <td>30375.550</td>\n",
       "</tr>\n",
       "<tr>\n",
       "  <th>Sample:</th>                  <td>0</td>        <th>  HQIC               </th>  <td>30365.117</td>\n",
       "</tr>\n",
       "<tr>\n",
       "  <th></th>                      <td> - 1826</td>     <th>  Scale              </th> <td>969762.447</td>\n",
       "</tr>\n",
       "<tr>\n",
       "  <th>Covariance Type:</th>        <td>opg</td>       <th>                     </th>      <td> </td>    \n",
       "</tr>\n",
       "</table>\n",
       "<table class=\"simpletable\">\n",
       "<tr>\n",
       "         <td></td>            <th>coef</th>     <th>std err</th>      <th>z</th>      <th>P>|z|</th>  <th>[0.025</th>    <th>0.975]</th>  \n",
       "</tr>\n",
       "<tr>\n",
       "  <th>smoothing_level</th> <td>    0.9731</td> <td>    0.015</td> <td>   66.011</td> <td> 0.000</td> <td>    0.944</td> <td>    1.002</td>\n",
       "</tr>\n",
       "<tr>\n",
       "  <th>initial_level</th>   <td> 1787.1300</td> <td> 8.69e-13</td> <td> 2.06e+15</td> <td> 0.000</td> <td> 1787.130</td> <td> 1787.130</td>\n",
       "</tr>\n",
       "</table>\n",
       "<table class=\"simpletable\">\n",
       "<tr>\n",
       "  <th>Ljung-Box (L1) (Q):</th>     <td>0.00</td>  <th>  Jarque-Bera (JB):  </th> <td>8502.48</td>\n",
       "</tr>\n",
       "<tr>\n",
       "  <th>Prob(Q):</th>                <td>1.00</td>  <th>  Prob(JB):          </th>  <td>0.00</td>  \n",
       "</tr>\n",
       "<tr>\n",
       "  <th>Heteroskedasticity (H):</th> <td>13.98</td> <th>  Skew:              </th>  <td>-0.15</td> \n",
       "</tr>\n",
       "<tr>\n",
       "  <th>Prob(H) (two-sided):</th>    <td>0.00</td>  <th>  Kurtosis:          </th>  <td>13.57</td> \n",
       "</tr>\n",
       "</table><br/><br/>Warnings:<br/>[1] Covariance matrix calculated using the outer product of gradients (complex-step)."
      ],
      "text/plain": [
       "<class 'statsmodels.iolib.summary.Summary'>\n",
       "\"\"\"\n",
       "                        Exponential Smoothing Results                         \n",
       "==============================================================================\n",
       "Dep. Variable:                  Close   No. Observations:                 1826\n",
       "Model:                   ETS(A, N, N)   Log Likelihood              -15176.510\n",
       "Date:                Mon, 09 May 2022   AIC                          30359.020\n",
       "Time:                        17:32:15   BIC                          30375.550\n",
       "Sample:                             0   HQIC                         30365.117\n",
       "                               - 1826   Scale                       969762.447\n",
       "Covariance Type:                  opg                                         \n",
       "===================================================================================\n",
       "                      coef    std err          z      P>|z|      [0.025      0.975]\n",
       "-----------------------------------------------------------------------------------\n",
       "smoothing_level     0.9731      0.015     66.011      0.000       0.944       1.002\n",
       "initial_level    1787.1300   8.69e-13   2.06e+15      0.000    1787.130    1787.130\n",
       "===================================================================================\n",
       "Ljung-Box (L1) (Q):                   0.00   Jarque-Bera (JB):              8502.48\n",
       "Prob(Q):                              1.00   Prob(JB):                         0.00\n",
       "Heteroskedasticity (H):              13.98   Skew:                            -0.15\n",
       "Prob(H) (two-sided):                  0.00   Kurtosis:                        13.57\n",
       "===================================================================================\n",
       "\n",
       "Warnings:\n",
       "[1] Covariance matrix calculated using the outer product of gradients (complex-step).\n",
       "\"\"\""
      ]
     },
     "execution_count": 12,
     "metadata": {},
     "output_type": "execute_result"
    }
   ],
   "source": [
    "results.summary()"
   ]
  },
  {
   "cell_type": "code",
   "execution_count": 13,
   "metadata": {
    "id": "Z5k40LqEZBis"
   },
   "outputs": [],
   "source": [
    "from statsmodels.graphics.tsaplots import plot_pacf\n",
    "from statsmodels.graphics.tsaplots import plot_acf\n",
    "from statsmodels.tsa.statespace.sarimax import SARIMAX\n",
    "from statsmodels.tsa.holtwinters import ExponentialSmoothing\n",
    "from statsmodels.tsa.stattools import adfuller\n",
    "import matplotlib.pyplot as plt\n",
    "from tqdm import tqdm_notebook\n",
    "import numpy as np\n",
    "import pandas as pd\n",
    "\n",
    "from itertools import product\n",
    "from sklearn.metrics import mean_squared_error, r2_score, mean_absolute_error\n",
    "from sklearn.metrics import median_absolute_error, mean_squared_log_error\n",
    "\n",
    "import warnings\n",
    "warnings.filterwarnings('ignore')\n",
    "\n",
    "%matplotlib inline"
   ]
  },
  {
   "cell_type": "markdown",
   "metadata": {},
   "source": [
    "### Model residuals"
   ]
  },
  {
   "cell_type": "code",
   "execution_count": 14,
   "metadata": {
    "id": "voFyLzj4X2Pi"
   },
   "outputs": [
    {
     "data": {
      "image/png": "[encoded data removed]",
      "text/plain": [
       "<Figure size 1080x864 with 4 Axes>"
      ]
     },
     "metadata": {
      "needs_background": "light"
     },
     "output_type": "display_data"
    }
   ],
   "source": [
    "# Diagnosing the model residuals\n",
    "results.plot_diagnostics(figsize = (15, 12))\n",
    "plt.show()"
   ]
  },
  {
   "cell_type": "code",
   "execution_count": 15,
   "metadata": {
    "id": "D_As9O5lbOWB"
   },
   "outputs": [
    {
     "data": {
      "text/plain": [
       "((1552, 2), (274, 2))"
      ]
     },
     "execution_count": 15,
     "metadata": {},
     "output_type": "execute_result"
    }
   ],
   "source": [
    "# Divide into train and validation set to calculate R-squared score\n",
    "train = df[:int(0.85 * (len(df)))]\n",
    "test  = df[int(0.85 * (len(df))):]\n",
    "\n",
    "train.shape, test.shape"
   ]
  },
  {
   "cell_type": "code",
   "execution_count": 16,
   "metadata": {
    "id": "zT3GxFVobOHP"
   },
   "outputs": [
    {
     "name": "stdout",
     "output_type": "stream",
     "text": [
      "1552    43817.187591\n",
      "1553    46296.910216\n",
      "1554    45604.165471\n",
      "1555    45593.919716\n",
      "1556    44459.619437\n",
      "            ...     \n",
      "1821    39646.575178\n",
      "1822    36657.696103\n",
      "1823    36057.499826\n",
      "1824    35516.885373\n",
      "1825    34098.444221\n",
      "Name: Simple Exponential Smoothing Predictions, Length: 274, dtype: float64\n"
     ]
    }
   ],
   "source": [
    "start = len(train)\n",
    "end   = len(train) + len(test) - 1\n",
    "predictions = results.predict(start = start, end = end, dynamic = False, typ = 'levels').rename('Simple Exponential Smoothing Predictions')\n",
    "print(predictions)"
   ]
  },
  {
   "cell_type": "code",
   "execution_count": 17,
   "metadata": {
    "id": "ga-paoKzZj-6"
   },
   "outputs": [
    {
     "data": {
      "text/html": [
       "<div>\n",
       "<style scoped>\n",
       "    .dataframe tbody tr th:only-of-type {\n",
       "        vertical-align: middle;\n",
       "    }\n",
       "\n",
       "    .dataframe tbody tr th {\n",
       "        vertical-align: top;\n",
       "    }\n",
       "\n",
       "    .dataframe thead th {\n",
       "        text-align: right;\n",
       "    }\n",
       "</style>\n",
       "<table border=\"1\" class=\"dataframe\">\n",
       "  <thead>\n",
       "    <tr style=\"text-align: right;\">\n",
       "      <th></th>\n",
       "      <th>r2_score</th>\n",
       "    </tr>\n",
       "  </thead>\n",
       "  <tbody>\n",
       "    <tr>\n",
       "      <th>0</th>\n",
       "      <td>0.959362</td>\n",
       "    </tr>\n",
       "  </tbody>\n",
       "</table>\n",
       "</div>"
      ],
      "text/plain": [
       "   r2_score\n",
       "0  0.959362"
      ]
     },
     "execution_count": 17,
     "metadata": {},
     "output_type": "execute_result"
    }
   ],
   "source": [
    "# Create a dataframe to store r2 score\n",
    "evaluation_results = pd.DataFrame({'r2_score': r2_score(test['Close'], predictions)}, index = [0])\n",
    "\n",
    "# Display the results\n",
    "evaluation_results"
   ]
  },
  {
   "cell_type": "markdown",
   "metadata": {},
   "source": [
    "**The evaluation of our r2_score and residuals brings us a pretty good accurancy without overfitting.**\n",
    "\n",
    "---"
   ]
  },
  {
   "cell_type": "code",
   "execution_count": null,
   "metadata": {},
   "outputs": [],
   "source": []
  },
  {
   "cell_type": "code",
   "execution_count": null,
   "metadata": {},
   "outputs": [],
   "source": []
  },
  {
   "cell_type": "markdown",
   "metadata": {},
   "source": [
    "---\n",
    "\n",
    "# Exponential Smoothing Model applied to ETHERIUM\n",
    "\n",
    "To proceed with this implementation we will follow the same steps as the bitcoin implementation\n",
    "\n",
    "---"
   ]
  },
  {
   "cell_type": "code",
   "execution_count": 18,
   "metadata": {},
   "outputs": [],
   "source": [
    "df_eth = pdr.get_data_yahoo('ETH-USD')"
   ]
  },
  {
   "cell_type": "code",
   "execution_count": 19,
   "metadata": {},
   "outputs": [],
   "source": [
    "df_eth.drop(['High', 'Low', 'Open', 'Volume', 'Adj Close'], axis=1, inplace=True)"
   ]
  },
  {
   "cell_type": "code",
   "execution_count": 20,
   "metadata": {},
   "outputs": [],
   "source": [
    "df_eth=df_eth.reset_index()"
   ]
  },
  {
   "cell_type": "code",
   "execution_count": 21,
   "metadata": {},
   "outputs": [
    {
     "data": {
      "text/html": [
       "<div>\n",
       "<style scoped>\n",
       "    .dataframe tbody tr th:only-of-type {\n",
       "        vertical-align: middle;\n",
       "    }\n",
       "\n",
       "    .dataframe tbody tr th {\n",
       "        vertical-align: top;\n",
       "    }\n",
       "\n",
       "    .dataframe thead th {\n",
       "        text-align: right;\n",
       "    }\n",
       "</style>\n",
       "<table border=\"1\" class=\"dataframe\">\n",
       "  <thead>\n",
       "    <tr style=\"text-align: right;\">\n",
       "      <th></th>\n",
       "      <th>Date</th>\n",
       "      <th>Close</th>\n",
       "    </tr>\n",
       "  </thead>\n",
       "  <tbody>\n",
       "    <tr>\n",
       "      <th>1821</th>\n",
       "      <td>2022-05-05</td>\n",
       "      <td>36575.140625</td>\n",
       "    </tr>\n",
       "    <tr>\n",
       "      <th>1822</th>\n",
       "      <td>2022-05-06</td>\n",
       "      <td>36040.921875</td>\n",
       "    </tr>\n",
       "    <tr>\n",
       "      <th>1823</th>\n",
       "      <td>2022-05-07</td>\n",
       "      <td>35501.953125</td>\n",
       "    </tr>\n",
       "    <tr>\n",
       "      <th>1824</th>\n",
       "      <td>2022-05-08</td>\n",
       "      <td>34059.265625</td>\n",
       "    </tr>\n",
       "    <tr>\n",
       "      <th>1825</th>\n",
       "      <td>2022-05-09</td>\n",
       "      <td>32399.279297</td>\n",
       "    </tr>\n",
       "  </tbody>\n",
       "</table>\n",
       "</div>"
      ],
      "text/plain": [
       "           Date         Close\n",
       "1821 2022-05-05  36575.140625\n",
       "1822 2022-05-06  36040.921875\n",
       "1823 2022-05-07  35501.953125\n",
       "1824 2022-05-08  34059.265625\n",
       "1825 2022-05-09  32399.279297"
      ]
     },
     "execution_count": 21,
     "metadata": {},
     "output_type": "execute_result"
    }
   ],
   "source": [
    "df_eth[\"Date\"] = pd.to_datetime(df_eth[\"Date\"])\n",
    "df.tail()"
   ]
  },
  {
   "cell_type": "code",
   "execution_count": 22,
   "metadata": {},
   "outputs": [
    {
     "data": {
      "text/html": [
       "<div>\n",
       "<style scoped>\n",
       "    .dataframe tbody tr th:only-of-type {\n",
       "        vertical-align: middle;\n",
       "    }\n",
       "\n",
       "    .dataframe tbody tr th {\n",
       "        vertical-align: top;\n",
       "    }\n",
       "\n",
       "    .dataframe thead th {\n",
       "        text-align: right;\n",
       "    }\n",
       "</style>\n",
       "<table border=\"1\" class=\"dataframe\">\n",
       "  <thead>\n",
       "    <tr style=\"text-align: right;\">\n",
       "      <th></th>\n",
       "      <th>Date</th>\n",
       "      <th>Close</th>\n",
       "    </tr>\n",
       "  </thead>\n",
       "  <tbody>\n",
       "    <tr>\n",
       "      <th>0</th>\n",
       "      <td>2017-11-09</td>\n",
       "      <td>320.884003</td>\n",
       "    </tr>\n",
       "    <tr>\n",
       "      <th>1</th>\n",
       "      <td>2017-11-10</td>\n",
       "      <td>299.252991</td>\n",
       "    </tr>\n",
       "    <tr>\n",
       "      <th>2</th>\n",
       "      <td>2017-11-11</td>\n",
       "      <td>314.681000</td>\n",
       "    </tr>\n",
       "    <tr>\n",
       "      <th>3</th>\n",
       "      <td>2017-11-12</td>\n",
       "      <td>307.907990</td>\n",
       "    </tr>\n",
       "    <tr>\n",
       "      <th>4</th>\n",
       "      <td>2017-11-13</td>\n",
       "      <td>316.716003</td>\n",
       "    </tr>\n",
       "    <tr>\n",
       "      <th>...</th>\n",
       "      <td>...</td>\n",
       "      <td>...</td>\n",
       "    </tr>\n",
       "    <tr>\n",
       "      <th>1638</th>\n",
       "      <td>2022-05-05</td>\n",
       "      <td>2749.213135</td>\n",
       "    </tr>\n",
       "    <tr>\n",
       "      <th>1639</th>\n",
       "      <td>2022-05-06</td>\n",
       "      <td>2694.979736</td>\n",
       "    </tr>\n",
       "    <tr>\n",
       "      <th>1640</th>\n",
       "      <td>2022-05-07</td>\n",
       "      <td>2636.093018</td>\n",
       "    </tr>\n",
       "    <tr>\n",
       "      <th>1641</th>\n",
       "      <td>2022-05-08</td>\n",
       "      <td>2517.459961</td>\n",
       "    </tr>\n",
       "    <tr>\n",
       "      <th>1642</th>\n",
       "      <td>2022-05-09</td>\n",
       "      <td>2380.231201</td>\n",
       "    </tr>\n",
       "  </tbody>\n",
       "</table>\n",
       "<p>1643 rows × 2 columns</p>\n",
       "</div>"
      ],
      "text/plain": [
       "           Date        Close\n",
       "0    2017-11-09   320.884003\n",
       "1    2017-11-10   299.252991\n",
       "2    2017-11-11   314.681000\n",
       "3    2017-11-12   307.907990\n",
       "4    2017-11-13   316.716003\n",
       "...         ...          ...\n",
       "1638 2022-05-05  2749.213135\n",
       "1639 2022-05-06  2694.979736\n",
       "1640 2022-05-07  2636.093018\n",
       "1641 2022-05-08  2517.459961\n",
       "1642 2022-05-09  2380.231201\n",
       "\n",
       "[1643 rows x 2 columns]"
      ]
     },
     "execution_count": 22,
     "metadata": {},
     "output_type": "execute_result"
    }
   ],
   "source": [
    "df_eth.head(10000)"
   ]
  },
  {
   "cell_type": "code",
   "execution_count": 23,
   "metadata": {},
   "outputs": [],
   "source": [
    "from statsmodels.tsa.statespace.exponential_smoothing import ExponentialSmoothing"
   ]
  },
  {
   "cell_type": "code",
   "execution_count": 25,
   "metadata": {},
   "outputs": [
    {
     "data": {
      "text/html": [
       "<div>\n",
       "<style scoped>\n",
       "    .dataframe tbody tr th:only-of-type {\n",
       "        vertical-align: middle;\n",
       "    }\n",
       "\n",
       "    .dataframe tbody tr th {\n",
       "        vertical-align: top;\n",
       "    }\n",
       "\n",
       "    .dataframe thead th {\n",
       "        text-align: right;\n",
       "    }\n",
       "</style>\n",
       "<table border=\"1\" class=\"dataframe\">\n",
       "  <thead>\n",
       "    <tr style=\"text-align: right;\">\n",
       "      <th>Close</th>\n",
       "      <th>mean</th>\n",
       "      <th>mean_se</th>\n",
       "      <th>mean_ci_lower</th>\n",
       "      <th>mean_ci_upper</th>\n",
       "    </tr>\n",
       "  </thead>\n",
       "  <tbody>\n",
       "    <tr>\n",
       "      <th>1643</th>\n",
       "      <td>2389.886263</td>\n",
       "      <td>79.619275</td>\n",
       "      <td>2287.850056</td>\n",
       "      <td>2491.922471</td>\n",
       "    </tr>\n",
       "    <tr>\n",
       "      <th>1644</th>\n",
       "      <td>2389.886263</td>\n",
       "      <td>108.924023</td>\n",
       "      <td>2250.294512</td>\n",
       "      <td>2529.478015</td>\n",
       "    </tr>\n",
       "    <tr>\n",
       "      <th>1645</th>\n",
       "      <td>2389.886263</td>\n",
       "      <td>131.869846</td>\n",
       "      <td>2220.888255</td>\n",
       "      <td>2558.884271</td>\n",
       "    </tr>\n",
       "    <tr>\n",
       "      <th>1646</th>\n",
       "      <td>2389.886263</td>\n",
       "      <td>151.376584</td>\n",
       "      <td>2195.889366</td>\n",
       "      <td>2583.883161</td>\n",
       "    </tr>\n",
       "    <tr>\n",
       "      <th>1647</th>\n",
       "      <td>2389.886263</td>\n",
       "      <td>168.641880</td>\n",
       "      <td>2173.762998</td>\n",
       "      <td>2606.009529</td>\n",
       "    </tr>\n",
       "  </tbody>\n",
       "</table>\n",
       "</div>"
      ],
      "text/plain": [
       "Close         mean     mean_se  mean_ci_lower  mean_ci_upper\n",
       "1643   2389.886263   79.619275    2287.850056    2491.922471\n",
       "1644   2389.886263  108.924023    2250.294512    2529.478015\n",
       "1645   2389.886263  131.869846    2220.888255    2558.884271\n",
       "1646   2389.886263  151.376584    2195.889366    2583.883161\n",
       "1647   2389.886263  168.641880    2173.762998    2606.009529"
      ]
     },
     "execution_count": 25,
     "metadata": {},
     "output_type": "execute_result"
    }
   ],
   "source": [
    "HORIZON = 10\n",
    "\n",
    "model_eth = ExponentialSmoothing(endog = df_eth['Close'])\n",
    "results_eth = model_eth.fit()\n",
    "\n",
    "preds_eth = results_eth.get_forecast(steps=HORIZON)\n",
    "\n",
    "preds_eth.summary_frame(alpha=0.2).head()"
   ]
  },
  {
   "cell_type": "code",
   "execution_count": 26,
   "metadata": {},
   "outputs": [
    {
     "data": {
      "text/html": [
       "<div>\n",
       "<style scoped>\n",
       "    .dataframe tbody tr th:only-of-type {\n",
       "        vertical-align: middle;\n",
       "    }\n",
       "\n",
       "    .dataframe tbody tr th {\n",
       "        vertical-align: top;\n",
       "    }\n",
       "\n",
       "    .dataframe thead th {\n",
       "        text-align: right;\n",
       "    }\n",
       "</style>\n",
       "<table border=\"1\" class=\"dataframe\">\n",
       "  <thead>\n",
       "    <tr style=\"text-align: right;\">\n",
       "      <th>Close</th>\n",
       "      <th>mean</th>\n",
       "      <th>mean_se</th>\n",
       "      <th>mean_ci_lower</th>\n",
       "      <th>mean_ci_upper</th>\n",
       "    </tr>\n",
       "  </thead>\n",
       "  <tbody>\n",
       "    <tr>\n",
       "      <th>1643</th>\n",
       "      <td>2389.886263</td>\n",
       "      <td>79.619275</td>\n",
       "      <td>2287.850056</td>\n",
       "      <td>2491.922471</td>\n",
       "    </tr>\n",
       "    <tr>\n",
       "      <th>1644</th>\n",
       "      <td>2389.886263</td>\n",
       "      <td>108.924023</td>\n",
       "      <td>2250.294512</td>\n",
       "      <td>2529.478015</td>\n",
       "    </tr>\n",
       "    <tr>\n",
       "      <th>1645</th>\n",
       "      <td>2389.886263</td>\n",
       "      <td>131.869846</td>\n",
       "      <td>2220.888255</td>\n",
       "      <td>2558.884271</td>\n",
       "    </tr>\n",
       "    <tr>\n",
       "      <th>1646</th>\n",
       "      <td>2389.886263</td>\n",
       "      <td>151.376584</td>\n",
       "      <td>2195.889366</td>\n",
       "      <td>2583.883161</td>\n",
       "    </tr>\n",
       "    <tr>\n",
       "      <th>1647</th>\n",
       "      <td>2389.886263</td>\n",
       "      <td>168.641880</td>\n",
       "      <td>2173.762998</td>\n",
       "      <td>2606.009529</td>\n",
       "    </tr>\n",
       "    <tr>\n",
       "      <th>1648</th>\n",
       "      <td>2389.886263</td>\n",
       "      <td>184.296765</td>\n",
       "      <td>2153.700456</td>\n",
       "      <td>2626.072071</td>\n",
       "    </tr>\n",
       "    <tr>\n",
       "      <th>1649</th>\n",
       "      <td>2389.886263</td>\n",
       "      <td>198.722196</td>\n",
       "      <td>2135.213522</td>\n",
       "      <td>2644.559005</td>\n",
       "    </tr>\n",
       "    <tr>\n",
       "      <th>1650</th>\n",
       "      <td>2389.886263</td>\n",
       "      <td>212.169095</td>\n",
       "      <td>2117.980628</td>\n",
       "      <td>2661.791899</td>\n",
       "    </tr>\n",
       "    <tr>\n",
       "      <th>1651</th>\n",
       "      <td>2389.886263</td>\n",
       "      <td>224.813119</td>\n",
       "      <td>2101.776659</td>\n",
       "      <td>2677.995868</td>\n",
       "    </tr>\n",
       "    <tr>\n",
       "      <th>1652</th>\n",
       "      <td>2389.886263</td>\n",
       "      <td>236.782922</td>\n",
       "      <td>2086.436739</td>\n",
       "      <td>2693.335788</td>\n",
       "    </tr>\n",
       "  </tbody>\n",
       "</table>\n",
       "</div>"
      ],
      "text/plain": [
       "Close         mean     mean_se  mean_ci_lower  mean_ci_upper\n",
       "1643   2389.886263   79.619275    2287.850056    2491.922471\n",
       "1644   2389.886263  108.924023    2250.294512    2529.478015\n",
       "1645   2389.886263  131.869846    2220.888255    2558.884271\n",
       "1646   2389.886263  151.376584    2195.889366    2583.883161\n",
       "1647   2389.886263  168.641880    2173.762998    2606.009529\n",
       "1648   2389.886263  184.296765    2153.700456    2626.072071\n",
       "1649   2389.886263  198.722196    2135.213522    2644.559005\n",
       "1650   2389.886263  212.169095    2117.980628    2661.791899\n",
       "1651   2389.886263  224.813119    2101.776659    2677.995868\n",
       "1652   2389.886263  236.782922    2086.436739    2693.335788"
      ]
     },
     "execution_count": 26,
     "metadata": {},
     "output_type": "execute_result"
    }
   ],
   "source": [
    "preds_eth.summary_frame(alpha=0.2).head(10)"
   ]
  },
  {
   "cell_type": "markdown",
   "metadata": {},
   "source": [
    "---\n",
    "\n",
    "The plot below displays the predicted values + the confidence interval generated in this model implementation.\n",
    "For the sake of a better visualization, it was scaled for the last 85 observations.\n",
    "\n",
    "---"
   ]
  },
  {
   "cell_type": "code",
   "execution_count": 27,
   "metadata": {},
   "outputs": [
    {
     "data": {
      "text/plain": [
       "<matplotlib.legend.Legend at 0x7fb88062e670>"
      ]
     },
     "execution_count": 27,
     "metadata": {},
     "output_type": "execute_result"
    },
    {
     "data": {
      "image/png": "[encoded data removed]",
      "text/plain": [
       "<Figure size 864x288 with 1 Axes>"
      ]
     },
     "metadata": {
      "needs_background": "light"
     },
     "output_type": "display_data"
    }
   ],
   "source": [
    "ax_eth = df_eth['Close'].iloc[-85:].plot(figsize=(12,4))\n",
    "forecast_80_eth = preds_eth.summary_frame(alpha=0.2)[['mean', 'mean_ci_lower', 'mean_ci_upper']]\n",
    "forecast_90_eth = preds_eth.summary_frame(alpha=0.1)[['mean', 'mean_ci_lower', 'mean_ci_upper']]\n",
    "\n",
    "ax_eth.fill_between(forecast_90_eth.index, forecast_90_eth['mean_ci_lower'], forecast_90_eth['mean_ci_upper'], alpha=0.5, label='90% PI')\n",
    "ax_eth.fill_between(forecast_80_eth.index, forecast_90_eth['mean_ci_lower'], forecast_80_eth['mean_ci_upper'], alpha=0.5, label='80% PI')\n",
    "\n",
    "forecast_80_eth['mean'].iloc[-85:].plot(ax=ax_eth, label='forecast', color='red')\n",
    "\n",
    "results_eth.fittedvalues.iloc[-85:].plot(ax=ax_eth, label='fitted', color='green', linestyle='--')\n",
    "\n",
    "ax_eth.legend(loc=3)"
   ]
  },
  {
   "cell_type": "code",
   "execution_count": 28,
   "metadata": {},
   "outputs": [
    {
     "data": {
      "text/html": [
       "<table class=\"simpletable\">\n",
       "<caption>Exponential Smoothing Results</caption>\n",
       "<tr>\n",
       "  <th>Dep. Variable:</th>         <td>Close</td>      <th>  No. Observations:  </th>   <td>1643</td>   \n",
       "</tr>\n",
       "<tr>\n",
       "  <th>Model:</th>             <td>ETS(A, N, N)</td>   <th>  Log Likelihood     </th> <td>-9523.148</td>\n",
       "</tr>\n",
       "<tr>\n",
       "  <th>Date:</th>            <td>Mon, 09 May 2022</td> <th>  AIC                </th> <td>19052.296</td>\n",
       "</tr>\n",
       "<tr>\n",
       "  <th>Time:</th>                <td>17:36:08</td>     <th>  BIC                </th> <td>19068.509</td>\n",
       "</tr>\n",
       "<tr>\n",
       "  <th>Sample:</th>                  <td>0</td>        <th>  HQIC               </th> <td>19058.308</td>\n",
       "</tr>\n",
       "<tr>\n",
       "  <th></th>                      <td> - 1643</td>     <th>  Scale              </th> <td>6339.229</td> \n",
       "</tr>\n",
       "<tr>\n",
       "  <th>Covariance Type:</th>        <td>opg</td>       <th>                     </th>     <td> </td>    \n",
       "</tr>\n",
       "</table>\n",
       "<table class=\"simpletable\">\n",
       "<tr>\n",
       "         <td></td>            <th>coef</th>     <th>std err</th>      <th>z</th>      <th>P>|z|</th>  <th>[0.025</th>    <th>0.975]</th>  \n",
       "</tr>\n",
       "<tr>\n",
       "  <th>smoothing_level</th> <td>    0.9336</td> <td>    0.013</td> <td>   73.113</td> <td> 0.000</td> <td>    0.909</td> <td>    0.959</td>\n",
       "</tr>\n",
       "<tr>\n",
       "  <th>initial_level</th>   <td>  320.8837</td> <td> 4382.202</td> <td>    0.073</td> <td> 0.942</td> <td>-8268.075</td> <td> 8909.843</td>\n",
       "</tr>\n",
       "</table>\n",
       "<table class=\"simpletable\">\n",
       "<tr>\n",
       "  <th>Ljung-Box (L1) (Q):</th>     <td>0.00</td>  <th>  Jarque-Bera (JB):  </th> <td>24061.87</td>\n",
       "</tr>\n",
       "<tr>\n",
       "  <th>Prob(Q):</th>                <td>0.97</td>  <th>  Prob(JB):          </th>   <td>0.00</td>  \n",
       "</tr>\n",
       "<tr>\n",
       "  <th>Heteroskedasticity (H):</th> <td>17.14</td> <th>  Skew:              </th>   <td>-0.96</td> \n",
       "</tr>\n",
       "<tr>\n",
       "  <th>Prob(H) (two-sided):</th>    <td>0.00</td>  <th>  Kurtosis:          </th>   <td>21.65</td> \n",
       "</tr>\n",
       "</table><br/><br/>Warnings:<br/>[1] Covariance matrix calculated using the outer product of gradients (complex-step)."
      ],
      "text/plain": [
       "<class 'statsmodels.iolib.summary.Summary'>\n",
       "\"\"\"\n",
       "                        Exponential Smoothing Results                         \n",
       "==============================================================================\n",
       "Dep. Variable:                  Close   No. Observations:                 1643\n",
       "Model:                   ETS(A, N, N)   Log Likelihood               -9523.148\n",
       "Date:                Mon, 09 May 2022   AIC                          19052.296\n",
       "Time:                        17:36:08   BIC                          19068.509\n",
       "Sample:                             0   HQIC                         19058.308\n",
       "                               - 1643   Scale                         6339.229\n",
       "Covariance Type:                  opg                                         \n",
       "===================================================================================\n",
       "                      coef    std err          z      P>|z|      [0.025      0.975]\n",
       "-----------------------------------------------------------------------------------\n",
       "smoothing_level     0.9336      0.013     73.113      0.000       0.909       0.959\n",
       "initial_level     320.8837   4382.202      0.073      0.942   -8268.075    8909.843\n",
       "===================================================================================\n",
       "Ljung-Box (L1) (Q):                   0.00   Jarque-Bera (JB):             24061.87\n",
       "Prob(Q):                              0.97   Prob(JB):                         0.00\n",
       "Heteroskedasticity (H):              17.14   Skew:                            -0.96\n",
       "Prob(H) (two-sided):                  0.00   Kurtosis:                        21.65\n",
       "===================================================================================\n",
       "\n",
       "Warnings:\n",
       "[1] Covariance matrix calculated using the outer product of gradients (complex-step).\n",
       "\"\"\""
      ]
     },
     "execution_count": 28,
     "metadata": {},
     "output_type": "execute_result"
    }
   ],
   "source": [
    "results_eth.summary()"
   ]
  },
  {
   "cell_type": "code",
   "execution_count": 29,
   "metadata": {},
   "outputs": [],
   "source": [
    "from statsmodels.graphics.tsaplots import plot_pacf\n",
    "from statsmodels.graphics.tsaplots import plot_acf\n",
    "from statsmodels.tsa.statespace.sarimax import SARIMAX\n",
    "from statsmodels.tsa.holtwinters import ExponentialSmoothing\n",
    "from statsmodels.tsa.stattools import adfuller\n",
    "import matplotlib.pyplot as plt\n",
    "from tqdm import tqdm_notebook\n",
    "import numpy as np\n",
    "import pandas as pd\n",
    "\n",
    "from itertools import product\n",
    "from sklearn.metrics import mean_squared_error, r2_score, mean_absolute_error\n",
    "from sklearn.metrics import median_absolute_error, mean_squared_log_error\n",
    "\n",
    "import warnings\n",
    "warnings.filterwarnings('ignore')\n",
    "\n",
    "%matplotlib inline"
   ]
  },
  {
   "cell_type": "markdown",
   "metadata": {},
   "source": [
    "### Model residuals"
   ]
  },
  {
   "cell_type": "code",
   "execution_count": 30,
   "metadata": {},
   "outputs": [
    {
     "data": {
      "image/png": "[encoded data removed]",
      "text/plain": [
       "<Figure size 1080x864 with 4 Axes>"
      ]
     },
     "metadata": {
      "needs_background": "light"
     },
     "output_type": "display_data"
    }
   ],
   "source": [
    "# Diagnosing the model residuals\n",
    "results_eth.plot_diagnostics(figsize = (15, 12))\n",
    "plt.show()"
   ]
  },
  {
   "cell_type": "code",
   "execution_count": 31,
   "metadata": {},
   "outputs": [
    {
     "data": {
      "text/plain": [
       "((1396, 2), (247, 2))"
      ]
     },
     "execution_count": 31,
     "metadata": {},
     "output_type": "execute_result"
    }
   ],
   "source": [
    "# Divide into train and validation set to calculate R-squared score\n",
    "train_eth = df_eth[:int(0.85 * (len(df_eth)))]\n",
    "test_eth  = df_eth[int(0.85 * (len(df_eth))):]\n",
    "\n",
    "train_eth.shape, test_eth.shape"
   ]
  },
  {
   "cell_type": "code",
   "execution_count": 32,
   "metadata": {},
   "outputs": [
    {
     "name": "stdout",
     "output_type": "stream",
     "text": [
      "1396    3890.678783\n",
      "1397    3948.052351\n",
      "1398    3929.685870\n",
      "1399    3459.817744\n",
      "1400    3494.824991\n",
      "           ...     \n",
      "1638    2930.522866\n",
      "1639    2761.253865\n",
      "1640    2699.380983\n",
      "1641    2640.295954\n",
      "1642    2525.617466\n",
      "Name: Simple Exponential Smoothing Predictions, Length: 247, dtype: float64\n"
     ]
    }
   ],
   "source": [
    "start_eth = len(train_eth)\n",
    "end_eth   = len(train_eth) + len(test_eth) - 1\n",
    "predictions_eth = results_eth.predict(start = start_eth, end = end_eth, dynamic = False, typ = 'levels').rename('Simple Exponential Smoothing Predictions')\n",
    "print(predictions_eth)"
   ]
  },
  {
   "cell_type": "code",
   "execution_count": 33,
   "metadata": {},
   "outputs": [
    {
     "data": {
      "text/html": [
       "<div>\n",
       "<style scoped>\n",
       "    .dataframe tbody tr th:only-of-type {\n",
       "        vertical-align: middle;\n",
       "    }\n",
       "\n",
       "    .dataframe tbody tr th {\n",
       "        vertical-align: top;\n",
       "    }\n",
       "\n",
       "    .dataframe thead th {\n",
       "        text-align: right;\n",
       "    }\n",
       "</style>\n",
       "<table border=\"1\" class=\"dataframe\">\n",
       "  <thead>\n",
       "    <tr style=\"text-align: right;\">\n",
       "      <th></th>\n",
       "      <th>r2_score</th>\n",
       "    </tr>\n",
       "  </thead>\n",
       "  <tbody>\n",
       "    <tr>\n",
       "      <th>0</th>\n",
       "      <td>0.95316</td>\n",
       "    </tr>\n",
       "  </tbody>\n",
       "</table>\n",
       "</div>"
      ],
      "text/plain": [
       "   r2_score\n",
       "0   0.95316"
      ]
     },
     "execution_count": 33,
     "metadata": {},
     "output_type": "execute_result"
    }
   ],
   "source": [
    "# Create a dataframe to store r2 score\n",
    "evaluation_results_eth = pd.DataFrame({'r2_score': r2_score(test_eth['Close'], predictions_eth)}, index = [0])\n",
    "\n",
    "# Display the results\n",
    "evaluation_results_eth"
   ]
  },
  {
   "cell_type": "markdown",
   "metadata": {},
   "source": [
    "**Although, the implementation of our Statistical Exponential Smoothing Model on Etherium is slightly lower than with the Bitcoin, it is still presenting good results.**\n",
    "\n",
    "---"
   ]
  },
  {
   "cell_type": "code",
   "execution_count": null,
   "metadata": {},
   "outputs": [],
   "source": []
  },
  {
   "cell_type": "code",
   "execution_count": null,
   "metadata": {},
   "outputs": [],
   "source": []
  },
  {
   "cell_type": "markdown",
   "metadata": {},
   "source": [
    "---\n",
    "\n",
    "# Automation and Decision-Making Function: Custom Made Function to train the model, request external API and come up with an \"advice\"\n",
    "\n",
    "---"
   ]
  },
  {
   "cell_type": "markdown",
   "metadata": {},
   "source": [
    "The function below will perform the following tasks:\n",
    "*  Train the model once a day\n",
    "*  Find the middle value of the dataset\n",
    "*  HTTP request to find the real time of the crypto (Bitcoin)\n",
    "*  According to the position of value-predicted for the following day/real-time value in comparison with the top and bottom section defined in the business case, return an statistical advice.\n",
    "\n",
    "---\n"
   ]
  },
  {
   "cell_type": "code",
   "execution_count": 36,
   "metadata": {},
   "outputs": [],
   "source": [
    "import requests"
   ]
  },
  {
   "cell_type": "code",
   "execution_count": 37,
   "metadata": {},
   "outputs": [],
   "source": [
    "from threading import Timer"
   ]
  },
  {
   "cell_type": "markdown",
   "metadata": {},
   "source": [
    "The packages above have the purpose of:\n",
    "* requests = prooceding with the API call to find out the real value of the Bitcoin\n",
    "* Timer from threading = create a time-interval which will recursively call the custom made functions\n",
    "\n",
    "---"
   ]
  },
  {
   "cell_type": "markdown",
   "metadata": {},
   "source": [
    "The API chosen to check the real time value of the Bitcoin was bitpay.com.\n",
    "The function below returns only the required rate"
   ]
  },
  {
   "cell_type": "code",
   "execution_count": 38,
   "metadata": {},
   "outputs": [],
   "source": [
    "def find_real_time_value():\n",
    "    real_time_price = requests.get('https://bitpay.com/api/rates/USD')\n",
    "    x = real_time_price.json()\n",
    "    return x['rate']\n"
   ]
  },
  {
   "cell_type": "markdown",
   "metadata": {},
   "source": [
    "---\n",
    "The following custom made function receives as a parameter a dataset, and returns the middle value of the dataset.\n",
    "This step will help in the Decision-making feature.\n",
    "\n",
    "---"
   ]
  },
  {
   "cell_type": "code",
   "execution_count": 39,
   "metadata": {},
   "outputs": [
    {
     "name": "stdout",
     "output_type": "stream",
     "text": [
      "33783.4140625\n"
     ]
    }
   ],
   "source": [
    "def get_middle_value(data):\n",
    "    high = 0\n",
    "    low = 0\n",
    "    middle_value = 0\n",
    "    \n",
    "    # Finding higher and lowest values in order to get a middle value\n",
    "    for x in data:\n",
    "        if high > x:\n",
    "            high = high\n",
    "        else:\n",
    "            high = x\n",
    "        \n",
    "        if low < x:\n",
    "            low = low\n",
    "        else:\n",
    "            low = x\n",
    "        \n",
    "        middle_value = (high - low)/2 \n",
    "            \n",
    "    return middle_value\n",
    "\n",
    "test = get_middle_value(df['Close'])\n",
    "print(test)"
   ]
  },
  {
   "cell_type": "markdown",
   "metadata": {},
   "source": [
    "---\n",
    "The following two custom made functions, are as follows:\n",
    "* **get_highest**: Receives a dataset, returns the highest value of it\n",
    "* **get_lowest**: Receives a dataset, returns the lowest value presented on it\n",
    "\n",
    "---"
   ]
  },
  {
   "cell_type": "code",
   "execution_count": 40,
   "metadata": {},
   "outputs": [],
   "source": [
    "def get_highest(data):\n",
    "    highest = 0\n",
    "    for x in data:\n",
    "        if highest > x:\n",
    "            highest = highest\n",
    "        else:\n",
    "            highest = x\n",
    "            \n",
    "    return highest"
   ]
  },
  {
   "cell_type": "code",
   "execution_count": 41,
   "metadata": {},
   "outputs": [],
   "source": [
    "def get_lowest(data):\n",
    "    lowest = 0\n",
    "    for x in data:\n",
    "        if lowest < x:\n",
    "            lowest = lowest\n",
    "        else:\n",
    "            lowest = x\n",
    "            \n",
    "    return lowest"
   ]
  },
  {
   "cell_type": "markdown",
   "metadata": {},
   "source": [
    "---\n",
    "The **model_training** function receives **two parameters**:\n",
    "* dataset\n",
    "* days to predict\n",
    "\n",
    "Although the function will proceed with the model fitting and prediction, it is still need the datapreparation to be done before the dataset be sent as parameter.\n",
    "\n",
    "The first 'setInterval' is used, making the model_training function runs every 24 hours.\n",
    "\n",
    "---"
   ]
  },
  {
   "cell_type": "code",
   "execution_count": 42,
   "metadata": {},
   "outputs": [],
   "source": [
    "# Train the Model\n",
    "# Function to train a general model every 24h\n",
    "\n",
    "def model_training(dataset, days_to_predict):\n",
    "    run = True\n",
    "    HORIZON = days_to_predict\n",
    "\n",
    "    model = ExponentialSmoothing(endog = dataset['Close'])\n",
    "    results = model.fit()\n",
    "\n",
    "    preds = results.get_forecast(steps=HORIZON)\n",
    "\n",
    "    preds.summary_frame(alpha=0.2).head()\n",
    "    \n",
    "    def call_train():\n",
    "        model_training(dataset, days_to_predict)\n",
    "        \n",
    "    if run:\n",
    "        Timer(86400, call_train).start()\n",
    "    \n",
    "    return preds"
   ]
  },
  {
   "cell_type": "markdown",
   "metadata": {},
   "source": [
    "---\n",
    "The cherry on the top of the cake:\n",
    "\n",
    "**statistical_decision() function.**\n",
    "\n",
    "The function receives the following parameters:\n",
    "* The fitted Model\n",
    "* The dataset\n",
    "\n",
    "The function works as follows:\n",
    "\n",
    "*First Phase*\n",
    "\n",
    "1. The function calls the get_highest and the get_lowest functions\n",
    "2. Sets a top_bounder and bottom_bounder with a zero initial value\n",
    "3. Sets run = True (run will enables the Timer runs and the automation works)\n",
    "\n",
    "*Second Phase*\n",
    "\n",
    "1. Gets the real time of the Bitcoin, calling the find_real_time_value()\n",
    "2. Gets the middle value, calling the get_middle_value function\n",
    "3. Re-assign the top_bounder and the bottom_bounder to 2/3 of the highest and the lowest values, respectively.\n",
    "\n",
    "*Third Phase*\n",
    "\n",
    "- The Decision-making logic\n",
    "\n",
    "The decision-making logic is based on the business case of the project.\n",
    "The variable 'v' receives the step ahead predicted value, and confronts it with the top and bottom bounders previously defined, returning a statistical decision according to where the predicted value is in relation to the defined top and bottom bounders.\n",
    "\n",
    "The timer runs every minute as the API updates the bitcoin real time value each 60s.\n",
    "\n",
    "\n",
    "---"
   ]
  },
  {
   "cell_type": "code",
   "execution_count": 51,
   "metadata": {},
   "outputs": [],
   "source": [
    "def statistical_decision(model, data):\n",
    "    # Defining boundaries\n",
    "    high = get_highest(data)\n",
    "    low = get_lowest(data)\n",
    "    \n",
    "    top_bounder = 0\n",
    "    bottom_bounder = 0\n",
    "    \n",
    "    run = True\n",
    "    \n",
    "    # Checking real time of the bitcoin in USD\n",
    "    x = find_real_time_value()\n",
    "    \n",
    "    # Get Middle value\n",
    "    m = get_middle_value(data)\n",
    "    one_third_high = (high - m)/3\n",
    "    one_third_bottom = (low - m)/3\n",
    "    top_bounder = m + one_third_high * 2\n",
    "    bottom_bounder = m + one_third_bottom * 2 \n",
    "    \n",
    "    # Decision logic\n",
    "    v = model.forecast(steps=1)\n",
    "    \n",
    "    to_return_1 = 'Real time value is:'\n",
    "    to_return_2 = 'Predicted value for tomorrow is:'\n",
    "    \n",
    "    if v.item() > top_bounder:\n",
    "        print('Sell!', to_return_1, x, to_return_2, v.item())\n",
    "    \n",
    "    elif v.item() < bottom_bounder:\n",
    "        print('Sell!', to_return_1, x, to_return_2, v.item())\n",
    "    \n",
    "    elif v.item() > bottom_bounder:\n",
    "        print('Buy!', to_return_1, x, to_return_2, v.item())\n",
    "    \n",
    "    elif v.item() < top_bounder:\n",
    "        print('Buy!', to_return_1, x, to_return_2, v.item())\n",
    "        \n",
    "    def call():\n",
    "        statistical_decision(model, data)\n",
    "        \n",
    "    if run:\n",
    "        Timer(60, call).start()\n",
    "        \n",
    "    "
   ]
  },
  {
   "cell_type": "markdown",
   "metadata": {},
   "source": [
    "---\n",
    "\n",
    "Calling the statistical_decision() function and passing as parameter:\n",
    "- The model = results\n",
    "- The dataset = df['Close']"
   ]
  },
  {
   "cell_type": "code",
   "execution_count": 52,
   "metadata": {},
   "outputs": [
    {
     "name": "stdout",
     "output_type": "stream",
     "text": [
      "Buy! Real time value is: 35867.68 Predicted value for tomorrow is: 35920.95430873551\n"
     ]
    }
   ],
   "source": [
    "statistical_decision(results, df['Close'])"
   ]
  },
  {
   "cell_type": "code",
   "execution_count": null,
   "metadata": {},
   "outputs": [],
   "source": []
  },
  {
   "cell_type": "code",
   "execution_count": null,
   "metadata": {},
   "outputs": [],
   "source": []
  }
 ],
 "metadata": {
  "colab": {
   "collapsed_sections": [
    "6Hy9OrJkdF_n",
    "PGzPFzSlcfMW"
   ],
   "name": "Exponential_Statistical_Model_To_Use.ipynb",
   "provenance": []
  },
  "kernelspec": {
   "display_name": "Python 3",
   "language": "python",
   "name": "python3"
  },
  "language_info": {
   "codemirror_mode": {
    "name": "ipython",
    "version": 3
   },
   "file_extension": ".py",
   "mimetype": "text/x-python",
   "name": "python",
   "nbconvert_exporter": "python",
   "pygments_lexer": "ipython3",
   "version": "3.8.5"
  }
 },
 "nbformat": 4,
 "nbformat_minor": 1
}
