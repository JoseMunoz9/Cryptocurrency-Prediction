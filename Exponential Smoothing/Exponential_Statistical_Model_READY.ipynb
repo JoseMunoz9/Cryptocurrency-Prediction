{
 "cells": [
  {
   "cell_type": "markdown",
   "metadata": {
    "id": "PGzPFzSlcfMW"
   },
   "source": [
    "---\n",
    "# **Exponential Smoothing Model Applied to Bitcoin**\n",
    "\n",
    "---\n"
   ]
  },
  {
   "cell_type": "code",
   "execution_count": 1,
   "metadata": {},
   "outputs": [
    {
     "name": "stdout",
     "output_type": "stream",
     "text": [
      "Requirement already satisfied: pandas in /opt/anaconda3/lib/python3.8/site-packages (1.4.2)\n",
      "Requirement already satisfied: pip in /opt/anaconda3/lib/python3.8/site-packages (22.0.4)\n",
      "Requirement already satisfied: install in /opt/anaconda3/lib/python3.8/site-packages (1.3.5)\n",
      "Requirement already satisfied: pandas-datareader in /opt/anaconda3/lib/python3.8/site-packages (0.10.0)\n",
      "Requirement already satisfied: pytz>=2020.1 in /opt/anaconda3/lib/python3.8/site-packages (from pandas) (2020.1)\n",
      "Requirement already satisfied: python-dateutil>=2.8.1 in /opt/anaconda3/lib/python3.8/site-packages (from pandas) (2.8.1)\n",
      "Requirement already satisfied: numpy>=1.18.5 in /opt/anaconda3/lib/python3.8/site-packages (from pandas) (1.19.5)\n",
      "Requirement already satisfied: lxml in /opt/anaconda3/lib/python3.8/site-packages (from pandas-datareader) (4.6.1)\n",
      "Requirement already satisfied: requests>=2.19.0 in /opt/anaconda3/lib/python3.8/site-packages (from pandas-datareader) (2.24.0)\n",
      "Requirement already satisfied: six>=1.5 in /opt/anaconda3/lib/python3.8/site-packages (from python-dateutil>=2.8.1->pandas) (1.15.0)\n",
      "Requirement already satisfied: idna<3,>=2.5 in /opt/anaconda3/lib/python3.8/site-packages (from requests>=2.19.0->pandas-datareader) (2.10)\n",
      "Requirement already satisfied: chardet<4,>=3.0.2 in /opt/anaconda3/lib/python3.8/site-packages (from requests>=2.19.0->pandas-datareader) (3.0.4)\n",
      "Requirement already satisfied: certifi>=2017.4.17 in /opt/anaconda3/lib/python3.8/site-packages (from requests>=2.19.0->pandas-datareader) (2020.6.20)\n",
      "Requirement already satisfied: urllib3!=1.25.0,!=1.25.1,<1.26,>=1.21.1 in /opt/anaconda3/lib/python3.8/site-packages (from requests>=2.19.0->pandas-datareader) (1.25.11)\n",
      "Note: you may need to restart the kernel to use updated packages.\n"
     ]
    }
   ],
   "source": [
    "#pip install --upgrade pandas pip install --upgrade pandas-datareader"
   ]
  },
  {
   "cell_type": "code",
   "execution_count": 2,
   "metadata": {},
   "outputs": [
    {
     "name": "stdout",
     "output_type": "stream",
     "text": [
      "Requirement already satisfied: pandas-datareader in /opt/anaconda3/lib/python3.8/site-packages (0.10.0)\n",
      "Requirement already satisfied: pandas>=0.23 in /opt/anaconda3/lib/python3.8/site-packages (from pandas-datareader) (1.4.2)\n",
      "Requirement already satisfied: requests>=2.19.0 in /opt/anaconda3/lib/python3.8/site-packages (from pandas-datareader) (2.24.0)\n",
      "Requirement already satisfied: lxml in /opt/anaconda3/lib/python3.8/site-packages (from pandas-datareader) (4.6.1)\n",
      "Requirement already satisfied: python-dateutil>=2.8.1 in /opt/anaconda3/lib/python3.8/site-packages (from pandas>=0.23->pandas-datareader) (2.8.1)\n",
      "Requirement already satisfied: numpy>=1.18.5 in /opt/anaconda3/lib/python3.8/site-packages (from pandas>=0.23->pandas-datareader) (1.19.5)\n",
      "Requirement already satisfied: pytz>=2020.1 in /opt/anaconda3/lib/python3.8/site-packages (from pandas>=0.23->pandas-datareader) (2020.1)\n",
      "Requirement already satisfied: certifi>=2017.4.17 in /opt/anaconda3/lib/python3.8/site-packages (from requests>=2.19.0->pandas-datareader) (2020.6.20)\n",
      "Requirement already satisfied: chardet<4,>=3.0.2 in /opt/anaconda3/lib/python3.8/site-packages (from requests>=2.19.0->pandas-datareader) (3.0.4)\n",
      "Requirement already satisfied: urllib3!=1.25.0,!=1.25.1,<1.26,>=1.21.1 in /opt/anaconda3/lib/python3.8/site-packages (from requests>=2.19.0->pandas-datareader) (1.25.11)\n",
      "Requirement already satisfied: idna<3,>=2.5 in /opt/anaconda3/lib/python3.8/site-packages (from requests>=2.19.0->pandas-datareader) (2.10)\n",
      "Requirement already satisfied: six>=1.5 in /opt/anaconda3/lib/python3.8/site-packages (from python-dateutil>=2.8.1->pandas>=0.23->pandas-datareader) (1.15.0)\n",
      "Note: you may need to restart the kernel to use updated packages.\n"
     ]
    }
   ],
   "source": [
    "#pip install pandas-datareader"
   ]
  },
  {
   "cell_type": "code",
   "execution_count": 4,
   "metadata": {},
   "outputs": [],
   "source": [
    "import pandas_datareader as pdr\n",
    "import pandas as pd\n",
    "from datetime import datetime"
   ]
  },
  {
   "cell_type": "code",
   "execution_count": 5,
   "metadata": {},
   "outputs": [],
   "source": [
    "import pandas as pd"
   ]
  },
  {
   "cell_type": "code",
   "execution_count": 6,
   "metadata": {
    "colab": {
     "base_uri": "https://localhost:8080/",
     "height": 304
    },
    "id": "iW2uz0TRRU5B",
    "outputId": "8bcffb06-cf08-4701-aa05-8d90b1d70090"
   },
   "outputs": [],
   "source": [
    "from statsmodels.tsa.statespace.exponential_smoothing import ExponentialSmoothing"
   ]
  },
  {
   "cell_type": "code",
   "execution_count": 7,
   "metadata": {
    "colab": {
     "base_uri": "https://localhost:8080/",
     "height": 182
    },
    "id": "7azKIPrBW2cW",
    "outputId": "0356940c-0543-45ae-c8e4-98ca49f5b717"
   },
   "outputs": [],
   "source": [
    "#df = pd.read_csv(\"BTC-USD.csv\")\n",
    "#df.head()\n",
    "\n",
    "# Data2 Getting Yahoo Finance from pdr = data from 2020 afterwards\n",
    "df = pdr.get_data_yahoo('BTC-USD')"
   ]
  },
  {
   "cell_type": "code",
   "execution_count": 8,
   "metadata": {
    "id": "FPW1pgkTXC90"
   },
   "outputs": [],
   "source": [
    "df.drop(['High', 'Low', 'Open', 'Volume', 'Adj Close'], axis=1, inplace=True)"
   ]
  },
  {
   "cell_type": "code",
   "execution_count": 9,
   "metadata": {},
   "outputs": [],
   "source": [
    "# For Data2 - Transforming the index in a Date columns\n",
    "df=df.reset_index()"
   ]
  },
  {
   "cell_type": "code",
   "execution_count": 10,
   "metadata": {
    "id": "uz-RYCd8XG6Y"
   },
   "outputs": [
    {
     "data": {
      "text/html": [
       "<div>\n",
       "<style scoped>\n",
       "    .dataframe tbody tr th:only-of-type {\n",
       "        vertical-align: middle;\n",
       "    }\n",
       "\n",
       "    .dataframe tbody tr th {\n",
       "        vertical-align: top;\n",
       "    }\n",
       "\n",
       "    .dataframe thead th {\n",
       "        text-align: right;\n",
       "    }\n",
       "</style>\n",
       "<table border=\"1\" class=\"dataframe\">\n",
       "  <thead>\n",
       "    <tr style=\"text-align: right;\">\n",
       "      <th></th>\n",
       "      <th>Date</th>\n",
       "      <th>Close</th>\n",
       "    </tr>\n",
       "  </thead>\n",
       "  <tbody>\n",
       "    <tr>\n",
       "      <th>1821</th>\n",
       "      <td>2022-05-02</td>\n",
       "      <td>38529.328125</td>\n",
       "    </tr>\n",
       "    <tr>\n",
       "      <th>1822</th>\n",
       "      <td>2022-05-03</td>\n",
       "      <td>37750.453125</td>\n",
       "    </tr>\n",
       "    <tr>\n",
       "      <th>1823</th>\n",
       "      <td>2022-05-04</td>\n",
       "      <td>39698.371094</td>\n",
       "    </tr>\n",
       "    <tr>\n",
       "      <th>1824</th>\n",
       "      <td>2022-05-05</td>\n",
       "      <td>36575.140625</td>\n",
       "    </tr>\n",
       "    <tr>\n",
       "      <th>1825</th>\n",
       "      <td>2022-05-06</td>\n",
       "      <td>35899.015625</td>\n",
       "    </tr>\n",
       "  </tbody>\n",
       "</table>\n",
       "</div>"
      ],
      "text/plain": [
       "           Date         Close\n",
       "1821 2022-05-02  38529.328125\n",
       "1822 2022-05-03  37750.453125\n",
       "1823 2022-05-04  39698.371094\n",
       "1824 2022-05-05  36575.140625\n",
       "1825 2022-05-06  35899.015625"
      ]
     },
     "execution_count": 10,
     "metadata": {},
     "output_type": "execute_result"
    }
   ],
   "source": [
    "df[\"Date\"] = pd.to_datetime(df[\"Date\"])\n",
    "df.tail()"
   ]
  },
  {
   "cell_type": "code",
   "execution_count": 11,
   "metadata": {
    "id": "lIdGNSq9RUy_"
   },
   "outputs": [
    {
     "data": {
      "text/html": [
       "<div>\n",
       "<style scoped>\n",
       "    .dataframe tbody tr th:only-of-type {\n",
       "        vertical-align: middle;\n",
       "    }\n",
       "\n",
       "    .dataframe tbody tr th {\n",
       "        vertical-align: top;\n",
       "    }\n",
       "\n",
       "    .dataframe thead th {\n",
       "        text-align: right;\n",
       "    }\n",
       "</style>\n",
       "<table border=\"1\" class=\"dataframe\">\n",
       "  <thead>\n",
       "    <tr style=\"text-align: right;\">\n",
       "      <th>Close</th>\n",
       "      <th>mean</th>\n",
       "      <th>mean_se</th>\n",
       "      <th>mean_ci_lower</th>\n",
       "      <th>mean_ci_upper</th>\n",
       "    </tr>\n",
       "  </thead>\n",
       "  <tbody>\n",
       "    <tr>\n",
       "      <th>1826</th>\n",
       "      <td>35920.954309</td>\n",
       "      <td>983.342759</td>\n",
       "      <td>34660.749857</td>\n",
       "      <td>37181.158761</td>\n",
       "    </tr>\n",
       "    <tr>\n",
       "      <th>1827</th>\n",
       "      <td>35920.954309</td>\n",
       "      <td>1370.840491</td>\n",
       "      <td>34164.151531</td>\n",
       "      <td>37677.757086</td>\n",
       "    </tr>\n",
       "    <tr>\n",
       "      <th>1828</th>\n",
       "      <td>35920.954309</td>\n",
       "      <td>1670.761600</td>\n",
       "      <td>33779.787165</td>\n",
       "      <td>38062.121453</td>\n",
       "    </tr>\n",
       "    <tr>\n",
       "      <th>1829</th>\n",
       "      <td>35920.954309</td>\n",
       "      <td>1924.496036</td>\n",
       "      <td>33454.613400</td>\n",
       "      <td>38387.295217</td>\n",
       "    </tr>\n",
       "    <tr>\n",
       "      <th>1830</th>\n",
       "      <td>35920.954309</td>\n",
       "      <td>2148.470541</td>\n",
       "      <td>33167.578524</td>\n",
       "      <td>38674.330094</td>\n",
       "    </tr>\n",
       "  </tbody>\n",
       "</table>\n",
       "</div>"
      ],
      "text/plain": [
       "Close          mean      mean_se  mean_ci_lower  mean_ci_upper\n",
       "1826   35920.954309   983.342759   34660.749857   37181.158761\n",
       "1827   35920.954309  1370.840491   34164.151531   37677.757086\n",
       "1828   35920.954309  1670.761600   33779.787165   38062.121453\n",
       "1829   35920.954309  1924.496036   33454.613400   38387.295217\n",
       "1830   35920.954309  2148.470541   33167.578524   38674.330094"
      ]
     },
     "execution_count": 11,
     "metadata": {},
     "output_type": "execute_result"
    }
   ],
   "source": [
    "HORIZON = 10\n",
    "\n",
    "model = ExponentialSmoothing(endog = df['Close'])\n",
    "results = model.fit()\n",
    "\n",
    "preds = results.get_forecast(steps=HORIZON)\n",
    "\n",
    "preds.summary_frame(alpha=0.2).head()"
   ]
  },
  {
   "cell_type": "code",
   "execution_count": 12,
   "metadata": {},
   "outputs": [
    {
     "name": "stdout",
     "output_type": "stream",
     "text": [
      "1826    35920.954309\n",
      "dtype: float64\n"
     ]
    }
   ],
   "source": [
    "print(results.forecast(steps=1))"
   ]
  },
  {
   "cell_type": "code",
   "execution_count": 13,
   "metadata": {},
   "outputs": [
    {
     "name": "stdout",
     "output_type": "stream",
     "text": [
      "1826    35920.954309\n",
      "dtype: float64\n",
      "No\n"
     ]
    }
   ],
   "source": [
    "x = results.forecast(steps=1)\n",
    "print(x)\n",
    "if x.item() > 36996.509921:\n",
    "    print('yes')\n",
    "else:\n",
    "    print('No')"
   ]
  },
  {
   "cell_type": "code",
   "execution_count": 14,
   "metadata": {
    "id": "VsyEIc6vSrUH"
   },
   "outputs": [
    {
     "data": {
      "text/plain": [
       "<matplotlib.legend.Legend at 0x7fe6000d92b0>"
      ]
     },
     "execution_count": 14,
     "metadata": {},
     "output_type": "execute_result"
    },
    {
     "data": {
      "image/png": "[encoded data removed]",
      "text/plain": [
       "<Figure size 864x288 with 1 Axes>"
      ]
     },
     "metadata": {
      "needs_background": "light"
     },
     "output_type": "display_data"
    }
   ],
   "source": [
    "ax = df['Close'].iloc[-25:].plot(figsize=(12,4))\n",
    "forecast_80 = preds.summary_frame(alpha=0.2)[['mean', 'mean_ci_lower', 'mean_ci_upper']]\n",
    "forecast_90 = preds.summary_frame(alpha=0.1)[['mean', 'mean_ci_lower', 'mean_ci_upper']]\n",
    "\n",
    "ax.fill_between(forecast_90.index, forecast_90['mean_ci_lower'], forecast_90['mean_ci_upper'], alpha=0.5, label='90% PI')\n",
    "ax.fill_between(forecast_80.index, forecast_90['mean_ci_lower'], forecast_80['mean_ci_upper'], alpha=0.5, label='80% PI')\n",
    "\n",
    "forecast_80['mean'].iloc[-25:].plot(ax=ax, label='forecast', color='red')\n",
    "\n",
    "results.fittedvalues.iloc[-25:].plot(ax=ax, label='fitted', color='green', linestyle='--')\n",
    "\n",
    "ax.legend(loc=3)"
   ]
  },
  {
   "cell_type": "markdown",
   "metadata": {
    "id": "Udw1A4S8WJiN"
   },
   "source": [
    "Statistical model"
   ]
  },
  {
   "cell_type": "code",
   "execution_count": 15,
   "metadata": {
    "id": "NSHOR-96R_Df"
   },
   "outputs": [
    {
     "data": {
      "text/html": [
       "<table class=\"simpletable\">\n",
       "<caption>Exponential Smoothing Results</caption>\n",
       "<tr>\n",
       "  <th>Dep. Variable:</th>         <td>Close</td>      <th>  No. Observations:  </th>    <td>1826</td>   \n",
       "</tr>\n",
       "<tr>\n",
       "  <th>Model:</th>             <td>ETS(A, N, N)</td>   <th>  Log Likelihood     </th> <td>-15173.871</td>\n",
       "</tr>\n",
       "<tr>\n",
       "  <th>Date:</th>            <td>Fri, 06 May 2022</td> <th>  AIC                </th>  <td>30353.741</td>\n",
       "</tr>\n",
       "<tr>\n",
       "  <th>Time:</th>                <td>21:23:13</td>     <th>  BIC                </th>  <td>30370.271</td>\n",
       "</tr>\n",
       "<tr>\n",
       "  <th>Sample:</th>                  <td>0</td>        <th>  HQIC               </th>  <td>30359.839</td>\n",
       "</tr>\n",
       "<tr>\n",
       "  <th></th>                      <td> - 1826</td>     <th>  Scale              </th> <td>966962.981</td>\n",
       "</tr>\n",
       "<tr>\n",
       "  <th>Covariance Type:</th>        <td>opg</td>       <th>                     </th>      <td> </td>    \n",
       "</tr>\n",
       "</table>\n",
       "<table class=\"simpletable\">\n",
       "<tr>\n",
       "         <td></td>            <th>coef</th>     <th>std err</th>      <th>z</th>      <th>P>|z|</th>  <th>[0.025</th>    <th>0.975]</th>  \n",
       "</tr>\n",
       "<tr>\n",
       "  <th>smoothing_level</th> <td>    0.9713</td> <td>    0.015</td> <td>   66.020</td> <td> 0.000</td> <td>    0.942</td> <td>    1.000</td>\n",
       "</tr>\n",
       "<tr>\n",
       "  <th>initial_level</th>   <td> 1596.7100</td> <td> 2.65e+05</td> <td>    0.006</td> <td> 0.995</td> <td>-5.18e+05</td> <td> 5.21e+05</td>\n",
       "</tr>\n",
       "</table>\n",
       "<table class=\"simpletable\">\n",
       "<tr>\n",
       "  <th>Ljung-Box (L1) (Q):</th>     <td>0.00</td>  <th>  Jarque-Bera (JB):  </th> <td>8620.91</td>\n",
       "</tr>\n",
       "<tr>\n",
       "  <th>Prob(Q):</th>                <td>1.00</td>  <th>  Prob(JB):          </th>  <td>0.00</td>  \n",
       "</tr>\n",
       "<tr>\n",
       "  <th>Heteroskedasticity (H):</th> <td>13.94</td> <th>  Skew:              </th>  <td>-0.15</td> \n",
       "</tr>\n",
       "<tr>\n",
       "  <th>Prob(H) (two-sided):</th>    <td>0.00</td>  <th>  Kurtosis:          </th>  <td>13.64</td> \n",
       "</tr>\n",
       "</table><br/><br/>Warnings:<br/>[1] Covariance matrix calculated using the outer product of gradients (complex-step)."
      ],
      "text/plain": [
       "<class 'statsmodels.iolib.summary.Summary'>\n",
       "\"\"\"\n",
       "                        Exponential Smoothing Results                         \n",
       "==============================================================================\n",
       "Dep. Variable:                  Close   No. Observations:                 1826\n",
       "Model:                   ETS(A, N, N)   Log Likelihood              -15173.871\n",
       "Date:                Fri, 06 May 2022   AIC                          30353.741\n",
       "Time:                        21:23:13   BIC                          30370.271\n",
       "Sample:                             0   HQIC                         30359.839\n",
       "                               - 1826   Scale                       966962.981\n",
       "Covariance Type:                  opg                                         \n",
       "===================================================================================\n",
       "                      coef    std err          z      P>|z|      [0.025      0.975]\n",
       "-----------------------------------------------------------------------------------\n",
       "smoothing_level     0.9713      0.015     66.020      0.000       0.942       1.000\n",
       "initial_level    1596.7100   2.65e+05      0.006      0.995   -5.18e+05    5.21e+05\n",
       "===================================================================================\n",
       "Ljung-Box (L1) (Q):                   0.00   Jarque-Bera (JB):              8620.91\n",
       "Prob(Q):                              1.00   Prob(JB):                         0.00\n",
       "Heteroskedasticity (H):              13.94   Skew:                            -0.15\n",
       "Prob(H) (two-sided):                  0.00   Kurtosis:                        13.64\n",
       "===================================================================================\n",
       "\n",
       "Warnings:\n",
       "[1] Covariance matrix calculated using the outer product of gradients (complex-step).\n",
       "\"\"\""
      ]
     },
     "execution_count": 15,
     "metadata": {},
     "output_type": "execute_result"
    }
   ],
   "source": [
    "results.summary()"
   ]
  },
  {
   "cell_type": "code",
   "execution_count": 16,
   "metadata": {
    "id": "Z5k40LqEZBis"
   },
   "outputs": [],
   "source": [
    "from statsmodels.graphics.tsaplots import plot_pacf\n",
    "from statsmodels.graphics.tsaplots import plot_acf\n",
    "from statsmodels.tsa.statespace.sarimax import SARIMAX\n",
    "from statsmodels.tsa.holtwinters import ExponentialSmoothing\n",
    "from statsmodels.tsa.stattools import adfuller\n",
    "import matplotlib.pyplot as plt\n",
    "from tqdm import tqdm_notebook\n",
    "import numpy as np\n",
    "import pandas as pd\n",
    "\n",
    "from itertools import product\n",
    "from sklearn.metrics import mean_squared_error, r2_score, mean_absolute_error\n",
    "from sklearn.metrics import median_absolute_error, mean_squared_log_error\n",
    "\n",
    "import warnings\n",
    "warnings.filterwarnings('ignore')\n",
    "\n",
    "%matplotlib inline"
   ]
  },
  {
   "cell_type": "markdown",
   "metadata": {},
   "source": [
    "### Model residuals"
   ]
  },
  {
   "cell_type": "code",
   "execution_count": 17,
   "metadata": {
    "id": "voFyLzj4X2Pi"
   },
   "outputs": [
    {
     "data": {
      "image/png": "[encoded data removed]",
      "text/plain": [
       "<Figure size 1080x864 with 4 Axes>"
      ]
     },
     "metadata": {
      "needs_background": "light"
     },
     "output_type": "display_data"
    }
   ],
   "source": [
    "# Diagnosing the model residuals\n",
    "results.plot_diagnostics(figsize = (15, 12))\n",
    "plt.show()"
   ]
  },
  {
   "cell_type": "code",
   "execution_count": 18,
   "metadata": {
    "id": "D_As9O5lbOWB"
   },
   "outputs": [
    {
     "data": {
      "text/plain": [
       "((1552, 2), (274, 2))"
      ]
     },
     "execution_count": 18,
     "metadata": {},
     "output_type": "execute_result"
    }
   ],
   "source": [
    "# Divide into train and validation set to calculate R-squared score\n",
    "train = df[:int(0.85 * (len(df)))]\n",
    "test  = df[int(0.85 * (len(df))):]\n",
    "\n",
    "train.shape, test.shape"
   ]
  },
  {
   "cell_type": "code",
   "execution_count": 19,
   "metadata": {
    "id": "zT3GxFVobOHP"
   },
   "outputs": [
    {
     "name": "stdout",
     "output_type": "stream",
     "text": [
      "1552    40836.054049\n",
      "1553    42759.645267\n",
      "1554    44504.236667\n",
      "1555    43818.388498\n",
      "1556    46292.282554\n",
      "            ...     \n",
      "1821    38448.206335\n",
      "1822    38526.999277\n",
      "1823    37772.746247\n",
      "1824    39643.090168\n",
      "1825    36663.215460\n",
      "Name: Simple Exponential Smoothing Predictions, Length: 274, dtype: float64\n"
     ]
    }
   ],
   "source": [
    "start = len(train)\n",
    "end   = len(train) + len(test) - 1\n",
    "predictions = results.predict(start = start, end = end, dynamic = False, typ = 'levels').rename('Simple Exponential Smoothing Predictions')\n",
    "print(predictions)"
   ]
  },
  {
   "cell_type": "code",
   "execution_count": 20,
   "metadata": {
    "id": "ga-paoKzZj-6"
   },
   "outputs": [
    {
     "data": {
      "text/html": [
       "<div>\n",
       "<style scoped>\n",
       "    .dataframe tbody tr th:only-of-type {\n",
       "        vertical-align: middle;\n",
       "    }\n",
       "\n",
       "    .dataframe tbody tr th {\n",
       "        vertical-align: top;\n",
       "    }\n",
       "\n",
       "    .dataframe thead th {\n",
       "        text-align: right;\n",
       "    }\n",
       "</style>\n",
       "<table border=\"1\" class=\"dataframe\">\n",
       "  <thead>\n",
       "    <tr style=\"text-align: right;\">\n",
       "      <th></th>\n",
       "      <th>r2_score</th>\n",
       "    </tr>\n",
       "  </thead>\n",
       "  <tbody>\n",
       "    <tr>\n",
       "      <th>0</th>\n",
       "      <td>0.958022</td>\n",
       "    </tr>\n",
       "  </tbody>\n",
       "</table>\n",
       "</div>"
      ],
      "text/plain": [
       "   r2_score\n",
       "0  0.958022"
      ]
     },
     "execution_count": 20,
     "metadata": {},
     "output_type": "execute_result"
    }
   ],
   "source": [
    "# Create a dataframe to store r2 score\n",
    "evaluation_results = pd.DataFrame({'r2_score': r2_score(test['Close'], predictions)}, index = [0])\n",
    "\n",
    "# Display the results\n",
    "evaluation_results"
   ]
  },
  {
   "cell_type": "code",
   "execution_count": null,
   "metadata": {},
   "outputs": [],
   "source": []
  },
  {
   "cell_type": "code",
   "execution_count": null,
   "metadata": {},
   "outputs": [],
   "source": []
  },
  {
   "cell_type": "markdown",
   "metadata": {},
   "source": [
    "# Exponential Smoothing Model applied to ETHERIUM"
   ]
  },
  {
   "cell_type": "code",
   "execution_count": 21,
   "metadata": {},
   "outputs": [],
   "source": [
    "df_eth = pdr.get_data_yahoo('ETH-USD')"
   ]
  },
  {
   "cell_type": "code",
   "execution_count": 22,
   "metadata": {},
   "outputs": [],
   "source": [
    "df_eth.drop(['High', 'Low', 'Open', 'Volume', 'Adj Close'], axis=1, inplace=True)"
   ]
  },
  {
   "cell_type": "code",
   "execution_count": 23,
   "metadata": {},
   "outputs": [],
   "source": [
    "df_eth=df_eth.reset_index()"
   ]
  },
  {
   "cell_type": "code",
   "execution_count": 24,
   "metadata": {},
   "outputs": [
    {
     "data": {
      "text/html": [
       "<div>\n",
       "<style scoped>\n",
       "    .dataframe tbody tr th:only-of-type {\n",
       "        vertical-align: middle;\n",
       "    }\n",
       "\n",
       "    .dataframe tbody tr th {\n",
       "        vertical-align: top;\n",
       "    }\n",
       "\n",
       "    .dataframe thead th {\n",
       "        text-align: right;\n",
       "    }\n",
       "</style>\n",
       "<table border=\"1\" class=\"dataframe\">\n",
       "  <thead>\n",
       "    <tr style=\"text-align: right;\">\n",
       "      <th></th>\n",
       "      <th>Date</th>\n",
       "      <th>Close</th>\n",
       "    </tr>\n",
       "  </thead>\n",
       "  <tbody>\n",
       "    <tr>\n",
       "      <th>1821</th>\n",
       "      <td>2022-05-02</td>\n",
       "      <td>38529.328125</td>\n",
       "    </tr>\n",
       "    <tr>\n",
       "      <th>1822</th>\n",
       "      <td>2022-05-03</td>\n",
       "      <td>37750.453125</td>\n",
       "    </tr>\n",
       "    <tr>\n",
       "      <th>1823</th>\n",
       "      <td>2022-05-04</td>\n",
       "      <td>39698.371094</td>\n",
       "    </tr>\n",
       "    <tr>\n",
       "      <th>1824</th>\n",
       "      <td>2022-05-05</td>\n",
       "      <td>36575.140625</td>\n",
       "    </tr>\n",
       "    <tr>\n",
       "      <th>1825</th>\n",
       "      <td>2022-05-06</td>\n",
       "      <td>35899.015625</td>\n",
       "    </tr>\n",
       "  </tbody>\n",
       "</table>\n",
       "</div>"
      ],
      "text/plain": [
       "           Date         Close\n",
       "1821 2022-05-02  38529.328125\n",
       "1822 2022-05-03  37750.453125\n",
       "1823 2022-05-04  39698.371094\n",
       "1824 2022-05-05  36575.140625\n",
       "1825 2022-05-06  35899.015625"
      ]
     },
     "execution_count": 24,
     "metadata": {},
     "output_type": "execute_result"
    }
   ],
   "source": [
    "df_eth[\"Date\"] = pd.to_datetime(df_eth[\"Date\"])\n",
    "df.tail()"
   ]
  },
  {
   "cell_type": "code",
   "execution_count": 25,
   "metadata": {},
   "outputs": [
    {
     "data": {
      "text/html": [
       "<div>\n",
       "<style scoped>\n",
       "    .dataframe tbody tr th:only-of-type {\n",
       "        vertical-align: middle;\n",
       "    }\n",
       "\n",
       "    .dataframe tbody tr th {\n",
       "        vertical-align: top;\n",
       "    }\n",
       "\n",
       "    .dataframe thead th {\n",
       "        text-align: right;\n",
       "    }\n",
       "</style>\n",
       "<table border=\"1\" class=\"dataframe\">\n",
       "  <thead>\n",
       "    <tr style=\"text-align: right;\">\n",
       "      <th></th>\n",
       "      <th>Date</th>\n",
       "      <th>Close</th>\n",
       "    </tr>\n",
       "  </thead>\n",
       "  <tbody>\n",
       "    <tr>\n",
       "      <th>0</th>\n",
       "      <td>2017-11-09</td>\n",
       "      <td>320.884003</td>\n",
       "    </tr>\n",
       "    <tr>\n",
       "      <th>1</th>\n",
       "      <td>2017-11-10</td>\n",
       "      <td>299.252991</td>\n",
       "    </tr>\n",
       "    <tr>\n",
       "      <th>2</th>\n",
       "      <td>2017-11-11</td>\n",
       "      <td>314.681000</td>\n",
       "    </tr>\n",
       "    <tr>\n",
       "      <th>3</th>\n",
       "      <td>2017-11-12</td>\n",
       "      <td>307.907990</td>\n",
       "    </tr>\n",
       "    <tr>\n",
       "      <th>4</th>\n",
       "      <td>2017-11-13</td>\n",
       "      <td>316.716003</td>\n",
       "    </tr>\n",
       "    <tr>\n",
       "      <th>...</th>\n",
       "      <td>...</td>\n",
       "      <td>...</td>\n",
       "    </tr>\n",
       "    <tr>\n",
       "      <th>1635</th>\n",
       "      <td>2022-05-02</td>\n",
       "      <td>2857.410400</td>\n",
       "    </tr>\n",
       "    <tr>\n",
       "      <th>1636</th>\n",
       "      <td>2022-05-03</td>\n",
       "      <td>2783.476318</td>\n",
       "    </tr>\n",
       "    <tr>\n",
       "      <th>1637</th>\n",
       "      <td>2022-05-04</td>\n",
       "      <td>2940.644775</td>\n",
       "    </tr>\n",
       "    <tr>\n",
       "      <th>1638</th>\n",
       "      <td>2022-05-05</td>\n",
       "      <td>2749.213135</td>\n",
       "    </tr>\n",
       "    <tr>\n",
       "      <th>1639</th>\n",
       "      <td>2022-05-06</td>\n",
       "      <td>2681.733154</td>\n",
       "    </tr>\n",
       "  </tbody>\n",
       "</table>\n",
       "<p>1640 rows × 2 columns</p>\n",
       "</div>"
      ],
      "text/plain": [
       "           Date        Close\n",
       "0    2017-11-09   320.884003\n",
       "1    2017-11-10   299.252991\n",
       "2    2017-11-11   314.681000\n",
       "3    2017-11-12   307.907990\n",
       "4    2017-11-13   316.716003\n",
       "...         ...          ...\n",
       "1635 2022-05-02  2857.410400\n",
       "1636 2022-05-03  2783.476318\n",
       "1637 2022-05-04  2940.644775\n",
       "1638 2022-05-05  2749.213135\n",
       "1639 2022-05-06  2681.733154\n",
       "\n",
       "[1640 rows x 2 columns]"
      ]
     },
     "execution_count": 25,
     "metadata": {},
     "output_type": "execute_result"
    }
   ],
   "source": [
    "df_eth.head(10000)"
   ]
  },
  {
   "cell_type": "code",
   "execution_count": 26,
   "metadata": {},
   "outputs": [],
   "source": [
    "from statsmodels.tsa.statespace.exponential_smoothing import ExponentialSmoothing"
   ]
  },
  {
   "cell_type": "code",
   "execution_count": 27,
   "metadata": {},
   "outputs": [
    {
     "data": {
      "text/html": [
       "<div>\n",
       "<style scoped>\n",
       "    .dataframe tbody tr th:only-of-type {\n",
       "        vertical-align: middle;\n",
       "    }\n",
       "\n",
       "    .dataframe tbody tr th {\n",
       "        vertical-align: top;\n",
       "    }\n",
       "\n",
       "    .dataframe thead th {\n",
       "        text-align: right;\n",
       "    }\n",
       "</style>\n",
       "<table border=\"1\" class=\"dataframe\">\n",
       "  <thead>\n",
       "    <tr style=\"text-align: right;\">\n",
       "      <th>Close</th>\n",
       "      <th>mean</th>\n",
       "      <th>mean_se</th>\n",
       "      <th>mean_ci_lower</th>\n",
       "      <th>mean_ci_upper</th>\n",
       "    </tr>\n",
       "  </thead>\n",
       "  <tbody>\n",
       "    <tr>\n",
       "      <th>1640</th>\n",
       "      <td>2687.256945</td>\n",
       "      <td>79.545118</td>\n",
       "      <td>2585.315774</td>\n",
       "      <td>2789.198115</td>\n",
       "    </tr>\n",
       "    <tr>\n",
       "      <th>1641</th>\n",
       "      <td>2687.256945</td>\n",
       "      <td>108.678360</td>\n",
       "      <td>2547.980023</td>\n",
       "      <td>2826.533866</td>\n",
       "    </tr>\n",
       "    <tr>\n",
       "      <th>1642</th>\n",
       "      <td>2687.256945</td>\n",
       "      <td>131.508729</td>\n",
       "      <td>2518.721727</td>\n",
       "      <td>2855.792162</td>\n",
       "    </tr>\n",
       "    <tr>\n",
       "      <th>1643</th>\n",
       "      <td>2687.256945</td>\n",
       "      <td>150.924172</td>\n",
       "      <td>2493.839835</td>\n",
       "      <td>2880.674054</td>\n",
       "    </tr>\n",
       "    <tr>\n",
       "      <th>1644</th>\n",
       "      <td>2687.256945</td>\n",
       "      <td>168.112063</td>\n",
       "      <td>2471.812667</td>\n",
       "      <td>2902.701222</td>\n",
       "    </tr>\n",
       "  </tbody>\n",
       "</table>\n",
       "</div>"
      ],
      "text/plain": [
       "Close         mean     mean_se  mean_ci_lower  mean_ci_upper\n",
       "1640   2687.256945   79.545118    2585.315774    2789.198115\n",
       "1641   2687.256945  108.678360    2547.980023    2826.533866\n",
       "1642   2687.256945  131.508729    2518.721727    2855.792162\n",
       "1643   2687.256945  150.924172    2493.839835    2880.674054\n",
       "1644   2687.256945  168.112063    2471.812667    2902.701222"
      ]
     },
     "execution_count": 27,
     "metadata": {},
     "output_type": "execute_result"
    }
   ],
   "source": [
    "HORIZON = 10\n",
    "\n",
    "model_eth = ExponentialSmoothing(endog = df_eth['Close'])\n",
    "results_eth = model_eth.fit()\n",
    "\n",
    "preds_eth = results_eth.get_forecast(steps=HORIZON)\n",
    "\n",
    "preds_eth.summary_frame(alpha=0.2).head()"
   ]
  },
  {
   "cell_type": "code",
   "execution_count": 28,
   "metadata": {},
   "outputs": [
    {
     "data": {
      "text/html": [
       "<div>\n",
       "<style scoped>\n",
       "    .dataframe tbody tr th:only-of-type {\n",
       "        vertical-align: middle;\n",
       "    }\n",
       "\n",
       "    .dataframe tbody tr th {\n",
       "        vertical-align: top;\n",
       "    }\n",
       "\n",
       "    .dataframe thead th {\n",
       "        text-align: right;\n",
       "    }\n",
       "</style>\n",
       "<table border=\"1\" class=\"dataframe\">\n",
       "  <thead>\n",
       "    <tr style=\"text-align: right;\">\n",
       "      <th>Close</th>\n",
       "      <th>mean</th>\n",
       "      <th>mean_se</th>\n",
       "      <th>mean_ci_lower</th>\n",
       "      <th>mean_ci_upper</th>\n",
       "    </tr>\n",
       "  </thead>\n",
       "  <tbody>\n",
       "    <tr>\n",
       "      <th>1640</th>\n",
       "      <td>2687.256945</td>\n",
       "      <td>79.545118</td>\n",
       "      <td>2585.315774</td>\n",
       "      <td>2789.198115</td>\n",
       "    </tr>\n",
       "    <tr>\n",
       "      <th>1641</th>\n",
       "      <td>2687.256945</td>\n",
       "      <td>108.678360</td>\n",
       "      <td>2547.980023</td>\n",
       "      <td>2826.533866</td>\n",
       "    </tr>\n",
       "    <tr>\n",
       "      <th>1642</th>\n",
       "      <td>2687.256945</td>\n",
       "      <td>131.508729</td>\n",
       "      <td>2518.721727</td>\n",
       "      <td>2855.792162</td>\n",
       "    </tr>\n",
       "    <tr>\n",
       "      <th>1643</th>\n",
       "      <td>2687.256945</td>\n",
       "      <td>150.924172</td>\n",
       "      <td>2493.839835</td>\n",
       "      <td>2880.674054</td>\n",
       "    </tr>\n",
       "    <tr>\n",
       "      <th>1644</th>\n",
       "      <td>2687.256945</td>\n",
       "      <td>168.112063</td>\n",
       "      <td>2471.812667</td>\n",
       "      <td>2902.701222</td>\n",
       "    </tr>\n",
       "    <tr>\n",
       "      <th>1645</th>\n",
       "      <td>2687.256945</td>\n",
       "      <td>183.698736</td>\n",
       "      <td>2451.837541</td>\n",
       "      <td>2922.676348</td>\n",
       "    </tr>\n",
       "    <tr>\n",
       "      <th>1646</th>\n",
       "      <td>2687.256945</td>\n",
       "      <td>198.062580</td>\n",
       "      <td>2433.429535</td>\n",
       "      <td>2941.084355</td>\n",
       "    </tr>\n",
       "    <tr>\n",
       "      <th>1647</th>\n",
       "      <td>2687.256945</td>\n",
       "      <td>211.452940</td>\n",
       "      <td>2416.269099</td>\n",
       "      <td>2958.244791</td>\n",
       "    </tr>\n",
       "    <tr>\n",
       "      <th>1648</th>\n",
       "      <td>2687.256945</td>\n",
       "      <td>224.044428</td>\n",
       "      <td>2400.132457</td>\n",
       "      <td>2974.381432</td>\n",
       "    </tr>\n",
       "    <tr>\n",
       "      <th>1649</th>\n",
       "      <td>2687.256945</td>\n",
       "      <td>235.964967</td>\n",
       "      <td>2384.855672</td>\n",
       "      <td>2989.658218</td>\n",
       "    </tr>\n",
       "  </tbody>\n",
       "</table>\n",
       "</div>"
      ],
      "text/plain": [
       "Close         mean     mean_se  mean_ci_lower  mean_ci_upper\n",
       "1640   2687.256945   79.545118    2585.315774    2789.198115\n",
       "1641   2687.256945  108.678360    2547.980023    2826.533866\n",
       "1642   2687.256945  131.508729    2518.721727    2855.792162\n",
       "1643   2687.256945  150.924172    2493.839835    2880.674054\n",
       "1644   2687.256945  168.112063    2471.812667    2902.701222\n",
       "1645   2687.256945  183.698736    2451.837541    2922.676348\n",
       "1646   2687.256945  198.062580    2433.429535    2941.084355\n",
       "1647   2687.256945  211.452940    2416.269099    2958.244791\n",
       "1648   2687.256945  224.044428    2400.132457    2974.381432\n",
       "1649   2687.256945  235.964967    2384.855672    2989.658218"
      ]
     },
     "execution_count": 28,
     "metadata": {},
     "output_type": "execute_result"
    }
   ],
   "source": [
    "preds_eth.summary_frame(alpha=0.2).head(10)"
   ]
  },
  {
   "cell_type": "code",
   "execution_count": 29,
   "metadata": {},
   "outputs": [
    {
     "data": {
      "text/plain": [
       "<matplotlib.legend.Legend at 0x7fe60150c7c0>"
      ]
     },
     "execution_count": 29,
     "metadata": {},
     "output_type": "execute_result"
    },
    {
     "data": {
      "image/png": "[encoded data removed]",
      "text/plain": [
       "<Figure size 864x288 with 1 Axes>"
      ]
     },
     "metadata": {
      "needs_background": "light"
     },
     "output_type": "display_data"
    }
   ],
   "source": [
    "ax_eth = df_eth['Close'].iloc[-85:].plot(figsize=(12,4))\n",
    "forecast_80_eth = preds_eth.summary_frame(alpha=0.2)[['mean', 'mean_ci_lower', 'mean_ci_upper']]\n",
    "forecast_90_eth = preds_eth.summary_frame(alpha=0.1)[['mean', 'mean_ci_lower', 'mean_ci_upper']]\n",
    "\n",
    "ax_eth.fill_between(forecast_90_eth.index, forecast_90_eth['mean_ci_lower'], forecast_90_eth['mean_ci_upper'], alpha=0.5, label='90% PI')\n",
    "ax_eth.fill_between(forecast_80_eth.index, forecast_90_eth['mean_ci_lower'], forecast_80_eth['mean_ci_upper'], alpha=0.5, label='80% PI')\n",
    "\n",
    "forecast_80_eth['mean'].iloc[-85:].plot(ax=ax_eth, label='forecast', color='red')\n",
    "\n",
    "results_eth.fittedvalues.iloc[-85:].plot(ax=ax_eth, label='fitted', color='green', linestyle='--')\n",
    "\n",
    "ax_eth.legend(loc=3)"
   ]
  },
  {
   "cell_type": "code",
   "execution_count": 30,
   "metadata": {},
   "outputs": [
    {
     "data": {
      "text/html": [
       "<table class=\"simpletable\">\n",
       "<caption>Exponential Smoothing Results</caption>\n",
       "<tr>\n",
       "  <th>Dep. Variable:</th>         <td>Close</td>      <th>  No. Observations:  </th>   <td>1640</td>   \n",
       "</tr>\n",
       "<tr>\n",
       "  <th>Model:</th>             <td>ETS(A, N, N)</td>   <th>  Log Likelihood     </th> <td>-9504.231</td>\n",
       "</tr>\n",
       "<tr>\n",
       "  <th>Date:</th>            <td>Fri, 06 May 2022</td> <th>  AIC                </th> <td>19014.462</td>\n",
       "</tr>\n",
       "<tr>\n",
       "  <th>Time:</th>                <td>21:23:39</td>     <th>  BIC                </th> <td>19030.670</td>\n",
       "</tr>\n",
       "<tr>\n",
       "  <th>Sample:</th>                  <td>0</td>        <th>  HQIC               </th> <td>19020.473</td>\n",
       "</tr>\n",
       "<tr>\n",
       "  <th></th>                      <td> - 1640</td>     <th>  Scale              </th> <td>6327.426</td> \n",
       "</tr>\n",
       "<tr>\n",
       "  <th>Covariance Type:</th>        <td>opg</td>       <th>                     </th>     <td> </td>    \n",
       "</tr>\n",
       "</table>\n",
       "<table class=\"simpletable\">\n",
       "<tr>\n",
       "         <td></td>            <th>coef</th>     <th>std err</th>      <th>z</th>      <th>P>|z|</th>  <th>[0.025</th>    <th>0.975]</th>  \n",
       "</tr>\n",
       "<tr>\n",
       "  <th>smoothing_level</th> <td>    0.9309</td> <td>    0.013</td> <td>   72.836</td> <td> 0.000</td> <td>    0.906</td> <td>    0.956</td>\n",
       "</tr>\n",
       "<tr>\n",
       "  <th>initial_level</th>   <td>  320.8837</td> <td> 4205.282</td> <td>    0.076</td> <td> 0.939</td> <td>-7921.318</td> <td> 8563.085</td>\n",
       "</tr>\n",
       "</table>\n",
       "<table class=\"simpletable\">\n",
       "<tr>\n",
       "  <th>Ljung-Box (L1) (Q):</th>     <td>0.00</td>  <th>  Jarque-Bera (JB):  </th> <td>24300.66</td>\n",
       "</tr>\n",
       "<tr>\n",
       "  <th>Prob(Q):</th>                <td>0.97</td>  <th>  Prob(JB):          </th>   <td>0.00</td>  \n",
       "</tr>\n",
       "<tr>\n",
       "  <th>Heteroskedasticity (H):</th> <td>17.06</td> <th>  Skew:              </th>   <td>-0.97</td> \n",
       "</tr>\n",
       "<tr>\n",
       "  <th>Prob(H) (two-sided):</th>    <td>0.00</td>  <th>  Kurtosis:          </th>   <td>21.76</td> \n",
       "</tr>\n",
       "</table><br/><br/>Warnings:<br/>[1] Covariance matrix calculated using the outer product of gradients (complex-step)."
      ],
      "text/plain": [
       "<class 'statsmodels.iolib.summary.Summary'>\n",
       "\"\"\"\n",
       "                        Exponential Smoothing Results                         \n",
       "==============================================================================\n",
       "Dep. Variable:                  Close   No. Observations:                 1640\n",
       "Model:                   ETS(A, N, N)   Log Likelihood               -9504.231\n",
       "Date:                Fri, 06 May 2022   AIC                          19014.462\n",
       "Time:                        21:23:39   BIC                          19030.670\n",
       "Sample:                             0   HQIC                         19020.473\n",
       "                               - 1640   Scale                         6327.426\n",
       "Covariance Type:                  opg                                         \n",
       "===================================================================================\n",
       "                      coef    std err          z      P>|z|      [0.025      0.975]\n",
       "-----------------------------------------------------------------------------------\n",
       "smoothing_level     0.9309      0.013     72.836      0.000       0.906       0.956\n",
       "initial_level     320.8837   4205.282      0.076      0.939   -7921.318    8563.085\n",
       "===================================================================================\n",
       "Ljung-Box (L1) (Q):                   0.00   Jarque-Bera (JB):             24300.66\n",
       "Prob(Q):                              0.97   Prob(JB):                         0.00\n",
       "Heteroskedasticity (H):              17.06   Skew:                            -0.97\n",
       "Prob(H) (two-sided):                  0.00   Kurtosis:                        21.76\n",
       "===================================================================================\n",
       "\n",
       "Warnings:\n",
       "[1] Covariance matrix calculated using the outer product of gradients (complex-step).\n",
       "\"\"\""
      ]
     },
     "execution_count": 30,
     "metadata": {},
     "output_type": "execute_result"
    }
   ],
   "source": [
    "results_eth.summary()"
   ]
  },
  {
   "cell_type": "code",
   "execution_count": 31,
   "metadata": {},
   "outputs": [],
   "source": [
    "from statsmodels.graphics.tsaplots import plot_pacf\n",
    "from statsmodels.graphics.tsaplots import plot_acf\n",
    "from statsmodels.tsa.statespace.sarimax import SARIMAX\n",
    "from statsmodels.tsa.holtwinters import ExponentialSmoothing\n",
    "from statsmodels.tsa.stattools import adfuller\n",
    "import matplotlib.pyplot as plt\n",
    "from tqdm import tqdm_notebook\n",
    "import numpy as np\n",
    "import pandas as pd\n",
    "\n",
    "from itertools import product\n",
    "from sklearn.metrics import mean_squared_error, r2_score, mean_absolute_error\n",
    "from sklearn.metrics import median_absolute_error, mean_squared_log_error\n",
    "\n",
    "import warnings\n",
    "warnings.filterwarnings('ignore')\n",
    "\n",
    "%matplotlib inline"
   ]
  },
  {
   "cell_type": "markdown",
   "metadata": {},
   "source": [
    "### Model residuals"
   ]
  },
  {
   "cell_type": "code",
   "execution_count": 32,
   "metadata": {},
   "outputs": [
    {
     "data": {
      "image/png": "[encoded data removed]",
      "text/plain": [
       "<Figure size 1080x864 with 4 Axes>"
      ]
     },
     "metadata": {
      "needs_background": "light"
     },
     "output_type": "display_data"
    }
   ],
   "source": [
    "# Diagnosing the model residuals\n",
    "results_eth.plot_diagnostics(figsize = (15, 12))\n",
    "plt.show()"
   ]
  },
  {
   "cell_type": "code",
   "execution_count": 33,
   "metadata": {},
   "outputs": [
    {
     "data": {
      "text/plain": [
       "((1394, 2), (246, 2))"
      ]
     },
     "execution_count": 33,
     "metadata": {},
     "output_type": "execute_result"
    }
   ],
   "source": [
    "# Divide into train and validation set to calculate R-squared score\n",
    "train_eth = df_eth[:int(0.85 * (len(df_eth)))]\n",
    "test_eth  = df_eth[int(0.85 * (len(df_eth))):]\n",
    "\n",
    "train_eth.shape, test_eth.shape"
   ]
  },
  {
   "cell_type": "code",
   "execution_count": 34,
   "metadata": {},
   "outputs": [
    {
     "name": "stdout",
     "output_type": "stream",
     "text": [
      "1394    3792.035524\n",
      "1395    3930.352615\n",
      "1396    3890.765451\n",
      "1397    3947.894948\n",
      "1398    3929.727303\n",
      "           ...     \n",
      "1635    2821.463394\n",
      "1636    2854.927598\n",
      "1637    2788.411345\n",
      "1638    2930.130254\n",
      "1639    2761.708793\n",
      "Name: Simple Exponential Smoothing Predictions, Length: 246, dtype: float64\n"
     ]
    }
   ],
   "source": [
    "start_eth = len(train_eth)\n",
    "end_eth   = len(train_eth) + len(test_eth) - 1\n",
    "predictions_eth = results_eth.predict(start = start_eth, end = end_eth, dynamic = False, typ = 'levels').rename('Simple Exponential Smoothing Predictions')\n",
    "print(predictions_eth)"
   ]
  },
  {
   "cell_type": "code",
   "execution_count": 35,
   "metadata": {},
   "outputs": [
    {
     "data": {
      "text/html": [
       "<div>\n",
       "<style scoped>\n",
       "    .dataframe tbody tr th:only-of-type {\n",
       "        vertical-align: middle;\n",
       "    }\n",
       "\n",
       "    .dataframe tbody tr th {\n",
       "        vertical-align: top;\n",
       "    }\n",
       "\n",
       "    .dataframe thead th {\n",
       "        text-align: right;\n",
       "    }\n",
       "</style>\n",
       "<table border=\"1\" class=\"dataframe\">\n",
       "  <thead>\n",
       "    <tr style=\"text-align: right;\">\n",
       "      <th></th>\n",
       "      <th>r2_score</th>\n",
       "    </tr>\n",
       "  </thead>\n",
       "  <tbody>\n",
       "    <tr>\n",
       "      <th>0</th>\n",
       "      <td>0.952319</td>\n",
       "    </tr>\n",
       "  </tbody>\n",
       "</table>\n",
       "</div>"
      ],
      "text/plain": [
       "   r2_score\n",
       "0  0.952319"
      ]
     },
     "execution_count": 35,
     "metadata": {},
     "output_type": "execute_result"
    }
   ],
   "source": [
    "# Create a dataframe to store r2 score\n",
    "evaluation_results_eth = pd.DataFrame({'r2_score': r2_score(test_eth['Close'], predictions_eth)}, index = [0])\n",
    "\n",
    "# Display the results\n",
    "evaluation_results_eth"
   ]
  },
  {
   "cell_type": "code",
   "execution_count": null,
   "metadata": {},
   "outputs": [],
   "source": []
  },
  {
   "cell_type": "code",
   "execution_count": null,
   "metadata": {},
   "outputs": [],
   "source": []
  },
  {
   "cell_type": "markdown",
   "metadata": {},
   "source": [
    "# Automation and Decision-Making Function: Custom Made Function to train the model, request external API and come up with an \"advice\""
   ]
  },
  {
   "cell_type": "markdown",
   "metadata": {},
   "source": [
    "The function below will perform the following tasks:\n",
    "*  Train the model once a day\n",
    "*  Find the middle value of the dataset\n",
    "*  HTTP request to find the real time of the crypto\n",
    "*  According to the position of value-predicted for the following day/real-time value in comparison with the top and bottom section defined in the business case, return an statistical advice.\n",
    "\n"
   ]
  },
  {
   "cell_type": "code",
   "execution_count": 36,
   "metadata": {},
   "outputs": [],
   "source": [
    "import requests"
   ]
  },
  {
   "cell_type": "code",
   "execution_count": 37,
   "metadata": {},
   "outputs": [],
   "source": [
    "from threading import Timer"
   ]
  },
  {
   "cell_type": "code",
   "execution_count": 38,
   "metadata": {},
   "outputs": [],
   "source": [
    "def find_real_time_value():\n",
    "    real_time_price = requests.get('https://bitpay.com/api/rates/USD')\n",
    "    x = real_time_price.json()\n",
    "    return x['rate']\n",
    "\n",
    "#find_real_time_value()"
   ]
  },
  {
   "cell_type": "code",
   "execution_count": 39,
   "metadata": {},
   "outputs": [
    {
     "name": "stdout",
     "output_type": "stream",
     "text": [
      "33783.4140625\n"
     ]
    }
   ],
   "source": [
    "def get_middle_value(data):\n",
    "    high = 0\n",
    "    low = 0\n",
    "    middle_value = 0\n",
    "    \n",
    "    # Finding higher and lowest values in order to get a middle value\n",
    "    for x in data:\n",
    "        if high > x:\n",
    "            high = high\n",
    "        else:\n",
    "            high = x\n",
    "        \n",
    "        if low < x:\n",
    "            low = low\n",
    "        else:\n",
    "            low = x\n",
    "        \n",
    "        middle_value = (high - low)/2 \n",
    "            \n",
    "    return middle_value\n",
    "    #return data.median()\n",
    "\n",
    "test = get_middle_value(df['Close'])\n",
    "print(test)"
   ]
  },
  {
   "cell_type": "code",
   "execution_count": 40,
   "metadata": {},
   "outputs": [],
   "source": [
    "def get_highest(data):\n",
    "    highest = 0\n",
    "    for x in data:\n",
    "        if highest > x:\n",
    "            highest = highest\n",
    "        else:\n",
    "            highest = x\n",
    "            \n",
    "    return highest"
   ]
  },
  {
   "cell_type": "code",
   "execution_count": 41,
   "metadata": {},
   "outputs": [],
   "source": [
    "def get_lowest(data):\n",
    "    lowest = 0\n",
    "    for x in data:\n",
    "        if lowest < x:\n",
    "            lowest = lowest\n",
    "        else:\n",
    "            lowest = x\n",
    "            \n",
    "    return lowest"
   ]
  },
  {
   "cell_type": "code",
   "execution_count": 42,
   "metadata": {},
   "outputs": [],
   "source": [
    "# Train the Model\n",
    "# Function to train a general model every 24h\n",
    "# Scheduled to get the tests done by Monday 07th May 2022\n",
    "\n",
    "def model_training(dataset, days_to_predict):\n",
    "    run = True\n",
    "    HORIZON = days_to_predict\n",
    "\n",
    "    model = ExponentialSmoothing(endog = dataset['Close'])\n",
    "    results = model.fit()\n",
    "\n",
    "    preds = results.get_forecast(steps=HORIZON)\n",
    "\n",
    "    preds.summary_frame(alpha=0.2).head()\n",
    "    \n",
    "    def call_train():\n",
    "        model_training(dataset, days_to_predict)\n",
    "        \n",
    "    if run:\n",
    "        Timer(86400, call_train).start()\n",
    "    \n",
    "    return preds"
   ]
  },
  {
   "cell_type": "code",
   "execution_count": 51,
   "metadata": {},
   "outputs": [],
   "source": [
    "def statistical_decision(model, data):\n",
    "    # Defining boundaries\n",
    "    high = get_highest(data)\n",
    "    low = get_lowest(data)\n",
    "    \n",
    "    top_bounder = 0\n",
    "    botton_bounder = 0\n",
    "    \n",
    "    run = True\n",
    "    \n",
    "    # to be returned\n",
    "    #buy = 'Buy'\n",
    "    #sell = 'Sell'\n",
    "    \n",
    "    # Checking real time of the bitcoin in USD\n",
    "    x = find_real_time_value()\n",
    "    \n",
    "    # Get Middle value\n",
    "    m = get_middle_value(data)\n",
    "    one_third_high = (high - m)/3\n",
    "    one_third_bottom = (low - m)/3\n",
    "    top_bounder = m + one_third_high * 2\n",
    "    bottom_bounder = m + one_third_bottom * 2 \n",
    "    \n",
    "    # Decision logic\n",
    "    v = model.forecast(steps=1)\n",
    "    #print(v)\n",
    "    \n",
    "    to_return_1 = 'Real time value is:'\n",
    "    to_return_2 = 'Predicted value for tomorrow is:'\n",
    "    \n",
    "    if v.item() > top_bounder:\n",
    "        print('Sell!', to_return_1, x, to_return_2, v.item())\n",
    "        #return sell\n",
    "    \n",
    "    elif v.item() < bottom_bounder:\n",
    "        print('Sell!', to_return_1, x, to_return_2, v.item())\n",
    "        #return sell\n",
    "    \n",
    "    elif v.item() > bottom_bounder:\n",
    "        print('Buy!', to_return_1, x, to_return_2, v.item())\n",
    "        #return buy\n",
    "    \n",
    "    elif v.item() < top_bounder:\n",
    "        print('Buy!', to_return_1, x, to_return_2, v.item())\n",
    "        #return buy\n",
    "    def call():\n",
    "        statistical_decision(model, data)\n",
    "        \n",
    "    if run:\n",
    "        Timer(60, call).start()\n",
    "        \n",
    "#statistical_decision(results, df['Close'])\n",
    "    "
   ]
  },
  {
   "cell_type": "code",
   "execution_count": 52,
   "metadata": {},
   "outputs": [
    {
     "name": "stdout",
     "output_type": "stream",
     "text": [
      "Buy! Real time value is: 35867.68 Predicted value for tomorrow is: 35920.95430873551\n"
     ]
    }
   ],
   "source": [
    "statistical_decision(results, df['Close'])"
   ]
  },
  {
   "cell_type": "code",
   "execution_count": null,
   "metadata": {},
   "outputs": [],
   "source": [
    "# In order for the following work with the Etherium. It is needed to find an API to return the real value of it.\n",
    "# Or it is possible to take the real time API call off the function and returns and the statistical decision will still work for any crypto-currencies\n",
    "\n",
    "#statistical_decision(results_eth, df_eth['Close'])"
   ]
  },
  {
   "cell_type": "code",
   "execution_count": null,
   "metadata": {},
   "outputs": [],
   "source": []
  },
  {
   "cell_type": "code",
   "execution_count": null,
   "metadata": {},
   "outputs": [],
   "source": []
  }
 ],
 "metadata": {
  "colab": {
   "collapsed_sections": [
    "6Hy9OrJkdF_n",
    "PGzPFzSlcfMW"
   ],
   "name": "Exponential_Statistical_Model_To_Use.ipynb",
   "provenance": []
  },
  "kernelspec": {
   "display_name": "Python 3",
   "language": "python",
   "name": "python3"
  },
  "language_info": {
   "codemirror_mode": {
    "name": "ipython",
    "version": 3
   },
   "file_extension": ".py",
   "mimetype": "text/x-python",
   "name": "python",
   "nbconvert_exporter": "python",
   "pygments_lexer": "ipython3",
   "version": "3.8.5"
  }
 },
 "nbformat": 4,
 "nbformat_minor": 1
}
