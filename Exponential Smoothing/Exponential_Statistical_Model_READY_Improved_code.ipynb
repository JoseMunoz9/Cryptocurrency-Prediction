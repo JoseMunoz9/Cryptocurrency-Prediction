{
 "cells": [
  {
   "cell_type": "markdown",
   "metadata": {
    "id": "PGzPFzSlcfMW"
   },
   "source": [
    "---\n",
    "# **Exponential Smoothing Model Applied to Bitcoin**\n",
    "\n",
    "---\n"
   ]
  },
  {
   "cell_type": "markdown",
   "metadata": {},
   "source": [
    "### Imports"
   ]
  },
  {
   "cell_type": "markdown",
   "metadata": {},
   "source": [
    "Installing the dependencies that enables to get access to the dataset"
   ]
  },
  {
   "cell_type": "code",
   "execution_count": 1,
   "metadata": {},
   "outputs": [
    {
     "name": "stdout",
     "output_type": "stream",
     "text": [
      "Requirement already satisfied: pandas in /opt/anaconda3/lib/python3.8/site-packages (1.4.2)\n",
      "Requirement already satisfied: pip in /opt/anaconda3/lib/python3.8/site-packages (22.0.4)\n",
      "Requirement already satisfied: install in /opt/anaconda3/lib/python3.8/site-packages (1.3.5)\n",
      "Requirement already satisfied: pandas-datareader in /opt/anaconda3/lib/python3.8/site-packages (0.10.0)\n",
      "Requirement already satisfied: pytz>=2020.1 in /opt/anaconda3/lib/python3.8/site-packages (from pandas) (2020.1)\n",
      "Requirement already satisfied: python-dateutil>=2.8.1 in /opt/anaconda3/lib/python3.8/site-packages (from pandas) (2.8.1)\n",
      "Requirement already satisfied: numpy>=1.18.5 in /opt/anaconda3/lib/python3.8/site-packages (from pandas) (1.19.5)\n",
      "Requirement already satisfied: lxml in /opt/anaconda3/lib/python3.8/site-packages (from pandas-datareader) (4.6.1)\n",
      "Requirement already satisfied: requests>=2.19.0 in /opt/anaconda3/lib/python3.8/site-packages (from pandas-datareader) (2.24.0)\n",
      "Requirement already satisfied: six>=1.5 in /opt/anaconda3/lib/python3.8/site-packages (from python-dateutil>=2.8.1->pandas) (1.15.0)\n",
      "Requirement already satisfied: idna<3,>=2.5 in /opt/anaconda3/lib/python3.8/site-packages (from requests>=2.19.0->pandas-datareader) (2.10)\n",
      "Requirement already satisfied: chardet<4,>=3.0.2 in /opt/anaconda3/lib/python3.8/site-packages (from requests>=2.19.0->pandas-datareader) (3.0.4)\n",
      "Requirement already satisfied: certifi>=2017.4.17 in /opt/anaconda3/lib/python3.8/site-packages (from requests>=2.19.0->pandas-datareader) (2020.6.20)\n",
      "Requirement already satisfied: urllib3!=1.25.0,!=1.25.1,<1.26,>=1.21.1 in /opt/anaconda3/lib/python3.8/site-packages (from requests>=2.19.0->pandas-datareader) (1.25.11)\n",
      "Note: you may need to restart the kernel to use updated packages.\n"
     ]
    }
   ],
   "source": [
    "#pip install --upgrade pandas pip install --upgrade pandas-datareader"
   ]
  },
  {
   "cell_type": "code",
   "execution_count": 2,
   "metadata": {},
   "outputs": [
    {
     "name": "stdout",
     "output_type": "stream",
     "text": [
      "Requirement already satisfied: pandas-datareader in /opt/anaconda3/lib/python3.8/site-packages (0.10.0)\n",
      "Requirement already satisfied: pandas>=0.23 in /opt/anaconda3/lib/python3.8/site-packages (from pandas-datareader) (1.4.2)\n",
      "Requirement already satisfied: requests>=2.19.0 in /opt/anaconda3/lib/python3.8/site-packages (from pandas-datareader) (2.24.0)\n",
      "Requirement already satisfied: lxml in /opt/anaconda3/lib/python3.8/site-packages (from pandas-datareader) (4.6.1)\n",
      "Requirement already satisfied: python-dateutil>=2.8.1 in /opt/anaconda3/lib/python3.8/site-packages (from pandas>=0.23->pandas-datareader) (2.8.1)\n",
      "Requirement already satisfied: numpy>=1.18.5 in /opt/anaconda3/lib/python3.8/site-packages (from pandas>=0.23->pandas-datareader) (1.19.5)\n",
      "Requirement already satisfied: pytz>=2020.1 in /opt/anaconda3/lib/python3.8/site-packages (from pandas>=0.23->pandas-datareader) (2020.1)\n",
      "Requirement already satisfied: certifi>=2017.4.17 in /opt/anaconda3/lib/python3.8/site-packages (from requests>=2.19.0->pandas-datareader) (2020.6.20)\n",
      "Requirement already satisfied: chardet<4,>=3.0.2 in /opt/anaconda3/lib/python3.8/site-packages (from requests>=2.19.0->pandas-datareader) (3.0.4)\n",
      "Requirement already satisfied: urllib3!=1.25.0,!=1.25.1,<1.26,>=1.21.1 in /opt/anaconda3/lib/python3.8/site-packages (from requests>=2.19.0->pandas-datareader) (1.25.11)\n",
      "Requirement already satisfied: idna<3,>=2.5 in /opt/anaconda3/lib/python3.8/site-packages (from requests>=2.19.0->pandas-datareader) (2.10)\n",
      "Requirement already satisfied: six>=1.5 in /opt/anaconda3/lib/python3.8/site-packages (from python-dateutil>=2.8.1->pandas>=0.23->pandas-datareader) (1.15.0)\n",
      "Note: you may need to restart the kernel to use updated packages.\n"
     ]
    }
   ],
   "source": [
    "#pip install pandas-datareader"
   ]
  },
  {
   "cell_type": "code",
   "execution_count": 68,
   "metadata": {},
   "outputs": [],
   "source": [
    "import pandas_datareader as pdr\n",
    "import pandas as pd\n",
    "from datetime import datetime"
   ]
  },
  {
   "cell_type": "code",
   "execution_count": 69,
   "metadata": {},
   "outputs": [],
   "source": [
    "import pandas as pd"
   ]
  },
  {
   "cell_type": "markdown",
   "metadata": {},
   "source": [
    "---\n",
    "Importing the ExponentialSmoothing algorithm from statsmodels package"
   ]
  },
  {
   "cell_type": "code",
   "execution_count": 70,
   "metadata": {
    "colab": {
     "base_uri": "https://localhost:8080/",
     "height": 304
    },
    "id": "iW2uz0TRRU5B",
    "outputId": "8bcffb06-cf08-4701-aa05-8d90b1d70090"
   },
   "outputs": [],
   "source": [
    "from statsmodels.tsa.statespace.exponential_smoothing import ExponentialSmoothing"
   ]
  },
  {
   "cell_type": "markdown",
   "metadata": {},
   "source": [
    "---\n",
    "Through the pandas_datareader, let's get access to the Yahoo Finance.\n",
    "This line of code will get the data from 2020 afterwards."
   ]
  },
  {
   "cell_type": "code",
   "execution_count": 71,
   "metadata": {
    "colab": {
     "base_uri": "https://localhost:8080/",
     "height": 182
    },
    "id": "7azKIPrBW2cW",
    "outputId": "0356940c-0543-45ae-c8e4-98ca49f5b717"
   },
   "outputs": [],
   "source": [
    "df = pdr.get_data_yahoo('BTC-USD')"
   ]
  },
  {
   "cell_type": "markdown",
   "metadata": {},
   "source": [
    "### Preparing the Data"
   ]
  },
  {
   "cell_type": "markdown",
   "metadata": {},
   "source": [
    "---\n",
    "Now, it is time to drop a few columns of the dataset and keep the Close column, in order to proceeding with our implementation"
   ]
  },
  {
   "cell_type": "code",
   "execution_count": 72,
   "metadata": {
    "id": "FPW1pgkTXC90"
   },
   "outputs": [],
   "source": [
    "df.drop(['High', 'Low', 'Open', 'Volume', 'Adj Close'], axis=1, inplace=True)"
   ]
  },
  {
   "cell_type": "markdown",
   "metadata": {},
   "source": [
    "---\n",
    "Transforming the index in a Date column"
   ]
  },
  {
   "cell_type": "code",
   "execution_count": 73,
   "metadata": {},
   "outputs": [],
   "source": [
    "df=df.reset_index()"
   ]
  },
  {
   "cell_type": "code",
   "execution_count": 74,
   "metadata": {
    "id": "uz-RYCd8XG6Y"
   },
   "outputs": [
    {
     "data": {
      "text/html": [
       "<div>\n",
       "<style scoped>\n",
       "    .dataframe tbody tr th:only-of-type {\n",
       "        vertical-align: middle;\n",
       "    }\n",
       "\n",
       "    .dataframe tbody tr th {\n",
       "        vertical-align: top;\n",
       "    }\n",
       "\n",
       "    .dataframe thead th {\n",
       "        text-align: right;\n",
       "    }\n",
       "</style>\n",
       "<table border=\"1\" class=\"dataframe\">\n",
       "  <thead>\n",
       "    <tr style=\"text-align: right;\">\n",
       "      <th></th>\n",
       "      <th>Date</th>\n",
       "      <th>Close</th>\n",
       "    </tr>\n",
       "  </thead>\n",
       "  <tbody>\n",
       "    <tr>\n",
       "      <th>1821</th>\n",
       "      <td>2022-05-07</td>\n",
       "      <td>35501.953125</td>\n",
       "    </tr>\n",
       "    <tr>\n",
       "      <th>1822</th>\n",
       "      <td>2022-05-08</td>\n",
       "      <td>34059.265625</td>\n",
       "    </tr>\n",
       "    <tr>\n",
       "      <th>1823</th>\n",
       "      <td>2022-05-09</td>\n",
       "      <td>30296.953125</td>\n",
       "    </tr>\n",
       "    <tr>\n",
       "      <th>1824</th>\n",
       "      <td>2022-05-10</td>\n",
       "      <td>31022.906250</td>\n",
       "    </tr>\n",
       "    <tr>\n",
       "      <th>1825</th>\n",
       "      <td>2022-05-11</td>\n",
       "      <td>31464.388672</td>\n",
       "    </tr>\n",
       "  </tbody>\n",
       "</table>\n",
       "</div>"
      ],
      "text/plain": [
       "           Date         Close\n",
       "1821 2022-05-07  35501.953125\n",
       "1822 2022-05-08  34059.265625\n",
       "1823 2022-05-09  30296.953125\n",
       "1824 2022-05-10  31022.906250\n",
       "1825 2022-05-11  31464.388672"
      ]
     },
     "execution_count": 74,
     "metadata": {},
     "output_type": "execute_result"
    }
   ],
   "source": [
    "df[\"Date\"] = pd.to_datetime(df[\"Date\"])\n",
    "df.tail()"
   ]
  },
  {
   "cell_type": "markdown",
   "metadata": {},
   "source": [
    "---\n",
    "\n",
    "### Prediction"
   ]
  },
  {
   "cell_type": "markdown",
   "metadata": {},
   "source": [
    "\n",
    "The following code will train, and fit the model, proceeding with and forecast of the desired amount of days - HORIZON, on this case -.\n",
    "\n",
    "---"
   ]
  },
  {
   "cell_type": "code",
   "execution_count": 75,
   "metadata": {
    "id": "lIdGNSq9RUy_"
   },
   "outputs": [
    {
     "data": {
      "text/html": [
       "<div>\n",
       "<style scoped>\n",
       "    .dataframe tbody tr th:only-of-type {\n",
       "        vertical-align: middle;\n",
       "    }\n",
       "\n",
       "    .dataframe tbody tr th {\n",
       "        vertical-align: top;\n",
       "    }\n",
       "\n",
       "    .dataframe thead th {\n",
       "        text-align: right;\n",
       "    }\n",
       "</style>\n",
       "<table border=\"1\" class=\"dataframe\">\n",
       "  <thead>\n",
       "    <tr style=\"text-align: right;\">\n",
       "      <th>Close</th>\n",
       "      <th>mean</th>\n",
       "      <th>mean_se</th>\n",
       "      <th>mean_ci_lower</th>\n",
       "      <th>mean_ci_upper</th>\n",
       "    </tr>\n",
       "  </thead>\n",
       "  <tbody>\n",
       "    <tr>\n",
       "      <th>1826</th>\n",
       "      <td>31452.337484</td>\n",
       "      <td>988.136173</td>\n",
       "      <td>30185.990025</td>\n",
       "      <td>32718.684943</td>\n",
       "    </tr>\n",
       "    <tr>\n",
       "      <th>1827</th>\n",
       "      <td>31452.337484</td>\n",
       "      <td>1379.171200</td>\n",
       "      <td>29684.858474</td>\n",
       "      <td>33219.816495</td>\n",
       "    </tr>\n",
       "    <tr>\n",
       "      <th>1828</th>\n",
       "      <td>31452.337484</td>\n",
       "      <td>1681.610330</td>\n",
       "      <td>29297.267133</td>\n",
       "      <td>33607.407835</td>\n",
       "    </tr>\n",
       "    <tr>\n",
       "      <th>1829</th>\n",
       "      <td>31452.337484</td>\n",
       "      <td>1937.398618</td>\n",
       "      <td>28969.461252</td>\n",
       "      <td>33935.213716</td>\n",
       "    </tr>\n",
       "    <tr>\n",
       "      <th>1830</th>\n",
       "      <td>31452.337484</td>\n",
       "      <td>2163.148980</td>\n",
       "      <td>28680.150523</td>\n",
       "      <td>34224.524445</td>\n",
       "    </tr>\n",
       "  </tbody>\n",
       "</table>\n",
       "</div>"
      ],
      "text/plain": [
       "Close          mean      mean_se  mean_ci_lower  mean_ci_upper\n",
       "1826   31452.337484   988.136173   30185.990025   32718.684943\n",
       "1827   31452.337484  1379.171200   29684.858474   33219.816495\n",
       "1828   31452.337484  1681.610330   29297.267133   33607.407835\n",
       "1829   31452.337484  1937.398618   28969.461252   33935.213716\n",
       "1830   31452.337484  2163.148980   28680.150523   34224.524445"
      ]
     },
     "execution_count": 75,
     "metadata": {},
     "output_type": "execute_result"
    }
   ],
   "source": [
    "HORIZON = 10\n",
    "\n",
    "model = ExponentialSmoothing(endog = df['Close'])\n",
    "results = model.fit()\n",
    "\n",
    "preds = results.get_forecast(steps=HORIZON)\n",
    "\n",
    "preds.summary_frame(alpha=0.2).head()"
   ]
  },
  {
   "cell_type": "markdown",
   "metadata": {},
   "source": [
    "---\n",
    "The summary_frame above displays the mean, which on this case is the value predicted, and the confidence interval which is the lower and the upper columns on the very right hand side of the frame.\n",
    "\n",
    "Note that the Exponential Smoothing prediction of the following 10 steps of the dataset have the same value. What will influency our prediction graph into a straith line.\n",
    "It is due to the fact that the Exponential Smoothing formula requires the previous value of the dataset to predict the next value, and as our dataset has an ending, the formula will predict only one step ahead.\n",
    "\n",
    "It does not mean that our prediction is wrong, just shows us that the Simple Exponential Smoothing Statistical prediction has also some sort of limitations. On the other hand, the precition has an upper and a lower bounder, which statistically places our prediction in a range of possible values.\n",
    "\n",
    "The alternative for this, in case the business case requires more than one step ahead prediction, is to use the Multi-Step Forecasting methods. Not included in this project as our business case does not require it.\n",
    "\n",
    "\n",
    "---"
   ]
  },
  {
   "cell_type": "code",
   "execution_count": 76,
   "metadata": {},
   "outputs": [
    {
     "name": "stdout",
     "output_type": "stream",
     "text": [
      "1826    31452.337484\n",
      "dtype: float64\n"
     ]
    }
   ],
   "source": [
    "print(results.forecast(steps=1))"
   ]
  },
  {
   "cell_type": "markdown",
   "metadata": {},
   "source": [
    "The print above was done to explore the structure of the returned data from the forecast() function. This line of code is relevant and massively important for our Decision-making feature.\n",
    "\n",
    "---"
   ]
  },
  {
   "cell_type": "markdown",
   "metadata": {},
   "source": [
    "### Visualization"
   ]
  },
  {
   "cell_type": "markdown",
   "metadata": {},
   "source": [
    "---\n",
    "\n",
    "The plot below displays the predicted values + the confidence interval generated in this model implementation.\n",
    "For the sake of a better visualization, it was scaled for the last 25 observations.\n",
    "\n",
    "---"
   ]
  },
  {
   "cell_type": "code",
   "execution_count": 77,
   "metadata": {
    "id": "VsyEIc6vSrUH"
   },
   "outputs": [
    {
     "data": {
      "text/plain": [
       "<matplotlib.legend.Legend at 0x7ff7cc668610>"
      ]
     },
     "execution_count": 77,
     "metadata": {},
     "output_type": "execute_result"
    },
    {
     "data": {
      "image/png": "[encoded data removed]",
      "text/plain": [
       "<Figure size 864x288 with 1 Axes>"
      ]
     },
     "metadata": {
      "needs_background": "light"
     },
     "output_type": "display_data"
    }
   ],
   "source": [
    "ax = df['Close'].iloc[-25:].plot(figsize=(12,4))\n",
    "forecast_80 = preds.summary_frame(alpha=0.2)[['mean', 'mean_ci_lower', 'mean_ci_upper']]\n",
    "forecast_90 = preds.summary_frame(alpha=0.1)[['mean', 'mean_ci_lower', 'mean_ci_upper']]\n",
    "\n",
    "ax.fill_between(forecast_90.index, forecast_90['mean_ci_lower'], forecast_90['mean_ci_upper'], alpha=0.5, label='90% PI')\n",
    "ax.fill_between(forecast_80.index, forecast_90['mean_ci_lower'], forecast_80['mean_ci_upper'], alpha=0.5, label='80% PI')\n",
    "\n",
    "forecast_80['mean'].iloc[-25:].plot(ax=ax, label='forecast', color='red')\n",
    "\n",
    "results.fittedvalues.iloc[-25:].plot(ax=ax, label='fitted', color='green', linestyle='--')\n",
    "\n",
    "ax.legend(loc=3)"
   ]
  },
  {
   "cell_type": "markdown",
   "metadata": {},
   "source": [
    "### Evaluation"
   ]
  },
  {
   "cell_type": "markdown",
   "metadata": {
    "id": "Udw1A4S8WJiN"
   },
   "source": [
    "Statistical model"
   ]
  },
  {
   "cell_type": "code",
   "execution_count": 11,
   "metadata": {
    "id": "NSHOR-96R_Df"
   },
   "outputs": [
    {
     "data": {
      "text/html": [
       "<table class=\"simpletable\">\n",
       "<caption>Exponential Smoothing Results</caption>\n",
       "<tr>\n",
       "  <th>Dep. Variable:</th>         <td>Close</td>      <th>  No. Observations:  </th>    <td>1826</td>   \n",
       "</tr>\n",
       "<tr>\n",
       "  <th>Model:</th>             <td>ETS(A, N, N)</td>   <th>  Log Likelihood     </th> <td>-15182.656</td>\n",
       "</tr>\n",
       "<tr>\n",
       "  <th>Date:</th>            <td>Wed, 11 May 2022</td> <th>  AIC                </th>  <td>30371.311</td>\n",
       "</tr>\n",
       "<tr>\n",
       "  <th>Time:</th>                <td>15:07:54</td>     <th>  BIC                </th>  <td>30387.841</td>\n",
       "</tr>\n",
       "<tr>\n",
       "  <th>Sample:</th>                  <td>0</td>        <th>  HQIC               </th>  <td>30377.408</td>\n",
       "</tr>\n",
       "<tr>\n",
       "  <th></th>                      <td> - 1826</td>     <th>  Scale              </th> <td>976312.037</td>\n",
       "</tr>\n",
       "<tr>\n",
       "  <th>Covariance Type:</th>        <td>opg</td>       <th>                     </th>      <td> </td>    \n",
       "</tr>\n",
       "</table>\n",
       "<table class=\"simpletable\">\n",
       "<tr>\n",
       "         <td></td>            <th>coef</th>     <th>std err</th>      <th>z</th>      <th>P>|z|</th>  <th>[0.025</th>    <th>0.975]</th>  \n",
       "</tr>\n",
       "<tr>\n",
       "  <th>smoothing_level</th> <td>    0.9736</td> <td>    0.015</td> <td>   65.838</td> <td> 0.000</td> <td>    0.945</td> <td>    1.003</td>\n",
       "</tr>\n",
       "<tr>\n",
       "  <th>initial_level</th>   <td> 1724.2400</td> <td> 4.57e+05</td> <td>    0.004</td> <td> 0.997</td> <td>-8.93e+05</td> <td> 8.97e+05</td>\n",
       "</tr>\n",
       "</table>\n",
       "<table class=\"simpletable\">\n",
       "<tr>\n",
       "  <th>Ljung-Box (L1) (Q):</th>     <td>0.00</td>  <th>  Jarque-Bera (JB):  </th> <td>8400.63</td>\n",
       "</tr>\n",
       "<tr>\n",
       "  <th>Prob(Q):</th>                <td>1.00</td>  <th>  Prob(JB):          </th>  <td>0.00</td>  \n",
       "</tr>\n",
       "<tr>\n",
       "  <th>Heteroskedasticity (H):</th> <td>14.08</td> <th>  Skew:              </th>  <td>-0.17</td> \n",
       "</tr>\n",
       "<tr>\n",
       "  <th>Prob(H) (two-sided):</th>    <td>0.00</td>  <th>  Kurtosis:          </th>  <td>13.50</td> \n",
       "</tr>\n",
       "</table><br/><br/>Warnings:<br/>[1] Covariance matrix calculated using the outer product of gradients (complex-step)."
      ],
      "text/plain": [
       "<class 'statsmodels.iolib.summary.Summary'>\n",
       "\"\"\"\n",
       "                        Exponential Smoothing Results                         \n",
       "==============================================================================\n",
       "Dep. Variable:                  Close   No. Observations:                 1826\n",
       "Model:                   ETS(A, N, N)   Log Likelihood              -15182.656\n",
       "Date:                Wed, 11 May 2022   AIC                          30371.311\n",
       "Time:                        15:07:54   BIC                          30387.841\n",
       "Sample:                             0   HQIC                         30377.408\n",
       "                               - 1826   Scale                       976312.037\n",
       "Covariance Type:                  opg                                         \n",
       "===================================================================================\n",
       "                      coef    std err          z      P>|z|      [0.025      0.975]\n",
       "-----------------------------------------------------------------------------------\n",
       "smoothing_level     0.9736      0.015     65.838      0.000       0.945       1.003\n",
       "initial_level    1724.2400   4.57e+05      0.004      0.997   -8.93e+05    8.97e+05\n",
       "===================================================================================\n",
       "Ljung-Box (L1) (Q):                   0.00   Jarque-Bera (JB):              8400.63\n",
       "Prob(Q):                              1.00   Prob(JB):                         0.00\n",
       "Heteroskedasticity (H):              14.08   Skew:                            -0.17\n",
       "Prob(H) (two-sided):                  0.00   Kurtosis:                        13.50\n",
       "===================================================================================\n",
       "\n",
       "Warnings:\n",
       "[1] Covariance matrix calculated using the outer product of gradients (complex-step).\n",
       "\"\"\""
      ]
     },
     "execution_count": 11,
     "metadata": {},
     "output_type": "execute_result"
    }
   ],
   "source": [
    "results.summary()"
   ]
  },
  {
   "cell_type": "code",
   "execution_count": 12,
   "metadata": {
    "id": "Z5k40LqEZBis"
   },
   "outputs": [],
   "source": [
    "from statsmodels.graphics.tsaplots import plot_pacf\n",
    "from statsmodels.graphics.tsaplots import plot_acf\n",
    "from statsmodels.tsa.statespace.sarimax import SARIMAX\n",
    "from statsmodels.tsa.holtwinters import ExponentialSmoothing\n",
    "from statsmodels.tsa.stattools import adfuller\n",
    "import matplotlib.pyplot as plt\n",
    "from tqdm import tqdm_notebook\n",
    "import numpy as np\n",
    "import pandas as pd\n",
    "\n",
    "from itertools import product\n",
    "from sklearn.metrics import mean_squared_error, r2_score, mean_absolute_error\n",
    "from sklearn.metrics import median_absolute_error, mean_squared_log_error\n",
    "\n",
    "import warnings\n",
    "warnings.filterwarnings('ignore')\n",
    "\n",
    "%matplotlib inline"
   ]
  },
  {
   "cell_type": "markdown",
   "metadata": {},
   "source": [
    "### Model residuals"
   ]
  },
  {
   "cell_type": "code",
   "execution_count": 13,
   "metadata": {
    "id": "voFyLzj4X2Pi"
   },
   "outputs": [
    {
     "data": {
      "image/png": "[encoded data removed]",
      "text/plain": [
       "<Figure size 1080x864 with 4 Axes>"
      ]
     },
     "metadata": {
      "needs_background": "light"
     },
     "output_type": "display_data"
    }
   ],
   "source": [
    "# Diagnosing the model residuals\n",
    "results.plot_diagnostics(figsize = (15, 12))\n",
    "plt.show()"
   ]
  },
  {
   "cell_type": "code",
   "execution_count": 14,
   "metadata": {
    "id": "D_As9O5lbOWB"
   },
   "outputs": [
    {
     "data": {
      "text/plain": [
       "((1552, 2), (274, 2))"
      ]
     },
     "execution_count": 14,
     "metadata": {},
     "output_type": "execute_result"
    }
   ],
   "source": [
    "# Divide into train and validation set to calculate R-squared score\n",
    "train = df[:int(0.85 * (len(df)))]\n",
    "test  = df[int(0.85 * (len(df))):]\n",
    "\n",
    "train.shape, test.shape"
   ]
  },
  {
   "cell_type": "code",
   "execution_count": 15,
   "metadata": {
    "id": "zT3GxFVobOHP"
   },
   "outputs": [
    {
     "name": "stdout",
     "output_type": "stream",
     "text": [
      "1552    45603.855616\n",
      "1553    45593.906479\n",
      "1554    44459.059187\n",
      "1555    47705.302042\n",
      "1556    47113.004795\n",
      "            ...     \n",
      "1821    36057.165255\n",
      "1822    35516.609689\n",
      "1823    34097.736788\n",
      "1824    30397.286720\n",
      "1825    31006.391062\n",
      "Name: Simple Exponential Smoothing Predictions, Length: 274, dtype: float64\n"
     ]
    }
   ],
   "source": [
    "start = len(train)\n",
    "end   = len(train) + len(test) - 1\n",
    "predictions = results.predict(start = start, end = end, dynamic = False, typ = 'levels').rename('Simple Exponential Smoothing Predictions')\n",
    "print(predictions)"
   ]
  },
  {
   "cell_type": "code",
   "execution_count": 16,
   "metadata": {
    "id": "ga-paoKzZj-6"
   },
   "outputs": [
    {
     "data": {
      "text/html": [
       "<div>\n",
       "<style scoped>\n",
       "    .dataframe tbody tr th:only-of-type {\n",
       "        vertical-align: middle;\n",
       "    }\n",
       "\n",
       "    .dataframe tbody tr th {\n",
       "        vertical-align: top;\n",
       "    }\n",
       "\n",
       "    .dataframe thead th {\n",
       "        text-align: right;\n",
       "    }\n",
       "</style>\n",
       "<table border=\"1\" class=\"dataframe\">\n",
       "  <thead>\n",
       "    <tr style=\"text-align: right;\">\n",
       "      <th></th>\n",
       "      <th>r2_score</th>\n",
       "    </tr>\n",
       "  </thead>\n",
       "  <tbody>\n",
       "    <tr>\n",
       "      <th>0</th>\n",
       "      <td>0.960394</td>\n",
       "    </tr>\n",
       "  </tbody>\n",
       "</table>\n",
       "</div>"
      ],
      "text/plain": [
       "   r2_score\n",
       "0  0.960394"
      ]
     },
     "execution_count": 16,
     "metadata": {},
     "output_type": "execute_result"
    }
   ],
   "source": [
    "# Create a dataframe to store r2 score\n",
    "evaluation_results = pd.DataFrame({'r2_score': r2_score(test['Close'], predictions)}, index = [0])\n",
    "\n",
    "# Display the results\n",
    "evaluation_results"
   ]
  },
  {
   "cell_type": "markdown",
   "metadata": {},
   "source": [
    "**The evaluation of our r2_score and residuals brings us a pretty good accurancy without overfitting.**\n",
    "\n",
    "---"
   ]
  },
  {
   "cell_type": "code",
   "execution_count": null,
   "metadata": {},
   "outputs": [],
   "source": []
  },
  {
   "cell_type": "code",
   "execution_count": null,
   "metadata": {},
   "outputs": [],
   "source": []
  },
  {
   "cell_type": "markdown",
   "metadata": {},
   "source": [
    "---\n",
    "\n",
    "# Exponential Smoothing Model applied to ETHERIUM\n",
    "\n",
    "To proceed with this implementation we will follow the same steps as the bitcoin implementation\n",
    "\n",
    "---"
   ]
  },
  {
   "cell_type": "code",
   "execution_count": 17,
   "metadata": {},
   "outputs": [],
   "source": [
    "df_eth = pdr.get_data_yahoo('ETH-USD')"
   ]
  },
  {
   "cell_type": "code",
   "execution_count": 18,
   "metadata": {},
   "outputs": [],
   "source": [
    "df_eth.drop(['High', 'Low', 'Open', 'Volume', 'Adj Close'], axis=1, inplace=True)"
   ]
  },
  {
   "cell_type": "code",
   "execution_count": 19,
   "metadata": {},
   "outputs": [],
   "source": [
    "df_eth=df_eth.reset_index()"
   ]
  },
  {
   "cell_type": "code",
   "execution_count": 20,
   "metadata": {},
   "outputs": [
    {
     "data": {
      "text/html": [
       "<div>\n",
       "<style scoped>\n",
       "    .dataframe tbody tr th:only-of-type {\n",
       "        vertical-align: middle;\n",
       "    }\n",
       "\n",
       "    .dataframe tbody tr th {\n",
       "        vertical-align: top;\n",
       "    }\n",
       "\n",
       "    .dataframe thead th {\n",
       "        text-align: right;\n",
       "    }\n",
       "</style>\n",
       "<table border=\"1\" class=\"dataframe\">\n",
       "  <thead>\n",
       "    <tr style=\"text-align: right;\">\n",
       "      <th></th>\n",
       "      <th>Date</th>\n",
       "      <th>Close</th>\n",
       "    </tr>\n",
       "  </thead>\n",
       "  <tbody>\n",
       "    <tr>\n",
       "      <th>1821</th>\n",
       "      <td>2022-05-07</td>\n",
       "      <td>35501.953125</td>\n",
       "    </tr>\n",
       "    <tr>\n",
       "      <th>1822</th>\n",
       "      <td>2022-05-08</td>\n",
       "      <td>34059.265625</td>\n",
       "    </tr>\n",
       "    <tr>\n",
       "      <th>1823</th>\n",
       "      <td>2022-05-09</td>\n",
       "      <td>30296.953125</td>\n",
       "    </tr>\n",
       "    <tr>\n",
       "      <th>1824</th>\n",
       "      <td>2022-05-10</td>\n",
       "      <td>31022.906250</td>\n",
       "    </tr>\n",
       "    <tr>\n",
       "      <th>1825</th>\n",
       "      <td>2022-05-11</td>\n",
       "      <td>31165.041016</td>\n",
       "    </tr>\n",
       "  </tbody>\n",
       "</table>\n",
       "</div>"
      ],
      "text/plain": [
       "           Date         Close\n",
       "1821 2022-05-07  35501.953125\n",
       "1822 2022-05-08  34059.265625\n",
       "1823 2022-05-09  30296.953125\n",
       "1824 2022-05-10  31022.906250\n",
       "1825 2022-05-11  31165.041016"
      ]
     },
     "execution_count": 20,
     "metadata": {},
     "output_type": "execute_result"
    }
   ],
   "source": [
    "df_eth[\"Date\"] = pd.to_datetime(df_eth[\"Date\"])\n",
    "df.tail()"
   ]
  },
  {
   "cell_type": "code",
   "execution_count": 21,
   "metadata": {},
   "outputs": [
    {
     "data": {
      "text/html": [
       "<div>\n",
       "<style scoped>\n",
       "    .dataframe tbody tr th:only-of-type {\n",
       "        vertical-align: middle;\n",
       "    }\n",
       "\n",
       "    .dataframe tbody tr th {\n",
       "        vertical-align: top;\n",
       "    }\n",
       "\n",
       "    .dataframe thead th {\n",
       "        text-align: right;\n",
       "    }\n",
       "</style>\n",
       "<table border=\"1\" class=\"dataframe\">\n",
       "  <thead>\n",
       "    <tr style=\"text-align: right;\">\n",
       "      <th></th>\n",
       "      <th>Date</th>\n",
       "      <th>Close</th>\n",
       "    </tr>\n",
       "  </thead>\n",
       "  <tbody>\n",
       "    <tr>\n",
       "      <th>0</th>\n",
       "      <td>2017-11-09</td>\n",
       "      <td>320.884003</td>\n",
       "    </tr>\n",
       "    <tr>\n",
       "      <th>1</th>\n",
       "      <td>2017-11-10</td>\n",
       "      <td>299.252991</td>\n",
       "    </tr>\n",
       "    <tr>\n",
       "      <th>2</th>\n",
       "      <td>2017-11-11</td>\n",
       "      <td>314.681000</td>\n",
       "    </tr>\n",
       "    <tr>\n",
       "      <th>3</th>\n",
       "      <td>2017-11-12</td>\n",
       "      <td>307.907990</td>\n",
       "    </tr>\n",
       "    <tr>\n",
       "      <th>4</th>\n",
       "      <td>2017-11-13</td>\n",
       "      <td>316.716003</td>\n",
       "    </tr>\n",
       "    <tr>\n",
       "      <th>...</th>\n",
       "      <td>...</td>\n",
       "      <td>...</td>\n",
       "    </tr>\n",
       "    <tr>\n",
       "      <th>1640</th>\n",
       "      <td>2022-05-07</td>\n",
       "      <td>2636.093018</td>\n",
       "    </tr>\n",
       "    <tr>\n",
       "      <th>1641</th>\n",
       "      <td>2022-05-08</td>\n",
       "      <td>2517.459961</td>\n",
       "    </tr>\n",
       "    <tr>\n",
       "      <th>1642</th>\n",
       "      <td>2022-05-09</td>\n",
       "      <td>2245.430420</td>\n",
       "    </tr>\n",
       "    <tr>\n",
       "      <th>1643</th>\n",
       "      <td>2022-05-10</td>\n",
       "      <td>2343.510986</td>\n",
       "    </tr>\n",
       "    <tr>\n",
       "      <th>1644</th>\n",
       "      <td>2022-05-11</td>\n",
       "      <td>2329.309570</td>\n",
       "    </tr>\n",
       "  </tbody>\n",
       "</table>\n",
       "<p>1645 rows × 2 columns</p>\n",
       "</div>"
      ],
      "text/plain": [
       "           Date        Close\n",
       "0    2017-11-09   320.884003\n",
       "1    2017-11-10   299.252991\n",
       "2    2017-11-11   314.681000\n",
       "3    2017-11-12   307.907990\n",
       "4    2017-11-13   316.716003\n",
       "...         ...          ...\n",
       "1640 2022-05-07  2636.093018\n",
       "1641 2022-05-08  2517.459961\n",
       "1642 2022-05-09  2245.430420\n",
       "1643 2022-05-10  2343.510986\n",
       "1644 2022-05-11  2329.309570\n",
       "\n",
       "[1645 rows x 2 columns]"
      ]
     },
     "execution_count": 21,
     "metadata": {},
     "output_type": "execute_result"
    }
   ],
   "source": [
    "df_eth.head(10000)"
   ]
  },
  {
   "cell_type": "code",
   "execution_count": 22,
   "metadata": {},
   "outputs": [],
   "source": [
    "from statsmodels.tsa.statespace.exponential_smoothing import ExponentialSmoothing"
   ]
  },
  {
   "cell_type": "code",
   "execution_count": 23,
   "metadata": {},
   "outputs": [
    {
     "data": {
      "text/html": [
       "<div>\n",
       "<style scoped>\n",
       "    .dataframe tbody tr th:only-of-type {\n",
       "        vertical-align: middle;\n",
       "    }\n",
       "\n",
       "    .dataframe tbody tr th {\n",
       "        vertical-align: top;\n",
       "    }\n",
       "\n",
       "    .dataframe thead th {\n",
       "        text-align: right;\n",
       "    }\n",
       "</style>\n",
       "<table border=\"1\" class=\"dataframe\">\n",
       "  <thead>\n",
       "    <tr style=\"text-align: right;\">\n",
       "      <th>Close</th>\n",
       "      <th>mean</th>\n",
       "      <th>mean_se</th>\n",
       "      <th>mean_ci_lower</th>\n",
       "      <th>mean_ci_upper</th>\n",
       "    </tr>\n",
       "  </thead>\n",
       "  <tbody>\n",
       "    <tr>\n",
       "      <th>1645</th>\n",
       "      <td>2329.904335</td>\n",
       "      <td>79.814048</td>\n",
       "      <td>2227.618517</td>\n",
       "      <td>2432.190153</td>\n",
       "    </tr>\n",
       "    <tr>\n",
       "      <th>1646</th>\n",
       "      <td>2329.904335</td>\n",
       "      <td>109.166591</td>\n",
       "      <td>2190.001719</td>\n",
       "      <td>2469.806951</td>\n",
       "    </tr>\n",
       "    <tr>\n",
       "      <th>1647</th>\n",
       "      <td>2329.904335</td>\n",
       "      <td>132.152969</td>\n",
       "      <td>2160.543491</td>\n",
       "      <td>2499.265179</td>\n",
       "    </tr>\n",
       "    <tr>\n",
       "      <th>1648</th>\n",
       "      <td>2329.904335</td>\n",
       "      <td>151.695318</td>\n",
       "      <td>2135.498963</td>\n",
       "      <td>2524.309707</td>\n",
       "    </tr>\n",
       "    <tr>\n",
       "      <th>1649</th>\n",
       "      <td>2329.904335</td>\n",
       "      <td>168.992698</td>\n",
       "      <td>2113.331478</td>\n",
       "      <td>2546.477191</td>\n",
       "    </tr>\n",
       "  </tbody>\n",
       "</table>\n",
       "</div>"
      ],
      "text/plain": [
       "Close         mean     mean_se  mean_ci_lower  mean_ci_upper\n",
       "1645   2329.904335   79.814048    2227.618517    2432.190153\n",
       "1646   2329.904335  109.166591    2190.001719    2469.806951\n",
       "1647   2329.904335  132.152969    2160.543491    2499.265179\n",
       "1648   2329.904335  151.695318    2135.498963    2524.309707\n",
       "1649   2329.904335  168.992698    2113.331478    2546.477191"
      ]
     },
     "execution_count": 23,
     "metadata": {},
     "output_type": "execute_result"
    }
   ],
   "source": [
    "HORIZON = 10\n",
    "\n",
    "model_eth = ExponentialSmoothing(endog = df_eth['Close'])\n",
    "results_eth = model_eth.fit()\n",
    "\n",
    "preds_eth = results_eth.get_forecast(steps=HORIZON)\n",
    "\n",
    "preds_eth.summary_frame(alpha=0.2).head()"
   ]
  },
  {
   "cell_type": "code",
   "execution_count": 24,
   "metadata": {},
   "outputs": [
    {
     "data": {
      "text/html": [
       "<div>\n",
       "<style scoped>\n",
       "    .dataframe tbody tr th:only-of-type {\n",
       "        vertical-align: middle;\n",
       "    }\n",
       "\n",
       "    .dataframe tbody tr th {\n",
       "        vertical-align: top;\n",
       "    }\n",
       "\n",
       "    .dataframe thead th {\n",
       "        text-align: right;\n",
       "    }\n",
       "</style>\n",
       "<table border=\"1\" class=\"dataframe\">\n",
       "  <thead>\n",
       "    <tr style=\"text-align: right;\">\n",
       "      <th>Close</th>\n",
       "      <th>mean</th>\n",
       "      <th>mean_se</th>\n",
       "      <th>mean_ci_lower</th>\n",
       "      <th>mean_ci_upper</th>\n",
       "    </tr>\n",
       "  </thead>\n",
       "  <tbody>\n",
       "    <tr>\n",
       "      <th>1645</th>\n",
       "      <td>2329.904335</td>\n",
       "      <td>79.814048</td>\n",
       "      <td>2227.618517</td>\n",
       "      <td>2432.190153</td>\n",
       "    </tr>\n",
       "    <tr>\n",
       "      <th>1646</th>\n",
       "      <td>2329.904335</td>\n",
       "      <td>109.166591</td>\n",
       "      <td>2190.001719</td>\n",
       "      <td>2469.806951</td>\n",
       "    </tr>\n",
       "    <tr>\n",
       "      <th>1647</th>\n",
       "      <td>2329.904335</td>\n",
       "      <td>132.152969</td>\n",
       "      <td>2160.543491</td>\n",
       "      <td>2499.265179</td>\n",
       "    </tr>\n",
       "    <tr>\n",
       "      <th>1648</th>\n",
       "      <td>2329.904335</td>\n",
       "      <td>151.695318</td>\n",
       "      <td>2135.498963</td>\n",
       "      <td>2524.309707</td>\n",
       "    </tr>\n",
       "    <tr>\n",
       "      <th>1649</th>\n",
       "      <td>2329.904335</td>\n",
       "      <td>168.992698</td>\n",
       "      <td>2113.331478</td>\n",
       "      <td>2546.477191</td>\n",
       "    </tr>\n",
       "    <tr>\n",
       "      <th>1650</th>\n",
       "      <td>2329.904335</td>\n",
       "      <td>184.677000</td>\n",
       "      <td>2093.231236</td>\n",
       "      <td>2566.577433</td>\n",
       "    </tr>\n",
       "    <tr>\n",
       "      <th>1651</th>\n",
       "      <td>2329.904335</td>\n",
       "      <td>199.129749</td>\n",
       "      <td>2074.709294</td>\n",
       "      <td>2585.099376</td>\n",
       "    </tr>\n",
       "    <tr>\n",
       "      <th>1652</th>\n",
       "      <td>2329.904335</td>\n",
       "      <td>212.602256</td>\n",
       "      <td>2057.443581</td>\n",
       "      <td>2602.365089</td>\n",
       "    </tr>\n",
       "    <tr>\n",
       "      <th>1653</th>\n",
       "      <td>2329.904335</td>\n",
       "      <td>225.270463</td>\n",
       "      <td>2041.208620</td>\n",
       "      <td>2618.600050</td>\n",
       "    </tr>\n",
       "    <tr>\n",
       "      <th>1654</th>\n",
       "      <td>2329.904335</td>\n",
       "      <td>237.263238</td>\n",
       "      <td>2025.839261</td>\n",
       "      <td>2633.969409</td>\n",
       "    </tr>\n",
       "  </tbody>\n",
       "</table>\n",
       "</div>"
      ],
      "text/plain": [
       "Close         mean     mean_se  mean_ci_lower  mean_ci_upper\n",
       "1645   2329.904335   79.814048    2227.618517    2432.190153\n",
       "1646   2329.904335  109.166591    2190.001719    2469.806951\n",
       "1647   2329.904335  132.152969    2160.543491    2499.265179\n",
       "1648   2329.904335  151.695318    2135.498963    2524.309707\n",
       "1649   2329.904335  168.992698    2113.331478    2546.477191\n",
       "1650   2329.904335  184.677000    2093.231236    2566.577433\n",
       "1651   2329.904335  199.129749    2074.709294    2585.099376\n",
       "1652   2329.904335  212.602256    2057.443581    2602.365089\n",
       "1653   2329.904335  225.270463    2041.208620    2618.600050\n",
       "1654   2329.904335  237.263238    2025.839261    2633.969409"
      ]
     },
     "execution_count": 24,
     "metadata": {},
     "output_type": "execute_result"
    }
   ],
   "source": [
    "preds_eth.summary_frame(alpha=0.2).head(10)"
   ]
  },
  {
   "cell_type": "markdown",
   "metadata": {},
   "source": [
    "---\n",
    "\n",
    "The plot below displays the predicted values + the confidence interval generated in this model implementation.\n",
    "For the sake of a better visualization, it was scaled for the last 85 observations.\n",
    "\n",
    "---"
   ]
  },
  {
   "cell_type": "code",
   "execution_count": 25,
   "metadata": {},
   "outputs": [
    {
     "data": {
      "text/plain": [
       "<matplotlib.legend.Legend at 0x7ff7ca2b6910>"
      ]
     },
     "execution_count": 25,
     "metadata": {},
     "output_type": "execute_result"
    },
    {
     "data": {
      "image/png": "[encoded data removed]",
      "text/plain": [
       "<Figure size 864x288 with 1 Axes>"
      ]
     },
     "metadata": {
      "needs_background": "light"
     },
     "output_type": "display_data"
    }
   ],
   "source": [
    "ax_eth = df_eth['Close'].iloc[-85:].plot(figsize=(12,4))\n",
    "forecast_80_eth = preds_eth.summary_frame(alpha=0.2)[['mean', 'mean_ci_lower', 'mean_ci_upper']]\n",
    "forecast_90_eth = preds_eth.summary_frame(alpha=0.1)[['mean', 'mean_ci_lower', 'mean_ci_upper']]\n",
    "\n",
    "ax_eth.fill_between(forecast_90_eth.index, forecast_90_eth['mean_ci_lower'], forecast_90_eth['mean_ci_upper'], alpha=0.5, label='90% PI')\n",
    "ax_eth.fill_between(forecast_80_eth.index, forecast_90_eth['mean_ci_lower'], forecast_80_eth['mean_ci_upper'], alpha=0.5, label='80% PI')\n",
    "\n",
    "forecast_80_eth['mean'].iloc[-85:].plot(ax=ax_eth, label='forecast', color='red')\n",
    "\n",
    "results_eth.fittedvalues.iloc[-85:].plot(ax=ax_eth, label='fitted', color='green', linestyle='--')\n",
    "\n",
    "ax_eth.legend(loc=3)"
   ]
  },
  {
   "cell_type": "code",
   "execution_count": 27,
   "metadata": {},
   "outputs": [
    {
     "data": {
      "text/html": [
       "<table class=\"simpletable\">\n",
       "<caption>Exponential Smoothing Results</caption>\n",
       "<tr>\n",
       "  <th>Dep. Variable:</th>         <td>Close</td>      <th>  No. Observations:  </th>   <td>1645</td>   \n",
       "</tr>\n",
       "<tr>\n",
       "  <th>Model:</th>             <td>ETS(A, N, N)</td>   <th>  Log Likelihood     </th> <td>-9538.760</td>\n",
       "</tr>\n",
       "<tr>\n",
       "  <th>Date:</th>            <td>Wed, 11 May 2022</td> <th>  AIC                </th> <td>19083.519</td>\n",
       "</tr>\n",
       "<tr>\n",
       "  <th>Time:</th>                <td>15:19:48</td>     <th>  BIC                </th> <td>19099.736</td>\n",
       "</tr>\n",
       "<tr>\n",
       "  <th>Sample:</th>                  <td>0</td>        <th>  HQIC               </th> <td>19089.533</td>\n",
       "</tr>\n",
       "<tr>\n",
       "  <th></th>                      <td> - 1645</td>     <th>  Scale              </th> <td>6370.282</td> \n",
       "</tr>\n",
       "<tr>\n",
       "  <th>Covariance Type:</th>        <td>opg</td>       <th>                     </th>     <td> </td>    \n",
       "</tr>\n",
       "</table>\n",
       "<table class=\"simpletable\">\n",
       "<tr>\n",
       "         <td></td>            <th>coef</th>     <th>std err</th>      <th>z</th>      <th>P>|z|</th>  <th>[0.025</th>    <th>0.975]</th>  \n",
       "</tr>\n",
       "<tr>\n",
       "  <th>smoothing_level</th> <td>    0.9332</td> <td>    0.013</td> <td>   72.910</td> <td> 0.000</td> <td>    0.908</td> <td>    0.958</td>\n",
       "</tr>\n",
       "<tr>\n",
       "  <th>initial_level</th>   <td>  320.8837</td> <td> 4374.901</td> <td>    0.073</td> <td> 0.942</td> <td>-8253.764</td> <td> 8895.531</td>\n",
       "</tr>\n",
       "</table>\n",
       "<table class=\"simpletable\">\n",
       "<tr>\n",
       "  <th>Ljung-Box (L1) (Q):</th>     <td>0.00</td>  <th>  Jarque-Bera (JB):  </th> <td>23706.14</td>\n",
       "</tr>\n",
       "<tr>\n",
       "  <th>Prob(Q):</th>                <td>0.97</td>  <th>  Prob(JB):          </th>   <td>0.00</td>  \n",
       "</tr>\n",
       "<tr>\n",
       "  <th>Heteroskedasticity (H):</th> <td>17.25</td> <th>  Skew:              </th>   <td>-0.98</td> \n",
       "</tr>\n",
       "<tr>\n",
       "  <th>Prob(H) (two-sided):</th>    <td>0.00</td>  <th>  Kurtosis:          </th>   <td>21.49</td> \n",
       "</tr>\n",
       "</table><br/><br/>Warnings:<br/>[1] Covariance matrix calculated using the outer product of gradients (complex-step)."
      ],
      "text/plain": [
       "<class 'statsmodels.iolib.summary.Summary'>\n",
       "\"\"\"\n",
       "                        Exponential Smoothing Results                         \n",
       "==============================================================================\n",
       "Dep. Variable:                  Close   No. Observations:                 1645\n",
       "Model:                   ETS(A, N, N)   Log Likelihood               -9538.760\n",
       "Date:                Wed, 11 May 2022   AIC                          19083.519\n",
       "Time:                        15:19:48   BIC                          19099.736\n",
       "Sample:                             0   HQIC                         19089.533\n",
       "                               - 1645   Scale                         6370.282\n",
       "Covariance Type:                  opg                                         \n",
       "===================================================================================\n",
       "                      coef    std err          z      P>|z|      [0.025      0.975]\n",
       "-----------------------------------------------------------------------------------\n",
       "smoothing_level     0.9332      0.013     72.910      0.000       0.908       0.958\n",
       "initial_level     320.8837   4374.901      0.073      0.942   -8253.764    8895.531\n",
       "===================================================================================\n",
       "Ljung-Box (L1) (Q):                   0.00   Jarque-Bera (JB):             23706.14\n",
       "Prob(Q):                              0.97   Prob(JB):                         0.00\n",
       "Heteroskedasticity (H):              17.25   Skew:                            -0.98\n",
       "Prob(H) (two-sided):                  0.00   Kurtosis:                        21.49\n",
       "===================================================================================\n",
       "\n",
       "Warnings:\n",
       "[1] Covariance matrix calculated using the outer product of gradients (complex-step).\n",
       "\"\"\""
      ]
     },
     "execution_count": 27,
     "metadata": {},
     "output_type": "execute_result"
    }
   ],
   "source": [
    "results_eth.summary()"
   ]
  },
  {
   "cell_type": "code",
   "execution_count": 28,
   "metadata": {},
   "outputs": [],
   "source": [
    "from statsmodels.graphics.tsaplots import plot_pacf\n",
    "from statsmodels.graphics.tsaplots import plot_acf\n",
    "from statsmodels.tsa.statespace.sarimax import SARIMAX\n",
    "from statsmodels.tsa.holtwinters import ExponentialSmoothing\n",
    "from statsmodels.tsa.stattools import adfuller\n",
    "import matplotlib.pyplot as plt\n",
    "from tqdm import tqdm_notebook\n",
    "import numpy as np\n",
    "import pandas as pd\n",
    "\n",
    "from itertools import product\n",
    "from sklearn.metrics import mean_squared_error, r2_score, mean_absolute_error\n",
    "from sklearn.metrics import median_absolute_error, mean_squared_log_error\n",
    "\n",
    "import warnings\n",
    "warnings.filterwarnings('ignore')\n",
    "\n",
    "%matplotlib inline"
   ]
  },
  {
   "cell_type": "markdown",
   "metadata": {},
   "source": [
    "### Model residuals"
   ]
  },
  {
   "cell_type": "code",
   "execution_count": 29,
   "metadata": {},
   "outputs": [
    {
     "data": {
      "image/png": "[encoded data removed]",
      "text/plain": [
       "<Figure size 1080x864 with 4 Axes>"
      ]
     },
     "metadata": {
      "needs_background": "light"
     },
     "output_type": "display_data"
    }
   ],
   "source": [
    "# Diagnosing the model residuals\n",
    "results_eth.plot_diagnostics(figsize = (15, 12))\n",
    "plt.show()"
   ]
  },
  {
   "cell_type": "code",
   "execution_count": 30,
   "metadata": {},
   "outputs": [
    {
     "data": {
      "text/plain": [
       "((1398, 2), (247, 2))"
      ]
     },
     "execution_count": 30,
     "metadata": {},
     "output_type": "execute_result"
    }
   ],
   "source": [
    "# Divide into train and validation set to calculate R-squared score\n",
    "train_eth = df_eth[:int(0.85 * (len(df_eth)))]\n",
    "test_eth  = df_eth[int(0.85 * (len(df_eth))):]\n",
    "\n",
    "train_eth.shape, test_eth.shape"
   ]
  },
  {
   "cell_type": "code",
   "execution_count": 31,
   "metadata": {},
   "outputs": [
    {
     "name": "stdout",
     "output_type": "stream",
     "text": [
      "1398    3929.692763\n",
      "1399    3460.039003\n",
      "1400    3494.823331\n",
      "1401    3431.851237\n",
      "1402    3226.235603\n",
      "           ...     \n",
      "1640    2699.415086\n",
      "1641    2640.325999\n",
      "1642    2525.673363\n",
      "1643    2264.164222\n",
      "1644    2338.206779\n",
      "Name: Simple Exponential Smoothing Predictions, Length: 247, dtype: float64\n"
     ]
    }
   ],
   "source": [
    "start_eth = len(train_eth)\n",
    "end_eth   = len(train_eth) + len(test_eth) - 1\n",
    "predictions_eth = results_eth.predict(start = start_eth, end = end_eth, dynamic = False, typ = 'levels').rename('Simple Exponential Smoothing Predictions')\n",
    "print(predictions_eth)"
   ]
  },
  {
   "cell_type": "code",
   "execution_count": 32,
   "metadata": {},
   "outputs": [
    {
     "data": {
      "text/html": [
       "<div>\n",
       "<style scoped>\n",
       "    .dataframe tbody tr th:only-of-type {\n",
       "        vertical-align: middle;\n",
       "    }\n",
       "\n",
       "    .dataframe tbody tr th {\n",
       "        vertical-align: top;\n",
       "    }\n",
       "\n",
       "    .dataframe thead th {\n",
       "        text-align: right;\n",
       "    }\n",
       "</style>\n",
       "<table border=\"1\" class=\"dataframe\">\n",
       "  <thead>\n",
       "    <tr style=\"text-align: right;\">\n",
       "      <th></th>\n",
       "      <th>r2_score</th>\n",
       "    </tr>\n",
       "  </thead>\n",
       "  <tbody>\n",
       "    <tr>\n",
       "      <th>0</th>\n",
       "      <td>0.953503</td>\n",
       "    </tr>\n",
       "  </tbody>\n",
       "</table>\n",
       "</div>"
      ],
      "text/plain": [
       "   r2_score\n",
       "0  0.953503"
      ]
     },
     "execution_count": 32,
     "metadata": {},
     "output_type": "execute_result"
    }
   ],
   "source": [
    "# Create a dataframe to store r2 score\n",
    "evaluation_results_eth = pd.DataFrame({'r2_score': r2_score(test_eth['Close'], predictions_eth)}, index = [0])\n",
    "\n",
    "# Display the results\n",
    "evaluation_results_eth"
   ]
  },
  {
   "cell_type": "markdown",
   "metadata": {},
   "source": [
    "**Although, the implementation of our Statistical Exponential Smoothing Model on Etherium is slightly lower than with the Bitcoin, it is still presenting good results.**\n",
    "\n",
    "---"
   ]
  },
  {
   "cell_type": "code",
   "execution_count": null,
   "metadata": {},
   "outputs": [],
   "source": []
  },
  {
   "cell_type": "code",
   "execution_count": null,
   "metadata": {},
   "outputs": [],
   "source": []
  },
  {
   "cell_type": "markdown",
   "metadata": {},
   "source": [
    "---\n",
    "\n",
    "# Automation and Decision-Making Function: Custom Made Function to train the model, request external API and come up with an \"advice\"\n",
    "\n",
    "---"
   ]
  },
  {
   "cell_type": "markdown",
   "metadata": {},
   "source": [
    "The function below will perform the following tasks:\n",
    "*  Train the model once a day\n",
    "*  Find the middle value of the dataset\n",
    "*  HTTP request to find the real time of the crypto (Bitcoin)\n",
    "*  According to the position of value-predicted for the following day/real-time value in comparison with the top and bottom section defined in the business case, return an statistical advice.\n",
    "\n",
    "---\n"
   ]
  },
  {
   "cell_type": "code",
   "execution_count": 78,
   "metadata": {},
   "outputs": [],
   "source": [
    "import requests"
   ]
  },
  {
   "cell_type": "code",
   "execution_count": 79,
   "metadata": {},
   "outputs": [],
   "source": [
    "from threading import Timer"
   ]
  },
  {
   "cell_type": "markdown",
   "metadata": {},
   "source": [
    "The packages above have the purpose of:\n",
    "* requests = prooceding with the API call to find out the real value of the Bitcoin\n",
    "* Timer from threading = create a time-interval which will recursively call the custom made functions\n",
    "\n",
    "---"
   ]
  },
  {
   "cell_type": "markdown",
   "metadata": {},
   "source": [
    "The API chosen to check the real time value of the Bitcoin was bitpay.com.\n",
    "The function below returns only the required rate"
   ]
  },
  {
   "cell_type": "code",
   "execution_count": 80,
   "metadata": {},
   "outputs": [],
   "source": [
    "def find_real_time_value():\n",
    "    real_time_price = requests.get('https://bitpay.com/api/rates/USD')\n",
    "    x = real_time_price.json()\n",
    "    return x['rate']\n"
   ]
  },
  {
   "cell_type": "markdown",
   "metadata": {},
   "source": [
    "---\n",
    "The following custom made function receives as a parameter a dataset, and returns the middle value of the dataset.\n",
    "This step will help in the Decision-making feature.\n",
    "\n",
    "---"
   ]
  },
  {
   "cell_type": "code",
   "execution_count": 81,
   "metadata": {},
   "outputs": [
    {
     "name": "stdout",
     "output_type": "stream",
     "text": [
      "33783.4140625\n"
     ]
    }
   ],
   "source": [
    "def get_middle_value(data):\n",
    "    high = 0\n",
    "    low = 0\n",
    "    middle_value = 0\n",
    "    \n",
    "    # Finding higher and lowest values in order to get a middle value\n",
    "    for x in data:\n",
    "        if high > x:\n",
    "            high = high\n",
    "        else:\n",
    "            high = x\n",
    "        \n",
    "        if low < x:\n",
    "            low = low\n",
    "        else:\n",
    "            low = x\n",
    "        \n",
    "        middle_value = (high - low)/2 \n",
    "            \n",
    "    return middle_value\n",
    "\n",
    "test = get_middle_value(df['Close'])\n",
    "print(test)"
   ]
  },
  {
   "cell_type": "markdown",
   "metadata": {},
   "source": [
    "---\n",
    "The following two custom made functions, are as follows:\n",
    "* **get_highest**: Receives a dataset, returns the highest value of it\n",
    "* **get_lowest**: Receives a dataset, returns the lowest value presented on it\n",
    "\n",
    "---"
   ]
  },
  {
   "cell_type": "code",
   "execution_count": 82,
   "metadata": {},
   "outputs": [],
   "source": [
    "def get_highest(data):\n",
    "    highest = 0\n",
    "    for x in data:\n",
    "        if highest > x:\n",
    "            highest = highest\n",
    "        else:\n",
    "            highest = x\n",
    "            \n",
    "    return highest"
   ]
  },
  {
   "cell_type": "code",
   "execution_count": 83,
   "metadata": {},
   "outputs": [],
   "source": [
    "def get_lowest(data):\n",
    "    lowest = 0\n",
    "    for x in data:\n",
    "        if lowest < x:\n",
    "            lowest = lowest\n",
    "        else:\n",
    "            lowest = x\n",
    "            \n",
    "    return lowest"
   ]
  },
  {
   "cell_type": "markdown",
   "metadata": {},
   "source": [
    "---\n",
    "The **model_training** function receives **two parameters**:\n",
    "* dataset\n",
    "* days to predict\n",
    "\n",
    "Although the function will proceed with the model fitting and prediction, it is still need the datapreparation to be done before the dataset be sent as parameter.\n",
    "\n",
    "The first 'setInterval' is used, making the model_training function runs every 24 hours.\n",
    "\n",
    "---"
   ]
  },
  {
   "cell_type": "code",
   "execution_count": 84,
   "metadata": {},
   "outputs": [],
   "source": [
    "def read_dataset():\n",
    "    df = pdr.get_data_yahoo('BTC-USD')\n",
    "    df.drop(['High', 'Low', 'Open', 'Volume', 'Adj Close'], axis=1, inplace=True)\n",
    "    df=df.reset_index()\n",
    "    df[\"Date\"] = pd.to_datetime(df[\"Date\"])\n",
    "    return df"
   ]
  },
  {
   "cell_type": "code",
   "execution_count": 86,
   "metadata": {},
   "outputs": [
    {
     "name": "stdout",
     "output_type": "stream",
     "text": [
      "0        1724.239990\n",
      "1        1804.910034\n",
      "2        1808.910034\n",
      "3        1738.430054\n",
      "4        1734.449951\n",
      "            ...     \n",
      "1821    35501.953125\n",
      "1822    34059.265625\n",
      "1823    30296.953125\n",
      "1824    31022.906250\n",
      "1825    31641.576172\n",
      "Name: Close, Length: 1826, dtype: float64\n"
     ]
    }
   ],
   "source": [
    "test = read_dataset()\n",
    "print(test['Close'])"
   ]
  },
  {
   "cell_type": "code",
   "execution_count": 99,
   "metadata": {},
   "outputs": [],
   "source": [
    "# Train the Model\n",
    "# Function to train a general model every 24h\n",
    "\n",
    "def model_training(days_to_predict):\n",
    "    run = True\n",
    "    HORIZON = days_to_predict\n",
    "    \n",
    "    data = read_dataset()\n",
    "\n",
    "    model = ExponentialSmoothing(endog = data['Close'])\n",
    "    results = model.fit()\n",
    "    \n",
    "    def call_train():\n",
    "        model_training(dataset, days_to_predict)\n",
    "        \n",
    "    if run:\n",
    "        Timer(86400, call_train).start()\n",
    "    \n",
    "    return results"
   ]
  },
  {
   "cell_type": "markdown",
   "metadata": {},
   "source": [
    "---\n",
    "The cherry on the top of the cake:\n",
    "\n",
    "**statistical_decision() function.**\n",
    "\n",
    "The function receives the following parameters:\n",
    "* The fitted Model\n",
    "* The dataset\n",
    "\n",
    "The function works as follows:\n",
    "\n",
    "*First Phase*\n",
    "\n",
    "1. The function calls the get_highest and the get_lowest functions\n",
    "2. Sets a top_bounder and bottom_bounder with a zero initial value\n",
    "3. Sets run = True (run will enables the Timer runs and the automation works)\n",
    "\n",
    "*Second Phase*\n",
    "\n",
    "1. Gets the real time of the Bitcoin, calling the find_real_time_value()\n",
    "2. Gets the middle value, calling the get_middle_value function\n",
    "3. Re-assign the top_bounder and the bottom_bounder to 2/3 of the highest and the lowest values, respectively.\n",
    "\n",
    "*Third Phase*\n",
    "\n",
    "- The Decision-making logic\n",
    "\n",
    "The decision-making logic is based on the business case of the project.\n",
    "The variable 'v' receives the step ahead predicted value, and confronts it with the top and bottom bounders previously defined, returning a statistical decision according to where the predicted value is in relation to the defined top and bottom bounders.\n",
    "\n",
    "The timer runs every minute as the API updates the bitcoin real time value each 60s.\n",
    "\n",
    "\n",
    "---"
   ]
  },
  {
   "cell_type": "code",
   "execution_count": 100,
   "metadata": {},
   "outputs": [],
   "source": [
    "def statistical_decision(model, data):\n",
    "    # Defining boundaries\n",
    "    high = get_highest(data)\n",
    "    low = get_lowest(data)\n",
    "    \n",
    "    top_bounder = 0\n",
    "    bottom_bounder = 0\n",
    "    \n",
    "    run = True\n",
    "    \n",
    "    # Checking real time of the bitcoin in USD\n",
    "    x = find_real_time_value()\n",
    "    \n",
    "    # Get Middle value\n",
    "    m = get_middle_value(data)\n",
    "    one_third_high = (high - m)/3\n",
    "    one_third_bottom = (low - m)/3\n",
    "    top_bounder = m + one_third_high * 2\n",
    "    bottom_bounder = m + one_third_bottom * 2 \n",
    "    \n",
    "    # Decision logic\n",
    "    model2 = model_training(10)\n",
    "    v = model2.forecast(steps=1)\n",
    "    \n",
    "    to_return_1 = 'Real time value is:'\n",
    "    to_return_2 = 'Predicted value for tomorrow is:'\n",
    "    \n",
    "    if v.item() > top_bounder:\n",
    "        print('Sell!', to_return_1, x, to_return_2, v.item())\n",
    "    \n",
    "    elif v.item() < bottom_bounder:\n",
    "        print('Sell!', to_return_1, x, to_return_2, v.item())\n",
    "    \n",
    "    elif v.item() > bottom_bounder:\n",
    "        print('Buy!', to_return_1, x, to_return_2, v.item())\n",
    "    \n",
    "    elif v.item() < top_bounder:\n",
    "        print('Buy!', to_return_1, x, to_return_2, v.item())\n",
    "        \n",
    "    def call():\n",
    "        statistical_decision(model, data)\n",
    "        \n",
    "    if run:\n",
    "        Timer(60, call).start()\n",
    "        \n",
    "    "
   ]
  },
  {
   "cell_type": "markdown",
   "metadata": {},
   "source": [
    "---\n",
    "\n",
    "Calling the statistical_decision() function and passing as parameter:\n",
    "- The model = results\n",
    "- The dataset = df['Close']"
   ]
  },
  {
   "cell_type": "code",
   "execution_count": 101,
   "metadata": {},
   "outputs": [
    {
     "name": "stdout",
     "output_type": "stream",
     "text": [
      "Buy! Real time value is: 31426.39 Predicted value for tomorrow is: 31484.410912267722\n",
      "Buy! Real time value is: 31500.72 Predicted value for tomorrow is: 31484.410912267722\n",
      "Buy! Real time value is: 31562.96 Predicted value for tomorrow is: 31466.092674323307\n",
      "Buy! Real time value is: 31564.83 Predicted value for tomorrow is: 31469.392643904266\n",
      "Buy! Real time value is: 31692.51 Predicted value for tomorrow is: 31519.695614391203\n"
     ]
    }
   ],
   "source": [
    "statistical_decision(results, df['Close'])"
   ]
  },
  {
   "cell_type": "code",
   "execution_count": null,
   "metadata": {},
   "outputs": [],
   "source": []
  },
  {
   "cell_type": "code",
   "execution_count": null,
   "metadata": {},
   "outputs": [],
   "source": []
  }
 ],
 "metadata": {
  "colab": {
   "collapsed_sections": [
    "6Hy9OrJkdF_n",
    "PGzPFzSlcfMW"
   ],
   "name": "Exponential_Statistical_Model_To_Use.ipynb",
   "provenance": []
  },
  "kernelspec": {
   "display_name": "Python 3",
   "language": "python",
   "name": "python3"
  },
  "language_info": {
   "codemirror_mode": {
    "name": "ipython",
    "version": 3
   },
   "file_extension": ".py",
   "mimetype": "text/x-python",
   "name": "python",
   "nbconvert_exporter": "python",
   "pygments_lexer": "ipython3",
   "version": "3.8.5"
  }
 },
 "nbformat": 4,
 "nbformat_minor": 1
}
