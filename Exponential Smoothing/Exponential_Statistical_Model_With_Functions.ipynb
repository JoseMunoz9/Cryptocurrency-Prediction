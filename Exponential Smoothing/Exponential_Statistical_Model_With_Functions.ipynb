{
 "cells": [
  {
   "cell_type": "markdown",
   "metadata": {
    "id": "PGzPFzSlcfMW"
   },
   "source": [
    "---\n",
    "# **Model Giving good Stats - Use this one for the project**\n",
    "Add comments and explanation texts, clean the code, perharps use another notebook for the end result model\n",
    "---\n"
   ]
  },
  {
   "cell_type": "code",
   "execution_count": 1,
   "metadata": {},
   "outputs": [
    {
     "name": "stdout",
     "output_type": "stream",
     "text": [
      "Requirement already satisfied: pandas in /opt/anaconda3/lib/python3.8/site-packages (1.4.2)\n",
      "Requirement already satisfied: pip in /opt/anaconda3/lib/python3.8/site-packages (22.0.4)\n",
      "Requirement already satisfied: install in /opt/anaconda3/lib/python3.8/site-packages (1.3.5)\n",
      "Requirement already satisfied: pandas-datareader in /opt/anaconda3/lib/python3.8/site-packages (0.10.0)\n",
      "Requirement already satisfied: numpy>=1.18.5 in /opt/anaconda3/lib/python3.8/site-packages (from pandas) (1.19.5)\n",
      "Requirement already satisfied: pytz>=2020.1 in /opt/anaconda3/lib/python3.8/site-packages (from pandas) (2020.1)\n",
      "Requirement already satisfied: python-dateutil>=2.8.1 in /opt/anaconda3/lib/python3.8/site-packages (from pandas) (2.8.1)\n",
      "Requirement already satisfied: requests>=2.19.0 in /opt/anaconda3/lib/python3.8/site-packages (from pandas-datareader) (2.24.0)\n",
      "Requirement already satisfied: lxml in /opt/anaconda3/lib/python3.8/site-packages (from pandas-datareader) (4.6.1)\n",
      "Requirement already satisfied: six>=1.5 in /opt/anaconda3/lib/python3.8/site-packages (from python-dateutil>=2.8.1->pandas) (1.15.0)\n",
      "Requirement already satisfied: certifi>=2017.4.17 in /opt/anaconda3/lib/python3.8/site-packages (from requests>=2.19.0->pandas-datareader) (2020.6.20)\n",
      "Requirement already satisfied: urllib3!=1.25.0,!=1.25.1,<1.26,>=1.21.1 in /opt/anaconda3/lib/python3.8/site-packages (from requests>=2.19.0->pandas-datareader) (1.25.11)\n",
      "Requirement already satisfied: idna<3,>=2.5 in /opt/anaconda3/lib/python3.8/site-packages (from requests>=2.19.0->pandas-datareader) (2.10)\n",
      "Requirement already satisfied: chardet<4,>=3.0.2 in /opt/anaconda3/lib/python3.8/site-packages (from requests>=2.19.0->pandas-datareader) (3.0.4)\n",
      "Note: you may need to restart the kernel to use updated packages.\n"
     ]
    }
   ],
   "source": [
    "pip install --upgrade pandas pip install --upgrade pandas-datareader"
   ]
  },
  {
   "cell_type": "code",
   "execution_count": 2,
   "metadata": {},
   "outputs": [
    {
     "name": "stdout",
     "output_type": "stream",
     "text": [
      "Requirement already satisfied: pandas-datareader in /opt/anaconda3/lib/python3.8/site-packages (0.10.0)\n",
      "Requirement already satisfied: requests>=2.19.0 in /opt/anaconda3/lib/python3.8/site-packages (from pandas-datareader) (2.24.0)\n",
      "Requirement already satisfied: lxml in /opt/anaconda3/lib/python3.8/site-packages (from pandas-datareader) (4.6.1)\n",
      "Requirement already satisfied: pandas>=0.23 in /opt/anaconda3/lib/python3.8/site-packages (from pandas-datareader) (1.4.2)\n",
      "Requirement already satisfied: python-dateutil>=2.8.1 in /opt/anaconda3/lib/python3.8/site-packages (from pandas>=0.23->pandas-datareader) (2.8.1)\n",
      "Requirement already satisfied: numpy>=1.18.5 in /opt/anaconda3/lib/python3.8/site-packages (from pandas>=0.23->pandas-datareader) (1.19.5)\n",
      "Requirement already satisfied: pytz>=2020.1 in /opt/anaconda3/lib/python3.8/site-packages (from pandas>=0.23->pandas-datareader) (2020.1)\n",
      "Requirement already satisfied: urllib3!=1.25.0,!=1.25.1,<1.26,>=1.21.1 in /opt/anaconda3/lib/python3.8/site-packages (from requests>=2.19.0->pandas-datareader) (1.25.11)\n",
      "Requirement already satisfied: idna<3,>=2.5 in /opt/anaconda3/lib/python3.8/site-packages (from requests>=2.19.0->pandas-datareader) (2.10)\n",
      "Requirement already satisfied: chardet<4,>=3.0.2 in /opt/anaconda3/lib/python3.8/site-packages (from requests>=2.19.0->pandas-datareader) (3.0.4)\n",
      "Requirement already satisfied: certifi>=2017.4.17 in /opt/anaconda3/lib/python3.8/site-packages (from requests>=2.19.0->pandas-datareader) (2020.6.20)\n",
      "Requirement already satisfied: six>=1.5 in /opt/anaconda3/lib/python3.8/site-packages (from python-dateutil>=2.8.1->pandas>=0.23->pandas-datareader) (1.15.0)\n",
      "Note: you may need to restart the kernel to use updated packages.\n"
     ]
    }
   ],
   "source": [
    "pip install pandas-datareader"
   ]
  },
  {
   "cell_type": "code",
   "execution_count": 3,
   "metadata": {},
   "outputs": [],
   "source": [
    "import pandas_datareader as pdr\n",
    "import pandas as pd\n",
    "from datetime import datetime"
   ]
  },
  {
   "cell_type": "code",
   "execution_count": 4,
   "metadata": {},
   "outputs": [],
   "source": [
    "import pandas as pd"
   ]
  },
  {
   "cell_type": "code",
   "execution_count": 5,
   "metadata": {
    "colab": {
     "base_uri": "https://localhost:8080/",
     "height": 304
    },
    "id": "iW2uz0TRRU5B",
    "outputId": "8bcffb06-cf08-4701-aa05-8d90b1d70090"
   },
   "outputs": [],
   "source": [
    "from statsmodels.tsa.statespace.exponential_smoothing import ExponentialSmoothing"
   ]
  },
  {
   "cell_type": "code",
   "execution_count": 6,
   "metadata": {
    "colab": {
     "base_uri": "https://localhost:8080/",
     "height": 182
    },
    "id": "7azKIPrBW2cW",
    "outputId": "0356940c-0543-45ae-c8e4-98ca49f5b717"
   },
   "outputs": [],
   "source": [
    "#df = pd.read_csv(\"BTC-USD.csv\")\n",
    "#df.head()\n",
    "\n",
    "# Data2 Getting Yahoo Finance from pdr = data from 2020 afterwards\n",
    "df = pdr.get_data_yahoo('BTC-USD')"
   ]
  },
  {
   "cell_type": "code",
   "execution_count": 7,
   "metadata": {
    "id": "FPW1pgkTXC90"
   },
   "outputs": [],
   "source": [
    "df.drop(['High', 'Low', 'Open', 'Volume', 'Adj Close'], axis=1, inplace=True)"
   ]
  },
  {
   "cell_type": "code",
   "execution_count": 8,
   "metadata": {},
   "outputs": [],
   "source": [
    "# For Data2 - Transforming the index in a Date columns\n",
    "df=df.reset_index()"
   ]
  },
  {
   "cell_type": "code",
   "execution_count": 9,
   "metadata": {
    "id": "uz-RYCd8XG6Y"
   },
   "outputs": [
    {
     "data": {
      "text/html": [
       "<div>\n",
       "<style scoped>\n",
       "    .dataframe tbody tr th:only-of-type {\n",
       "        vertical-align: middle;\n",
       "    }\n",
       "\n",
       "    .dataframe tbody tr th {\n",
       "        vertical-align: top;\n",
       "    }\n",
       "\n",
       "    .dataframe thead th {\n",
       "        text-align: right;\n",
       "    }\n",
       "</style>\n",
       "<table border=\"1\" class=\"dataframe\">\n",
       "  <thead>\n",
       "    <tr style=\"text-align: right;\">\n",
       "      <th></th>\n",
       "      <th>Date</th>\n",
       "      <th>Close</th>\n",
       "    </tr>\n",
       "  </thead>\n",
       "  <tbody>\n",
       "    <tr>\n",
       "      <th>1821</th>\n",
       "      <td>2022-04-27</td>\n",
       "      <td>39241.121094</td>\n",
       "    </tr>\n",
       "    <tr>\n",
       "      <th>1822</th>\n",
       "      <td>2022-04-28</td>\n",
       "      <td>39773.828125</td>\n",
       "    </tr>\n",
       "    <tr>\n",
       "      <th>1823</th>\n",
       "      <td>2022-04-29</td>\n",
       "      <td>38609.824219</td>\n",
       "    </tr>\n",
       "    <tr>\n",
       "      <th>1824</th>\n",
       "      <td>2022-04-30</td>\n",
       "      <td>37714.875000</td>\n",
       "    </tr>\n",
       "    <tr>\n",
       "      <th>1825</th>\n",
       "      <td>2022-05-01</td>\n",
       "      <td>38460.105469</td>\n",
       "    </tr>\n",
       "  </tbody>\n",
       "</table>\n",
       "</div>"
      ],
      "text/plain": [
       "           Date         Close\n",
       "1821 2022-04-27  39241.121094\n",
       "1822 2022-04-28  39773.828125\n",
       "1823 2022-04-29  38609.824219\n",
       "1824 2022-04-30  37714.875000\n",
       "1825 2022-05-01  38460.105469"
      ]
     },
     "execution_count": 9,
     "metadata": {},
     "output_type": "execute_result"
    }
   ],
   "source": [
    "df[\"Date\"] = pd.to_datetime(df[\"Date\"])\n",
    "df.tail()"
   ]
  },
  {
   "cell_type": "code",
   "execution_count": 10,
   "metadata": {
    "id": "lIdGNSq9RUy_"
   },
   "outputs": [
    {
     "data": {
      "text/html": [
       "<div>\n",
       "<style scoped>\n",
       "    .dataframe tbody tr th:only-of-type {\n",
       "        vertical-align: middle;\n",
       "    }\n",
       "\n",
       "    .dataframe tbody tr th {\n",
       "        vertical-align: top;\n",
       "    }\n",
       "\n",
       "    .dataframe thead th {\n",
       "        text-align: right;\n",
       "    }\n",
       "</style>\n",
       "<table border=\"1\" class=\"dataframe\">\n",
       "  <thead>\n",
       "    <tr style=\"text-align: right;\">\n",
       "      <th>Close</th>\n",
       "      <th>mean</th>\n",
       "      <th>mean_se</th>\n",
       "      <th>mean_ci_lower</th>\n",
       "      <th>mean_ci_upper</th>\n",
       "    </tr>\n",
       "  </thead>\n",
       "  <tbody>\n",
       "    <tr>\n",
       "      <th>1826</th>\n",
       "      <td>38441.439461</td>\n",
       "      <td>979.342097</td>\n",
       "      <td>37186.362063</td>\n",
       "      <td>39696.516859</td>\n",
       "    </tr>\n",
       "    <tr>\n",
       "      <th>1827</th>\n",
       "      <td>38441.439461</td>\n",
       "      <td>1367.195654</td>\n",
       "      <td>36689.307730</td>\n",
       "      <td>40193.571192</td>\n",
       "    </tr>\n",
       "    <tr>\n",
       "      <th>1828</th>\n",
       "      <td>38441.439461</td>\n",
       "      <td>1667.134359</td>\n",
       "      <td>36304.920813</td>\n",
       "      <td>40577.958108</td>\n",
       "    </tr>\n",
       "    <tr>\n",
       "      <th>1829</th>\n",
       "      <td>38441.439461</td>\n",
       "      <td>1920.794103</td>\n",
       "      <td>35979.842772</td>\n",
       "      <td>40903.036150</td>\n",
       "    </tr>\n",
       "    <tr>\n",
       "      <th>1830</th>\n",
       "      <td>38441.439461</td>\n",
       "      <td>2144.659180</td>\n",
       "      <td>35692.948131</td>\n",
       "      <td>41189.930790</td>\n",
       "    </tr>\n",
       "  </tbody>\n",
       "</table>\n",
       "</div>"
      ],
      "text/plain": [
       "Close          mean      mean_se  mean_ci_lower  mean_ci_upper\n",
       "1826   38441.439461   979.342097   37186.362063   39696.516859\n",
       "1827   38441.439461  1367.195654   36689.307730   40193.571192\n",
       "1828   38441.439461  1667.134359   36304.920813   40577.958108\n",
       "1829   38441.439461  1920.794103   35979.842772   40903.036150\n",
       "1830   38441.439461  2144.659180   35692.948131   41189.930790"
      ]
     },
     "execution_count": 10,
     "metadata": {},
     "output_type": "execute_result"
    }
   ],
   "source": [
    "HORIZON = 10\n",
    "\n",
    "model = ExponentialSmoothing(endog = df['Close'])\n",
    "results = model.fit()\n",
    "\n",
    "preds = results.get_forecast(steps=HORIZON)\n",
    "\n",
    "preds.summary_frame(alpha=0.2).head()"
   ]
  },
  {
   "cell_type": "code",
   "execution_count": 11,
   "metadata": {},
   "outputs": [
    {
     "name": "stdout",
     "output_type": "stream",
     "text": [
      "1826    38441.439461\n",
      "dtype: float64\n"
     ]
    }
   ],
   "source": [
    "print(results.forecast(steps=1))"
   ]
  },
  {
   "cell_type": "code",
   "execution_count": 12,
   "metadata": {},
   "outputs": [
    {
     "name": "stdout",
     "output_type": "stream",
     "text": [
      "1826    38441.439461\n",
      "dtype: float64\n",
      "yes\n"
     ]
    }
   ],
   "source": [
    "x = results.forecast(steps=1)\n",
    "print(x)\n",
    "if x.item() > 36996.509921:\n",
    "    print('yes')\n",
    "else:\n",
    "    print('No')"
   ]
  },
  {
   "cell_type": "code",
   "execution_count": 13,
   "metadata": {
    "id": "VsyEIc6vSrUH"
   },
   "outputs": [
    {
     "data": {
      "text/plain": [
       "<matplotlib.legend.Legend at 0x7ff262258400>"
      ]
     },
     "execution_count": 13,
     "metadata": {},
     "output_type": "execute_result"
    },
    {
     "data": {
      "image/png": "[encoded data removed]",
      "text/plain": [
       "<Figure size 864x288 with 1 Axes>"
      ]
     },
     "metadata": {
      "needs_background": "light"
     },
     "output_type": "display_data"
    }
   ],
   "source": [
    "ax = df['Close'].iloc[-25:].plot(figsize=(12,4))\n",
    "forecast_80 = preds.summary_frame(alpha=0.2)[['mean', 'mean_ci_lower', 'mean_ci_upper']]\n",
    "forecast_90 = preds.summary_frame(alpha=0.1)[['mean', 'mean_ci_lower', 'mean_ci_upper']]\n",
    "\n",
    "ax.fill_between(forecast_90.index, forecast_90['mean_ci_lower'], forecast_90['mean_ci_upper'], alpha=0.5, label='90% PI')\n",
    "ax.fill_between(forecast_80.index, forecast_90['mean_ci_lower'], forecast_80['mean_ci_upper'], alpha=0.5, label='80% PI')\n",
    "\n",
    "forecast_80['mean'].iloc[-25:].plot(ax=ax, label='forecast', color='red')\n",
    "\n",
    "results.fittedvalues.iloc[-25:].plot(ax=ax, label='fitted', color='green', linestyle='--')\n",
    "\n",
    "ax.legend(loc=3)"
   ]
  },
  {
   "cell_type": "markdown",
   "metadata": {
    "id": "Udw1A4S8WJiN"
   },
   "source": [
    "Statistical model"
   ]
  },
  {
   "cell_type": "code",
   "execution_count": 14,
   "metadata": {
    "id": "NSHOR-96R_Df"
   },
   "outputs": [
    {
     "data": {
      "text/html": [
       "<table class=\"simpletable\">\n",
       "<caption>Exponential Smoothing Results</caption>\n",
       "<tr>\n",
       "  <th>Dep. Variable:</th>         <td>Close</td>      <th>  No. Observations:  </th>    <td>1826</td>   \n",
       "</tr>\n",
       "<tr>\n",
       "  <th>Model:</th>             <td>ETS(A, N, N)</td>   <th>  Log Likelihood     </th> <td>-15166.426</td>\n",
       "</tr>\n",
       "<tr>\n",
       "  <th>Date:</th>            <td>Sun, 01 May 2022</td> <th>  AIC                </th>  <td>30338.853</td>\n",
       "</tr>\n",
       "<tr>\n",
       "  <th>Time:</th>                <td>18:47:54</td>     <th>  BIC                </th>  <td>30355.383</td>\n",
       "</tr>\n",
       "<tr>\n",
       "  <th>Sample:</th>                  <td>0</td>        <th>  HQIC               </th>  <td>30344.950</td>\n",
       "</tr>\n",
       "<tr>\n",
       "  <th></th>                      <td> - 1826</td>     <th>  Scale              </th> <td>959110.943</td>\n",
       "</tr>\n",
       "<tr>\n",
       "  <th>Covariance Type:</th>        <td>opg</td>       <th>                     </th>      <td> </td>    \n",
       "</tr>\n",
       "</table>\n",
       "<table class=\"simpletable\">\n",
       "<tr>\n",
       "         <td></td>            <th>coef</th>     <th>std err</th>      <th>z</th>      <th>P>|z|</th>  <th>[0.025</th>    <th>0.975]</th>  \n",
       "</tr>\n",
       "<tr>\n",
       "  <th>smoothing_level</th> <td>    0.9741</td> <td>    0.015</td> <td>   66.458</td> <td> 0.000</td> <td>    0.945</td> <td>    1.003</td>\n",
       "</tr>\n",
       "<tr>\n",
       "  <th>initial_level</th>   <td> 1452.8199</td> <td> 4.96e-13</td> <td> 2.93e+15</td> <td> 0.000</td> <td> 1452.820</td> <td> 1452.820</td>\n",
       "</tr>\n",
       "</table>\n",
       "<table class=\"simpletable\">\n",
       "<tr>\n",
       "  <th>Ljung-Box (L1) (Q):</th>     <td>0.00</td>  <th>  Jarque-Bera (JB):  </th> <td>8890.60</td>\n",
       "</tr>\n",
       "<tr>\n",
       "  <th>Prob(Q):</th>                <td>1.00</td>  <th>  Prob(JB):          </th>  <td>0.00</td>  \n",
       "</tr>\n",
       "<tr>\n",
       "  <th>Heteroskedasticity (H):</th> <td>13.84</td> <th>  Skew:              </th>  <td>-0.14</td> \n",
       "</tr>\n",
       "<tr>\n",
       "  <th>Prob(H) (two-sided):</th>    <td>0.00</td>  <th>  Kurtosis:          </th>  <td>13.81</td> \n",
       "</tr>\n",
       "</table><br/><br/>Warnings:<br/>[1] Covariance matrix calculated using the outer product of gradients (complex-step).<br/>[2] Covariance matrix is singular or near-singular, with condition number    inf. Standard errors may be unstable."
      ],
      "text/plain": [
       "<class 'statsmodels.iolib.summary.Summary'>\n",
       "\"\"\"\n",
       "                        Exponential Smoothing Results                         \n",
       "==============================================================================\n",
       "Dep. Variable:                  Close   No. Observations:                 1826\n",
       "Model:                   ETS(A, N, N)   Log Likelihood              -15166.426\n",
       "Date:                Sun, 01 May 2022   AIC                          30338.853\n",
       "Time:                        18:47:54   BIC                          30355.383\n",
       "Sample:                             0   HQIC                         30344.950\n",
       "                               - 1826   Scale                       959110.943\n",
       "Covariance Type:                  opg                                         \n",
       "===================================================================================\n",
       "                      coef    std err          z      P>|z|      [0.025      0.975]\n",
       "-----------------------------------------------------------------------------------\n",
       "smoothing_level     0.9741      0.015     66.458      0.000       0.945       1.003\n",
       "initial_level    1452.8199   4.96e-13   2.93e+15      0.000    1452.820    1452.820\n",
       "===================================================================================\n",
       "Ljung-Box (L1) (Q):                   0.00   Jarque-Bera (JB):              8890.60\n",
       "Prob(Q):                              1.00   Prob(JB):                         0.00\n",
       "Heteroskedasticity (H):              13.84   Skew:                            -0.14\n",
       "Prob(H) (two-sided):                  0.00   Kurtosis:                        13.81\n",
       "===================================================================================\n",
       "\n",
       "Warnings:\n",
       "[1] Covariance matrix calculated using the outer product of gradients (complex-step).\n",
       "[2] Covariance matrix is singular or near-singular, with condition number    inf. Standard errors may be unstable.\n",
       "\"\"\""
      ]
     },
     "execution_count": 14,
     "metadata": {},
     "output_type": "execute_result"
    }
   ],
   "source": [
    "results.summary()"
   ]
  },
  {
   "cell_type": "code",
   "execution_count": 15,
   "metadata": {
    "id": "Z5k40LqEZBis"
   },
   "outputs": [],
   "source": [
    "from statsmodels.graphics.tsaplots import plot_pacf\n",
    "from statsmodels.graphics.tsaplots import plot_acf\n",
    "from statsmodels.tsa.statespace.sarimax import SARIMAX\n",
    "from statsmodels.tsa.holtwinters import ExponentialSmoothing\n",
    "from statsmodels.tsa.stattools import adfuller\n",
    "import matplotlib.pyplot as plt\n",
    "from tqdm import tqdm_notebook\n",
    "import numpy as np\n",
    "import pandas as pd\n",
    "\n",
    "from itertools import product\n",
    "from sklearn.metrics import mean_squared_error, r2_score, mean_absolute_error\n",
    "from sklearn.metrics import median_absolute_error, mean_squared_log_error\n",
    "\n",
    "import warnings\n",
    "warnings.filterwarnings('ignore')\n",
    "\n",
    "%matplotlib inline"
   ]
  },
  {
   "cell_type": "code",
   "execution_count": 16,
   "metadata": {
    "id": "voFyLzj4X2Pi"
   },
   "outputs": [
    {
     "data": {
      "image/png": "[encoded data removed]",
      "text/plain": [
       "<Figure size 1080x864 with 4 Axes>"
      ]
     },
     "metadata": {
      "needs_background": "light"
     },
     "output_type": "display_data"
    }
   ],
   "source": [
    "# Diagnosing the model residuals\n",
    "results.plot_diagnostics(figsize = (15, 12))\n",
    "plt.show()"
   ]
  },
  {
   "cell_type": "code",
   "execution_count": 17,
   "metadata": {
    "id": "D_As9O5lbOWB"
   },
   "outputs": [
    {
     "data": {
      "text/plain": [
       "((1552, 2), (274, 2))"
      ]
     },
     "execution_count": 17,
     "metadata": {},
     "output_type": "execute_result"
    }
   ],
   "source": [
    "# Divide into train and validation set to calculate R-squared score\n",
    "train = df[:int(0.85 * (len(df)))]\n",
    "test  = df[int(0.85 * (len(df))):]\n",
    "\n",
    "train.shape, test.shape"
   ]
  },
  {
   "cell_type": "code",
   "execution_count": 18,
   "metadata": {
    "id": "zT3GxFVobOHP"
   },
   "outputs": [
    {
     "name": "stdout",
     "output_type": "stream",
     "text": [
      "1552    41640.472291\n",
      "1553    40017.996773\n",
      "1554    39223.063298\n",
      "1555    38180.672343\n",
      "1556    39706.957043\n",
      "            ...     \n",
      "1821    38177.376082\n",
      "1822    39213.593232\n",
      "1823    39759.330225\n",
      "1824    38639.571426\n",
      "1825    37738.804528\n",
      "Name: Simple Exponential Smoothing Predictions, Length: 274, dtype: float64\n"
     ]
    }
   ],
   "source": [
    "start = len(train)\n",
    "end   = len(train) + len(test) - 1\n",
    "predictions = results.predict(start = start, end = end, dynamic = False, typ = 'levels').rename('Simple Exponential Smoothing Predictions')\n",
    "print(predictions)"
   ]
  },
  {
   "cell_type": "code",
   "execution_count": 19,
   "metadata": {
    "id": "ga-paoKzZj-6"
   },
   "outputs": [
    {
     "data": {
      "text/html": [
       "<div>\n",
       "<style scoped>\n",
       "    .dataframe tbody tr th:only-of-type {\n",
       "        vertical-align: middle;\n",
       "    }\n",
       "\n",
       "    .dataframe tbody tr th {\n",
       "        vertical-align: top;\n",
       "    }\n",
       "\n",
       "    .dataframe thead th {\n",
       "        text-align: right;\n",
       "    }\n",
       "</style>\n",
       "<table border=\"1\" class=\"dataframe\">\n",
       "  <thead>\n",
       "    <tr style=\"text-align: right;\">\n",
       "      <th></th>\n",
       "      <th>r2_score</th>\n",
       "    </tr>\n",
       "  </thead>\n",
       "  <tbody>\n",
       "    <tr>\n",
       "      <th>0</th>\n",
       "      <td>0.957968</td>\n",
       "    </tr>\n",
       "  </tbody>\n",
       "</table>\n",
       "</div>"
      ],
      "text/plain": [
       "   r2_score\n",
       "0  0.957968"
      ]
     },
     "execution_count": 19,
     "metadata": {},
     "output_type": "execute_result"
    }
   ],
   "source": [
    "# Create a dataframe to store r2 score\n",
    "evaluation_results = pd.DataFrame({'r2_score': r2_score(test['Close'], predictions)}, index = [0])\n",
    "\n",
    "# Display the results\n",
    "evaluation_results"
   ]
  },
  {
   "cell_type": "code",
   "execution_count": null,
   "metadata": {
    "id": "MY6JgN0JbffS"
   },
   "outputs": [],
   "source": []
  },
  {
   "cell_type": "code",
   "execution_count": null,
   "metadata": {},
   "outputs": [],
   "source": []
  },
  {
   "cell_type": "markdown",
   "metadata": {},
   "source": [
    "# Function to train the model, request external API and come up with an \"advice\""
   ]
  },
  {
   "cell_type": "markdown",
   "metadata": {},
   "source": [
    "The function below will perform the following tasks:\n",
    "*  Train the model once a day\n",
    "*  Define the absolute median of the trained data\n",
    "*  HTTP request to find the real time of the crypto\n",
    "*  According to the position of real-time value in comparison with the median, return an statistical advice\n",
    "\n"
   ]
  },
  {
   "cell_type": "code",
   "execution_count": 20,
   "metadata": {},
   "outputs": [],
   "source": [
    "import requests"
   ]
  },
  {
   "cell_type": "code",
   "execution_count": 21,
   "metadata": {},
   "outputs": [],
   "source": [
    "from threading import Timer"
   ]
  },
  {
   "cell_type": "code",
   "execution_count": 22,
   "metadata": {},
   "outputs": [],
   "source": [
    "def find_real_time_value():\n",
    "    real_time_price = requests.get('https://bitpay.com/api/rates/USD')\n",
    "    x = real_time_price.json()\n",
    "    return x['rate']\n",
    "\n",
    "#find_real_time_value()"
   ]
  },
  {
   "cell_type": "code",
   "execution_count": 23,
   "metadata": {},
   "outputs": [
    {
     "name": "stdout",
     "output_type": "stream",
     "text": [
      "33783.4140625\n"
     ]
    }
   ],
   "source": [
    "def get_middle_value(data):\n",
    "    high = 0\n",
    "    low = 0\n",
    "    middle_value = 0\n",
    "    \n",
    "    # Finding higher and lowest values in order to get a middle value\n",
    "    for x in data:\n",
    "        if high > x:\n",
    "            high = high\n",
    "        else:\n",
    "            high = x\n",
    "        \n",
    "        if low < x:\n",
    "            low = low\n",
    "        else:\n",
    "            low = x\n",
    "        \n",
    "        middle_value = (high - low)/2 \n",
    "            \n",
    "    return middle_value\n",
    "    #return data.median()\n",
    "\n",
    "test = get_middle_value(df['Close'])\n",
    "print(test)"
   ]
  },
  {
   "cell_type": "code",
   "execution_count": 24,
   "metadata": {},
   "outputs": [],
   "source": [
    "def get_highest(data):\n",
    "    highest = 0\n",
    "    for x in data:\n",
    "        if highest > x:\n",
    "            highest = highest\n",
    "        else:\n",
    "            highest = x\n",
    "            \n",
    "    return highest"
   ]
  },
  {
   "cell_type": "code",
   "execution_count": 25,
   "metadata": {},
   "outputs": [],
   "source": [
    "def get_lowest(data):\n",
    "    lowest = 0\n",
    "    for x in data:\n",
    "        if lowest < x:\n",
    "            lowest = lowest\n",
    "        else:\n",
    "            lowest = x\n",
    "            \n",
    "    return lowest"
   ]
  },
  {
   "cell_type": "code",
   "execution_count": 57,
   "metadata": {},
   "outputs": [],
   "source": [
    "def statistical_decision(model, data):\n",
    "    # Defining boundaries\n",
    "    high = get_highest(data)\n",
    "    low = get_lowest(data)\n",
    "    \n",
    "    top_bounder = 0\n",
    "    botton_bounder = 0\n",
    "    \n",
    "    run = True\n",
    "    \n",
    "    # to be returned\n",
    "    buy = 'Buy'\n",
    "    sell = 'Sell'\n",
    "    \n",
    "    # Checking real time of the bitcoin in USD\n",
    "    x = find_real_time_value()\n",
    "    \n",
    "    # Get median\n",
    "    # Check this maths part\n",
    "    m = get_middle_value(data)\n",
    "    top_bounder = (m + high)/3\n",
    "    bottom_bounder = (m + low)/3\n",
    "    \n",
    "    # Train the Model\n",
    "    # Make a function for it in the beginning of this notebook and call here again in a certain time interval\n",
    "    # Scheduled to be done on Monday 02nd May 2022\n",
    "    \n",
    "    \n",
    "    # Decision logic\n",
    "    v = model.forecast(steps=1)\n",
    "    #print(v)\n",
    "    \n",
    "    if v.item() > top_bounder * 2:\n",
    "        print('Sell')\n",
    "        #return sell\n",
    "    \n",
    "    elif v.item() < bottom_bounder * 2:\n",
    "        print('Sell')\n",
    "        #return sell\n",
    "    \n",
    "    elif v.item() > bottom_bounder:\n",
    "        print('Buy')\n",
    "        #return buy\n",
    "    \n",
    "    elif v.item() < top_bounder:\n",
    "        print('Buy')\n",
    "        #return buy\n",
    "    def call():\n",
    "        statistical_decision(results, df['Close'])\n",
    "        \n",
    "    if run:\n",
    "        Timer(60, call).start()\n",
    "        \n",
    "#statistical_decision(results, df['Close'])\n",
    "    "
   ]
  },
  {
   "cell_type": "code",
   "execution_count": 58,
   "metadata": {},
   "outputs": [
    {
     "name": "stdout",
     "output_type": "stream",
     "text": [
      "Buy\n",
      "Buy\n",
      "Buy\n",
      "Buy\n",
      "Buy\n",
      "Buy\n",
      "Buy\n"
     ]
    }
   ],
   "source": [
    "statistical_decision(results, df['Close'])"
   ]
  },
  {
   "cell_type": "code",
   "execution_count": null,
   "metadata": {},
   "outputs": [],
   "source": []
  },
  {
   "cell_type": "code",
   "execution_count": null,
   "metadata": {},
   "outputs": [],
   "source": []
  },
  {
   "cell_type": "markdown",
   "metadata": {},
   "source": [
    "# Dashboard"
   ]
  },
  {
   "cell_type": "code",
   "execution_count": null,
   "metadata": {},
   "outputs": [],
   "source": [
    "pip install explainerdashboard"
   ]
  },
  {
   "cell_type": "code",
   "execution_count": null,
   "metadata": {},
   "outputs": [],
   "source": [
    "from sklearn.model_selection import train_test_split"
   ]
  },
  {
   "cell_type": "code",
   "execution_count": null,
   "metadata": {},
   "outputs": [],
   "source": [
    "array = df.values\n",
    "X = array[:100]\n",
    "y = array[-100:]\n",
    "X_train, X_validation, Y_train, Y_validation = train_test_split(X, y, test_size=0.20, random_state=1)"
   ]
  },
  {
   "cell_type": "code",
   "execution_count": null,
   "metadata": {},
   "outputs": [],
   "source": []
  }
 ],
 "metadata": {
  "colab": {
   "collapsed_sections": [
    "6Hy9OrJkdF_n",
    "PGzPFzSlcfMW"
   ],
   "name": "Exponential_Statistical_Model_To_Use.ipynb",
   "provenance": []
  },
  "kernelspec": {
   "display_name": "Python 3",
   "language": "python",
   "name": "python3"
  },
  "language_info": {
   "codemirror_mode": {
    "name": "ipython",
    "version": 3
   },
   "file_extension": ".py",
   "mimetype": "text/x-python",
   "name": "python",
   "nbconvert_exporter": "python",
   "pygments_lexer": "ipython3",
   "version": "3.8.5"
  }
 },
 "nbformat": 4,
 "nbformat_minor": 1
}
