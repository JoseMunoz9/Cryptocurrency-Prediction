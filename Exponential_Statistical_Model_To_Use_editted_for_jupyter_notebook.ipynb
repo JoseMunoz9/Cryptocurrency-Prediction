{
 "cells": [
  {
   "cell_type": "markdown",
   "metadata": {
    "id": "PGzPFzSlcfMW"
   },
   "source": [
    "---\n",
    "# **Model Giving good Stats - Use this one for the project**\n",
    "Add comments and explanation texts, clean the code, perharps use another notebook for the end result model\n",
    "---\n"
   ]
  },
  {
   "cell_type": "code",
   "execution_count": 1,
   "metadata": {},
   "outputs": [
    {
     "name": "stdout",
     "output_type": "stream",
     "text": [
      "Requirement already satisfied: pandas in /opt/anaconda3/lib/python3.8/site-packages (1.4.2)\n",
      "Requirement already satisfied: pip in /opt/anaconda3/lib/python3.8/site-packages (22.0.4)\n",
      "Requirement already satisfied: install in /opt/anaconda3/lib/python3.8/site-packages (1.3.5)\n",
      "Requirement already satisfied: pandas-datareader in /opt/anaconda3/lib/python3.8/site-packages (0.10.0)\n",
      "Requirement already satisfied: python-dateutil>=2.8.1 in /opt/anaconda3/lib/python3.8/site-packages (from pandas) (2.8.1)\n",
      "Requirement already satisfied: pytz>=2020.1 in /opt/anaconda3/lib/python3.8/site-packages (from pandas) (2020.1)\n",
      "Requirement already satisfied: numpy>=1.18.5 in /opt/anaconda3/lib/python3.8/site-packages (from pandas) (1.21.6)\n",
      "Requirement already satisfied: requests>=2.19.0 in /opt/anaconda3/lib/python3.8/site-packages (from pandas-datareader) (2.24.0)\n",
      "Requirement already satisfied: lxml in /opt/anaconda3/lib/python3.8/site-packages (from pandas-datareader) (4.6.1)\n",
      "Requirement already satisfied: six>=1.5 in /opt/anaconda3/lib/python3.8/site-packages (from python-dateutil>=2.8.1->pandas) (1.15.0)\n",
      "Requirement already satisfied: chardet<4,>=3.0.2 in /opt/anaconda3/lib/python3.8/site-packages (from requests>=2.19.0->pandas-datareader) (3.0.4)\n",
      "Requirement already satisfied: idna<3,>=2.5 in /opt/anaconda3/lib/python3.8/site-packages (from requests>=2.19.0->pandas-datareader) (2.10)\n",
      "Requirement already satisfied: urllib3!=1.25.0,!=1.25.1,<1.26,>=1.21.1 in /opt/anaconda3/lib/python3.8/site-packages (from requests>=2.19.0->pandas-datareader) (1.25.11)\n",
      "Requirement already satisfied: certifi>=2017.4.17 in /opt/anaconda3/lib/python3.8/site-packages (from requests>=2.19.0->pandas-datareader) (2020.6.20)\n",
      "Note: you may need to restart the kernel to use updated packages.\n"
     ]
    }
   ],
   "source": [
    "pip install --upgrade pandas pip install --upgrade pandas-datareader"
   ]
  },
  {
   "cell_type": "code",
   "execution_count": 2,
   "metadata": {},
   "outputs": [
    {
     "name": "stdout",
     "output_type": "stream",
     "text": [
      "Requirement already satisfied: pandas-datareader in /opt/anaconda3/lib/python3.8/site-packages (0.10.0)\n",
      "Requirement already satisfied: lxml in /opt/anaconda3/lib/python3.8/site-packages (from pandas-datareader) (4.6.1)\n",
      "Requirement already satisfied: requests>=2.19.0 in /opt/anaconda3/lib/python3.8/site-packages (from pandas-datareader) (2.24.0)\n",
      "Requirement already satisfied: pandas>=0.23 in /opt/anaconda3/lib/python3.8/site-packages (from pandas-datareader) (1.4.2)\n",
      "Requirement already satisfied: python-dateutil>=2.8.1 in /opt/anaconda3/lib/python3.8/site-packages (from pandas>=0.23->pandas-datareader) (2.8.1)\n",
      "Requirement already satisfied: pytz>=2020.1 in /opt/anaconda3/lib/python3.8/site-packages (from pandas>=0.23->pandas-datareader) (2020.1)\n",
      "Requirement already satisfied: numpy>=1.18.5 in /opt/anaconda3/lib/python3.8/site-packages (from pandas>=0.23->pandas-datareader) (1.21.6)\n",
      "Requirement already satisfied: certifi>=2017.4.17 in /opt/anaconda3/lib/python3.8/site-packages (from requests>=2.19.0->pandas-datareader) (2020.6.20)\n",
      "Requirement already satisfied: urllib3!=1.25.0,!=1.25.1,<1.26,>=1.21.1 in /opt/anaconda3/lib/python3.8/site-packages (from requests>=2.19.0->pandas-datareader) (1.25.11)\n",
      "Requirement already satisfied: idna<3,>=2.5 in /opt/anaconda3/lib/python3.8/site-packages (from requests>=2.19.0->pandas-datareader) (2.10)\n",
      "Requirement already satisfied: chardet<4,>=3.0.2 in /opt/anaconda3/lib/python3.8/site-packages (from requests>=2.19.0->pandas-datareader) (3.0.4)\n",
      "Requirement already satisfied: six>=1.5 in /opt/anaconda3/lib/python3.8/site-packages (from python-dateutil>=2.8.1->pandas>=0.23->pandas-datareader) (1.15.0)\n",
      "Note: you may need to restart the kernel to use updated packages.\n"
     ]
    }
   ],
   "source": [
    "pip install pandas-datareader"
   ]
  },
  {
   "cell_type": "code",
   "execution_count": 3,
   "metadata": {},
   "outputs": [],
   "source": [
    "import pandas_datareader as pdr\n",
    "import pandas as pd\n",
    "from datetime import datetime"
   ]
  },
  {
   "cell_type": "code",
   "execution_count": 4,
   "metadata": {},
   "outputs": [],
   "source": [
    "import pandas as pd"
   ]
  },
  {
   "cell_type": "code",
   "execution_count": 38,
   "metadata": {
    "colab": {
     "base_uri": "https://localhost:8080/",
     "height": 304
    },
    "id": "iW2uz0TRRU5B",
    "outputId": "8bcffb06-cf08-4701-aa05-8d90b1d70090"
   },
   "outputs": [],
   "source": [
    "from statsmodels.tsa.statespace.exponential_smoothing import ExponentialSmoothing"
   ]
  },
  {
   "cell_type": "code",
   "execution_count": 39,
   "metadata": {
    "colab": {
     "base_uri": "https://localhost:8080/",
     "height": 182
    },
    "id": "7azKIPrBW2cW",
    "outputId": "0356940c-0543-45ae-c8e4-98ca49f5b717"
   },
   "outputs": [],
   "source": [
    "#df = pd.read_csv(\"BTC-USD.csv\")\n",
    "#df.head()\n",
    "\n",
    "# Data2 Getting Yahoo Finance from pdr = data from 2020 afterwards\n",
    "df = pdr.get_data_yahoo('BTC-USD')"
   ]
  },
  {
   "cell_type": "code",
   "execution_count": 40,
   "metadata": {
    "id": "FPW1pgkTXC90"
   },
   "outputs": [],
   "source": [
    "df.drop(['High', 'Low', 'Open', 'Volume', 'Adj Close'], axis=1, inplace=True)"
   ]
  },
  {
   "cell_type": "code",
   "execution_count": 41,
   "metadata": {},
   "outputs": [],
   "source": [
    "# For Data2 - Transforming the index in a Date columns\n",
    "df=df.reset_index()"
   ]
  },
  {
   "cell_type": "code",
   "execution_count": 42,
   "metadata": {
    "id": "uz-RYCd8XG6Y"
   },
   "outputs": [
    {
     "data": {
      "text/html": [
       "<div>\n",
       "<style scoped>\n",
       "    .dataframe tbody tr th:only-of-type {\n",
       "        vertical-align: middle;\n",
       "    }\n",
       "\n",
       "    .dataframe tbody tr th {\n",
       "        vertical-align: top;\n",
       "    }\n",
       "\n",
       "    .dataframe thead th {\n",
       "        text-align: right;\n",
       "    }\n",
       "</style>\n",
       "<table border=\"1\" class=\"dataframe\">\n",
       "  <thead>\n",
       "    <tr style=\"text-align: right;\">\n",
       "      <th></th>\n",
       "      <th>Date</th>\n",
       "      <th>Close</th>\n",
       "    </tr>\n",
       "  </thead>\n",
       "  <tbody>\n",
       "    <tr>\n",
       "      <th>1821</th>\n",
       "      <td>2022-04-26</td>\n",
       "      <td>38117.460938</td>\n",
       "    </tr>\n",
       "    <tr>\n",
       "      <th>1822</th>\n",
       "      <td>2022-04-27</td>\n",
       "      <td>39241.121094</td>\n",
       "    </tr>\n",
       "    <tr>\n",
       "      <th>1823</th>\n",
       "      <td>2022-04-28</td>\n",
       "      <td>39773.828125</td>\n",
       "    </tr>\n",
       "    <tr>\n",
       "      <th>1824</th>\n",
       "      <td>2022-04-29</td>\n",
       "      <td>38609.824219</td>\n",
       "    </tr>\n",
       "    <tr>\n",
       "      <th>1825</th>\n",
       "      <td>2022-04-30</td>\n",
       "      <td>38510.917969</td>\n",
       "    </tr>\n",
       "  </tbody>\n",
       "</table>\n",
       "</div>"
      ],
      "text/plain": [
       "           Date         Close\n",
       "1821 2022-04-26  38117.460938\n",
       "1822 2022-04-27  39241.121094\n",
       "1823 2022-04-28  39773.828125\n",
       "1824 2022-04-29  38609.824219\n",
       "1825 2022-04-30  38510.917969"
      ]
     },
     "execution_count": 42,
     "metadata": {},
     "output_type": "execute_result"
    }
   ],
   "source": [
    "df[\"Date\"] = pd.to_datetime(df[\"Date\"])\n",
    "df.tail()"
   ]
  },
  {
   "cell_type": "code",
   "execution_count": 43,
   "metadata": {
    "id": "lIdGNSq9RUy_"
   },
   "outputs": [
    {
     "data": {
      "text/html": [
       "<div>\n",
       "<style scoped>\n",
       "    .dataframe tbody tr th:only-of-type {\n",
       "        vertical-align: middle;\n",
       "    }\n",
       "\n",
       "    .dataframe tbody tr th {\n",
       "        vertical-align: top;\n",
       "    }\n",
       "\n",
       "    .dataframe thead th {\n",
       "        text-align: right;\n",
       "    }\n",
       "</style>\n",
       "<table border=\"1\" class=\"dataframe\">\n",
       "  <thead>\n",
       "    <tr style=\"text-align: right;\">\n",
       "      <th>Close</th>\n",
       "      <th>mean</th>\n",
       "      <th>mean_se</th>\n",
       "      <th>mean_ci_lower</th>\n",
       "      <th>mean_ci_upper</th>\n",
       "    </tr>\n",
       "  </thead>\n",
       "  <tbody>\n",
       "    <tr>\n",
       "      <th>1826</th>\n",
       "      <td>38514.265608</td>\n",
       "      <td>978.962416</td>\n",
       "      <td>37259.674791</td>\n",
       "      <td>39768.856426</td>\n",
       "    </tr>\n",
       "    <tr>\n",
       "      <th>1827</th>\n",
       "      <td>38514.265608</td>\n",
       "      <td>1366.586503</td>\n",
       "      <td>36762.914536</td>\n",
       "      <td>40265.616681</td>\n",
       "    </tr>\n",
       "    <tr>\n",
       "      <th>1828</th>\n",
       "      <td>38514.265608</td>\n",
       "      <td>1666.358284</td>\n",
       "      <td>36378.741541</td>\n",
       "      <td>40649.789676</td>\n",
       "    </tr>\n",
       "    <tr>\n",
       "      <th>1829</th>\n",
       "      <td>38514.265608</td>\n",
       "      <td>1919.880514</td>\n",
       "      <td>36053.839730</td>\n",
       "      <td>40974.691487</td>\n",
       "    </tr>\n",
       "    <tr>\n",
       "      <th>1830</th>\n",
       "      <td>38514.265608</td>\n",
       "      <td>2143.626004</td>\n",
       "      <td>35767.098347</td>\n",
       "      <td>41261.432870</td>\n",
       "    </tr>\n",
       "  </tbody>\n",
       "</table>\n",
       "</div>"
      ],
      "text/plain": [
       "Close          mean      mean_se  mean_ci_lower  mean_ci_upper\n",
       "1826   38514.265608   978.962416   37259.674791   39768.856426\n",
       "1827   38514.265608  1366.586503   36762.914536   40265.616681\n",
       "1828   38514.265608  1666.358284   36378.741541   40649.789676\n",
       "1829   38514.265608  1919.880514   36053.839730   40974.691487\n",
       "1830   38514.265608  2143.626004   35767.098347   41261.432870"
      ]
     },
     "execution_count": 43,
     "metadata": {},
     "output_type": "execute_result"
    }
   ],
   "source": [
    "HORIZON = 10\n",
    "\n",
    "model = ExponentialSmoothing(endog = df['Close'])\n",
    "results = model.fit()\n",
    "\n",
    "preds = results.get_forecast(steps=HORIZON)\n",
    "\n",
    "preds.summary_frame(alpha=0.2).head()"
   ]
  },
  {
   "cell_type": "code",
   "execution_count": 44,
   "metadata": {
    "id": "VsyEIc6vSrUH"
   },
   "outputs": [
    {
     "data": {
      "text/plain": [
       "<matplotlib.legend.Legend at 0x7fc408af78e0>"
      ]
     },
     "execution_count": 44,
     "metadata": {},
     "output_type": "execute_result"
    },
    {
     "data": {
      "image/png": "[encoded data removed]",
      "text/plain": [
       "<Figure size 864x288 with 1 Axes>"
      ]
     },
     "metadata": {
      "needs_background": "light"
     },
     "output_type": "display_data"
    }
   ],
   "source": [
    "ax = df['Close'].iloc[-25:].plot(figsize=(12,4))\n",
    "forecast_80 = preds.summary_frame(alpha=0.2)[['mean', 'mean_ci_lower', 'mean_ci_upper']]\n",
    "forecast_90 = preds.summary_frame(alpha=0.1)[['mean', 'mean_ci_lower', 'mean_ci_upper']]\n",
    "\n",
    "ax.fill_between(forecast_90.index, forecast_90['mean_ci_lower'], forecast_90['mean_ci_upper'], alpha=0.5, label='90% PI')\n",
    "ax.fill_between(forecast_80.index, forecast_90['mean_ci_lower'], forecast_80['mean_ci_upper'], alpha=0.5, label='80% PI')\n",
    "\n",
    "forecast_80['mean'].iloc[-25:].plot(ax=ax, label='forecast', color='red')\n",
    "\n",
    "results.fittedvalues.iloc[-25:].plot(ax=ax, label='fitted', color='green', linestyle='--')\n",
    "\n",
    "ax.legend(loc=3)"
   ]
  },
  {
   "cell_type": "markdown",
   "metadata": {
    "id": "Udw1A4S8WJiN"
   },
   "source": [
    "Statistical model"
   ]
  },
  {
   "cell_type": "code",
   "execution_count": 12,
   "metadata": {
    "id": "NSHOR-96R_Df"
   },
   "outputs": [
    {
     "data": {
      "text/html": [
       "<table class=\"simpletable\">\n",
       "<caption>Exponential Smoothing Results</caption>\n",
       "<tr>\n",
       "  <th>Dep. Variable:</th>         <td>Close</td>      <th>  No. Observations:  </th>    <td>1826</td>   \n",
       "</tr>\n",
       "<tr>\n",
       "  <th>Model:</th>             <td>ETS(A, N, N)</td>   <th>  Log Likelihood     </th> <td>-15165.715</td>\n",
       "</tr>\n",
       "<tr>\n",
       "  <th>Date:</th>            <td>Sat, 30 Apr 2022</td> <th>  AIC                </th>  <td>30337.430</td>\n",
       "</tr>\n",
       "<tr>\n",
       "  <th>Time:</th>                <td>17:08:46</td>     <th>  BIC                </th>  <td>30353.959</td>\n",
       "</tr>\n",
       "<tr>\n",
       "  <th>Sample:</th>                  <td>0</td>        <th>  HQIC               </th>  <td>30343.527</td>\n",
       "</tr>\n",
       "<tr>\n",
       "  <th></th>                      <td> - 1826</td>     <th>  Scale              </th> <td>958363.646</td>\n",
       "</tr>\n",
       "<tr>\n",
       "  <th>Covariance Type:</th>        <td>opg</td>       <th>                     </th>      <td> </td>    \n",
       "</tr>\n",
       "</table>\n",
       "<table class=\"simpletable\">\n",
       "<tr>\n",
       "         <td></td>            <th>coef</th>     <th>std err</th>      <th>z</th>      <th>P>|z|</th>  <th>[0.025</th>    <th>0.975]</th>  \n",
       "</tr>\n",
       "<tr>\n",
       "  <th>smoothing_level</th> <td>    0.9740</td> <td>    0.015</td> <td>   66.487</td> <td> 0.000</td> <td>    0.945</td> <td>    1.003</td>\n",
       "</tr>\n",
       "<tr>\n",
       "  <th>initial_level</th>   <td> 1421.6000</td> <td> 4.14e-13</td> <td> 3.43e+15</td> <td> 0.000</td> <td> 1421.600</td> <td> 1421.600</td>\n",
       "</tr>\n",
       "</table>\n",
       "<table class=\"simpletable\">\n",
       "<tr>\n",
       "  <th>Ljung-Box (L1) (Q):</th>     <td>0.00</td>  <th>  Jarque-Bera (JB):  </th> <td>8925.17</td>\n",
       "</tr>\n",
       "<tr>\n",
       "  <th>Prob(Q):</th>                <td>1.00</td>  <th>  Prob(JB):          </th>  <td>0.00</td>  \n",
       "</tr>\n",
       "<tr>\n",
       "  <th>Heteroskedasticity (H):</th> <td>13.83</td> <th>  Skew:              </th>  <td>-0.14</td> \n",
       "</tr>\n",
       "<tr>\n",
       "  <th>Prob(H) (two-sided):</th>    <td>0.00</td>  <th>  Kurtosis:          </th>  <td>13.83</td> \n",
       "</tr>\n",
       "</table><br/><br/>Warnings:<br/>[1] Covariance matrix calculated using the outer product of gradients (complex-step).<br/>[2] Covariance matrix is singular or near-singular, with condition number    inf. Standard errors may be unstable."
      ],
      "text/plain": [
       "<class 'statsmodels.iolib.summary.Summary'>\n",
       "\"\"\"\n",
       "                        Exponential Smoothing Results                         \n",
       "==============================================================================\n",
       "Dep. Variable:                  Close   No. Observations:                 1826\n",
       "Model:                   ETS(A, N, N)   Log Likelihood              -15165.715\n",
       "Date:                Sat, 30 Apr 2022   AIC                          30337.430\n",
       "Time:                        17:08:46   BIC                          30353.959\n",
       "Sample:                             0   HQIC                         30343.527\n",
       "                               - 1826   Scale                       958363.646\n",
       "Covariance Type:                  opg                                         \n",
       "===================================================================================\n",
       "                      coef    std err          z      P>|z|      [0.025      0.975]\n",
       "-----------------------------------------------------------------------------------\n",
       "smoothing_level     0.9740      0.015     66.487      0.000       0.945       1.003\n",
       "initial_level    1421.6000   4.14e-13   3.43e+15      0.000    1421.600    1421.600\n",
       "===================================================================================\n",
       "Ljung-Box (L1) (Q):                   0.00   Jarque-Bera (JB):              8925.17\n",
       "Prob(Q):                              1.00   Prob(JB):                         0.00\n",
       "Heteroskedasticity (H):              13.83   Skew:                            -0.14\n",
       "Prob(H) (two-sided):                  0.00   Kurtosis:                        13.83\n",
       "===================================================================================\n",
       "\n",
       "Warnings:\n",
       "[1] Covariance matrix calculated using the outer product of gradients (complex-step).\n",
       "[2] Covariance matrix is singular or near-singular, with condition number    inf. Standard errors may be unstable.\n",
       "\"\"\""
      ]
     },
     "execution_count": 12,
     "metadata": {},
     "output_type": "execute_result"
    }
   ],
   "source": [
    "results.summary()"
   ]
  },
  {
   "cell_type": "code",
   "execution_count": 13,
   "metadata": {
    "id": "Z5k40LqEZBis"
   },
   "outputs": [],
   "source": [
    "from statsmodels.graphics.tsaplots import plot_pacf\n",
    "from statsmodels.graphics.tsaplots import plot_acf\n",
    "from statsmodels.tsa.statespace.sarimax import SARIMAX\n",
    "from statsmodels.tsa.holtwinters import ExponentialSmoothing\n",
    "from statsmodels.tsa.stattools import adfuller\n",
    "import matplotlib.pyplot as plt\n",
    "from tqdm import tqdm_notebook\n",
    "import numpy as np\n",
    "import pandas as pd\n",
    "\n",
    "from itertools import product\n",
    "from sklearn.metrics import mean_squared_error, r2_score, mean_absolute_error\n",
    "from sklearn.metrics import median_absolute_error, mean_squared_log_error\n",
    "\n",
    "import warnings\n",
    "warnings.filterwarnings('ignore')\n",
    "\n",
    "%matplotlib inline"
   ]
  },
  {
   "cell_type": "code",
   "execution_count": 14,
   "metadata": {
    "id": "voFyLzj4X2Pi"
   },
   "outputs": [
    {
     "data": {
      "image/png": "[encoded data removed]",
      "text/plain": [
       "<Figure size 1080x864 with 4 Axes>"
      ]
     },
     "metadata": {
      "needs_background": "light"
     },
     "output_type": "display_data"
    }
   ],
   "source": [
    "# Diagnosing the model residuals\n",
    "results.plot_diagnostics(figsize = (15, 12))\n",
    "plt.show()"
   ]
  },
  {
   "cell_type": "code",
   "execution_count": 15,
   "metadata": {
    "id": "D_As9O5lbOWB"
   },
   "outputs": [
    {
     "data": {
      "text/plain": [
       "((1552, 2), (274, 2))"
      ]
     },
     "execution_count": 15,
     "metadata": {},
     "output_type": "execute_result"
    }
   ],
   "source": [
    "# Divide into train and validation set to calculate R-squared score\n",
    "train = df[:int(0.85 * (len(df)))]\n",
    "test  = df[int(0.85 * (len(df))):]\n",
    "\n",
    "train.shape, test.shape"
   ]
  },
  {
   "cell_type": "code",
   "execution_count": 16,
   "metadata": {
    "id": "zT3GxFVobOHP"
   },
   "outputs": [
    {
     "name": "stdout",
     "output_type": "stream",
     "text": [
      "1552    42177.592946\n",
      "1553    41640.538799\n",
      "1554    40018.222875\n",
      "1555    39223.179111\n",
      "1556    38180.819507\n",
      "            ...     \n",
      "1821    40432.598000\n",
      "1822    38177.684513\n",
      "1823    39213.457957\n",
      "1824    39759.251236\n",
      "1825    38639.724222\n",
      "Name: Simple Exponential Smoothing Predictions, Length: 274, dtype: float64\n"
     ]
    }
   ],
   "source": [
    "start = len(train)\n",
    "end   = len(train) + len(test) - 1\n",
    "predictions = results.predict(start = start, end = end, dynamic = False, typ = 'levels').rename('Simple Exponential Smoothing Predictions')\n",
    "print(predictions)"
   ]
  },
  {
   "cell_type": "code",
   "execution_count": 17,
   "metadata": {
    "id": "ga-paoKzZj-6"
   },
   "outputs": [
    {
     "data": {
      "text/html": [
       "<div>\n",
       "<style scoped>\n",
       "    .dataframe tbody tr th:only-of-type {\n",
       "        vertical-align: middle;\n",
       "    }\n",
       "\n",
       "    .dataframe tbody tr th {\n",
       "        vertical-align: top;\n",
       "    }\n",
       "\n",
       "    .dataframe thead th {\n",
       "        text-align: right;\n",
       "    }\n",
       "</style>\n",
       "<table border=\"1\" class=\"dataframe\">\n",
       "  <thead>\n",
       "    <tr style=\"text-align: right;\">\n",
       "      <th></th>\n",
       "      <th>r2_score</th>\n",
       "    </tr>\n",
       "  </thead>\n",
       "  <tbody>\n",
       "    <tr>\n",
       "      <th>0</th>\n",
       "      <td>0.957877</td>\n",
       "    </tr>\n",
       "  </tbody>\n",
       "</table>\n",
       "</div>"
      ],
      "text/plain": [
       "   r2_score\n",
       "0  0.957877"
      ]
     },
     "execution_count": 17,
     "metadata": {},
     "output_type": "execute_result"
    }
   ],
   "source": [
    "# Create a dataframe to store r2 score\n",
    "evaluation_results = pd.DataFrame({'r2_score': r2_score(test['Close'], predictions)}, index = [0])\n",
    "\n",
    "# Display the results\n",
    "evaluation_results"
   ]
  },
  {
   "cell_type": "code",
   "execution_count": null,
   "metadata": {
    "id": "MY6JgN0JbffS"
   },
   "outputs": [],
   "source": []
  },
  {
   "cell_type": "code",
   "execution_count": null,
   "metadata": {},
   "outputs": [],
   "source": []
  },
  {
   "cell_type": "markdown",
   "metadata": {},
   "source": [
    "# Function to train the model, request external API and come up with an \"advice\""
   ]
  },
  {
   "cell_type": "markdown",
   "metadata": {},
   "source": [
    "The function below will perform the following tasks:\n",
    "*  Train the model once a day\n",
    "*  Define the absolute median of the trained data\n",
    "*  HTTP request to find the real time of the crypto\n",
    "*  According to the position of real-time value in comparison with the median, return an statistical advice\n",
    "\n"
   ]
  },
  {
   "cell_type": "code",
   "execution_count": null,
   "metadata": {},
   "outputs": [],
   "source": []
  },
  {
   "cell_type": "code",
   "execution_count": null,
   "metadata": {},
   "outputs": [],
   "source": []
  },
  {
   "cell_type": "markdown",
   "metadata": {},
   "source": [
    "# Dashboard"
   ]
  },
  {
   "cell_type": "code",
   "execution_count": 18,
   "metadata": {},
   "outputs": [
    {
     "name": "stdout",
     "output_type": "stream",
     "text": [
      "Requirement already satisfied: explainerdashboard in /opt/anaconda3/lib/python3.8/site-packages (0.3.8.2)\n",
      "Requirement already satisfied: dash-auth in /opt/anaconda3/lib/python3.8/site-packages (from explainerdashboard) (1.4.1)\n",
      "Requirement already satisfied: pandas>=1.1 in /opt/anaconda3/lib/python3.8/site-packages (from explainerdashboard) (1.4.2)\n",
      "Requirement already satisfied: click in /opt/anaconda3/lib/python3.8/site-packages (from explainerdashboard) (8.1.3)\n",
      "Requirement already satisfied: graphviz>=0.18.2 in /opt/anaconda3/lib/python3.8/site-packages (from explainerdashboard) (0.20)\n",
      "Requirement already satisfied: joblib in /opt/anaconda3/lib/python3.8/site-packages (from explainerdashboard) (0.17.0)\n",
      "Requirement already satisfied: numpy in /opt/anaconda3/lib/python3.8/site-packages (from explainerdashboard) (1.21.6)\n",
      "Requirement already satisfied: dash-bootstrap-components<1 in /opt/anaconda3/lib/python3.8/site-packages (from explainerdashboard) (0.13.1)\n",
      "Requirement already satisfied: Werkzeug<=2.0.3 in /opt/anaconda3/lib/python3.8/site-packages (from explainerdashboard) (1.0.1)\n",
      "Requirement already satisfied: waitress in /opt/anaconda3/lib/python3.8/site-packages (from explainerdashboard) (2.1.1)\n",
      "Requirement already satisfied: flask-simplelogin in /opt/anaconda3/lib/python3.8/site-packages (from explainerdashboard) (0.1.1)\n",
      "Requirement already satisfied: scikit-learn in /opt/anaconda3/lib/python3.8/site-packages (from explainerdashboard) (1.0.2)\n",
      "Requirement already satisfied: shap>=0.37 in /opt/anaconda3/lib/python3.8/site-packages (from explainerdashboard) (0.40.0)\n",
      "Requirement already satisfied: dash>=2 in /opt/anaconda3/lib/python3.8/site-packages (from explainerdashboard) (2.3.1)\n",
      "Requirement already satisfied: jupyter-dash in /opt/anaconda3/lib/python3.8/site-packages (from explainerdashboard) (0.4.2)\n",
      "Requirement already satisfied: oyaml in /opt/anaconda3/lib/python3.8/site-packages (from explainerdashboard) (1.0)\n",
      "Requirement already satisfied: dtreeviz>=1.3 in /opt/anaconda3/lib/python3.8/site-packages (from explainerdashboard) (1.3.6)\n",
      "Requirement already satisfied: flask-compress in /opt/anaconda3/lib/python3.8/site-packages (from dash>=2->explainerdashboard) (1.12)\n",
      "Requirement already satisfied: dash-html-components==2.0.0 in /opt/anaconda3/lib/python3.8/site-packages (from dash>=2->explainerdashboard) (2.0.0)\n",
      "Requirement already satisfied: dash-core-components==2.0.0 in /opt/anaconda3/lib/python3.8/site-packages (from dash>=2->explainerdashboard) (2.0.0)\n",
      "Requirement already satisfied: Flask>=1.0.4 in /opt/anaconda3/lib/python3.8/site-packages (from dash>=2->explainerdashboard) (1.1.2)\n",
      "Requirement already satisfied: plotly>=5.0.0 in /opt/anaconda3/lib/python3.8/site-packages (from dash>=2->explainerdashboard) (5.7.0)\n",
      "Requirement already satisfied: dash-table==5.0.0 in /opt/anaconda3/lib/python3.8/site-packages (from dash>=2->explainerdashboard) (5.0.0)\n",
      "Requirement already satisfied: colour in /opt/anaconda3/lib/python3.8/site-packages (from dtreeviz>=1.3->explainerdashboard) (0.1.5)\n",
      "Requirement already satisfied: pytest in /opt/anaconda3/lib/python3.8/site-packages (from dtreeviz>=1.3->explainerdashboard) (0.0.0)\n",
      "Requirement already satisfied: matplotlib in /opt/anaconda3/lib/python3.8/site-packages (from dtreeviz>=1.3->explainerdashboard) (3.3.2)\n",
      "Requirement already satisfied: pytz>=2020.1 in /opt/anaconda3/lib/python3.8/site-packages (from pandas>=1.1->explainerdashboard) (2020.1)\n",
      "Requirement already satisfied: python-dateutil>=2.8.1 in /opt/anaconda3/lib/python3.8/site-packages (from pandas>=1.1->explainerdashboard) (2.8.1)\n",
      "Requirement already satisfied: cloudpickle in /opt/anaconda3/lib/python3.8/site-packages (from shap>=0.37->explainerdashboard) (1.6.0)\n",
      "Requirement already satisfied: slicer==0.0.7 in /opt/anaconda3/lib/python3.8/site-packages (from shap>=0.37->explainerdashboard) (0.0.7)\n",
      "Requirement already satisfied: scipy in /opt/anaconda3/lib/python3.8/site-packages (from shap>=0.37->explainerdashboard) (1.5.2)\n",
      "Requirement already satisfied: numba in /opt/anaconda3/lib/python3.8/site-packages (from shap>=0.37->explainerdashboard) (0.55.1)\n",
      "Requirement already satisfied: tqdm>4.25.0 in /opt/anaconda3/lib/python3.8/site-packages (from shap>=0.37->explainerdashboard) (4.50.2)\n",
      "Requirement already satisfied: packaging>20.9 in /opt/anaconda3/lib/python3.8/site-packages (from shap>=0.37->explainerdashboard) (21.3)\n",
      "Requirement already satisfied: requests in /opt/anaconda3/lib/python3.8/site-packages (from dash-auth->explainerdashboard) (2.24.0)\n",
      "Requirement already satisfied: chart-studio>=1.0.0 in /opt/anaconda3/lib/python3.8/site-packages (from dash-auth->explainerdashboard) (1.1.0)\n",
      "Requirement already satisfied: retrying in /opt/anaconda3/lib/python3.8/site-packages (from dash-auth->explainerdashboard) (1.3.3)\n",
      "Requirement already satisfied: flask-seasurf in /opt/anaconda3/lib/python3.8/site-packages (from dash-auth->explainerdashboard) (1.1.1)\n",
      "Requirement already satisfied: itsdangerous>=1.1.0 in /opt/anaconda3/lib/python3.8/site-packages (from dash-auth->explainerdashboard) (1.1.0)\n",
      "Requirement already satisfied: ua-parser in /opt/anaconda3/lib/python3.8/site-packages (from dash-auth->explainerdashboard) (0.10.0)\n",
      "Requirement already satisfied: Flask-WTF<0.16.0,>=0.15.1 in /opt/anaconda3/lib/python3.8/site-packages (from flask-simplelogin->explainerdashboard) (0.15.1)\n",
      "Requirement already satisfied: WTForms>=2.1 in /opt/anaconda3/lib/python3.8/site-packages (from flask-simplelogin->explainerdashboard) (3.0.1)\n",
      "Requirement already satisfied: ipython in /opt/anaconda3/lib/python3.8/site-packages (from jupyter-dash->explainerdashboard) (7.19.0)\n",
      "Requirement already satisfied: ipykernel in /opt/anaconda3/lib/python3.8/site-packages (from jupyter-dash->explainerdashboard) (5.3.4)\n",
      "Requirement already satisfied: ansi2html in /opt/anaconda3/lib/python3.8/site-packages (from jupyter-dash->explainerdashboard) (1.7.0)\n",
      "Requirement already satisfied: nest-asyncio in /opt/anaconda3/lib/python3.8/site-packages (from jupyter-dash->explainerdashboard) (1.4.2)\n",
      "Requirement already satisfied: pyyaml in /opt/anaconda3/lib/python3.8/site-packages (from oyaml->explainerdashboard) (5.3.1)\n",
      "Requirement already satisfied: threadpoolctl>=2.0.0 in /opt/anaconda3/lib/python3.8/site-packages (from scikit-learn->explainerdashboard) (2.1.0)\n",
      "Requirement already satisfied: six in /opt/anaconda3/lib/python3.8/site-packages (from chart-studio>=1.0.0->dash-auth->explainerdashboard) (1.15.0)\n",
      "Requirement already satisfied: Jinja2>=2.10.1 in /opt/anaconda3/lib/python3.8/site-packages (from Flask>=1.0.4->dash>=2->explainerdashboard) (2.11.2)\n",
      "Requirement already satisfied: pyparsing!=3.0.5,>=2.0.2 in /opt/anaconda3/lib/python3.8/site-packages (from packaging>20.9->shap>=0.37->explainerdashboard) (2.4.7)\n",
      "Requirement already satisfied: tenacity>=6.2.0 in /opt/anaconda3/lib/python3.8/site-packages (from plotly>=5.0.0->dash>=2->explainerdashboard) (8.0.1)\n",
      "Requirement already satisfied: MarkupSafe in /opt/anaconda3/lib/python3.8/site-packages (from WTForms>=2.1->flask-simplelogin->explainerdashboard) (1.1.1)\n",
      "Requirement already satisfied: brotli in /opt/anaconda3/lib/python3.8/site-packages (from flask-compress->dash>=2->explainerdashboard) (1.0.9)\n",
      "Requirement already satisfied: jupyter-client in /opt/anaconda3/lib/python3.8/site-packages (from ipykernel->jupyter-dash->explainerdashboard) (6.1.7)\n",
      "Requirement already satisfied: appnope in /opt/anaconda3/lib/python3.8/site-packages (from ipykernel->jupyter-dash->explainerdashboard) (0.1.0)\n",
      "Requirement already satisfied: traitlets>=4.1.0 in /opt/anaconda3/lib/python3.8/site-packages (from ipykernel->jupyter-dash->explainerdashboard) (5.0.5)\n",
      "Requirement already satisfied: tornado>=4.2 in /opt/anaconda3/lib/python3.8/site-packages (from ipykernel->jupyter-dash->explainerdashboard) (6.0.4)\n",
      "Requirement already satisfied: decorator in /opt/anaconda3/lib/python3.8/site-packages (from ipython->jupyter-dash->explainerdashboard) (4.4.2)\n",
      "Requirement already satisfied: pickleshare in /opt/anaconda3/lib/python3.8/site-packages (from ipython->jupyter-dash->explainerdashboard) (0.7.5)\n",
      "Requirement already satisfied: pygments in /opt/anaconda3/lib/python3.8/site-packages (from ipython->jupyter-dash->explainerdashboard) (2.7.2)\n",
      "Requirement already satisfied: setuptools>=18.5 in /opt/anaconda3/lib/python3.8/site-packages (from ipython->jupyter-dash->explainerdashboard) (50.3.1.post20201107)\n",
      "Requirement already satisfied: jedi>=0.10 in /opt/anaconda3/lib/python3.8/site-packages (from ipython->jupyter-dash->explainerdashboard) (0.17.1)\n",
      "Requirement already satisfied: prompt-toolkit!=3.0.0,!=3.0.1,<3.1.0,>=2.0.0 in /opt/anaconda3/lib/python3.8/site-packages (from ipython->jupyter-dash->explainerdashboard) (3.0.8)\n"
     ]
    },
    {
     "name": "stdout",
     "output_type": "stream",
     "text": [
      "Requirement already satisfied: pexpect>4.3 in /opt/anaconda3/lib/python3.8/site-packages (from ipython->jupyter-dash->explainerdashboard) (4.8.0)\n",
      "Requirement already satisfied: backcall in /opt/anaconda3/lib/python3.8/site-packages (from ipython->jupyter-dash->explainerdashboard) (0.2.0)\n",
      "Requirement already satisfied: cycler>=0.10 in /opt/anaconda3/lib/python3.8/site-packages (from matplotlib->dtreeviz>=1.3->explainerdashboard) (0.10.0)\n",
      "Requirement already satisfied: pillow>=6.2.0 in /opt/anaconda3/lib/python3.8/site-packages (from matplotlib->dtreeviz>=1.3->explainerdashboard) (8.0.1)\n",
      "Requirement already satisfied: kiwisolver>=1.0.1 in /opt/anaconda3/lib/python3.8/site-packages (from matplotlib->dtreeviz>=1.3->explainerdashboard) (1.3.0)\n",
      "Requirement already satisfied: certifi>=2020.06.20 in /opt/anaconda3/lib/python3.8/site-packages (from matplotlib->dtreeviz>=1.3->explainerdashboard) (2020.6.20)\n",
      "Requirement already satisfied: llvmlite<0.39,>=0.38.0rc1 in /opt/anaconda3/lib/python3.8/site-packages (from numba->shap>=0.37->explainerdashboard) (0.38.0)\n",
      "Requirement already satisfied: attrs>=17.4.0 in /opt/anaconda3/lib/python3.8/site-packages (from pytest->dtreeviz>=1.3->explainerdashboard) (20.3.0)\n",
      "Requirement already satisfied: iniconfig in /opt/anaconda3/lib/python3.8/site-packages (from pytest->dtreeviz>=1.3->explainerdashboard) (1.1.1)\n",
      "Requirement already satisfied: pluggy<1.0,>=0.12 in /opt/anaconda3/lib/python3.8/site-packages (from pytest->dtreeviz>=1.3->explainerdashboard) (0.13.1)\n",
      "Requirement already satisfied: py>=1.8.2 in /opt/anaconda3/lib/python3.8/site-packages (from pytest->dtreeviz>=1.3->explainerdashboard) (1.9.0)\n",
      "Requirement already satisfied: toml in /opt/anaconda3/lib/python3.8/site-packages (from pytest->dtreeviz>=1.3->explainerdashboard) (0.10.1)\n",
      "Requirement already satisfied: idna<3,>=2.5 in /opt/anaconda3/lib/python3.8/site-packages (from requests->dash-auth->explainerdashboard) (2.10)\n",
      "Requirement already satisfied: chardet<4,>=3.0.2 in /opt/anaconda3/lib/python3.8/site-packages (from requests->dash-auth->explainerdashboard) (3.0.4)\n",
      "Requirement already satisfied: urllib3!=1.25.0,!=1.25.1,<1.26,>=1.21.1 in /opt/anaconda3/lib/python3.8/site-packages (from requests->dash-auth->explainerdashboard) (1.25.11)\n",
      "Requirement already satisfied: parso<0.8.0,>=0.7.0 in /opt/anaconda3/lib/python3.8/site-packages (from jedi>=0.10->ipython->jupyter-dash->explainerdashboard) (0.7.0)\n",
      "Requirement already satisfied: ptyprocess>=0.5 in /opt/anaconda3/lib/python3.8/site-packages (from pexpect>4.3->ipython->jupyter-dash->explainerdashboard) (0.6.0)\n",
      "Requirement already satisfied: wcwidth in /opt/anaconda3/lib/python3.8/site-packages (from prompt-toolkit!=3.0.0,!=3.0.1,<3.1.0,>=2.0.0->ipython->jupyter-dash->explainerdashboard) (0.2.5)\n",
      "Requirement already satisfied: ipython-genutils in /opt/anaconda3/lib/python3.8/site-packages (from traitlets>=4.1.0->ipykernel->jupyter-dash->explainerdashboard) (0.2.0)\n",
      "Requirement already satisfied: jupyter-core>=4.6.0 in /opt/anaconda3/lib/python3.8/site-packages (from jupyter-client->ipykernel->jupyter-dash->explainerdashboard) (4.6.3)\n",
      "Requirement already satisfied: pyzmq>=13 in /opt/anaconda3/lib/python3.8/site-packages (from jupyter-client->ipykernel->jupyter-dash->explainerdashboard) (19.0.2)\n",
      "Note: you may need to restart the kernel to use updated packages.\n"
     ]
    }
   ],
   "source": [
    "pip install explainerdashboard"
   ]
  },
  {
   "cell_type": "code",
   "execution_count": 19,
   "metadata": {},
   "outputs": [],
   "source": [
    "from sklearn.model_selection import train_test_split"
   ]
  },
  {
   "cell_type": "code",
   "execution_count": 46,
   "metadata": {},
   "outputs": [],
   "source": [
    "array = df.values\n",
    "X = array[:100]\n",
    "y = array[-100:]\n",
    "X_train, X_validation, Y_train, Y_validation = train_test_split(X, y, test_size=0.20, random_state=1)"
   ]
  },
  {
   "cell_type": "code",
   "execution_count": null,
   "metadata": {},
   "outputs": [],
   "source": []
  }
 ],
 "metadata": {
  "colab": {
   "collapsed_sections": [
    "6Hy9OrJkdF_n",
    "PGzPFzSlcfMW"
   ],
   "name": "Exponential_Statistical_Model_To_Use.ipynb",
   "provenance": []
  },
  "kernelspec": {
   "display_name": "Python 3",
   "language": "python",
   "name": "python3"
  },
  "language_info": {
   "codemirror_mode": {
    "name": "ipython",
    "version": 3
   },
   "file_extension": ".py",
   "mimetype": "text/x-python",
   "name": "python",
   "nbconvert_exporter": "python",
   "pygments_lexer": "ipython3",
   "version": "3.8.5"
  }
 },
 "nbformat": 4,
 "nbformat_minor": 1
}
