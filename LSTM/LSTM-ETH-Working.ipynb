{
 "cells": [
  {
   "cell_type": "code",
   "execution_count": 1,
   "id": "7e295530",
   "metadata": {},
   "outputs": [],
   "source": [
    "import numpy as np\n",
    "import matplotlib.pyplot as plt\n",
    "import pandas as pd\n",
    "from sklearn.preprocessing import MinMaxScaler\n",
    "\n",
    "import yfinance as yf\n",
    "\n",
    "from tensorflow.keras import Sequential\n",
    "\n",
    "from keras.models import Sequential\n",
    "from keras.layers import Dense\n",
    "from keras.layers import LSTM\n",
    "\n",
    "from sklearn.preprocessing import MinMaxScaler\n",
    "min_max_scaler = MinMaxScaler()\n",
    "\n",
    "import pandas_datareader as pdr"
   ]
  },
  {
   "cell_type": "code",
   "execution_count": 2,
   "id": "54664cb0",
   "metadata": {},
   "outputs": [
    {
     "data": {
      "text/html": [
       "<div>\n",
       "<style scoped>\n",
       "    .dataframe tbody tr th:only-of-type {\n",
       "        vertical-align: middle;\n",
       "    }\n",
       "\n",
       "    .dataframe tbody tr th {\n",
       "        vertical-align: top;\n",
       "    }\n",
       "\n",
       "    .dataframe thead th {\n",
       "        text-align: right;\n",
       "    }\n",
       "</style>\n",
       "<table border=\"1\" class=\"dataframe\">\n",
       "  <thead>\n",
       "    <tr style=\"text-align: right;\">\n",
       "      <th></th>\n",
       "      <th>High</th>\n",
       "      <th>Low</th>\n",
       "      <th>Open</th>\n",
       "      <th>Close</th>\n",
       "      <th>Volume</th>\n",
       "      <th>Adj Close</th>\n",
       "    </tr>\n",
       "    <tr>\n",
       "      <th>Date</th>\n",
       "      <th></th>\n",
       "      <th></th>\n",
       "      <th></th>\n",
       "      <th></th>\n",
       "      <th></th>\n",
       "      <th></th>\n",
       "    </tr>\n",
       "  </thead>\n",
       "  <tbody>\n",
       "    <tr>\n",
       "      <th>2017-11-09</th>\n",
       "      <td>329.451996</td>\n",
       "      <td>307.056000</td>\n",
       "      <td>308.644989</td>\n",
       "      <td>320.884003</td>\n",
       "      <td>893249984</td>\n",
       "      <td>320.884003</td>\n",
       "    </tr>\n",
       "    <tr>\n",
       "      <th>2017-11-10</th>\n",
       "      <td>324.717987</td>\n",
       "      <td>294.541992</td>\n",
       "      <td>320.670990</td>\n",
       "      <td>299.252991</td>\n",
       "      <td>885985984</td>\n",
       "      <td>299.252991</td>\n",
       "    </tr>\n",
       "    <tr>\n",
       "      <th>2017-11-11</th>\n",
       "      <td>319.453003</td>\n",
       "      <td>298.191986</td>\n",
       "      <td>298.585999</td>\n",
       "      <td>314.681000</td>\n",
       "      <td>842300992</td>\n",
       "      <td>314.681000</td>\n",
       "    </tr>\n",
       "    <tr>\n",
       "      <th>2017-11-12</th>\n",
       "      <td>319.153015</td>\n",
       "      <td>298.513000</td>\n",
       "      <td>314.690002</td>\n",
       "      <td>307.907990</td>\n",
       "      <td>1613479936</td>\n",
       "      <td>307.907990</td>\n",
       "    </tr>\n",
       "    <tr>\n",
       "      <th>2017-11-13</th>\n",
       "      <td>328.415009</td>\n",
       "      <td>307.024994</td>\n",
       "      <td>307.024994</td>\n",
       "      <td>316.716003</td>\n",
       "      <td>1041889984</td>\n",
       "      <td>316.716003</td>\n",
       "    </tr>\n",
       "    <tr>\n",
       "      <th>...</th>\n",
       "      <td>...</td>\n",
       "      <td>...</td>\n",
       "      <td>...</td>\n",
       "      <td>...</td>\n",
       "      <td>...</td>\n",
       "      <td>...</td>\n",
       "    </tr>\n",
       "    <tr>\n",
       "      <th>2022-05-11</th>\n",
       "      <td>2441.079346</td>\n",
       "      <td>2018.855591</td>\n",
       "      <td>2342.754150</td>\n",
       "      <td>2072.108643</td>\n",
       "      <td>45743399154</td>\n",
       "      <td>2072.108643</td>\n",
       "    </tr>\n",
       "    <tr>\n",
       "      <th>2022-05-12</th>\n",
       "      <td>2170.458008</td>\n",
       "      <td>1748.303101</td>\n",
       "      <td>2072.504639</td>\n",
       "      <td>1961.701538</td>\n",
       "      <td>42463486402</td>\n",
       "      <td>1961.701538</td>\n",
       "    </tr>\n",
       "    <tr>\n",
       "      <th>2022-05-13</th>\n",
       "      <td>2139.713379</td>\n",
       "      <td>1941.975952</td>\n",
       "      <td>1960.122559</td>\n",
       "      <td>2014.418213</td>\n",
       "      <td>24816096567</td>\n",
       "      <td>2014.418213</td>\n",
       "    </tr>\n",
       "    <tr>\n",
       "      <th>2022-05-14</th>\n",
       "      <td>2063.429932</td>\n",
       "      <td>1956.572998</td>\n",
       "      <td>2014.280640</td>\n",
       "      <td>2056.273926</td>\n",
       "      <td>15457044616</td>\n",
       "      <td>2056.273926</td>\n",
       "    </tr>\n",
       "    <tr>\n",
       "      <th>2022-05-15</th>\n",
       "      <td>2088.486328</td>\n",
       "      <td>2008.563965</td>\n",
       "      <td>2054.843262</td>\n",
       "      <td>2084.265381</td>\n",
       "      <td>13611137024</td>\n",
       "      <td>2084.265381</td>\n",
       "    </tr>\n",
       "  </tbody>\n",
       "</table>\n",
       "<p>1649 rows × 6 columns</p>\n",
       "</div>"
      ],
      "text/plain": [
       "                   High          Low         Open        Close       Volume  \\\n",
       "Date                                                                          \n",
       "2017-11-09   329.451996   307.056000   308.644989   320.884003    893249984   \n",
       "2017-11-10   324.717987   294.541992   320.670990   299.252991    885985984   \n",
       "2017-11-11   319.453003   298.191986   298.585999   314.681000    842300992   \n",
       "2017-11-12   319.153015   298.513000   314.690002   307.907990   1613479936   \n",
       "2017-11-13   328.415009   307.024994   307.024994   316.716003   1041889984   \n",
       "...                 ...          ...          ...          ...          ...   \n",
       "2022-05-11  2441.079346  2018.855591  2342.754150  2072.108643  45743399154   \n",
       "2022-05-12  2170.458008  1748.303101  2072.504639  1961.701538  42463486402   \n",
       "2022-05-13  2139.713379  1941.975952  1960.122559  2014.418213  24816096567   \n",
       "2022-05-14  2063.429932  1956.572998  2014.280640  2056.273926  15457044616   \n",
       "2022-05-15  2088.486328  2008.563965  2054.843262  2084.265381  13611137024   \n",
       "\n",
       "              Adj Close  \n",
       "Date                     \n",
       "2017-11-09   320.884003  \n",
       "2017-11-10   299.252991  \n",
       "2017-11-11   314.681000  \n",
       "2017-11-12   307.907990  \n",
       "2017-11-13   316.716003  \n",
       "...                 ...  \n",
       "2022-05-11  2072.108643  \n",
       "2022-05-12  1961.701538  \n",
       "2022-05-13  2014.418213  \n",
       "2022-05-14  2056.273926  \n",
       "2022-05-15  2084.265381  \n",
       "\n",
       "[1649 rows x 6 columns]"
      ]
     },
     "execution_count": 2,
     "metadata": {},
     "output_type": "execute_result"
    }
   ],
   "source": [
    "# Retrieve Data\n",
    "df = pdr.get_data_yahoo(\"ETH-USD\")\n",
    "df"
   ]
  },
  {
   "cell_type": "code",
   "execution_count": 3,
   "id": "f9cf4f8d",
   "metadata": {},
   "outputs": [],
   "source": [
    "df = df.drop(['Open','High','Low','Adj Close', 'Volume'], axis=1)"
   ]
  },
  {
   "cell_type": "code",
   "execution_count": 4,
   "id": "42d600e9",
   "metadata": {},
   "outputs": [],
   "source": [
    "#pip install tensorflow"
   ]
  },
  {
   "cell_type": "markdown",
   "id": "8465ac8f",
   "metadata": {},
   "source": [
    "## Splitting train and test datasets \n",
    "\n",
    "* According to the number of days for prediction\n",
    "* 30 days in our case"
   ]
  },
  {
   "cell_type": "code",
   "execution_count": 5,
   "id": "f99ed24a",
   "metadata": {},
   "outputs": [],
   "source": [
    "prediction_days = 30\n",
    "\n",
    "df_train= df[:len(df)-prediction_days]\n",
    "df_test= df[len(df)-prediction_days:]"
   ]
  },
  {
   "cell_type": "markdown",
   "id": "057b8b1c",
   "metadata": {},
   "source": [
    "## Scaling training set to fit the model"
   ]
  },
  {
   "cell_type": "code",
   "execution_count": 6,
   "id": "fc810232",
   "metadata": {},
   "outputs": [],
   "source": [
    "training_set = df_train.values\n",
    "training_set = min_max_scaler.fit_transform(training_set)\n",
    "\n",
    "x_train = training_set[0:len(training_set)-1]\n",
    "y_train = training_set[1:len(training_set)]\n",
    "\n",
    "x_train = np.reshape(x_train, (len(x_train), 1, 1))"
   ]
  },
  {
   "cell_type": "markdown",
   "id": "a4fdde23",
   "metadata": {},
   "source": [
    "## Fit LSTM model / Training data"
   ]
  },
  {
   "cell_type": "code",
   "execution_count": 7,
   "id": "5b71b773",
   "metadata": {},
   "outputs": [
    {
     "name": "stdout",
     "output_type": "stream",
     "text": [
      "Epoch 1/10\n",
      "324/324 [==============================] - 2s 2ms/step - loss: 0.0733\n",
      "Epoch 2/10\n",
      "324/324 [==============================] - 1s 2ms/step - loss: 0.0658\n",
      "Epoch 3/10\n",
      "324/324 [==============================] - 1s 2ms/step - loss: 0.0581\n",
      "Epoch 4/10\n",
      "324/324 [==============================] - 1s 2ms/step - loss: 0.0487\n",
      "Epoch 5/10\n",
      "324/324 [==============================] - 1s 2ms/step - loss: 0.0373\n",
      "Epoch 6/10\n",
      "324/324 [==============================] - 1s 2ms/step - loss: 0.0251\n",
      "Epoch 7/10\n",
      "324/324 [==============================] - 1s 2ms/step - loss: 0.0141\n",
      "Epoch 8/10\n",
      "324/324 [==============================] - 1s 2ms/step - loss: 0.0064\n",
      "Epoch 9/10\n",
      "324/324 [==============================] - 1s 2ms/step - loss: 0.0023\n",
      "Epoch 10/10\n",
      "324/324 [==============================] - 1s 2ms/step - loss: 8.1113e-04\n"
     ]
    },
    {
     "data": {
      "text/plain": [
       "<keras.callbacks.History at 0x23163162df0>"
      ]
     },
     "execution_count": 7,
     "metadata": {},
     "output_type": "execute_result"
    }
   ],
   "source": [
    "num_units = 4\n",
    "activation_function = 'sigmoid'\n",
    "optimizer = 'adam'\n",
    "loss_function = 'mean_squared_error'\n",
    "batch_size = 5\n",
    "num_epochs = 10\n",
    "\n",
    "# Initialize the RNN\n",
    "regressor = Sequential()\n",
    "\n",
    "# Adding the input layer and the LSTM layer\n",
    "regressor.add(LSTM(units = num_units, activation = activation_function, input_shape=(None, 1)))\n",
    "\n",
    "# Adding the output layer\n",
    "regressor.add(Dense(units = 1))\n",
    "\n",
    "# Compiling the RNN\n",
    "regressor.compile(optimizer = optimizer, loss = loss_function)\n",
    "\n",
    "# Using the training set to train the model\n",
    "regressor.fit(x_train, y_train, batch_size = batch_size, epochs = num_epochs)"
   ]
  },
  {
   "cell_type": "markdown",
   "id": "0fd9db4e",
   "metadata": {},
   "source": [
    "## Predict values"
   ]
  },
  {
   "cell_type": "code",
   "execution_count": 8,
   "id": "dd4da5d3",
   "metadata": {},
   "outputs": [],
   "source": [
    "test_set = df_test.values\n",
    "\n",
    "inputs = test_set\n",
    "inputs = min_max_scaler.transform(inputs)\n",
    "#inputs = np.reshape(inputs)\n",
    "\n",
    "predicted_price = regressor.predict(inputs)\n",
    "predicted_price = min_max_scaler.inverse_transform(predicted_price)"
   ]
  },
  {
   "cell_type": "markdown",
   "id": "5eabd034",
   "metadata": {},
   "source": [
    "## Visualising Actual x Predicted"
   ]
  },
  {
   "cell_type": "code",
   "execution_count": 9,
   "id": "7499ec3c",
   "metadata": {},
   "outputs": [
    {
     "data": {
      "image/png": "[encoded data removed]",
      "text/plain": [
       "<Figure size 432x288 with 1 Axes>"
      ]
     },
     "metadata": {
      "needs_background": "light"
     },
     "output_type": "display_data"
    }
   ],
   "source": [
    "plt.plot(test_set, label=\"Actual Price\", color='green')\n",
    "plt.plot(predicted_price, label=\"Predicted Price\", color='red')\n",
    " \n",
    "plt.title('Ethereum 30 days price prediction')\n",
    "plt.xlabel('Time [days]')\n",
    "plt.ylabel('Price')\n",
    "plt.legend(loc='best')\n",
    " \n",
    "plt.show();"
   ]
  },
  {
   "cell_type": "markdown",
   "id": "5e38764b",
   "metadata": {},
   "source": [
    "## Calculating accuracy using r2_Score and MAPE"
   ]
  },
  {
   "cell_type": "code",
   "execution_count": 10,
   "id": "55a40400",
   "metadata": {},
   "outputs": [],
   "source": [
    "from sklearn.metrics import mean_squared_error, r2_score, mean_absolute_error\n",
    "from sklearn.metrics import median_absolute_error, mean_squared_log_error"
   ]
  },
  {
   "cell_type": "code",
   "execution_count": 11,
   "id": "a9b24fcd",
   "metadata": {},
   "outputs": [
    {
     "data": {
      "text/html": [
       "<div>\n",
       "<style scoped>\n",
       "    .dataframe tbody tr th:only-of-type {\n",
       "        vertical-align: middle;\n",
       "    }\n",
       "\n",
       "    .dataframe tbody tr th {\n",
       "        vertical-align: top;\n",
       "    }\n",
       "\n",
       "    .dataframe thead th {\n",
       "        text-align: right;\n",
       "    }\n",
       "</style>\n",
       "<table border=\"1\" class=\"dataframe\">\n",
       "  <thead>\n",
       "    <tr style=\"text-align: right;\">\n",
       "      <th></th>\n",
       "      <th>r2_score</th>\n",
       "      <th>MAPE</th>\n",
       "    </tr>\n",
       "  </thead>\n",
       "  <tbody>\n",
       "    <tr>\n",
       "      <th>0</th>\n",
       "      <td>0.995585</td>\n",
       "      <td>0.801308</td>\n",
       "    </tr>\n",
       "  </tbody>\n",
       "</table>\n",
       "</div>"
      ],
      "text/plain": [
       "   r2_score      MAPE\n",
       "0  0.995585  0.801308"
      ]
     },
     "execution_count": 11,
     "metadata": {},
     "output_type": "execute_result"
    }
   ],
   "source": [
    "# Create a dataframe to store r2 score\n",
    "evaluation_results = pd.DataFrame({'r2_score': r2_score(test_set, predicted_price)}, index = [0])\n",
    "evaluation_results['MAPE'] = np.mean(np.abs(predicted_price - test_set)\n",
    "                                                               /np.abs(test_set))*100 \n",
    "# Display the results\n",
    "evaluation_results"
   ]
  }
 ],
 "metadata": {
  "kernelspec": {
   "display_name": "Python 3 (ipykernel)",
   "language": "python",
   "name": "python3"
  },
  "language_info": {
   "codemirror_mode": {
    "name": "ipython",
    "version": 3
   },
   "file_extension": ".py",
   "mimetype": "text/x-python",
   "name": "python",
   "nbconvert_exporter": "python",
   "pygments_lexer": "ipython3",
   "version": "3.9.7"
  }
 },
 "nbformat": 4,
 "nbformat_minor": 5
}
