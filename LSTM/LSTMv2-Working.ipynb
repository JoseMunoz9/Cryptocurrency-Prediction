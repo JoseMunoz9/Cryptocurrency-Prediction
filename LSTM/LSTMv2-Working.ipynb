{
 "cells": [
  {
   "cell_type": "markdown",
   "id": "431cf39b",
   "metadata": {},
   "source": [
    "# 12/05 - Working LSTM with R square and MAPE"
   ]
  },
  {
   "cell_type": "code",
   "execution_count": 1,
   "id": "7e295530",
   "metadata": {},
   "outputs": [],
   "source": [
    "import numpy as np\n",
    "import matplotlib.pyplot as plt\n",
    "import pandas as pd\n",
    "from sklearn.preprocessing import MinMaxScaler\n",
    "\n",
    "import yfinance as yf\n",
    "\n",
    "from tensorflow.keras import Sequential\n",
    "\n",
    "from keras.models import Sequential\n",
    "from keras.layers import Dense\n",
    "from keras.layers import LSTM\n",
    "\n",
    "from sklearn.preprocessing import MinMaxScaler\n",
    "min_max_scaler = MinMaxScaler()\n",
    "\n",
    "import pandas_datareader as pdr"
   ]
  },
  {
   "cell_type": "code",
   "execution_count": 2,
   "id": "54664cb0",
   "metadata": {},
   "outputs": [
    {
     "data": {
      "text/html": [
       "<div>\n",
       "<style scoped>\n",
       "    .dataframe tbody tr th:only-of-type {\n",
       "        vertical-align: middle;\n",
       "    }\n",
       "\n",
       "    .dataframe tbody tr th {\n",
       "        vertical-align: top;\n",
       "    }\n",
       "\n",
       "    .dataframe thead th {\n",
       "        text-align: right;\n",
       "    }\n",
       "</style>\n",
       "<table border=\"1\" class=\"dataframe\">\n",
       "  <thead>\n",
       "    <tr style=\"text-align: right;\">\n",
       "      <th></th>\n",
       "      <th>High</th>\n",
       "      <th>Low</th>\n",
       "      <th>Open</th>\n",
       "      <th>Close</th>\n",
       "      <th>Volume</th>\n",
       "      <th>Adj Close</th>\n",
       "    </tr>\n",
       "    <tr>\n",
       "      <th>Date</th>\n",
       "      <th></th>\n",
       "      <th></th>\n",
       "      <th></th>\n",
       "      <th></th>\n",
       "      <th></th>\n",
       "      <th></th>\n",
       "    </tr>\n",
       "  </thead>\n",
       "  <tbody>\n",
       "    <tr>\n",
       "      <th>2017-05-15</th>\n",
       "      <td>1812.800049</td>\n",
       "      <td>1708.540039</td>\n",
       "      <td>1808.439941</td>\n",
       "      <td>1738.430054</td>\n",
       "      <td>731529024</td>\n",
       "      <td>1738.430054</td>\n",
       "    </tr>\n",
       "    <tr>\n",
       "      <th>2017-05-16</th>\n",
       "      <td>1785.939941</td>\n",
       "      <td>1686.540039</td>\n",
       "      <td>1741.699951</td>\n",
       "      <td>1734.449951</td>\n",
       "      <td>959044992</td>\n",
       "      <td>1734.449951</td>\n",
       "    </tr>\n",
       "    <tr>\n",
       "      <th>2017-05-17</th>\n",
       "      <td>1864.050049</td>\n",
       "      <td>1661.910034</td>\n",
       "      <td>1726.729980</td>\n",
       "      <td>1839.089966</td>\n",
       "      <td>1064729984</td>\n",
       "      <td>1839.089966</td>\n",
       "    </tr>\n",
       "    <tr>\n",
       "      <th>2017-05-18</th>\n",
       "      <td>1904.479980</td>\n",
       "      <td>1807.119995</td>\n",
       "      <td>1818.699951</td>\n",
       "      <td>1888.650024</td>\n",
       "      <td>894321024</td>\n",
       "      <td>1888.650024</td>\n",
       "    </tr>\n",
       "    <tr>\n",
       "      <th>2017-05-19</th>\n",
       "      <td>2004.520020</td>\n",
       "      <td>1890.250000</td>\n",
       "      <td>1897.369995</td>\n",
       "      <td>1987.709961</td>\n",
       "      <td>1157289984</td>\n",
       "      <td>1987.709961</td>\n",
       "    </tr>\n",
       "    <tr>\n",
       "      <th>...</th>\n",
       "      <td>...</td>\n",
       "      <td>...</td>\n",
       "      <td>...</td>\n",
       "      <td>...</td>\n",
       "      <td>...</td>\n",
       "      <td>...</td>\n",
       "    </tr>\n",
       "    <tr>\n",
       "      <th>2022-05-09</th>\n",
       "      <td>34222.074219</td>\n",
       "      <td>30296.953125</td>\n",
       "      <td>34060.015625</td>\n",
       "      <td>30296.953125</td>\n",
       "      <td>63355494961</td>\n",
       "      <td>30296.953125</td>\n",
       "    </tr>\n",
       "    <tr>\n",
       "      <th>2022-05-10</th>\n",
       "      <td>32596.308594</td>\n",
       "      <td>29944.802734</td>\n",
       "      <td>30273.654297</td>\n",
       "      <td>31022.906250</td>\n",
       "      <td>59811038817</td>\n",
       "      <td>31022.906250</td>\n",
       "    </tr>\n",
       "    <tr>\n",
       "      <th>2022-05-11</th>\n",
       "      <td>32013.402344</td>\n",
       "      <td>28170.414062</td>\n",
       "      <td>31016.183594</td>\n",
       "      <td>28936.355469</td>\n",
       "      <td>70388855818</td>\n",
       "      <td>28936.355469</td>\n",
       "    </tr>\n",
       "    <tr>\n",
       "      <th>2022-05-12</th>\n",
       "      <td>30032.439453</td>\n",
       "      <td>26350.490234</td>\n",
       "      <td>28936.734375</td>\n",
       "      <td>29047.751953</td>\n",
       "      <td>66989173272</td>\n",
       "      <td>29047.751953</td>\n",
       "    </tr>\n",
       "    <tr>\n",
       "      <th>2022-05-13</th>\n",
       "      <td>30919.562500</td>\n",
       "      <td>28786.167969</td>\n",
       "      <td>28971.544922</td>\n",
       "      <td>29394.498047</td>\n",
       "      <td>42812325888</td>\n",
       "      <td>29394.498047</td>\n",
       "    </tr>\n",
       "  </tbody>\n",
       "</table>\n",
       "<p>1825 rows × 6 columns</p>\n",
       "</div>"
      ],
      "text/plain": [
       "                    High           Low          Open         Close  \\\n",
       "Date                                                                 \n",
       "2017-05-15   1812.800049   1708.540039   1808.439941   1738.430054   \n",
       "2017-05-16   1785.939941   1686.540039   1741.699951   1734.449951   \n",
       "2017-05-17   1864.050049   1661.910034   1726.729980   1839.089966   \n",
       "2017-05-18   1904.479980   1807.119995   1818.699951   1888.650024   \n",
       "2017-05-19   2004.520020   1890.250000   1897.369995   1987.709961   \n",
       "...                  ...           ...           ...           ...   \n",
       "2022-05-09  34222.074219  30296.953125  34060.015625  30296.953125   \n",
       "2022-05-10  32596.308594  29944.802734  30273.654297  31022.906250   \n",
       "2022-05-11  32013.402344  28170.414062  31016.183594  28936.355469   \n",
       "2022-05-12  30032.439453  26350.490234  28936.734375  29047.751953   \n",
       "2022-05-13  30919.562500  28786.167969  28971.544922  29394.498047   \n",
       "\n",
       "                 Volume     Adj Close  \n",
       "Date                                   \n",
       "2017-05-15    731529024   1738.430054  \n",
       "2017-05-16    959044992   1734.449951  \n",
       "2017-05-17   1064729984   1839.089966  \n",
       "2017-05-18    894321024   1888.650024  \n",
       "2017-05-19   1157289984   1987.709961  \n",
       "...                 ...           ...  \n",
       "2022-05-09  63355494961  30296.953125  \n",
       "2022-05-10  59811038817  31022.906250  \n",
       "2022-05-11  70388855818  28936.355469  \n",
       "2022-05-12  66989173272  29047.751953  \n",
       "2022-05-13  42812325888  29394.498047  \n",
       "\n",
       "[1825 rows x 6 columns]"
      ]
     },
     "execution_count": 2,
     "metadata": {},
     "output_type": "execute_result"
    }
   ],
   "source": [
    "# Retrieve Data\n",
    "df = pdr.get_data_yahoo(\"BTC-USD\")\n",
    "df"
   ]
  },
  {
   "cell_type": "code",
   "execution_count": 3,
   "id": "f9cf4f8d",
   "metadata": {},
   "outputs": [],
   "source": [
    "df = df.drop(['Open','High','Low','Adj Close', 'Volume'], axis=1)"
   ]
  },
  {
   "cell_type": "code",
   "execution_count": 4,
   "id": "42d600e9",
   "metadata": {},
   "outputs": [],
   "source": [
    "#pip install tensorflow"
   ]
  },
  {
   "cell_type": "markdown",
   "id": "735311ed",
   "metadata": {},
   "source": [
    "## Splitting train and test datasets \n",
    "\n",
    "* According to the number of days for prediction\n",
    "* 30 days in our case"
   ]
  },
  {
   "cell_type": "code",
   "execution_count": 5,
   "id": "f99ed24a",
   "metadata": {},
   "outputs": [],
   "source": [
    "prediction_days = 30\n",
    "\n",
    "df_train= df[:len(df)-prediction_days]\n",
    "df_test= df[len(df)-prediction_days:]"
   ]
  },
  {
   "cell_type": "markdown",
   "id": "facc663f",
   "metadata": {},
   "source": [
    "## Scaling training set to fit the model"
   ]
  },
  {
   "cell_type": "code",
   "execution_count": 6,
   "id": "fc810232",
   "metadata": {},
   "outputs": [],
   "source": [
    "training_set = df_train.values\n",
    "training_set = min_max_scaler.fit_transform(training_set)\n",
    "\n",
    "x_train = training_set[0:len(training_set)-1]\n",
    "y_train = training_set[1:len(training_set)]\n",
    "\n",
    "x_train = np.reshape(x_train, (len(x_train), 1, 1))"
   ]
  },
  {
   "cell_type": "markdown",
   "id": "d2c82f91",
   "metadata": {},
   "source": [
    "## Fit LSTM model / Training data"
   ]
  },
  {
   "cell_type": "code",
   "execution_count": 7,
   "id": "5b71b773",
   "metadata": {},
   "outputs": [
    {
     "name": "stdout",
     "output_type": "stream",
     "text": [
      "Epoch 1/10\n",
      "359/359 [==============================] - 4s 3ms/step - loss: 0.8901\n",
      "Epoch 2/10\n",
      "359/359 [==============================] - 1s 2ms/step - loss: 0.2003\n",
      "Epoch 3/10\n",
      "359/359 [==============================] - 1s 3ms/step - loss: 0.0776\n",
      "Epoch 4/10\n",
      "359/359 [==============================] - 1s 2ms/step - loss: 0.0607\n",
      "Epoch 5/10\n",
      "359/359 [==============================] - 1s 3ms/step - loss: 0.0571\n",
      "Epoch 6/10\n",
      "359/359 [==============================] - 1s 2ms/step - loss: 0.0541\n",
      "Epoch 7/10\n",
      "359/359 [==============================] - 1s 2ms/step - loss: 0.0505\n",
      "Epoch 8/10\n",
      "359/359 [==============================] - 1s 2ms/step - loss: 0.0462\n",
      "Epoch 9/10\n",
      "359/359 [==============================] - 1s 2ms/step - loss: 0.0412\n",
      "Epoch 10/10\n",
      "359/359 [==============================] - 1s 2ms/step - loss: 0.0354\n"
     ]
    },
    {
     "data": {
      "text/plain": [
       "<keras.callbacks.History at 0x145ef385e50>"
      ]
     },
     "execution_count": 7,
     "metadata": {},
     "output_type": "execute_result"
    }
   ],
   "source": [
    "num_units = 4\n",
    "activation_function = 'sigmoid'\n",
    "optimizer = 'adam'\n",
    "loss_function = 'mean_squared_error'\n",
    "batch_size = 5\n",
    "num_epochs = 10\n",
    "\n",
    "# Initialize the RNN\n",
    "regressor = Sequential()\n",
    "\n",
    "# Adding the input layer and the LSTM layer\n",
    "regressor.add(LSTM(units = num_units, activation = activation_function, input_shape=(None, 1)))\n",
    "\n",
    "# Adding the output layer\n",
    "regressor.add(Dense(units = 1))\n",
    "\n",
    "# Compiling the RNN\n",
    "regressor.compile(optimizer = optimizer, loss = loss_function)\n",
    "\n",
    "# Using the training set to train the model\n",
    "regressor.fit(x_train, y_train, batch_size = batch_size, epochs = num_epochs)"
   ]
  },
  {
   "cell_type": "markdown",
   "id": "42a6483b",
   "metadata": {},
   "source": [
    "## Predict values"
   ]
  },
  {
   "cell_type": "code",
   "execution_count": 8,
   "id": "dd4da5d3",
   "metadata": {},
   "outputs": [],
   "source": [
    "test_set = df_test.values\n",
    "\n",
    "inputs = test_set\n",
    "inputs = min_max_scaler.transform(inputs)\n",
    "#inputs = np.reshape(inputs)\n",
    "\n",
    "predicted_price = regressor.predict(inputs)\n",
    "predicted_price = min_max_scaler.inverse_transform(predicted_price)"
   ]
  },
  {
   "cell_type": "markdown",
   "id": "bb16f9f1",
   "metadata": {},
   "source": [
    "## Visualising Actual x Predicted"
   ]
  },
  {
   "cell_type": "code",
   "execution_count": 9,
   "id": "7499ec3c",
   "metadata": {},
   "outputs": [
    {
     "data": {
      "image/png": "[encoded data removed]",
      "text/plain": [
       "<Figure size 432x288 with 1 Axes>"
      ]
     },
     "metadata": {
      "needs_background": "light"
     },
     "output_type": "display_data"
    }
   ],
   "source": [
    "plt.plot(test_set, label=\"Actual Price\", color='green')\n",
    "plt.plot(predicted_price, label=\"Predicted Price\", color='red')\n",
    " \n",
    "plt.title('Bitcoin price prediction')\n",
    "plt.xlabel('Time [days]')\n",
    "plt.ylabel('Price')\n",
    "plt.legend(loc='best')\n",
    " \n",
    "plt.show();"
   ]
  },
  {
   "cell_type": "markdown",
   "id": "2e755f74",
   "metadata": {},
   "source": [
    "## Calculating accuracy using r2_Score and MAPE"
   ]
  },
  {
   "cell_type": "code",
   "execution_count": 10,
   "id": "55a40400",
   "metadata": {},
   "outputs": [],
   "source": [
    "from sklearn.metrics import mean_squared_error, r2_score, mean_absolute_error\n",
    "from sklearn.metrics import median_absolute_error, mean_squared_log_error"
   ]
  },
  {
   "cell_type": "code",
   "execution_count": 11,
   "id": "a9b24fcd",
   "metadata": {},
   "outputs": [
    {
     "data": {
      "text/html": [
       "<div>\n",
       "<style scoped>\n",
       "    .dataframe tbody tr th:only-of-type {\n",
       "        vertical-align: middle;\n",
       "    }\n",
       "\n",
       "    .dataframe tbody tr th {\n",
       "        vertical-align: top;\n",
       "    }\n",
       "\n",
       "    .dataframe thead th {\n",
       "        text-align: right;\n",
       "    }\n",
       "</style>\n",
       "<table border=\"1\" class=\"dataframe\">\n",
       "  <thead>\n",
       "    <tr style=\"text-align: right;\">\n",
       "      <th></th>\n",
       "      <th>r2_score</th>\n",
       "      <th>MAPE</th>\n",
       "    </tr>\n",
       "  </thead>\n",
       "  <tbody>\n",
       "    <tr>\n",
       "      <th>0</th>\n",
       "      <td>-12.18348</td>\n",
       "      <td>36.145061</td>\n",
       "    </tr>\n",
       "  </tbody>\n",
       "</table>\n",
       "</div>"
      ],
      "text/plain": [
       "   r2_score       MAPE\n",
       "0 -12.18348  36.145061"
      ]
     },
     "execution_count": 11,
     "metadata": {},
     "output_type": "execute_result"
    }
   ],
   "source": [
    "# Create a dataframe to store r2 score\n",
    "evaluation_results = pd.DataFrame({'r2_score': r2_score(test_set, predicted_price)}, index = [0])\n",
    "evaluation_results['MAPE'] = np.mean(np.abs(predicted_price - test_set)\n",
    "                                                               /np.abs(test_set))*100 \n",
    "# Display the results\n",
    "evaluation_results"
   ]
  }
 ],
 "metadata": {
  "kernelspec": {
   "display_name": "Python 3 (ipykernel)",
   "language": "python",
   "name": "python3"
  },
  "language_info": {
   "codemirror_mode": {
    "name": "ipython",
    "version": 3
   },
   "file_extension": ".py",
   "mimetype": "text/x-python",
   "name": "python",
   "nbconvert_exporter": "python",
   "pygments_lexer": "ipython3",
   "version": "3.9.7"
  }
 },
 "nbformat": 4,
 "nbformat_minor": 5
}
