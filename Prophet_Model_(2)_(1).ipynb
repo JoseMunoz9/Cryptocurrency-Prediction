{
  "cells": [
    {
      "cell_type": "markdown",
      "metadata": {
        "id": "view-in-github",
        "colab_type": "text"
      },
      "source": [
        "<a href=\"https://colab.research.google.com/github/SergJohn/Crypto-Prediction-2022-Project/blob/main/Prophet_Model_(2)_(1).ipynb\" target=\"_parent\"><img src=\"https://colab.research.google.com/assets/colab-badge.svg\" alt=\"Open In Colab\"/></a>"
      ]
    },
    {
      "cell_type": "code",
      "execution_count": null,
      "metadata": {
        "id": "0qgJeVOZgkxh"
      },
      "outputs": [],
      "source": [
        "#pip install --upgrade pandas pip install --upgrade pandas-datareader"
      ]
    },
    {
      "cell_type": "code",
      "execution_count": null,
      "metadata": {
        "id": "CgKDuXcUgrYP"
      },
      "outputs": [],
      "source": [
        "#pip install pandas-datareader\n"
      ]
    },
    {
      "cell_type": "code",
      "execution_count": null,
      "metadata": {
        "id": "oEDn47BXg2X0"
      },
      "outputs": [],
      "source": [
        "#!pip install pystan fbprophet\n"
      ]
    },
    {
      "cell_type": "code",
      "execution_count": null,
      "metadata": {
        "id": "1F7Q0zseg-Bz"
      },
      "outputs": [],
      "source": [
        "import pandas as pd\n",
        "from fbprophet import Prophet"
      ]
    },
    {
      "cell_type": "code",
      "execution_count": null,
      "metadata": {
        "id": "Ruk4urW-hZKj"
      },
      "outputs": [],
      "source": [
        "import pandas_datareader as pdr\n",
        "import pandas as pd\n",
        "from datetime import datetime\n",
        "from matplotlib import pyplot as plt"
      ]
    },
    {
      "cell_type": "code",
      "execution_count": null,
      "metadata": {
        "id": "ChmeovZoUIJW"
      },
      "outputs": [],
      "source": [
        "# Data1 Using static Dataset from Yahoo Finance, data from 2014 afterwards\n",
        "#data_btc = pd.read_csv('BTC-USD.csv',index_col = [0])"
      ]
    },
    {
      "cell_type": "code",
      "execution_count": null,
      "metadata": {
        "id": "EXeCeBe-hf7k"
      },
      "outputs": [],
      "source": [
        "# Data2 Getting Yahoo Finance from pdr = data from 2020 afterwards\n",
        "data_btc = pdr.get_data_yahoo('BTC-USD')\n",
        "data_et = pdr.get_data_yahoo('ETH-USD')\n"
      ]
    },
    {
      "cell_type": "code",
      "execution_count": null,
      "metadata": {
        "colab": {
          "base_uri": "https://localhost:8080/",
          "height": 368
        },
        "id": "KShTpC9WhiqI",
        "outputId": "d61289f7-9b7c-4379-e4a0-a680af05609a"
      },
      "outputs": [
        {
          "data": {
            "text/html": [
              "<div>\n",
              "<style scoped>\n",
              "    .dataframe tbody tr th:only-of-type {\n",
              "        vertical-align: middle;\n",
              "    }\n",
              "\n",
              "    .dataframe tbody tr th {\n",
              "        vertical-align: top;\n",
              "    }\n",
              "\n",
              "    .dataframe thead th {\n",
              "        text-align: right;\n",
              "    }\n",
              "</style>\n",
              "<table border=\"1\" class=\"dataframe\">\n",
              "  <thead>\n",
              "    <tr style=\"text-align: right;\">\n",
              "      <th></th>\n",
              "      <th>High</th>\n",
              "      <th>Low</th>\n",
              "      <th>Open</th>\n",
              "      <th>Close</th>\n",
              "      <th>Volume</th>\n",
              "      <th>Adj Close</th>\n",
              "    </tr>\n",
              "    <tr>\n",
              "      <th>Date</th>\n",
              "      <th></th>\n",
              "      <th></th>\n",
              "      <th></th>\n",
              "      <th></th>\n",
              "      <th></th>\n",
              "      <th></th>\n",
              "    </tr>\n",
              "  </thead>\n",
              "  <tbody>\n",
              "    <tr>\n",
              "      <th>2017-11-09</th>\n",
              "      <td>329.451996</td>\n",
              "      <td>307.056000</td>\n",
              "      <td>308.644989</td>\n",
              "      <td>320.884003</td>\n",
              "      <td>893249984</td>\n",
              "      <td>320.884003</td>\n",
              "    </tr>\n",
              "    <tr>\n",
              "      <th>2017-11-10</th>\n",
              "      <td>324.717987</td>\n",
              "      <td>294.541992</td>\n",
              "      <td>320.670990</td>\n",
              "      <td>299.252991</td>\n",
              "      <td>885985984</td>\n",
              "      <td>299.252991</td>\n",
              "    </tr>\n",
              "    <tr>\n",
              "      <th>2017-11-11</th>\n",
              "      <td>319.453003</td>\n",
              "      <td>298.191986</td>\n",
              "      <td>298.585999</td>\n",
              "      <td>314.681000</td>\n",
              "      <td>842300992</td>\n",
              "      <td>314.681000</td>\n",
              "    </tr>\n",
              "    <tr>\n",
              "      <th>2017-11-12</th>\n",
              "      <td>319.153015</td>\n",
              "      <td>298.513000</td>\n",
              "      <td>314.690002</td>\n",
              "      <td>307.907990</td>\n",
              "      <td>1613479936</td>\n",
              "      <td>307.907990</td>\n",
              "    </tr>\n",
              "    <tr>\n",
              "      <th>2017-11-13</th>\n",
              "      <td>328.415009</td>\n",
              "      <td>307.024994</td>\n",
              "      <td>307.024994</td>\n",
              "      <td>316.716003</td>\n",
              "      <td>1041889984</td>\n",
              "      <td>316.716003</td>\n",
              "    </tr>\n",
              "  </tbody>\n",
              "</table>\n",
              "</div>"
            ],
            "text/plain": [
              "                  High         Low        Open       Close      Volume  \\\n",
              "Date                                                                     \n",
              "2017-11-09  329.451996  307.056000  308.644989  320.884003   893249984   \n",
              "2017-11-10  324.717987  294.541992  320.670990  299.252991   885985984   \n",
              "2017-11-11  319.453003  298.191986  298.585999  314.681000   842300992   \n",
              "2017-11-12  319.153015  298.513000  314.690002  307.907990  1613479936   \n",
              "2017-11-13  328.415009  307.024994  307.024994  316.716003  1041889984   \n",
              "\n",
              "             Adj Close  \n",
              "Date                    \n",
              "2017-11-09  320.884003  \n",
              "2017-11-10  299.252991  \n",
              "2017-11-11  314.681000  \n",
              "2017-11-12  307.907990  \n",
              "2017-11-13  316.716003  "
            ]
          },
          "execution_count": 8,
          "metadata": {},
          "output_type": "execute_result"
        }
      ],
      "source": [
        "data_et.head()\n"
      ]
    },
    {
      "cell_type": "code",
      "execution_count": null,
      "metadata": {
        "colab": {
          "base_uri": "https://localhost:8080/"
        },
        "id": "vPxQp31tme2J",
        "outputId": "1841ef6c-8fe5-4b01-ebec-fa30be219b70"
      },
      "outputs": [
        {
          "data": {
            "text/plain": [
              "<bound method DataFrame.info of                     High           Low          Open         Close  \\\n",
              "Date                                                                 \n",
              "2017-05-07   1596.719971   1559.760010   1579.469971   1596.709961   \n",
              "2017-05-08   1723.349976   1596.920044   1596.920044   1723.349976   \n",
              "2017-05-09   1833.489990   1716.300049   1723.890015   1755.359985   \n",
              "2017-05-10   1788.439941   1719.099976   1756.520020   1787.130005   \n",
              "2017-05-11   1873.930054   1755.349976   1780.369995   1848.569946   \n",
              "...                  ...           ...           ...           ...   \n",
              "2022-05-02  39074.972656  38156.562500  38472.187500  38529.328125   \n",
              "2022-05-03  38629.996094  37585.621094  38528.109375  37750.453125   \n",
              "2022-05-04  39902.949219  37732.058594  37748.011719  39698.371094   \n",
              "2022-05-05  39789.281250  35856.515625  39695.746094  36575.140625   \n",
              "2022-05-06  36607.585938  35482.132812  36550.769531  36281.000000   \n",
              "\n",
              "                 Volume     Adj Close  \n",
              "Date                                   \n",
              "2017-05-07   1080029952   1596.709961  \n",
              "2017-05-08   1340320000   1723.349976  \n",
              "2017-05-09   1167920000   1755.359985  \n",
              "2017-05-10    915723008   1787.130005  \n",
              "2017-05-11    799489984   1848.569946  \n",
              "...                 ...           ...  \n",
              "2022-05-02  32922642426  38529.328125  \n",
              "2022-05-03  27326943244  37750.453125  \n",
              "2022-05-04  36754404490  39698.371094  \n",
              "2022-05-05  43106256317  36575.140625  \n",
              "2022-05-06  51464740864  36281.000000  \n",
              "\n",
              "[1826 rows x 6 columns]>"
            ]
          },
          "execution_count": 9,
          "metadata": {},
          "output_type": "execute_result"
        }
      ],
      "source": [
        "data_btc.info"
      ]
    },
    {
      "cell_type": "code",
      "execution_count": null,
      "metadata": {
        "id": "xhWJTVlzxhlX",
        "outputId": "812f1399-1527-48d7-a3f9-a1857c79af67"
      },
      "outputs": [
        {
          "data": {
            "text/plain": [
              "<bound method DataFrame.info of                    High          Low         Open        Close       Volume  \\\n",
              "Date                                                                          \n",
              "2017-11-09   329.451996   307.056000   308.644989   320.884003    893249984   \n",
              "2017-11-10   324.717987   294.541992   320.670990   299.252991    885985984   \n",
              "2017-11-11   319.453003   298.191986   298.585999   314.681000    842300992   \n",
              "2017-11-12   319.153015   298.513000   314.690002   307.907990   1613479936   \n",
              "2017-11-13   328.415009   307.024994   307.024994   316.716003   1041889984   \n",
              "...                 ...          ...          ...          ...          ...   \n",
              "2022-05-02  2874.145996  2785.522949  2827.614014  2857.410400  18609741545   \n",
              "2022-05-03  2859.193359  2762.118652  2857.152344  2783.476318  13026093219   \n",
              "2022-05-04  2956.686768  2779.273682  2783.131104  2940.644775  18186749944   \n",
              "2022-05-05  2948.960693  2704.916260  2940.226562  2749.213135  22642925048   \n",
              "2022-05-06  2753.658447  2645.335205  2746.350586  2711.370850  27611660288   \n",
              "\n",
              "              Adj Close  \n",
              "Date                     \n",
              "2017-11-09   320.884003  \n",
              "2017-11-10   299.252991  \n",
              "2017-11-11   314.681000  \n",
              "2017-11-12   307.907990  \n",
              "2017-11-13   316.716003  \n",
              "...                 ...  \n",
              "2022-05-02  2857.410400  \n",
              "2022-05-03  2783.476318  \n",
              "2022-05-04  2940.644775  \n",
              "2022-05-05  2749.213135  \n",
              "2022-05-06  2711.370850  \n",
              "\n",
              "[1640 rows x 6 columns]>"
            ]
          },
          "execution_count": 10,
          "metadata": {},
          "output_type": "execute_result"
        }
      ],
      "source": [
        "data_et.info"
      ]
    },
    {
      "cell_type": "code",
      "execution_count": null,
      "metadata": {
        "id": "kwuZ_xmjrg9z"
      },
      "outputs": [],
      "source": [
        "# For Data2 - Transforming the index in a Date columns\n",
        "data_btc=data_btc.reset_index()"
      ]
    },
    {
      "cell_type": "code",
      "execution_count": null,
      "metadata": {
        "id": "0n8OcPz2xhlZ"
      },
      "outputs": [],
      "source": [
        "data_et=data_et.reset_index()"
      ]
    },
    {
      "cell_type": "code",
      "execution_count": null,
      "metadata": {
        "colab": {
          "base_uri": "https://localhost:8080/"
        },
        "id": "HN_bYr2Srn69",
        "outputId": "d245fc4f-430e-44ca-96bc-4510efd620b1"
      },
      "outputs": [
        {
          "name": "stdout",
          "output_type": "stream",
          "text": [
            "<class 'pandas.core.frame.DataFrame'>\n",
            "RangeIndex: 1826 entries, 0 to 1825\n",
            "Data columns (total 7 columns):\n",
            " #   Column     Non-Null Count  Dtype         \n",
            "---  ------     --------------  -----         \n",
            " 0   Date       1826 non-null   datetime64[ns]\n",
            " 1   High       1826 non-null   float64       \n",
            " 2   Low        1826 non-null   float64       \n",
            " 3   Open       1826 non-null   float64       \n",
            " 4   Close      1826 non-null   float64       \n",
            " 5   Volume     1826 non-null   int64         \n",
            " 6   Adj Close  1826 non-null   float64       \n",
            "dtypes: datetime64[ns](1), float64(5), int64(1)\n",
            "memory usage: 100.0 KB\n"
          ]
        }
      ],
      "source": [
        "data_btc.info()"
      ]
    },
    {
      "cell_type": "code",
      "execution_count": null,
      "metadata": {
        "id": "pszoy6Q2VBfE"
      },
      "outputs": [],
      "source": [
        "# For Data2\n",
        "data_btc.drop(['High', 'Low', 'Open', 'Volume', 'Adj Close'], axis=1, inplace=True)"
      ]
    },
    {
      "cell_type": "code",
      "execution_count": null,
      "metadata": {
        "id": "9xOVtuANxhlb"
      },
      "outputs": [],
      "source": [
        "data_et.drop(['High', 'Low', 'Open', 'Volume', 'Adj Close'], axis=1, inplace=True)"
      ]
    },
    {
      "cell_type": "code",
      "execution_count": null,
      "metadata": {
        "id": "pE2RWG-Pzwyy"
      },
      "outputs": [],
      "source": [
        ""
      ]
    },
    {
      "cell_type": "code",
      "execution_count": null,
      "metadata": {
        "colab": {
          "base_uri": "https://localhost:8080/",
          "height": 206
        },
        "id": "NwZ9Nvrcmrf5",
        "outputId": "f4e48259-13e8-49fc-aec6-9a5014951b88"
      },
      "outputs": [
        {
          "data": {
            "text/html": [
              "<div>\n",
              "<style scoped>\n",
              "    .dataframe tbody tr th:only-of-type {\n",
              "        vertical-align: middle;\n",
              "    }\n",
              "\n",
              "    .dataframe tbody tr th {\n",
              "        vertical-align: top;\n",
              "    }\n",
              "\n",
              "    .dataframe thead th {\n",
              "        text-align: right;\n",
              "    }\n",
              "</style>\n",
              "<table border=\"1\" class=\"dataframe\">\n",
              "  <thead>\n",
              "    <tr style=\"text-align: right;\">\n",
              "      <th></th>\n",
              "      <th>Date</th>\n",
              "      <th>Close</th>\n",
              "    </tr>\n",
              "  </thead>\n",
              "  <tbody>\n",
              "    <tr>\n",
              "      <th>1821</th>\n",
              "      <td>2022-05-02</td>\n",
              "      <td>38529.328125</td>\n",
              "    </tr>\n",
              "    <tr>\n",
              "      <th>1822</th>\n",
              "      <td>2022-05-03</td>\n",
              "      <td>37750.453125</td>\n",
              "    </tr>\n",
              "    <tr>\n",
              "      <th>1823</th>\n",
              "      <td>2022-05-04</td>\n",
              "      <td>39698.371094</td>\n",
              "    </tr>\n",
              "    <tr>\n",
              "      <th>1824</th>\n",
              "      <td>2022-05-05</td>\n",
              "      <td>36575.140625</td>\n",
              "    </tr>\n",
              "    <tr>\n",
              "      <th>1825</th>\n",
              "      <td>2022-05-06</td>\n",
              "      <td>36281.000000</td>\n",
              "    </tr>\n",
              "  </tbody>\n",
              "</table>\n",
              "</div>"
            ],
            "text/plain": [
              "           Date         Close\n",
              "1821 2022-05-02  38529.328125\n",
              "1822 2022-05-03  37750.453125\n",
              "1823 2022-05-04  39698.371094\n",
              "1824 2022-05-05  36575.140625\n",
              "1825 2022-05-06  36281.000000"
            ]
          },
          "execution_count": 16,
          "metadata": {},
          "output_type": "execute_result"
        }
      ],
      "source": [
        "data_btc.tail()"
      ]
    },
    {
      "cell_type": "code",
      "execution_count": null,
      "metadata": {
        "id": "tnXdoEZvxhlc",
        "outputId": "68409d72-0900-4464-ab0d-43f5c4036d04"
      },
      "outputs": [
        {
          "data": {
            "text/html": [
              "<div>\n",
              "<style scoped>\n",
              "    .dataframe tbody tr th:only-of-type {\n",
              "        vertical-align: middle;\n",
              "    }\n",
              "\n",
              "    .dataframe tbody tr th {\n",
              "        vertical-align: top;\n",
              "    }\n",
              "\n",
              "    .dataframe thead th {\n",
              "        text-align: right;\n",
              "    }\n",
              "</style>\n",
              "<table border=\"1\" class=\"dataframe\">\n",
              "  <thead>\n",
              "    <tr style=\"text-align: right;\">\n",
              "      <th></th>\n",
              "      <th>Date</th>\n",
              "      <th>Close</th>\n",
              "    </tr>\n",
              "  </thead>\n",
              "  <tbody>\n",
              "    <tr>\n",
              "      <th>1635</th>\n",
              "      <td>2022-05-02</td>\n",
              "      <td>2857.410400</td>\n",
              "    </tr>\n",
              "    <tr>\n",
              "      <th>1636</th>\n",
              "      <td>2022-05-03</td>\n",
              "      <td>2783.476318</td>\n",
              "    </tr>\n",
              "    <tr>\n",
              "      <th>1637</th>\n",
              "      <td>2022-05-04</td>\n",
              "      <td>2940.644775</td>\n",
              "    </tr>\n",
              "    <tr>\n",
              "      <th>1638</th>\n",
              "      <td>2022-05-05</td>\n",
              "      <td>2749.213135</td>\n",
              "    </tr>\n",
              "    <tr>\n",
              "      <th>1639</th>\n",
              "      <td>2022-05-06</td>\n",
              "      <td>2711.370850</td>\n",
              "    </tr>\n",
              "  </tbody>\n",
              "</table>\n",
              "</div>"
            ],
            "text/plain": [
              "           Date        Close\n",
              "1635 2022-05-02  2857.410400\n",
              "1636 2022-05-03  2783.476318\n",
              "1637 2022-05-04  2940.644775\n",
              "1638 2022-05-05  2749.213135\n",
              "1639 2022-05-06  2711.370850"
            ]
          },
          "execution_count": 17,
          "metadata": {},
          "output_type": "execute_result"
        }
      ],
      "source": [
        "data_et.tail()"
      ]
    },
    {
      "cell_type": "code",
      "execution_count": null,
      "metadata": {
        "id": "CKAgLXo8mgX3"
      },
      "outputs": [],
      "source": [
        "data_btc.columns = ['ds','y']"
      ]
    },
    {
      "cell_type": "code",
      "execution_count": null,
      "metadata": {
        "id": "4kirgkcAxhld"
      },
      "outputs": [],
      "source": [
        "data_et.columns = ['ds','y']"
      ]
    },
    {
      "cell_type": "code",
      "execution_count": null,
      "metadata": {
        "colab": {
          "base_uri": "https://localhost:8080/",
          "height": 185
        },
        "id": "BcjfzLWLxsmp",
        "outputId": "6c238124-8bbb-4869-d841-5bfa52af1181"
      },
      "outputs": [
        {
          "data": {
            "text/plain": [
              "<matplotlib.axes._subplots.AxesSubplot at 0x22d4e50ca00>"
            ]
          },
          "execution_count": 20,
          "metadata": {},
          "output_type": "execute_result"
        },
        {
          "data": {
            "image/png": "[encoded data removed]",
            "text/plain": [
              "<Figure size 396x396 with 1 Axes>"
            ]
          },
          "metadata": {
            "needs_background": "light"
          },
          "output_type": "display_data"
        }
      ],
      "source": [
        "fig = plt.figure(figsize = (5.5, 5.5))\n",
        "ax = fig.add_subplot(2, 1, 1)\n",
        "fig.subplots_adjust(hspace = 0.5)\n",
        "data_btc['y'].plot(ax = ax)"
      ]
    },
    {
      "cell_type": "code",
      "execution_count": null,
      "metadata": {
        "id": "dz5o59VWxhle",
        "outputId": "f4c9f5c8-c4bf-4d35-ea91-cc5993a81ad9"
      },
      "outputs": [
        {
          "data": {
            "text/plain": [
              "<matplotlib.axes._subplots.AxesSubplot at 0x22d4fba53a0>"
            ]
          },
          "execution_count": 21,
          "metadata": {},
          "output_type": "execute_result"
        },
        {
          "data": {
            "image/png": "[encoded data removed]",
            "text/plain": [
              "<Figure size 396x396 with 1 Axes>"
            ]
          },
          "metadata": {
            "needs_background": "light"
          },
          "output_type": "display_data"
        }
      ],
      "source": [
        "fig = plt.figure(figsize = (5.5, 5.5))\n",
        "ax = fig.add_subplot(2, 1, 1)\n",
        "fig.subplots_adjust(hspace = 0.5)\n",
        "data_et['y'].plot(ax = ax)"
      ]
    },
    {
      "cell_type": "code",
      "execution_count": null,
      "metadata": {
        "colab": {
          "base_uri": "https://localhost:8080/",
          "height": 206
        },
        "id": "3YKh0qxzssIb",
        "outputId": "b6f8a9ef-7ad1-43bc-9b00-afe83c771194"
      },
      "outputs": [
        {
          "data": {
            "text/html": [
              "<div>\n",
              "<style scoped>\n",
              "    .dataframe tbody tr th:only-of-type {\n",
              "        vertical-align: middle;\n",
              "    }\n",
              "\n",
              "    .dataframe tbody tr th {\n",
              "        vertical-align: top;\n",
              "    }\n",
              "\n",
              "    .dataframe thead th {\n",
              "        text-align: right;\n",
              "    }\n",
              "</style>\n",
              "<table border=\"1\" class=\"dataframe\">\n",
              "  <thead>\n",
              "    <tr style=\"text-align: right;\">\n",
              "      <th></th>\n",
              "      <th>ds</th>\n",
              "      <th>y</th>\n",
              "    </tr>\n",
              "  </thead>\n",
              "  <tbody>\n",
              "    <tr>\n",
              "      <th>1821</th>\n",
              "      <td>2022-05-02</td>\n",
              "      <td>38529.328125</td>\n",
              "    </tr>\n",
              "    <tr>\n",
              "      <th>1822</th>\n",
              "      <td>2022-05-03</td>\n",
              "      <td>37750.453125</td>\n",
              "    </tr>\n",
              "    <tr>\n",
              "      <th>1823</th>\n",
              "      <td>2022-05-04</td>\n",
              "      <td>39698.371094</td>\n",
              "    </tr>\n",
              "    <tr>\n",
              "      <th>1824</th>\n",
              "      <td>2022-05-05</td>\n",
              "      <td>36575.140625</td>\n",
              "    </tr>\n",
              "    <tr>\n",
              "      <th>1825</th>\n",
              "      <td>2022-05-06</td>\n",
              "      <td>36281.000000</td>\n",
              "    </tr>\n",
              "  </tbody>\n",
              "</table>\n",
              "</div>"
            ],
            "text/plain": [
              "             ds             y\n",
              "1821 2022-05-02  38529.328125\n",
              "1822 2022-05-03  37750.453125\n",
              "1823 2022-05-04  39698.371094\n",
              "1824 2022-05-05  36575.140625\n",
              "1825 2022-05-06  36281.000000"
            ]
          },
          "execution_count": 22,
          "metadata": {},
          "output_type": "execute_result"
        }
      ],
      "source": [
        "data_btc.tail()"
      ]
    },
    {
      "cell_type": "code",
      "execution_count": null,
      "metadata": {
        "colab": {
          "base_uri": "https://localhost:8080/"
        },
        "id": "6nyrPUPQiX1B",
        "outputId": "bfbbfac7-81c3-4e26-9391-ef2fb2c4d4cd"
      },
      "outputs": [
        {
          "name": "stdout",
          "output_type": "stream",
          "text": [
            "<class 'pandas.core.frame.DataFrame'>\n",
            "RangeIndex: 1826 entries, 0 to 1825\n",
            "Data columns (total 2 columns):\n",
            " #   Column  Non-Null Count  Dtype         \n",
            "---  ------  --------------  -----         \n",
            " 0   ds      1826 non-null   datetime64[ns]\n",
            " 1   y       1826 non-null   float64       \n",
            "dtypes: datetime64[ns](1), float64(1)\n",
            "memory usage: 28.7 KB\n"
          ]
        }
      ],
      "source": [
        "data_btc.info()"
      ]
    },
    {
      "cell_type": "code",
      "execution_count": null,
      "metadata": {
        "id": "y0M0k-yLa7Nf"
      },
      "outputs": [],
      "source": [
        "from sklearn.metrics import mean_squared_error, r2_score, mean_absolute_error"
      ]
    },
    {
      "cell_type": "code",
      "execution_count": null,
      "metadata": {
        "id": "LBP9PV8GjbDA"
      },
      "outputs": [],
      "source": [
        "m = Prophet(interval_width=0.95,daily_seasonality=False)\n",
        "model = m.fit(data_btc)"
      ]
    },
    {
      "cell_type": "code",
      "execution_count": null,
      "metadata": {
        "id": "pU0y2AJJxhlg"
      },
      "outputs": [],
      "source": [
        "m_et = Prophet(interval_width=0.95,daily_seasonality=False)\n",
        "model_et = m_et.fit(data_et)"
      ]
    },
    {
      "cell_type": "markdown",
      "metadata": {
        "id": "h5SWBvKzZHK1"
      },
      "source": [
        ""
      ]
    },
    {
      "cell_type": "code",
      "execution_count": null,
      "metadata": {
        "colab": {
          "base_uri": "https://localhost:8080/",
          "height": 356
        },
        "id": "pAX1LUKqj2e1",
        "outputId": "4833bf7a-2c54-41a3-d8ff-10fbab7f989d"
      },
      "outputs": [
        {
          "data": {
            "text/html": [
              "<div>\n",
              "<style scoped>\n",
              "    .dataframe tbody tr th:only-of-type {\n",
              "        vertical-align: middle;\n",
              "    }\n",
              "\n",
              "    .dataframe tbody tr th {\n",
              "        vertical-align: top;\n",
              "    }\n",
              "\n",
              "    .dataframe thead th {\n",
              "        text-align: right;\n",
              "    }\n",
              "</style>\n",
              "<table border=\"1\" class=\"dataframe\">\n",
              "  <thead>\n",
              "    <tr style=\"text-align: right;\">\n",
              "      <th></th>\n",
              "      <th>ds</th>\n",
              "      <th>trend</th>\n",
              "      <th>yhat_lower</th>\n",
              "      <th>yhat_upper</th>\n",
              "      <th>trend_lower</th>\n",
              "      <th>trend_upper</th>\n",
              "      <th>additive_terms</th>\n",
              "      <th>additive_terms_lower</th>\n",
              "      <th>additive_terms_upper</th>\n",
              "      <th>weekly</th>\n",
              "      <th>weekly_lower</th>\n",
              "      <th>weekly_upper</th>\n",
              "      <th>yearly</th>\n",
              "      <th>yearly_lower</th>\n",
              "      <th>yearly_upper</th>\n",
              "      <th>multiplicative_terms</th>\n",
              "      <th>multiplicative_terms_lower</th>\n",
              "      <th>multiplicative_terms_upper</th>\n",
              "      <th>yhat</th>\n",
              "    </tr>\n",
              "  </thead>\n",
              "  <tbody>\n",
              "    <tr>\n",
              "      <th>1921</th>\n",
              "      <td>2022-08-10</td>\n",
              "      <td>41740.648805</td>\n",
              "      <td>31948.350347</td>\n",
              "      <td>51496.515537</td>\n",
              "      <td>36114.816659</td>\n",
              "      <td>46259.189516</td>\n",
              "      <td>-48.908085</td>\n",
              "      <td>-48.908085</td>\n",
              "      <td>-48.908085</td>\n",
              "      <td>49.754693</td>\n",
              "      <td>49.754693</td>\n",
              "      <td>49.754693</td>\n",
              "      <td>-98.662778</td>\n",
              "      <td>-98.662778</td>\n",
              "      <td>-98.662778</td>\n",
              "      <td>0.0</td>\n",
              "      <td>0.0</td>\n",
              "      <td>0.0</td>\n",
              "      <td>41691.740720</td>\n",
              "    </tr>\n",
              "    <tr>\n",
              "      <th>1922</th>\n",
              "      <td>2022-08-11</td>\n",
              "      <td>41726.505293</td>\n",
              "      <td>32352.332799</td>\n",
              "      <td>51798.337238</td>\n",
              "      <td>36049.753996</td>\n",
              "      <td>46296.690343</td>\n",
              "      <td>-47.270918</td>\n",
              "      <td>-47.270918</td>\n",
              "      <td>-47.270918</td>\n",
              "      <td>-49.906028</td>\n",
              "      <td>-49.906028</td>\n",
              "      <td>-49.906028</td>\n",
              "      <td>2.635110</td>\n",
              "      <td>2.635110</td>\n",
              "      <td>2.635110</td>\n",
              "      <td>0.0</td>\n",
              "      <td>0.0</td>\n",
              "      <td>0.0</td>\n",
              "      <td>41679.234375</td>\n",
              "    </tr>\n",
              "    <tr>\n",
              "      <th>1923</th>\n",
              "      <td>2022-08-12</td>\n",
              "      <td>41712.361781</td>\n",
              "      <td>32688.981670</td>\n",
              "      <td>51485.925106</td>\n",
              "      <td>35984.794290</td>\n",
              "      <td>46334.191170</td>\n",
              "      <td>70.209958</td>\n",
              "      <td>70.209958</td>\n",
              "      <td>70.209958</td>\n",
              "      <td>-28.979112</td>\n",
              "      <td>-28.979112</td>\n",
              "      <td>-28.979112</td>\n",
              "      <td>99.189070</td>\n",
              "      <td>99.189070</td>\n",
              "      <td>99.189070</td>\n",
              "      <td>0.0</td>\n",
              "      <td>0.0</td>\n",
              "      <td>0.0</td>\n",
              "      <td>41782.571739</td>\n",
              "    </tr>\n",
              "    <tr>\n",
              "      <th>1924</th>\n",
              "      <td>2022-08-13</td>\n",
              "      <td>41698.218270</td>\n",
              "      <td>31580.187507</td>\n",
              "      <td>50360.144382</td>\n",
              "      <td>35919.834584</td>\n",
              "      <td>46371.691997</td>\n",
              "      <td>212.910006</td>\n",
              "      <td>212.910006</td>\n",
              "      <td>212.910006</td>\n",
              "      <td>22.073053</td>\n",
              "      <td>22.073053</td>\n",
              "      <td>22.073053</td>\n",
              "      <td>190.836953</td>\n",
              "      <td>190.836953</td>\n",
              "      <td>190.836953</td>\n",
              "      <td>0.0</td>\n",
              "      <td>0.0</td>\n",
              "      <td>0.0</td>\n",
              "      <td>41911.128276</td>\n",
              "    </tr>\n",
              "    <tr>\n",
              "      <th>1925</th>\n",
              "      <td>2022-08-14</td>\n",
              "      <td>41684.074758</td>\n",
              "      <td>31937.345821</td>\n",
              "      <td>51995.279241</td>\n",
              "      <td>35828.286570</td>\n",
              "      <td>46408.371932</td>\n",
              "      <td>270.906321</td>\n",
              "      <td>270.906321</td>\n",
              "      <td>270.906321</td>\n",
              "      <td>-6.511852</td>\n",
              "      <td>-6.511852</td>\n",
              "      <td>-6.511852</td>\n",
              "      <td>277.418173</td>\n",
              "      <td>277.418173</td>\n",
              "      <td>277.418173</td>\n",
              "      <td>0.0</td>\n",
              "      <td>0.0</td>\n",
              "      <td>0.0</td>\n",
              "      <td>41954.981079</td>\n",
              "    </tr>\n",
              "  </tbody>\n",
              "</table>\n",
              "</div>"
            ],
            "text/plain": [
              "             ds         trend    yhat_lower    yhat_upper   trend_lower  \\\n",
              "1921 2022-08-10  41740.648805  31948.350347  51496.515537  36114.816659   \n",
              "1922 2022-08-11  41726.505293  32352.332799  51798.337238  36049.753996   \n",
              "1923 2022-08-12  41712.361781  32688.981670  51485.925106  35984.794290   \n",
              "1924 2022-08-13  41698.218270  31580.187507  50360.144382  35919.834584   \n",
              "1925 2022-08-14  41684.074758  31937.345821  51995.279241  35828.286570   \n",
              "\n",
              "       trend_upper  additive_terms  additive_terms_lower  \\\n",
              "1921  46259.189516      -48.908085            -48.908085   \n",
              "1922  46296.690343      -47.270918            -47.270918   \n",
              "1923  46334.191170       70.209958             70.209958   \n",
              "1924  46371.691997      212.910006            212.910006   \n",
              "1925  46408.371932      270.906321            270.906321   \n",
              "\n",
              "      additive_terms_upper     weekly  weekly_lower  weekly_upper      yearly  \\\n",
              "1921            -48.908085  49.754693     49.754693     49.754693  -98.662778   \n",
              "1922            -47.270918 -49.906028    -49.906028    -49.906028    2.635110   \n",
              "1923             70.209958 -28.979112    -28.979112    -28.979112   99.189070   \n",
              "1924            212.910006  22.073053     22.073053     22.073053  190.836953   \n",
              "1925            270.906321  -6.511852     -6.511852     -6.511852  277.418173   \n",
              "\n",
              "      yearly_lower  yearly_upper  multiplicative_terms  \\\n",
              "1921    -98.662778    -98.662778                   0.0   \n",
              "1922      2.635110      2.635110                   0.0   \n",
              "1923     99.189070     99.189070                   0.0   \n",
              "1924    190.836953    190.836953                   0.0   \n",
              "1925    277.418173    277.418173                   0.0   \n",
              "\n",
              "      multiplicative_terms_lower  multiplicative_terms_upper          yhat  \n",
              "1921                         0.0                         0.0  41691.740720  \n",
              "1922                         0.0                         0.0  41679.234375  \n",
              "1923                         0.0                         0.0  41782.571739  \n",
              "1924                         0.0                         0.0  41911.128276  \n",
              "1925                         0.0                         0.0  41954.981079  "
            ]
          },
          "execution_count": 27,
          "metadata": {},
          "output_type": "execute_result"
        }
      ],
      "source": [
        "future = m.make_future_dataframe(periods=100, freq='D')\n",
        "forecast = m.predict(future)\n",
        "forecast.tail()"
      ]
    },
    {
      "cell_type": "code",
      "execution_count": null,
      "metadata": {
        "id": "E-jAcHORxhlk",
        "outputId": "49caf282-eede-42d1-e4f1-05bf2884992b"
      },
      "outputs": [
        {
          "data": {
            "text/html": [
              "<div>\n",
              "<style scoped>\n",
              "    .dataframe tbody tr th:only-of-type {\n",
              "        vertical-align: middle;\n",
              "    }\n",
              "\n",
              "    .dataframe tbody tr th {\n",
              "        vertical-align: top;\n",
              "    }\n",
              "\n",
              "    .dataframe thead th {\n",
              "        text-align: right;\n",
              "    }\n",
              "</style>\n",
              "<table border=\"1\" class=\"dataframe\">\n",
              "  <thead>\n",
              "    <tr style=\"text-align: right;\">\n",
              "      <th></th>\n",
              "      <th>ds</th>\n",
              "      <th>trend</th>\n",
              "      <th>yhat_lower</th>\n",
              "      <th>yhat_upper</th>\n",
              "      <th>trend_lower</th>\n",
              "      <th>trend_upper</th>\n",
              "      <th>additive_terms</th>\n",
              "      <th>additive_terms_lower</th>\n",
              "      <th>additive_terms_upper</th>\n",
              "      <th>weekly</th>\n",
              "      <th>weekly_lower</th>\n",
              "      <th>weekly_upper</th>\n",
              "      <th>yearly</th>\n",
              "      <th>yearly_lower</th>\n",
              "      <th>yearly_upper</th>\n",
              "      <th>multiplicative_terms</th>\n",
              "      <th>multiplicative_terms_lower</th>\n",
              "      <th>multiplicative_terms_upper</th>\n",
              "      <th>yhat</th>\n",
              "    </tr>\n",
              "  </thead>\n",
              "  <tbody>\n",
              "    <tr>\n",
              "      <th>1720</th>\n",
              "      <td>2022-07-26</td>\n",
              "      <td>3640.116486</td>\n",
              "      <td>2882.899816</td>\n",
              "      <td>4178.473981</td>\n",
              "      <td>3467.864983</td>\n",
              "      <td>3831.357857</td>\n",
              "      <td>-141.049163</td>\n",
              "      <td>-141.049163</td>\n",
              "      <td>-141.049163</td>\n",
              "      <td>2.296860</td>\n",
              "      <td>2.296860</td>\n",
              "      <td>2.296860</td>\n",
              "      <td>-143.346023</td>\n",
              "      <td>-143.346023</td>\n",
              "      <td>-143.346023</td>\n",
              "      <td>0.0</td>\n",
              "      <td>0.0</td>\n",
              "      <td>0.0</td>\n",
              "      <td>3499.067323</td>\n",
              "    </tr>\n",
              "    <tr>\n",
              "      <th>1721</th>\n",
              "      <td>2022-07-27</td>\n",
              "      <td>3641.882027</td>\n",
              "      <td>2836.084518</td>\n",
              "      <td>4206.537165</td>\n",
              "      <td>3466.275258</td>\n",
              "      <td>3835.654078</td>\n",
              "      <td>-124.802263</td>\n",
              "      <td>-124.802263</td>\n",
              "      <td>-124.802263</td>\n",
              "      <td>6.946895</td>\n",
              "      <td>6.946895</td>\n",
              "      <td>6.946895</td>\n",
              "      <td>-131.749158</td>\n",
              "      <td>-131.749158</td>\n",
              "      <td>-131.749158</td>\n",
              "      <td>0.0</td>\n",
              "      <td>0.0</td>\n",
              "      <td>0.0</td>\n",
              "      <td>3517.079764</td>\n",
              "    </tr>\n",
              "    <tr>\n",
              "      <th>1722</th>\n",
              "      <td>2022-07-28</td>\n",
              "      <td>3643.647568</td>\n",
              "      <td>2855.235983</td>\n",
              "      <td>4197.272806</td>\n",
              "      <td>3465.191493</td>\n",
              "      <td>3839.950299</td>\n",
              "      <td>-123.781945</td>\n",
              "      <td>-123.781945</td>\n",
              "      <td>-123.781945</td>\n",
              "      <td>-3.828859</td>\n",
              "      <td>-3.828859</td>\n",
              "      <td>-3.828859</td>\n",
              "      <td>-119.953086</td>\n",
              "      <td>-119.953086</td>\n",
              "      <td>-119.953086</td>\n",
              "      <td>0.0</td>\n",
              "      <td>0.0</td>\n",
              "      <td>0.0</td>\n",
              "      <td>3519.865624</td>\n",
              "    </tr>\n",
              "    <tr>\n",
              "      <th>1723</th>\n",
              "      <td>2022-07-29</td>\n",
              "      <td>3645.413110</td>\n",
              "      <td>2904.667050</td>\n",
              "      <td>4183.373990</td>\n",
              "      <td>3463.506022</td>\n",
              "      <td>3844.246521</td>\n",
              "      <td>-116.518222</td>\n",
              "      <td>-116.518222</td>\n",
              "      <td>-116.518222</td>\n",
              "      <td>-8.472777</td>\n",
              "      <td>-8.472777</td>\n",
              "      <td>-8.472777</td>\n",
              "      <td>-108.045444</td>\n",
              "      <td>-108.045444</td>\n",
              "      <td>-108.045444</td>\n",
              "      <td>0.0</td>\n",
              "      <td>0.0</td>\n",
              "      <td>0.0</td>\n",
              "      <td>3528.894888</td>\n",
              "    </tr>\n",
              "    <tr>\n",
              "      <th>1724</th>\n",
              "      <td>2022-07-30</td>\n",
              "      <td>3647.178651</td>\n",
              "      <td>2884.477600</td>\n",
              "      <td>4230.822578</td>\n",
              "      <td>3462.486938</td>\n",
              "      <td>3848.542742</td>\n",
              "      <td>-96.091611</td>\n",
              "      <td>-96.091611</td>\n",
              "      <td>-96.091611</td>\n",
              "      <td>0.017373</td>\n",
              "      <td>0.017373</td>\n",
              "      <td>0.017373</td>\n",
              "      <td>-96.108984</td>\n",
              "      <td>-96.108984</td>\n",
              "      <td>-96.108984</td>\n",
              "      <td>0.0</td>\n",
              "      <td>0.0</td>\n",
              "      <td>0.0</td>\n",
              "      <td>3551.087040</td>\n",
              "    </tr>\n",
              "    <tr>\n",
              "      <th>1725</th>\n",
              "      <td>2022-07-31</td>\n",
              "      <td>3648.944192</td>\n",
              "      <td>2919.215854</td>\n",
              "      <td>4254.855671</td>\n",
              "      <td>3461.555210</td>\n",
              "      <td>3854.636209</td>\n",
              "      <td>-82.560859</td>\n",
              "      <td>-82.560859</td>\n",
              "      <td>-82.560859</td>\n",
              "      <td>1.659657</td>\n",
              "      <td>1.659657</td>\n",
              "      <td>1.659657</td>\n",
              "      <td>-84.220516</td>\n",
              "      <td>-84.220516</td>\n",
              "      <td>-84.220516</td>\n",
              "      <td>0.0</td>\n",
              "      <td>0.0</td>\n",
              "      <td>0.0</td>\n",
              "      <td>3566.383334</td>\n",
              "    </tr>\n",
              "    <tr>\n",
              "      <th>1726</th>\n",
              "      <td>2022-08-01</td>\n",
              "      <td>3650.709734</td>\n",
              "      <td>2956.637219</td>\n",
              "      <td>4259.129197</td>\n",
              "      <td>3460.623482</td>\n",
              "      <td>3860.947880</td>\n",
              "      <td>-71.069207</td>\n",
              "      <td>-71.069207</td>\n",
              "      <td>-71.069207</td>\n",
              "      <td>1.380852</td>\n",
              "      <td>1.380852</td>\n",
              "      <td>1.380852</td>\n",
              "      <td>-72.450059</td>\n",
              "      <td>-72.450059</td>\n",
              "      <td>-72.450059</td>\n",
              "      <td>0.0</td>\n",
              "      <td>0.0</td>\n",
              "      <td>0.0</td>\n",
              "      <td>3579.640527</td>\n",
              "    </tr>\n",
              "    <tr>\n",
              "      <th>1727</th>\n",
              "      <td>2022-08-02</td>\n",
              "      <td>3652.475275</td>\n",
              "      <td>2912.640799</td>\n",
              "      <td>4227.474355</td>\n",
              "      <td>3459.156593</td>\n",
              "      <td>3866.513305</td>\n",
              "      <td>-58.563330</td>\n",
              "      <td>-58.563330</td>\n",
              "      <td>-58.563330</td>\n",
              "      <td>2.296860</td>\n",
              "      <td>2.296860</td>\n",
              "      <td>2.296860</td>\n",
              "      <td>-60.860190</td>\n",
              "      <td>-60.860190</td>\n",
              "      <td>-60.860190</td>\n",
              "      <td>0.0</td>\n",
              "      <td>0.0</td>\n",
              "      <td>0.0</td>\n",
              "      <td>3593.911945</td>\n",
              "    </tr>\n",
              "    <tr>\n",
              "      <th>1728</th>\n",
              "      <td>2022-08-03</td>\n",
              "      <td>3654.240816</td>\n",
              "      <td>2927.740334</td>\n",
              "      <td>4355.917171</td>\n",
              "      <td>3458.524338</td>\n",
              "      <td>3870.949627</td>\n",
              "      <td>-42.558707</td>\n",
              "      <td>-42.558707</td>\n",
              "      <td>-42.558707</td>\n",
              "      <td>6.946895</td>\n",
              "      <td>6.946895</td>\n",
              "      <td>6.946895</td>\n",
              "      <td>-49.505602</td>\n",
              "      <td>-49.505602</td>\n",
              "      <td>-49.505602</td>\n",
              "      <td>0.0</td>\n",
              "      <td>0.0</td>\n",
              "      <td>0.0</td>\n",
              "      <td>3611.682109</td>\n",
              "    </tr>\n",
              "    <tr>\n",
              "      <th>1729</th>\n",
              "      <td>2022-08-04</td>\n",
              "      <td>3656.006358</td>\n",
              "      <td>2936.572700</td>\n",
              "      <td>4304.225608</td>\n",
              "      <td>3457.443646</td>\n",
              "      <td>3875.333174</td>\n",
              "      <td>-42.261730</td>\n",
              "      <td>-42.261730</td>\n",
              "      <td>-42.261730</td>\n",
              "      <td>-3.828859</td>\n",
              "      <td>-3.828859</td>\n",
              "      <td>-3.828859</td>\n",
              "      <td>-38.432871</td>\n",
              "      <td>-38.432871</td>\n",
              "      <td>-38.432871</td>\n",
              "      <td>0.0</td>\n",
              "      <td>0.0</td>\n",
              "      <td>0.0</td>\n",
              "      <td>3613.744628</td>\n",
              "    </tr>\n",
              "    <tr>\n",
              "      <th>1730</th>\n",
              "      <td>2022-08-05</td>\n",
              "      <td>3657.771899</td>\n",
              "      <td>2945.305322</td>\n",
              "      <td>4281.668775</td>\n",
              "      <td>3456.356510</td>\n",
              "      <td>3880.403499</td>\n",
              "      <td>-36.153201</td>\n",
              "      <td>-36.153201</td>\n",
              "      <td>-36.153201</td>\n",
              "      <td>-8.472777</td>\n",
              "      <td>-8.472777</td>\n",
              "      <td>-8.472777</td>\n",
              "      <td>-27.680424</td>\n",
              "      <td>-27.680424</td>\n",
              "      <td>-27.680424</td>\n",
              "      <td>0.0</td>\n",
              "      <td>0.0</td>\n",
              "      <td>0.0</td>\n",
              "      <td>3621.618698</td>\n",
              "    </tr>\n",
              "    <tr>\n",
              "      <th>1731</th>\n",
              "      <td>2022-08-06</td>\n",
              "      <td>3659.537440</td>\n",
              "      <td>2973.508774</td>\n",
              "      <td>4307.064637</td>\n",
              "      <td>3455.269373</td>\n",
              "      <td>3886.037769</td>\n",
              "      <td>-17.261317</td>\n",
              "      <td>-17.261317</td>\n",
              "      <td>-17.261317</td>\n",
              "      <td>0.017373</td>\n",
              "      <td>0.017373</td>\n",
              "      <td>0.017373</td>\n",
              "      <td>-17.278690</td>\n",
              "      <td>-17.278690</td>\n",
              "      <td>-17.278690</td>\n",
              "      <td>0.0</td>\n",
              "      <td>0.0</td>\n",
              "      <td>0.0</td>\n",
              "      <td>3642.276123</td>\n",
              "    </tr>\n",
              "    <tr>\n",
              "      <th>1732</th>\n",
              "      <td>2022-08-07</td>\n",
              "      <td>3661.302981</td>\n",
              "      <td>2980.837650</td>\n",
              "      <td>4308.124191</td>\n",
              "      <td>3454.182236</td>\n",
              "      <td>3891.163101</td>\n",
              "      <td>-5.590781</td>\n",
              "      <td>-5.590781</td>\n",
              "      <td>-5.590781</td>\n",
              "      <td>1.659657</td>\n",
              "      <td>1.659657</td>\n",
              "      <td>1.659657</td>\n",
              "      <td>-7.250438</td>\n",
              "      <td>-7.250438</td>\n",
              "      <td>-7.250438</td>\n",
              "      <td>0.0</td>\n",
              "      <td>0.0</td>\n",
              "      <td>0.0</td>\n",
              "      <td>3655.712201</td>\n",
              "    </tr>\n",
              "    <tr>\n",
              "      <th>1733</th>\n",
              "      <td>2022-08-08</td>\n",
              "      <td>3663.068523</td>\n",
              "      <td>2989.889244</td>\n",
              "      <td>4329.631658</td>\n",
              "      <td>3453.095099</td>\n",
              "      <td>3896.511847</td>\n",
              "      <td>3.769591</td>\n",
              "      <td>3.769591</td>\n",
              "      <td>3.769591</td>\n",
              "      <td>1.380852</td>\n",
              "      <td>1.380852</td>\n",
              "      <td>1.380852</td>\n",
              "      <td>2.388739</td>\n",
              "      <td>2.388739</td>\n",
              "      <td>2.388739</td>\n",
              "      <td>0.0</td>\n",
              "      <td>0.0</td>\n",
              "      <td>0.0</td>\n",
              "      <td>3666.838114</td>\n",
              "    </tr>\n",
              "    <tr>\n",
              "      <th>1734</th>\n",
              "      <td>2022-08-09</td>\n",
              "      <td>3664.834064</td>\n",
              "      <td>3041.878678</td>\n",
              "      <td>4337.951326</td>\n",
              "      <td>3452.007963</td>\n",
              "      <td>3901.826332</td>\n",
              "      <td>13.926655</td>\n",
              "      <td>13.926655</td>\n",
              "      <td>13.926655</td>\n",
              "      <td>2.296860</td>\n",
              "      <td>2.296860</td>\n",
              "      <td>2.296860</td>\n",
              "      <td>11.629795</td>\n",
              "      <td>11.629795</td>\n",
              "      <td>11.629795</td>\n",
              "      <td>0.0</td>\n",
              "      <td>0.0</td>\n",
              "      <td>0.0</td>\n",
              "      <td>3678.760719</td>\n",
              "    </tr>\n",
              "    <tr>\n",
              "      <th>1735</th>\n",
              "      <td>2022-08-10</td>\n",
              "      <td>3666.599605</td>\n",
              "      <td>3047.651181</td>\n",
              "      <td>4390.254586</td>\n",
              "      <td>3450.581584</td>\n",
              "      <td>3906.204446</td>\n",
              "      <td>27.416381</td>\n",
              "      <td>27.416381</td>\n",
              "      <td>27.416381</td>\n",
              "      <td>6.946895</td>\n",
              "      <td>6.946895</td>\n",
              "      <td>6.946895</td>\n",
              "      <td>20.469486</td>\n",
              "      <td>20.469486</td>\n",
              "      <td>20.469486</td>\n",
              "      <td>0.0</td>\n",
              "      <td>0.0</td>\n",
              "      <td>0.0</td>\n",
              "      <td>3694.015986</td>\n",
              "    </tr>\n",
              "    <tr>\n",
              "      <th>1736</th>\n",
              "      <td>2022-08-11</td>\n",
              "      <td>3668.365147</td>\n",
              "      <td>3001.957148</td>\n",
              "      <td>4321.340933</td>\n",
              "      <td>3447.749926</td>\n",
              "      <td>3910.582561</td>\n",
              "      <td>25.080679</td>\n",
              "      <td>25.080679</td>\n",
              "      <td>25.080679</td>\n",
              "      <td>-3.828859</td>\n",
              "      <td>-3.828859</td>\n",
              "      <td>-3.828859</td>\n",
              "      <td>28.909538</td>\n",
              "      <td>28.909538</td>\n",
              "      <td>28.909538</td>\n",
              "      <td>0.0</td>\n",
              "      <td>0.0</td>\n",
              "      <td>0.0</td>\n",
              "      <td>3693.445826</td>\n",
              "    </tr>\n",
              "    <tr>\n",
              "      <th>1737</th>\n",
              "      <td>2022-08-12</td>\n",
              "      <td>3670.130688</td>\n",
              "      <td>3007.233511</td>\n",
              "      <td>4339.841706</td>\n",
              "      <td>3444.918267</td>\n",
              "      <td>3915.989801</td>\n",
              "      <td>28.482965</td>\n",
              "      <td>28.482965</td>\n",
              "      <td>28.482965</td>\n",
              "      <td>-8.472777</td>\n",
              "      <td>-8.472777</td>\n",
              "      <td>-8.472777</td>\n",
              "      <td>36.955742</td>\n",
              "      <td>36.955742</td>\n",
              "      <td>36.955742</td>\n",
              "      <td>0.0</td>\n",
              "      <td>0.0</td>\n",
              "      <td>0.0</td>\n",
              "      <td>3698.613653</td>\n",
              "    </tr>\n",
              "    <tr>\n",
              "      <th>1738</th>\n",
              "      <td>2022-08-13</td>\n",
              "      <td>3671.896229</td>\n",
              "      <td>3052.697782</td>\n",
              "      <td>4361.069026</td>\n",
              "      <td>3442.086608</td>\n",
              "      <td>3921.668790</td>\n",
              "      <td>44.634385</td>\n",
              "      <td>44.634385</td>\n",
              "      <td>44.634385</td>\n",
              "      <td>0.017373</td>\n",
              "      <td>0.017373</td>\n",
              "      <td>0.017373</td>\n",
              "      <td>44.617012</td>\n",
              "      <td>44.617012</td>\n",
              "      <td>44.617012</td>\n",
              "      <td>0.0</td>\n",
              "      <td>0.0</td>\n",
              "      <td>0.0</td>\n",
              "      <td>3716.530615</td>\n",
              "    </tr>\n",
              "    <tr>\n",
              "      <th>1739</th>\n",
              "      <td>2022-08-14</td>\n",
              "      <td>3673.661771</td>\n",
              "      <td>3054.624672</td>\n",
              "      <td>4406.593312</td>\n",
              "      <td>3439.290907</td>\n",
              "      <td>3927.347779</td>\n",
              "      <td>53.564082</td>\n",
              "      <td>53.564082</td>\n",
              "      <td>53.564082</td>\n",
              "      <td>1.659657</td>\n",
              "      <td>1.659657</td>\n",
              "      <td>1.659657</td>\n",
              "      <td>51.904425</td>\n",
              "      <td>51.904425</td>\n",
              "      <td>51.904425</td>\n",
              "      <td>0.0</td>\n",
              "      <td>0.0</td>\n",
              "      <td>0.0</td>\n",
              "      <td>3727.225852</td>\n",
              "    </tr>\n",
              "  </tbody>\n",
              "</table>\n",
              "</div>"
            ],
            "text/plain": [
              "             ds        trend   yhat_lower   yhat_upper  trend_lower  \\\n",
              "1720 2022-07-26  3640.116486  2882.899816  4178.473981  3467.864983   \n",
              "1721 2022-07-27  3641.882027  2836.084518  4206.537165  3466.275258   \n",
              "1722 2022-07-28  3643.647568  2855.235983  4197.272806  3465.191493   \n",
              "1723 2022-07-29  3645.413110  2904.667050  4183.373990  3463.506022   \n",
              "1724 2022-07-30  3647.178651  2884.477600  4230.822578  3462.486938   \n",
              "1725 2022-07-31  3648.944192  2919.215854  4254.855671  3461.555210   \n",
              "1726 2022-08-01  3650.709734  2956.637219  4259.129197  3460.623482   \n",
              "1727 2022-08-02  3652.475275  2912.640799  4227.474355  3459.156593   \n",
              "1728 2022-08-03  3654.240816  2927.740334  4355.917171  3458.524338   \n",
              "1729 2022-08-04  3656.006358  2936.572700  4304.225608  3457.443646   \n",
              "1730 2022-08-05  3657.771899  2945.305322  4281.668775  3456.356510   \n",
              "1731 2022-08-06  3659.537440  2973.508774  4307.064637  3455.269373   \n",
              "1732 2022-08-07  3661.302981  2980.837650  4308.124191  3454.182236   \n",
              "1733 2022-08-08  3663.068523  2989.889244  4329.631658  3453.095099   \n",
              "1734 2022-08-09  3664.834064  3041.878678  4337.951326  3452.007963   \n",
              "1735 2022-08-10  3666.599605  3047.651181  4390.254586  3450.581584   \n",
              "1736 2022-08-11  3668.365147  3001.957148  4321.340933  3447.749926   \n",
              "1737 2022-08-12  3670.130688  3007.233511  4339.841706  3444.918267   \n",
              "1738 2022-08-13  3671.896229  3052.697782  4361.069026  3442.086608   \n",
              "1739 2022-08-14  3673.661771  3054.624672  4406.593312  3439.290907   \n",
              "\n",
              "      trend_upper  additive_terms  additive_terms_lower  additive_terms_upper  \\\n",
              "1720  3831.357857     -141.049163           -141.049163           -141.049163   \n",
              "1721  3835.654078     -124.802263           -124.802263           -124.802263   \n",
              "1722  3839.950299     -123.781945           -123.781945           -123.781945   \n",
              "1723  3844.246521     -116.518222           -116.518222           -116.518222   \n",
              "1724  3848.542742      -96.091611            -96.091611            -96.091611   \n",
              "1725  3854.636209      -82.560859            -82.560859            -82.560859   \n",
              "1726  3860.947880      -71.069207            -71.069207            -71.069207   \n",
              "1727  3866.513305      -58.563330            -58.563330            -58.563330   \n",
              "1728  3870.949627      -42.558707            -42.558707            -42.558707   \n",
              "1729  3875.333174      -42.261730            -42.261730            -42.261730   \n",
              "1730  3880.403499      -36.153201            -36.153201            -36.153201   \n",
              "1731  3886.037769      -17.261317            -17.261317            -17.261317   \n",
              "1732  3891.163101       -5.590781             -5.590781             -5.590781   \n",
              "1733  3896.511847        3.769591              3.769591              3.769591   \n",
              "1734  3901.826332       13.926655             13.926655             13.926655   \n",
              "1735  3906.204446       27.416381             27.416381             27.416381   \n",
              "1736  3910.582561       25.080679             25.080679             25.080679   \n",
              "1737  3915.989801       28.482965             28.482965             28.482965   \n",
              "1738  3921.668790       44.634385             44.634385             44.634385   \n",
              "1739  3927.347779       53.564082             53.564082             53.564082   \n",
              "\n",
              "        weekly  weekly_lower  weekly_upper      yearly  yearly_lower  \\\n",
              "1720  2.296860      2.296860      2.296860 -143.346023   -143.346023   \n",
              "1721  6.946895      6.946895      6.946895 -131.749158   -131.749158   \n",
              "1722 -3.828859     -3.828859     -3.828859 -119.953086   -119.953086   \n",
              "1723 -8.472777     -8.472777     -8.472777 -108.045444   -108.045444   \n",
              "1724  0.017373      0.017373      0.017373  -96.108984    -96.108984   \n",
              "1725  1.659657      1.659657      1.659657  -84.220516    -84.220516   \n",
              "1726  1.380852      1.380852      1.380852  -72.450059    -72.450059   \n",
              "1727  2.296860      2.296860      2.296860  -60.860190    -60.860190   \n",
              "1728  6.946895      6.946895      6.946895  -49.505602    -49.505602   \n",
              "1729 -3.828859     -3.828859     -3.828859  -38.432871    -38.432871   \n",
              "1730 -8.472777     -8.472777     -8.472777  -27.680424    -27.680424   \n",
              "1731  0.017373      0.017373      0.017373  -17.278690    -17.278690   \n",
              "1732  1.659657      1.659657      1.659657   -7.250438     -7.250438   \n",
              "1733  1.380852      1.380852      1.380852    2.388739      2.388739   \n",
              "1734  2.296860      2.296860      2.296860   11.629795     11.629795   \n",
              "1735  6.946895      6.946895      6.946895   20.469486     20.469486   \n",
              "1736 -3.828859     -3.828859     -3.828859   28.909538     28.909538   \n",
              "1737 -8.472777     -8.472777     -8.472777   36.955742     36.955742   \n",
              "1738  0.017373      0.017373      0.017373   44.617012     44.617012   \n",
              "1739  1.659657      1.659657      1.659657   51.904425     51.904425   \n",
              "\n",
              "      yearly_upper  multiplicative_terms  multiplicative_terms_lower  \\\n",
              "1720   -143.346023                   0.0                         0.0   \n",
              "1721   -131.749158                   0.0                         0.0   \n",
              "1722   -119.953086                   0.0                         0.0   \n",
              "1723   -108.045444                   0.0                         0.0   \n",
              "1724    -96.108984                   0.0                         0.0   \n",
              "1725    -84.220516                   0.0                         0.0   \n",
              "1726    -72.450059                   0.0                         0.0   \n",
              "1727    -60.860190                   0.0                         0.0   \n",
              "1728    -49.505602                   0.0                         0.0   \n",
              "1729    -38.432871                   0.0                         0.0   \n",
              "1730    -27.680424                   0.0                         0.0   \n",
              "1731    -17.278690                   0.0                         0.0   \n",
              "1732     -7.250438                   0.0                         0.0   \n",
              "1733      2.388739                   0.0                         0.0   \n",
              "1734     11.629795                   0.0                         0.0   \n",
              "1735     20.469486                   0.0                         0.0   \n",
              "1736     28.909538                   0.0                         0.0   \n",
              "1737     36.955742                   0.0                         0.0   \n",
              "1738     44.617012                   0.0                         0.0   \n",
              "1739     51.904425                   0.0                         0.0   \n",
              "\n",
              "      multiplicative_terms_upper         yhat  \n",
              "1720                         0.0  3499.067323  \n",
              "1721                         0.0  3517.079764  \n",
              "1722                         0.0  3519.865624  \n",
              "1723                         0.0  3528.894888  \n",
              "1724                         0.0  3551.087040  \n",
              "1725                         0.0  3566.383334  \n",
              "1726                         0.0  3579.640527  \n",
              "1727                         0.0  3593.911945  \n",
              "1728                         0.0  3611.682109  \n",
              "1729                         0.0  3613.744628  \n",
              "1730                         0.0  3621.618698  \n",
              "1731                         0.0  3642.276123  \n",
              "1732                         0.0  3655.712201  \n",
              "1733                         0.0  3666.838114  \n",
              "1734                         0.0  3678.760719  \n",
              "1735                         0.0  3694.015986  \n",
              "1736                         0.0  3693.445826  \n",
              "1737                         0.0  3698.613653  \n",
              "1738                         0.0  3716.530615  \n",
              "1739                         0.0  3727.225852  "
            ]
          },
          "execution_count": 28,
          "metadata": {},
          "output_type": "execute_result"
        }
      ],
      "source": [
        "future = m_et.make_future_dataframe(periods=100, freq='D')\n",
        "forecast_et = m_et.predict(future)\n",
        "forecast_et.tail(20)"
      ]
    },
    {
      "cell_type": "code",
      "execution_count": null,
      "metadata": {
        "colab": {
          "base_uri": "https://localhost:8080/",
          "height": 356
        },
        "id": "LJqRB-UMsMQw",
        "outputId": "22f2925e-c06c-424d-a435-2d3250b650d6"
      },
      "outputs": [
        {
          "data": {
            "text/html": [
              "<div>\n",
              "<style scoped>\n",
              "    .dataframe tbody tr th:only-of-type {\n",
              "        vertical-align: middle;\n",
              "    }\n",
              "\n",
              "    .dataframe tbody tr th {\n",
              "        vertical-align: top;\n",
              "    }\n",
              "\n",
              "    .dataframe thead th {\n",
              "        text-align: right;\n",
              "    }\n",
              "</style>\n",
              "<table border=\"1\" class=\"dataframe\">\n",
              "  <thead>\n",
              "    <tr style=\"text-align: right;\">\n",
              "      <th></th>\n",
              "      <th>ds</th>\n",
              "      <th>trend</th>\n",
              "      <th>yhat_lower</th>\n",
              "      <th>yhat_upper</th>\n",
              "      <th>trend_lower</th>\n",
              "      <th>trend_upper</th>\n",
              "      <th>additive_terms</th>\n",
              "      <th>additive_terms_lower</th>\n",
              "      <th>additive_terms_upper</th>\n",
              "      <th>weekly</th>\n",
              "      <th>weekly_lower</th>\n",
              "      <th>weekly_upper</th>\n",
              "      <th>yearly</th>\n",
              "      <th>yearly_lower</th>\n",
              "      <th>yearly_upper</th>\n",
              "      <th>multiplicative_terms</th>\n",
              "      <th>multiplicative_terms_lower</th>\n",
              "      <th>multiplicative_terms_upper</th>\n",
              "      <th>yhat</th>\n",
              "    </tr>\n",
              "  </thead>\n",
              "  <tbody>\n",
              "    <tr>\n",
              "      <th>1906</th>\n",
              "      <td>2022-07-26</td>\n",
              "      <td>41952.801482</td>\n",
              "      <td>30341.829091</td>\n",
              "      <td>48511.259687</td>\n",
              "      <td>37626.381965</td>\n",
              "      <td>45487.039890</td>\n",
              "      <td>-2006.517010</td>\n",
              "      <td>-2006.517010</td>\n",
              "      <td>-2006.517010</td>\n",
              "      <td>-11.462046</td>\n",
              "      <td>-11.462046</td>\n",
              "      <td>-11.462046</td>\n",
              "      <td>-1995.054965</td>\n",
              "      <td>-1995.054965</td>\n",
              "      <td>-1995.054965</td>\n",
              "      <td>0.0</td>\n",
              "      <td>0.0</td>\n",
              "      <td>0.0</td>\n",
              "      <td>39946.284471</td>\n",
              "    </tr>\n",
              "    <tr>\n",
              "      <th>1907</th>\n",
              "      <td>2022-07-27</td>\n",
              "      <td>41938.657970</td>\n",
              "      <td>30694.398600</td>\n",
              "      <td>50181.951143</td>\n",
              "      <td>37555.852627</td>\n",
              "      <td>45526.928643</td>\n",
              "      <td>-1813.326657</td>\n",
              "      <td>-1813.326657</td>\n",
              "      <td>-1813.326657</td>\n",
              "      <td>49.754693</td>\n",
              "      <td>49.754693</td>\n",
              "      <td>49.754693</td>\n",
              "      <td>-1863.081349</td>\n",
              "      <td>-1863.081349</td>\n",
              "      <td>-1863.081349</td>\n",
              "      <td>0.0</td>\n",
              "      <td>0.0</td>\n",
              "      <td>0.0</td>\n",
              "      <td>40125.331313</td>\n",
              "    </tr>\n",
              "    <tr>\n",
              "      <th>1908</th>\n",
              "      <td>2022-07-28</td>\n",
              "      <td>41924.514458</td>\n",
              "      <td>30548.535300</td>\n",
              "      <td>49035.203180</td>\n",
              "      <td>37485.323289</td>\n",
              "      <td>45565.961036</td>\n",
              "      <td>-1778.901800</td>\n",
              "      <td>-1778.901800</td>\n",
              "      <td>-1778.901800</td>\n",
              "      <td>-49.906028</td>\n",
              "      <td>-49.906028</td>\n",
              "      <td>-49.906028</td>\n",
              "      <td>-1728.995772</td>\n",
              "      <td>-1728.995772</td>\n",
              "      <td>-1728.995772</td>\n",
              "      <td>0.0</td>\n",
              "      <td>0.0</td>\n",
              "      <td>0.0</td>\n",
              "      <td>40145.612658</td>\n",
              "    </tr>\n",
              "    <tr>\n",
              "      <th>1909</th>\n",
              "      <td>2022-07-29</td>\n",
              "      <td>41910.370946</td>\n",
              "      <td>30914.316232</td>\n",
              "      <td>50169.384821</td>\n",
              "      <td>37398.520158</td>\n",
              "      <td>45604.993428</td>\n",
              "      <td>-1622.622290</td>\n",
              "      <td>-1622.622290</td>\n",
              "      <td>-1622.622290</td>\n",
              "      <td>-28.979112</td>\n",
              "      <td>-28.979112</td>\n",
              "      <td>-28.979112</td>\n",
              "      <td>-1593.643178</td>\n",
              "      <td>-1593.643178</td>\n",
              "      <td>-1593.643178</td>\n",
              "      <td>0.0</td>\n",
              "      <td>0.0</td>\n",
              "      <td>0.0</td>\n",
              "      <td>40287.748656</td>\n",
              "    </tr>\n",
              "    <tr>\n",
              "      <th>1910</th>\n",
              "      <td>2022-07-30</td>\n",
              "      <td>41896.227435</td>\n",
              "      <td>31616.777716</td>\n",
              "      <td>49059.152782</td>\n",
              "      <td>37266.932571</td>\n",
              "      <td>45644.025821</td>\n",
              "      <td>-1435.743998</td>\n",
              "      <td>-1435.743998</td>\n",
              "      <td>-1435.743998</td>\n",
              "      <td>22.073053</td>\n",
              "      <td>22.073053</td>\n",
              "      <td>22.073053</td>\n",
              "      <td>-1457.817052</td>\n",
              "      <td>-1457.817052</td>\n",
              "      <td>-1457.817052</td>\n",
              "      <td>0.0</td>\n",
              "      <td>0.0</td>\n",
              "      <td>0.0</td>\n",
              "      <td>40460.483436</td>\n",
              "    </tr>\n",
              "    <tr>\n",
              "      <th>1911</th>\n",
              "      <td>2022-07-31</td>\n",
              "      <td>41882.083923</td>\n",
              "      <td>31090.784124</td>\n",
              "      <td>50204.164350</td>\n",
              "      <td>37185.268544</td>\n",
              "      <td>45683.058214</td>\n",
              "      <td>-1328.764949</td>\n",
              "      <td>-1328.764949</td>\n",
              "      <td>-1328.764949</td>\n",
              "      <td>-6.511852</td>\n",
              "      <td>-6.511852</td>\n",
              "      <td>-6.511852</td>\n",
              "      <td>-1322.253096</td>\n",
              "      <td>-1322.253096</td>\n",
              "      <td>-1322.253096</td>\n",
              "      <td>0.0</td>\n",
              "      <td>0.0</td>\n",
              "      <td>0.0</td>\n",
              "      <td>40553.318974</td>\n",
              "    </tr>\n",
              "    <tr>\n",
              "      <th>1912</th>\n",
              "      <td>2022-08-01</td>\n",
              "      <td>41867.940411</td>\n",
              "      <td>31041.991635</td>\n",
              "      <td>49463.813071</td>\n",
              "      <td>37098.682765</td>\n",
              "      <td>45752.802036</td>\n",
              "      <td>-1162.593694</td>\n",
              "      <td>-1162.593694</td>\n",
              "      <td>-1162.593694</td>\n",
              "      <td>25.031293</td>\n",
              "      <td>25.031293</td>\n",
              "      <td>25.031293</td>\n",
              "      <td>-1187.624987</td>\n",
              "      <td>-1187.624987</td>\n",
              "      <td>-1187.624987</td>\n",
              "      <td>0.0</td>\n",
              "      <td>0.0</td>\n",
              "      <td>0.0</td>\n",
              "      <td>40705.346717</td>\n",
              "    </tr>\n",
              "    <tr>\n",
              "      <th>1913</th>\n",
              "      <td>2022-08-02</td>\n",
              "      <td>41853.796899</td>\n",
              "      <td>31257.197166</td>\n",
              "      <td>50435.084781</td>\n",
              "      <td>36970.646707</td>\n",
              "      <td>45823.428136</td>\n",
              "      <td>-1066.004188</td>\n",
              "      <td>-1066.004188</td>\n",
              "      <td>-1066.004188</td>\n",
              "      <td>-11.462046</td>\n",
              "      <td>-11.462046</td>\n",
              "      <td>-11.462046</td>\n",
              "      <td>-1054.542142</td>\n",
              "      <td>-1054.542142</td>\n",
              "      <td>-1054.542142</td>\n",
              "      <td>0.0</td>\n",
              "      <td>0.0</td>\n",
              "      <td>0.0</td>\n",
              "      <td>40787.792712</td>\n",
              "    </tr>\n",
              "    <tr>\n",
              "      <th>1914</th>\n",
              "      <td>2022-08-03</td>\n",
              "      <td>41839.653388</td>\n",
              "      <td>32157.913114</td>\n",
              "      <td>50415.182399</td>\n",
              "      <td>36864.438523</td>\n",
              "      <td>45894.054236</td>\n",
              "      <td>-873.794715</td>\n",
              "      <td>-873.794715</td>\n",
              "      <td>-873.794715</td>\n",
              "      <td>49.754693</td>\n",
              "      <td>49.754693</td>\n",
              "      <td>49.754693</td>\n",
              "      <td>-923.549408</td>\n",
              "      <td>-923.549408</td>\n",
              "      <td>-923.549408</td>\n",
              "      <td>0.0</td>\n",
              "      <td>0.0</td>\n",
              "      <td>0.0</td>\n",
              "      <td>40965.858672</td>\n",
              "    </tr>\n",
              "    <tr>\n",
              "      <th>1915</th>\n",
              "      <td>2022-08-04</td>\n",
              "      <td>41825.509876</td>\n",
              "      <td>30958.753927</td>\n",
              "      <td>50679.130653</td>\n",
              "      <td>36762.115712</td>\n",
              "      <td>45964.680337</td>\n",
              "      <td>-845.034550</td>\n",
              "      <td>-845.034550</td>\n",
              "      <td>-845.034550</td>\n",
              "      <td>-49.906028</td>\n",
              "      <td>-49.906028</td>\n",
              "      <td>-49.906028</td>\n",
              "      <td>-795.128522</td>\n",
              "      <td>-795.128522</td>\n",
              "      <td>-795.128522</td>\n",
              "      <td>0.0</td>\n",
              "      <td>0.0</td>\n",
              "      <td>0.0</td>\n",
              "      <td>40980.475326</td>\n",
              "    </tr>\n",
              "    <tr>\n",
              "      <th>1916</th>\n",
              "      <td>2022-08-05</td>\n",
              "      <td>41811.366364</td>\n",
              "      <td>31940.465737</td>\n",
              "      <td>50469.258915</td>\n",
              "      <td>36644.040880</td>\n",
              "      <td>46017.594242</td>\n",
              "      <td>-698.680263</td>\n",
              "      <td>-698.680263</td>\n",
              "      <td>-698.680263</td>\n",
              "      <td>-28.979112</td>\n",
              "      <td>-28.979112</td>\n",
              "      <td>-28.979112</td>\n",
              "      <td>-669.701150</td>\n",
              "      <td>-669.701150</td>\n",
              "      <td>-669.701150</td>\n",
              "      <td>0.0</td>\n",
              "      <td>0.0</td>\n",
              "      <td>0.0</td>\n",
              "      <td>41112.686101</td>\n",
              "    </tr>\n",
              "    <tr>\n",
              "      <th>1917</th>\n",
              "      <td>2022-08-06</td>\n",
              "      <td>41797.222852</td>\n",
              "      <td>31053.549525</td>\n",
              "      <td>50214.794171</td>\n",
              "      <td>36525.966048</td>\n",
              "      <td>46059.226031</td>\n",
              "      <td>-525.560255</td>\n",
              "      <td>-525.560255</td>\n",
              "      <td>-525.560255</td>\n",
              "      <td>22.073053</td>\n",
              "      <td>22.073053</td>\n",
              "      <td>22.073053</td>\n",
              "      <td>-547.633308</td>\n",
              "      <td>-547.633308</td>\n",
              "      <td>-547.633308</td>\n",
              "      <td>0.0</td>\n",
              "      <td>0.0</td>\n",
              "      <td>0.0</td>\n",
              "      <td>41271.662597</td>\n",
              "    </tr>\n",
              "    <tr>\n",
              "      <th>1918</th>\n",
              "      <td>2022-08-07</td>\n",
              "      <td>41783.079340</td>\n",
              "      <td>31237.851338</td>\n",
              "      <td>50603.047214</td>\n",
              "      <td>36407.891216</td>\n",
              "      <td>46129.451455</td>\n",
              "      <td>-435.752759</td>\n",
              "      <td>-435.752759</td>\n",
              "      <td>-435.752759</td>\n",
              "      <td>-6.511852</td>\n",
              "      <td>-6.511852</td>\n",
              "      <td>-6.511852</td>\n",
              "      <td>-429.240907</td>\n",
              "      <td>-429.240907</td>\n",
              "      <td>-429.240907</td>\n",
              "      <td>0.0</td>\n",
              "      <td>0.0</td>\n",
              "      <td>0.0</td>\n",
              "      <td>41347.326581</td>\n",
              "    </tr>\n",
              "    <tr>\n",
              "      <th>1919</th>\n",
              "      <td>2022-08-08</td>\n",
              "      <td>41768.935829</td>\n",
              "      <td>31745.456853</td>\n",
              "      <td>50924.688599</td>\n",
              "      <td>36291.017325</td>\n",
              "      <td>46183.473765</td>\n",
              "      <td>-289.764882</td>\n",
              "      <td>-289.764882</td>\n",
              "      <td>-289.764882</td>\n",
              "      <td>25.031293</td>\n",
              "      <td>25.031293</td>\n",
              "      <td>25.031293</td>\n",
              "      <td>-314.796175</td>\n",
              "      <td>-314.796175</td>\n",
              "      <td>-314.796175</td>\n",
              "      <td>0.0</td>\n",
              "      <td>0.0</td>\n",
              "      <td>0.0</td>\n",
              "      <td>41479.170947</td>\n",
              "    </tr>\n",
              "    <tr>\n",
              "      <th>1920</th>\n",
              "      <td>2022-08-09</td>\n",
              "      <td>41754.792317</td>\n",
              "      <td>32398.961524</td>\n",
              "      <td>51104.487359</td>\n",
              "      <td>36180.625473</td>\n",
              "      <td>46221.498502</td>\n",
              "      <td>-215.996743</td>\n",
              "      <td>-215.996743</td>\n",
              "      <td>-215.996743</td>\n",
              "      <td>-11.462046</td>\n",
              "      <td>-11.462046</td>\n",
              "      <td>-11.462046</td>\n",
              "      <td>-204.534697</td>\n",
              "      <td>-204.534697</td>\n",
              "      <td>-204.534697</td>\n",
              "      <td>0.0</td>\n",
              "      <td>0.0</td>\n",
              "      <td>0.0</td>\n",
              "      <td>41538.795574</td>\n",
              "    </tr>\n",
              "    <tr>\n",
              "      <th>1921</th>\n",
              "      <td>2022-08-10</td>\n",
              "      <td>41740.648805</td>\n",
              "      <td>31948.350347</td>\n",
              "      <td>51496.515537</td>\n",
              "      <td>36114.816659</td>\n",
              "      <td>46259.189516</td>\n",
              "      <td>-48.908085</td>\n",
              "      <td>-48.908085</td>\n",
              "      <td>-48.908085</td>\n",
              "      <td>49.754693</td>\n",
              "      <td>49.754693</td>\n",
              "      <td>49.754693</td>\n",
              "      <td>-98.662778</td>\n",
              "      <td>-98.662778</td>\n",
              "      <td>-98.662778</td>\n",
              "      <td>0.0</td>\n",
              "      <td>0.0</td>\n",
              "      <td>0.0</td>\n",
              "      <td>41691.740720</td>\n",
              "    </tr>\n",
              "    <tr>\n",
              "      <th>1922</th>\n",
              "      <td>2022-08-11</td>\n",
              "      <td>41726.505293</td>\n",
              "      <td>32352.332799</td>\n",
              "      <td>51798.337238</td>\n",
              "      <td>36049.753996</td>\n",
              "      <td>46296.690343</td>\n",
              "      <td>-47.270918</td>\n",
              "      <td>-47.270918</td>\n",
              "      <td>-47.270918</td>\n",
              "      <td>-49.906028</td>\n",
              "      <td>-49.906028</td>\n",
              "      <td>-49.906028</td>\n",
              "      <td>2.635110</td>\n",
              "      <td>2.635110</td>\n",
              "      <td>2.635110</td>\n",
              "      <td>0.0</td>\n",
              "      <td>0.0</td>\n",
              "      <td>0.0</td>\n",
              "      <td>41679.234375</td>\n",
              "    </tr>\n",
              "    <tr>\n",
              "      <th>1923</th>\n",
              "      <td>2022-08-12</td>\n",
              "      <td>41712.361781</td>\n",
              "      <td>32688.981670</td>\n",
              "      <td>51485.925106</td>\n",
              "      <td>35984.794290</td>\n",
              "      <td>46334.191170</td>\n",
              "      <td>70.209958</td>\n",
              "      <td>70.209958</td>\n",
              "      <td>70.209958</td>\n",
              "      <td>-28.979112</td>\n",
              "      <td>-28.979112</td>\n",
              "      <td>-28.979112</td>\n",
              "      <td>99.189070</td>\n",
              "      <td>99.189070</td>\n",
              "      <td>99.189070</td>\n",
              "      <td>0.0</td>\n",
              "      <td>0.0</td>\n",
              "      <td>0.0</td>\n",
              "      <td>41782.571739</td>\n",
              "    </tr>\n",
              "    <tr>\n",
              "      <th>1924</th>\n",
              "      <td>2022-08-13</td>\n",
              "      <td>41698.218270</td>\n",
              "      <td>31580.187507</td>\n",
              "      <td>50360.144382</td>\n",
              "      <td>35919.834584</td>\n",
              "      <td>46371.691997</td>\n",
              "      <td>212.910006</td>\n",
              "      <td>212.910006</td>\n",
              "      <td>212.910006</td>\n",
              "      <td>22.073053</td>\n",
              "      <td>22.073053</td>\n",
              "      <td>22.073053</td>\n",
              "      <td>190.836953</td>\n",
              "      <td>190.836953</td>\n",
              "      <td>190.836953</td>\n",
              "      <td>0.0</td>\n",
              "      <td>0.0</td>\n",
              "      <td>0.0</td>\n",
              "      <td>41911.128276</td>\n",
              "    </tr>\n",
              "    <tr>\n",
              "      <th>1925</th>\n",
              "      <td>2022-08-14</td>\n",
              "      <td>41684.074758</td>\n",
              "      <td>31937.345821</td>\n",
              "      <td>51995.279241</td>\n",
              "      <td>35828.286570</td>\n",
              "      <td>46408.371932</td>\n",
              "      <td>270.906321</td>\n",
              "      <td>270.906321</td>\n",
              "      <td>270.906321</td>\n",
              "      <td>-6.511852</td>\n",
              "      <td>-6.511852</td>\n",
              "      <td>-6.511852</td>\n",
              "      <td>277.418173</td>\n",
              "      <td>277.418173</td>\n",
              "      <td>277.418173</td>\n",
              "      <td>0.0</td>\n",
              "      <td>0.0</td>\n",
              "      <td>0.0</td>\n",
              "      <td>41954.981079</td>\n",
              "    </tr>\n",
              "  </tbody>\n",
              "</table>\n",
              "</div>"
            ],
            "text/plain": [
              "             ds         trend    yhat_lower    yhat_upper   trend_lower  \\\n",
              "1906 2022-07-26  41952.801482  30341.829091  48511.259687  37626.381965   \n",
              "1907 2022-07-27  41938.657970  30694.398600  50181.951143  37555.852627   \n",
              "1908 2022-07-28  41924.514458  30548.535300  49035.203180  37485.323289   \n",
              "1909 2022-07-29  41910.370946  30914.316232  50169.384821  37398.520158   \n",
              "1910 2022-07-30  41896.227435  31616.777716  49059.152782  37266.932571   \n",
              "1911 2022-07-31  41882.083923  31090.784124  50204.164350  37185.268544   \n",
              "1912 2022-08-01  41867.940411  31041.991635  49463.813071  37098.682765   \n",
              "1913 2022-08-02  41853.796899  31257.197166  50435.084781  36970.646707   \n",
              "1914 2022-08-03  41839.653388  32157.913114  50415.182399  36864.438523   \n",
              "1915 2022-08-04  41825.509876  30958.753927  50679.130653  36762.115712   \n",
              "1916 2022-08-05  41811.366364  31940.465737  50469.258915  36644.040880   \n",
              "1917 2022-08-06  41797.222852  31053.549525  50214.794171  36525.966048   \n",
              "1918 2022-08-07  41783.079340  31237.851338  50603.047214  36407.891216   \n",
              "1919 2022-08-08  41768.935829  31745.456853  50924.688599  36291.017325   \n",
              "1920 2022-08-09  41754.792317  32398.961524  51104.487359  36180.625473   \n",
              "1921 2022-08-10  41740.648805  31948.350347  51496.515537  36114.816659   \n",
              "1922 2022-08-11  41726.505293  32352.332799  51798.337238  36049.753996   \n",
              "1923 2022-08-12  41712.361781  32688.981670  51485.925106  35984.794290   \n",
              "1924 2022-08-13  41698.218270  31580.187507  50360.144382  35919.834584   \n",
              "1925 2022-08-14  41684.074758  31937.345821  51995.279241  35828.286570   \n",
              "\n",
              "       trend_upper  additive_terms  additive_terms_lower  \\\n",
              "1906  45487.039890    -2006.517010          -2006.517010   \n",
              "1907  45526.928643    -1813.326657          -1813.326657   \n",
              "1908  45565.961036    -1778.901800          -1778.901800   \n",
              "1909  45604.993428    -1622.622290          -1622.622290   \n",
              "1910  45644.025821    -1435.743998          -1435.743998   \n",
              "1911  45683.058214    -1328.764949          -1328.764949   \n",
              "1912  45752.802036    -1162.593694          -1162.593694   \n",
              "1913  45823.428136    -1066.004188          -1066.004188   \n",
              "1914  45894.054236     -873.794715           -873.794715   \n",
              "1915  45964.680337     -845.034550           -845.034550   \n",
              "1916  46017.594242     -698.680263           -698.680263   \n",
              "1917  46059.226031     -525.560255           -525.560255   \n",
              "1918  46129.451455     -435.752759           -435.752759   \n",
              "1919  46183.473765     -289.764882           -289.764882   \n",
              "1920  46221.498502     -215.996743           -215.996743   \n",
              "1921  46259.189516      -48.908085            -48.908085   \n",
              "1922  46296.690343      -47.270918            -47.270918   \n",
              "1923  46334.191170       70.209958             70.209958   \n",
              "1924  46371.691997      212.910006            212.910006   \n",
              "1925  46408.371932      270.906321            270.906321   \n",
              "\n",
              "      additive_terms_upper     weekly  weekly_lower  weekly_upper  \\\n",
              "1906          -2006.517010 -11.462046    -11.462046    -11.462046   \n",
              "1907          -1813.326657  49.754693     49.754693     49.754693   \n",
              "1908          -1778.901800 -49.906028    -49.906028    -49.906028   \n",
              "1909          -1622.622290 -28.979112    -28.979112    -28.979112   \n",
              "1910          -1435.743998  22.073053     22.073053     22.073053   \n",
              "1911          -1328.764949  -6.511852     -6.511852     -6.511852   \n",
              "1912          -1162.593694  25.031293     25.031293     25.031293   \n",
              "1913          -1066.004188 -11.462046    -11.462046    -11.462046   \n",
              "1914           -873.794715  49.754693     49.754693     49.754693   \n",
              "1915           -845.034550 -49.906028    -49.906028    -49.906028   \n",
              "1916           -698.680263 -28.979112    -28.979112    -28.979112   \n",
              "1917           -525.560255  22.073053     22.073053     22.073053   \n",
              "1918           -435.752759  -6.511852     -6.511852     -6.511852   \n",
              "1919           -289.764882  25.031293     25.031293     25.031293   \n",
              "1920           -215.996743 -11.462046    -11.462046    -11.462046   \n",
              "1921            -48.908085  49.754693     49.754693     49.754693   \n",
              "1922            -47.270918 -49.906028    -49.906028    -49.906028   \n",
              "1923             70.209958 -28.979112    -28.979112    -28.979112   \n",
              "1924            212.910006  22.073053     22.073053     22.073053   \n",
              "1925            270.906321  -6.511852     -6.511852     -6.511852   \n",
              "\n",
              "           yearly  yearly_lower  yearly_upper  multiplicative_terms  \\\n",
              "1906 -1995.054965  -1995.054965  -1995.054965                   0.0   \n",
              "1907 -1863.081349  -1863.081349  -1863.081349                   0.0   \n",
              "1908 -1728.995772  -1728.995772  -1728.995772                   0.0   \n",
              "1909 -1593.643178  -1593.643178  -1593.643178                   0.0   \n",
              "1910 -1457.817052  -1457.817052  -1457.817052                   0.0   \n",
              "1911 -1322.253096  -1322.253096  -1322.253096                   0.0   \n",
              "1912 -1187.624987  -1187.624987  -1187.624987                   0.0   \n",
              "1913 -1054.542142  -1054.542142  -1054.542142                   0.0   \n",
              "1914  -923.549408   -923.549408   -923.549408                   0.0   \n",
              "1915  -795.128522   -795.128522   -795.128522                   0.0   \n",
              "1916  -669.701150   -669.701150   -669.701150                   0.0   \n",
              "1917  -547.633308   -547.633308   -547.633308                   0.0   \n",
              "1918  -429.240907   -429.240907   -429.240907                   0.0   \n",
              "1919  -314.796175   -314.796175   -314.796175                   0.0   \n",
              "1920  -204.534697   -204.534697   -204.534697                   0.0   \n",
              "1921   -98.662778    -98.662778    -98.662778                   0.0   \n",
              "1922     2.635110      2.635110      2.635110                   0.0   \n",
              "1923    99.189070     99.189070     99.189070                   0.0   \n",
              "1924   190.836953    190.836953    190.836953                   0.0   \n",
              "1925   277.418173    277.418173    277.418173                   0.0   \n",
              "\n",
              "      multiplicative_terms_lower  multiplicative_terms_upper          yhat  \n",
              "1906                         0.0                         0.0  39946.284471  \n",
              "1907                         0.0                         0.0  40125.331313  \n",
              "1908                         0.0                         0.0  40145.612658  \n",
              "1909                         0.0                         0.0  40287.748656  \n",
              "1910                         0.0                         0.0  40460.483436  \n",
              "1911                         0.0                         0.0  40553.318974  \n",
              "1912                         0.0                         0.0  40705.346717  \n",
              "1913                         0.0                         0.0  40787.792712  \n",
              "1914                         0.0                         0.0  40965.858672  \n",
              "1915                         0.0                         0.0  40980.475326  \n",
              "1916                         0.0                         0.0  41112.686101  \n",
              "1917                         0.0                         0.0  41271.662597  \n",
              "1918                         0.0                         0.0  41347.326581  \n",
              "1919                         0.0                         0.0  41479.170947  \n",
              "1920                         0.0                         0.0  41538.795574  \n",
              "1921                         0.0                         0.0  41691.740720  \n",
              "1922                         0.0                         0.0  41679.234375  \n",
              "1923                         0.0                         0.0  41782.571739  \n",
              "1924                         0.0                         0.0  41911.128276  \n",
              "1925                         0.0                         0.0  41954.981079  "
            ]
          },
          "execution_count": 29,
          "metadata": {},
          "output_type": "execute_result"
        }
      ],
      "source": [
        "forecast.tail(20)"
      ]
    },
    {
      "cell_type": "code",
      "execution_count": null,
      "metadata": {
        "id": "cGHAMs6Zxhlm"
      },
      "outputs": [],
      "source": [
        ""
      ]
    },
    {
      "cell_type": "code",
      "execution_count": null,
      "metadata": {
        "colab": {
          "base_uri": "https://localhost:8080/",
          "height": 654
        },
        "id": "e5nTcHMNsaW2",
        "outputId": "88346a42-6a61-4129-f954-748f2784044e"
      },
      "outputs": [
        {
          "data": {
            "text/html": [
              "<div>\n",
              "<style scoped>\n",
              "    .dataframe tbody tr th:only-of-type {\n",
              "        vertical-align: middle;\n",
              "    }\n",
              "\n",
              "    .dataframe tbody tr th {\n",
              "        vertical-align: top;\n",
              "    }\n",
              "\n",
              "    .dataframe thead th {\n",
              "        text-align: right;\n",
              "    }\n",
              "</style>\n",
              "<table border=\"1\" class=\"dataframe\">\n",
              "  <thead>\n",
              "    <tr style=\"text-align: right;\">\n",
              "      <th></th>\n",
              "      <th>ds</th>\n",
              "      <th>yhat</th>\n",
              "    </tr>\n",
              "  </thead>\n",
              "  <tbody>\n",
              "    <tr>\n",
              "      <th>0</th>\n",
              "      <td>2017-05-07</td>\n",
              "      <td>2904.324833</td>\n",
              "    </tr>\n",
              "    <tr>\n",
              "      <th>1</th>\n",
              "      <td>2017-05-08</td>\n",
              "      <td>2925.581783</td>\n",
              "    </tr>\n",
              "    <tr>\n",
              "      <th>2</th>\n",
              "      <td>2017-05-09</td>\n",
              "      <td>2860.851272</td>\n",
              "    </tr>\n",
              "    <tr>\n",
              "      <th>3</th>\n",
              "      <td>2017-05-10</td>\n",
              "      <td>2875.782637</td>\n",
              "    </tr>\n",
              "    <tr>\n",
              "      <th>4</th>\n",
              "      <td>2017-05-11</td>\n",
              "      <td>2712.081287</td>\n",
              "    </tr>\n",
              "    <tr>\n",
              "      <th>...</th>\n",
              "      <td>...</td>\n",
              "      <td>...</td>\n",
              "    </tr>\n",
              "    <tr>\n",
              "      <th>1921</th>\n",
              "      <td>2022-08-10</td>\n",
              "      <td>41691.740720</td>\n",
              "    </tr>\n",
              "    <tr>\n",
              "      <th>1922</th>\n",
              "      <td>2022-08-11</td>\n",
              "      <td>41679.234375</td>\n",
              "    </tr>\n",
              "    <tr>\n",
              "      <th>1923</th>\n",
              "      <td>2022-08-12</td>\n",
              "      <td>41782.571739</td>\n",
              "    </tr>\n",
              "    <tr>\n",
              "      <th>1924</th>\n",
              "      <td>2022-08-13</td>\n",
              "      <td>41911.128276</td>\n",
              "    </tr>\n",
              "    <tr>\n",
              "      <th>1925</th>\n",
              "      <td>2022-08-14</td>\n",
              "      <td>41954.981079</td>\n",
              "    </tr>\n",
              "  </tbody>\n",
              "</table>\n",
              "<p>1926 rows × 2 columns</p>\n",
              "</div>"
            ],
            "text/plain": [
              "             ds          yhat\n",
              "0    2017-05-07   2904.324833\n",
              "1    2017-05-08   2925.581783\n",
              "2    2017-05-09   2860.851272\n",
              "3    2017-05-10   2875.782637\n",
              "4    2017-05-11   2712.081287\n",
              "...         ...           ...\n",
              "1921 2022-08-10  41691.740720\n",
              "1922 2022-08-11  41679.234375\n",
              "1923 2022-08-12  41782.571739\n",
              "1924 2022-08-13  41911.128276\n",
              "1925 2022-08-14  41954.981079\n",
              "\n",
              "[1926 rows x 2 columns]"
            ]
          },
          "execution_count": 30,
          "metadata": {},
          "output_type": "execute_result"
        }
      ],
      "source": [
        "forecast[['ds','yhat']]"
      ]
    },
    {
      "cell_type": "code",
      "execution_count": null,
      "metadata": {
        "id": "i7uynb3NRd1l",
        "outputId": "18345220-ae3c-42ac-b578-30c2e6b7afd7"
      },
      "outputs": [
        {
          "data": {
            "text/html": [
              "<div>\n",
              "<style scoped>\n",
              "    .dataframe tbody tr th:only-of-type {\n",
              "        vertical-align: middle;\n",
              "    }\n",
              "\n",
              "    .dataframe tbody tr th {\n",
              "        vertical-align: top;\n",
              "    }\n",
              "\n",
              "    .dataframe thead th {\n",
              "        text-align: right;\n",
              "    }\n",
              "</style>\n",
              "<table border=\"1\" class=\"dataframe\">\n",
              "  <thead>\n",
              "    <tr style=\"text-align: right;\">\n",
              "      <th></th>\n",
              "      <th>ds</th>\n",
              "      <th>yhat</th>\n",
              "    </tr>\n",
              "  </thead>\n",
              "  <tbody>\n",
              "    <tr>\n",
              "      <th>0</th>\n",
              "      <td>2017-11-09</td>\n",
              "      <td>959.619356</td>\n",
              "    </tr>\n",
              "    <tr>\n",
              "      <th>1</th>\n",
              "      <td>2017-11-10</td>\n",
              "      <td>946.191139</td>\n",
              "    </tr>\n",
              "    <tr>\n",
              "      <th>2</th>\n",
              "      <td>2017-11-11</td>\n",
              "      <td>945.732155</td>\n",
              "    </tr>\n",
              "    <tr>\n",
              "      <th>3</th>\n",
              "      <td>2017-11-12</td>\n",
              "      <td>938.384186</td>\n",
              "    </tr>\n",
              "    <tr>\n",
              "      <th>4</th>\n",
              "      <td>2017-11-13</td>\n",
              "      <td>929.188656</td>\n",
              "    </tr>\n",
              "    <tr>\n",
              "      <th>...</th>\n",
              "      <td>...</td>\n",
              "      <td>...</td>\n",
              "    </tr>\n",
              "    <tr>\n",
              "      <th>1735</th>\n",
              "      <td>2022-08-10</td>\n",
              "      <td>3694.015986</td>\n",
              "    </tr>\n",
              "    <tr>\n",
              "      <th>1736</th>\n",
              "      <td>2022-08-11</td>\n",
              "      <td>3693.445826</td>\n",
              "    </tr>\n",
              "    <tr>\n",
              "      <th>1737</th>\n",
              "      <td>2022-08-12</td>\n",
              "      <td>3698.613653</td>\n",
              "    </tr>\n",
              "    <tr>\n",
              "      <th>1738</th>\n",
              "      <td>2022-08-13</td>\n",
              "      <td>3716.530615</td>\n",
              "    </tr>\n",
              "    <tr>\n",
              "      <th>1739</th>\n",
              "      <td>2022-08-14</td>\n",
              "      <td>3727.225852</td>\n",
              "    </tr>\n",
              "  </tbody>\n",
              "</table>\n",
              "<p>1740 rows × 2 columns</p>\n",
              "</div>"
            ],
            "text/plain": [
              "             ds         yhat\n",
              "0    2017-11-09   959.619356\n",
              "1    2017-11-10   946.191139\n",
              "2    2017-11-11   945.732155\n",
              "3    2017-11-12   938.384186\n",
              "4    2017-11-13   929.188656\n",
              "...         ...          ...\n",
              "1735 2022-08-10  3694.015986\n",
              "1736 2022-08-11  3693.445826\n",
              "1737 2022-08-12  3698.613653\n",
              "1738 2022-08-13  3716.530615\n",
              "1739 2022-08-14  3727.225852\n",
              "\n",
              "[1740 rows x 2 columns]"
            ]
          },
          "execution_count": 31,
          "metadata": {},
          "output_type": "execute_result"
        }
      ],
      "source": [
        "forecast_et[['ds','yhat']]"
      ]
    },
    {
      "cell_type": "code",
      "execution_count": null,
      "metadata": {
        "colab": {
          "base_uri": "https://localhost:8080/"
        },
        "id": "ro-NNZycjM5Y",
        "outputId": "d9a2e70b-a342-4cc3-800c-35f8bae4daf8"
      },
      "outputs": [
        {
          "name": "stdout",
          "output_type": "stream",
          "text": [
            "MAE: 3096.982\n",
            "r^2 score = 0.9407211980906783\n"
          ]
        }
      ],
      "source": [
        "train = data_btc['y']\n",
        "test = forecast['yhat'][:1826].values\n",
        "\n",
        "mae = mean_absolute_error(train, test)\n",
        "print('MAE: %.3f' % mae)\n",
        "\n",
        "\n",
        "print(f'r^2 score = {r2_score(train,test)}')"
      ]
    },
    {
      "cell_type": "code",
      "execution_count": null,
      "metadata": {
        "id": "3fX1M29Sxhln",
        "outputId": "4e2bf239-a0c2-4b74-bb19-2c7ba3f5a993"
      },
      "outputs": [
        {
          "name": "stdout",
          "output_type": "stream",
          "text": [
            "MAE: 3096.982\n",
            "r^2 score = 0.9324448123008249\n"
          ]
        }
      ],
      "source": [
        "train_et = data_et['y']\n",
        "test_et = forecast_et['yhat'][:1640].values\n",
        "\n",
        "mae_et = mean_absolute_error(train_et, test_et)\n",
        "print('MAE: %.3f' % mae)\n",
        "\n",
        "\n",
        "print(f'r^2 score = {r2_score(train_et,test_et)}')"
      ]
    },
    {
      "cell_type": "code",
      "execution_count": null,
      "metadata": {
        "colab": {
          "base_uri": "https://localhost:8080/",
          "height": 641
        },
        "id": "wSB8_fBLtEFK",
        "outputId": "9737043c-0c16-44e5-ebe8-fac540869371"
      },
      "outputs": [
        {
          "data": {
            "image/png": "[encoded data removed]",
            "text/plain": [
              "<Figure size 432x288 with 1 Axes>"
            ]
          },
          "metadata": {
            "needs_background": "light"
          },
          "output_type": "display_data"
        },
        {
          "data": {
            "image/png": "[encoded data removed]",
            "text/plain": [
              "<Figure size 720x432 with 1 Axes>"
            ]
          },
          "metadata": {},
          "output_type": "display_data"
        }
      ],
      "source": [
        "data_btc['y'].plot(color='b', linestyle = '-')\n",
        "forecast['yhat'].plot(color='r', linestyle = '-')\n",
        "plot = m.plot(forecast)\n"
      ]
    },
    {
      "cell_type": "code",
      "execution_count": null,
      "metadata": {
        "id": "qcjvthzxxhlp",
        "outputId": "e5c2a128-ad75-48cf-d8ac-92b043a7abc2"
      },
      "outputs": [
        {
          "data": {
            "image/png": "[encoded data removed]",
            "text/plain": [
              "<Figure size 720x432 with 1 Axes>"
            ]
          },
          "metadata": {},
          "output_type": "display_data"
        }
      ],
      "source": [
        "plot =m_et.plot(forecast_et)"
      ]
    },
    {
      "cell_type": "code",
      "execution_count": null,
      "metadata": {
        "id": "UHFInXaAxhlp"
      },
      "outputs": [],
      "source": [
        ""
      ]
    },
    {
      "cell_type": "code",
      "execution_count": null,
      "metadata": {
        "id": "i9bBm8I4xhlq"
      },
      "outputs": [],
      "source": [
        ""
      ]
    },
    {
      "cell_type": "code",
      "execution_count": null,
      "metadata": {
        "id": "ngZ5h1hOxhlq"
      },
      "outputs": [],
      "source": [
        ""
      ]
    },
    {
      "cell_type": "code",
      "execution_count": null,
      "metadata": {
        "id": "LvurLYJVxhlq"
      },
      "outputs": [],
      "source": [
        ""
      ]
    },
    {
      "cell_type": "code",
      "execution_count": null,
      "metadata": {
        "id": "zwh2dQEjxhlq"
      },
      "outputs": [],
      "source": [
        "#pip install dash"
      ]
    },
    {
      "cell_type": "code",
      "execution_count": null,
      "metadata": {
        "colab": {
          "base_uri": "https://localhost:8080/",
          "height": 461
        },
        "id": "Oe0fehyjtbyw",
        "outputId": "ef59f7c3-92b7-415c-8e18-ceb2e3bf560e"
      },
      "outputs": [
        {
          "data": {
            "image/png": "[encoded data removed]",
            "text/plain": [
              "<Figure size 648x648 with 3 Axes>"
            ]
          },
          "metadata": {},
          "output_type": "display_data"
        }
      ],
      "source": [
        "plot2 = m.plot_components(forecast)"
      ]
    },
    {
      "cell_type": "code",
      "execution_count": null,
      "metadata": {
        "id": "bIMa3ahNxhls",
        "outputId": "bc610739-1ca9-4995-aef8-5356ee95170a"
      },
      "outputs": [
        {
          "data": {
            "image/png": "[encoded data removed]",
            "text/plain": [
              "<Figure size 648x648 with 3 Axes>"
            ]
          },
          "metadata": {},
          "output_type": "display_data"
        }
      ],
      "source": [
        "plot2 = m_et.plot_components(forecast_et)"
      ]
    },
    {
      "cell_type": "markdown",
      "metadata": {
        "id": "P10TjK3_xhls"
      },
      "source": [
        "# SIMPLE SMOOTHING"
      ]
    },
    {
      "cell_type": "code",
      "execution_count": null,
      "metadata": {
        "id": "qLw2-v4Bxhlt"
      },
      "outputs": [],
      "source": [
        "#!pip install pandas==1.1.3"
      ]
    },
    {
      "cell_type": "code",
      "execution_count": null,
      "metadata": {
        "id": "SDkf2Bfqxhlt"
      },
      "outputs": [],
      "source": [
        "import pandas_datareader as pdr\n",
        "import pandas as pd\n",
        "from datetime import datetime\n",
        "import pandas as pd\n",
        "from statsmodels.tsa.statespace.exponential_smoothing import ExponentialSmoothing"
      ]
    },
    {
      "cell_type": "code",
      "execution_count": null,
      "metadata": {
        "id": "7Tu34Ub4xhlt"
      },
      "outputs": [],
      "source": [
        "df = pdr.get_data_yahoo('BTC-USD')"
      ]
    },
    {
      "cell_type": "code",
      "execution_count": null,
      "metadata": {
        "id": "k2oQftLCxhlt"
      },
      "outputs": [],
      "source": [
        "df.drop(['High', 'Low', 'Open', 'Volume', 'Adj Close'], axis=1, inplace=True)"
      ]
    },
    {
      "cell_type": "code",
      "execution_count": null,
      "metadata": {
        "id": "ah7xXOq1xhlu"
      },
      "outputs": [],
      "source": [
        "df=df.reset_index()"
      ]
    },
    {
      "cell_type": "code",
      "execution_count": null,
      "metadata": {
        "id": "U3IPPBQBxhlu",
        "outputId": "f2951a01-c9bb-4792-921c-76296ab1c15b"
      },
      "outputs": [
        {
          "data": {
            "text/html": [
              "<div>\n",
              "<style scoped>\n",
              "    .dataframe tbody tr th:only-of-type {\n",
              "        vertical-align: middle;\n",
              "    }\n",
              "\n",
              "    .dataframe tbody tr th {\n",
              "        vertical-align: top;\n",
              "    }\n",
              "\n",
              "    .dataframe thead th {\n",
              "        text-align: right;\n",
              "    }\n",
              "</style>\n",
              "<table border=\"1\" class=\"dataframe\">\n",
              "  <thead>\n",
              "    <tr style=\"text-align: right;\">\n",
              "      <th></th>\n",
              "      <th>Date</th>\n",
              "      <th>Close</th>\n",
              "    </tr>\n",
              "  </thead>\n",
              "  <tbody>\n",
              "    <tr>\n",
              "      <th>1821</th>\n",
              "      <td>2022-05-02</td>\n",
              "      <td>38529.328125</td>\n",
              "    </tr>\n",
              "    <tr>\n",
              "      <th>1822</th>\n",
              "      <td>2022-05-03</td>\n",
              "      <td>37750.453125</td>\n",
              "    </tr>\n",
              "    <tr>\n",
              "      <th>1823</th>\n",
              "      <td>2022-05-04</td>\n",
              "      <td>39698.371094</td>\n",
              "    </tr>\n",
              "    <tr>\n",
              "      <th>1824</th>\n",
              "      <td>2022-05-05</td>\n",
              "      <td>36575.140625</td>\n",
              "    </tr>\n",
              "    <tr>\n",
              "      <th>1825</th>\n",
              "      <td>2022-05-06</td>\n",
              "      <td>36293.035156</td>\n",
              "    </tr>\n",
              "  </tbody>\n",
              "</table>\n",
              "</div>"
            ],
            "text/plain": [
              "           Date         Close\n",
              "1821 2022-05-02  38529.328125\n",
              "1822 2022-05-03  37750.453125\n",
              "1823 2022-05-04  39698.371094\n",
              "1824 2022-05-05  36575.140625\n",
              "1825 2022-05-06  36293.035156"
            ]
          },
          "execution_count": 44,
          "metadata": {},
          "output_type": "execute_result"
        }
      ],
      "source": [
        "df[\"Date\"] = pd.to_datetime(df[\"Date\"])\n",
        "df.tail()"
      ]
    },
    {
      "cell_type": "code",
      "execution_count": null,
      "metadata": {
        "id": "PFFP92NVxhlv",
        "outputId": "11a493f3-89bb-4a64-852d-9763f9263611"
      },
      "outputs": [
        {
          "data": {
            "text/html": [
              "<div>\n",
              "<style scoped>\n",
              "    .dataframe tbody tr th:only-of-type {\n",
              "        vertical-align: middle;\n",
              "    }\n",
              "\n",
              "    .dataframe tbody tr th {\n",
              "        vertical-align: top;\n",
              "    }\n",
              "\n",
              "    .dataframe thead th {\n",
              "        text-align: right;\n",
              "    }\n",
              "</style>\n",
              "<table border=\"1\" class=\"dataframe\">\n",
              "  <thead>\n",
              "    <tr style=\"text-align: right;\">\n",
              "      <th>Close</th>\n",
              "      <th>mean</th>\n",
              "      <th>mean_se</th>\n",
              "      <th>mean_ci_lower</th>\n",
              "      <th>mean_ci_upper</th>\n",
              "    </tr>\n",
              "  </thead>\n",
              "  <tbody>\n",
              "    <tr>\n",
              "      <th>1826</th>\n",
              "      <td>36303.964179</td>\n",
              "      <td>983.218147</td>\n",
              "      <td>35043.919424</td>\n",
              "      <td>37564.008934</td>\n",
              "    </tr>\n",
              "    <tr>\n",
              "      <th>1827</th>\n",
              "      <td>36303.964179</td>\n",
              "      <td>1370.215962</td>\n",
              "      <td>34547.961768</td>\n",
              "      <td>38059.966590</td>\n",
              "    </tr>\n",
              "    <tr>\n",
              "      <th>1828</th>\n",
              "      <td>36303.964179</td>\n",
              "      <td>1669.810062</td>\n",
              "      <td>34164.016481</td>\n",
              "      <td>38443.911877</td>\n",
              "    </tr>\n",
              "    <tr>\n",
              "      <th>1829</th>\n",
              "      <td>36303.964179</td>\n",
              "      <td>1923.288720</td>\n",
              "      <td>33839.170509</td>\n",
              "      <td>38768.757849</td>\n",
              "    </tr>\n",
              "    <tr>\n",
              "      <th>1830</th>\n",
              "      <td>36303.964179</td>\n",
              "      <td>2147.047591</td>\n",
              "      <td>33552.411977</td>\n",
              "      <td>39055.516381</td>\n",
              "    </tr>\n",
              "  </tbody>\n",
              "</table>\n",
              "</div>"
            ],
            "text/plain": [
              "Close          mean      mean_se  mean_ci_lower  mean_ci_upper\n",
              "1826   36303.964179   983.218147   35043.919424   37564.008934\n",
              "1827   36303.964179  1370.215962   34547.961768   38059.966590\n",
              "1828   36303.964179  1669.810062   34164.016481   38443.911877\n",
              "1829   36303.964179  1923.288720   33839.170509   38768.757849\n",
              "1830   36303.964179  2147.047591   33552.411977   39055.516381"
            ]
          },
          "execution_count": 45,
          "metadata": {},
          "output_type": "execute_result"
        }
      ],
      "source": [
        "HORIZON = 10\n",
        "\n",
        "model = ExponentialSmoothing(endog = df['Close'])\n",
        "results = model.fit()\n",
        "\n",
        "preds = results.get_forecast(steps=HORIZON)\n",
        "\n",
        "preds.summary_frame(alpha=0.2).head()"
      ]
    },
    {
      "cell_type": "code",
      "execution_count": null,
      "metadata": {
        "id": "yp6btTUnxhlv",
        "outputId": "03638f38-e0ca-4a24-c2ac-23c306e5fd79"
      },
      "outputs": [
        {
          "name": "stdout",
          "output_type": "stream",
          "text": [
            "1826    36303.964179\n",
            "dtype: float64\n"
          ]
        }
      ],
      "source": [
        "print(results.forecast(steps=1))"
      ]
    },
    {
      "cell_type": "code",
      "execution_count": null,
      "metadata": {
        "id": "T3Rz10zlxhlv",
        "outputId": "9a1d7eb2-f788-4399-9c60-64645df60828"
      },
      "outputs": [
        {
          "name": "stdout",
          "output_type": "stream",
          "text": [
            "1826    36303.964179\n",
            "dtype: float64\n",
            "No\n"
          ]
        }
      ],
      "source": [
        "x = results.forecast(steps=1)\n",
        "print(x)\n",
        "if x.item() > 36996.509921:\n",
        "    print('yes')\n",
        "else:\n",
        "    print('No')"
      ]
    },
    {
      "cell_type": "code",
      "execution_count": null,
      "metadata": {
        "id": "DU6r84K_xhlw",
        "outputId": "c9146083-a4e8-4b2d-d498-cea39db0f88a"
      },
      "outputs": [
        {
          "data": {
            "text/plain": [
              "<matplotlib.legend.Legend at 0x22d5bdf65e0>"
            ]
          },
          "execution_count": 48,
          "metadata": {},
          "output_type": "execute_result"
        },
        {
          "data": {
            "image/png": "[encoded data removed]",
            "text/plain": [
              "<Figure size 864x288 with 1 Axes>"
            ]
          },
          "metadata": {
            "needs_background": "light"
          },
          "output_type": "display_data"
        }
      ],
      "source": [
        "ax = df['Close'].iloc[-25:].plot(figsize=(12,4))\n",
        "forecast_80 = preds.summary_frame(alpha=0.2)[['mean', 'mean_ci_lower', 'mean_ci_upper']]\n",
        "forecast_90 = preds.summary_frame(alpha=0.1)[['mean', 'mean_ci_lower', 'mean_ci_upper']]\n",
        "\n",
        "ax.fill_between(forecast_90.index, forecast_90['mean_ci_lower'], forecast_90['mean_ci_upper'], alpha=0.5, label='90% PI')\n",
        "ax.fill_between(forecast_80.index, forecast_90['mean_ci_lower'], forecast_80['mean_ci_upper'], alpha=0.5, label='80% PI')\n",
        "\n",
        "forecast_80['mean'].iloc[-25:].plot(ax=ax, label='forecast', color='red')\n",
        "\n",
        "results.fittedvalues.iloc[-25:]\n",
        "\n",
        "results.fittedvalues.iloc[-25:].plot(ax=ax, label='fitted', color='green', linestyle='--')\n",
        "\n",
        "ax.legend(loc=3)"
      ]
    },
    {
      "cell_type": "code",
      "execution_count": null,
      "metadata": {
        "id": "RZmUV39nxhlw",
        "outputId": "048ca183-67f2-4e3c-d6f9-63cdc5fd90f6"
      },
      "outputs": [
        {
          "data": {
            "text/html": [
              "<div>\n",
              "<style scoped>\n",
              "    .dataframe tbody tr th:only-of-type {\n",
              "        vertical-align: middle;\n",
              "    }\n",
              "\n",
              "    .dataframe tbody tr th {\n",
              "        vertical-align: top;\n",
              "    }\n",
              "\n",
              "    .dataframe thead th {\n",
              "        text-align: right;\n",
              "    }\n",
              "</style>\n",
              "<table border=\"1\" class=\"dataframe\">\n",
              "  <thead>\n",
              "    <tr style=\"text-align: right;\">\n",
              "      <th></th>\n",
              "      <th>Date</th>\n",
              "      <th>Close</th>\n",
              "    </tr>\n",
              "  </thead>\n",
              "  <tbody>\n",
              "    <tr>\n",
              "      <th>0</th>\n",
              "      <td>2017-05-07</td>\n",
              "      <td>1596.709961</td>\n",
              "    </tr>\n",
              "    <tr>\n",
              "      <th>1</th>\n",
              "      <td>2017-05-08</td>\n",
              "      <td>1723.349976</td>\n",
              "    </tr>\n",
              "    <tr>\n",
              "      <th>2</th>\n",
              "      <td>2017-05-09</td>\n",
              "      <td>1755.359985</td>\n",
              "    </tr>\n",
              "    <tr>\n",
              "      <th>3</th>\n",
              "      <td>2017-05-10</td>\n",
              "      <td>1787.130005</td>\n",
              "    </tr>\n",
              "    <tr>\n",
              "      <th>4</th>\n",
              "      <td>2017-05-11</td>\n",
              "      <td>1848.569946</td>\n",
              "    </tr>\n",
              "  </tbody>\n",
              "</table>\n",
              "</div>"
            ],
            "text/plain": [
              "        Date        Close\n",
              "0 2017-05-07  1596.709961\n",
              "1 2017-05-08  1723.349976\n",
              "2 2017-05-09  1755.359985\n",
              "3 2017-05-10  1787.130005\n",
              "4 2017-05-11  1848.569946"
            ]
          },
          "execution_count": 116,
          "metadata": {},
          "output_type": "execute_result"
        }
      ],
      "source": [
        "df.head()"
      ]
    },
    {
      "cell_type": "code",
      "execution_count": null,
      "metadata": {
        "id": "rJYHLqPcxhlw",
        "outputId": "f6f2e533-2bd2-4e1e-a549-23bdd48468f5"
      },
      "outputs": [
        {
          "data": {
            "text/html": [
              "<div>\n",
              "<style scoped>\n",
              "    .dataframe tbody tr th:only-of-type {\n",
              "        vertical-align: middle;\n",
              "    }\n",
              "\n",
              "    .dataframe tbody tr th {\n",
              "        vertical-align: top;\n",
              "    }\n",
              "\n",
              "    .dataframe thead th {\n",
              "        text-align: right;\n",
              "    }\n",
              "</style>\n",
              "<table border=\"1\" class=\"dataframe\">\n",
              "  <thead>\n",
              "    <tr style=\"text-align: right;\">\n",
              "      <th>Close</th>\n",
              "      <th>mean</th>\n",
              "      <th>mean_ci_lower</th>\n",
              "      <th>mean_ci_upper</th>\n",
              "    </tr>\n",
              "  </thead>\n",
              "  <tbody>\n",
              "    <tr>\n",
              "      <th>1826</th>\n",
              "      <td>36303.964179</td>\n",
              "      <td>35043.919424</td>\n",
              "      <td>37564.008934</td>\n",
              "    </tr>\n",
              "    <tr>\n",
              "      <th>1827</th>\n",
              "      <td>36303.964179</td>\n",
              "      <td>34547.961768</td>\n",
              "      <td>38059.966590</td>\n",
              "    </tr>\n",
              "    <tr>\n",
              "      <th>1828</th>\n",
              "      <td>36303.964179</td>\n",
              "      <td>34164.016481</td>\n",
              "      <td>38443.911877</td>\n",
              "    </tr>\n",
              "    <tr>\n",
              "      <th>1829</th>\n",
              "      <td>36303.964179</td>\n",
              "      <td>33839.170509</td>\n",
              "      <td>38768.757849</td>\n",
              "    </tr>\n",
              "    <tr>\n",
              "      <th>1830</th>\n",
              "      <td>36303.964179</td>\n",
              "      <td>33552.411977</td>\n",
              "      <td>39055.516381</td>\n",
              "    </tr>\n",
              "  </tbody>\n",
              "</table>\n",
              "</div>"
            ],
            "text/plain": [
              "Close          mean  mean_ci_lower  mean_ci_upper\n",
              "1826   36303.964179   35043.919424   37564.008934\n",
              "1827   36303.964179   34547.961768   38059.966590\n",
              "1828   36303.964179   34164.016481   38443.911877\n",
              "1829   36303.964179   33839.170509   38768.757849\n",
              "1830   36303.964179   33552.411977   39055.516381"
            ]
          },
          "execution_count": 73,
          "metadata": {},
          "output_type": "execute_result"
        }
      ],
      "source": [
        "forecast_80.head()"
      ]
    },
    {
      "cell_type": "code",
      "execution_count": null,
      "metadata": {
        "id": "nnWFNdJ6xhlx",
        "outputId": "eda89b50-0ab7-42ad-80a6-2571000e2026"
      },
      "outputs": [
        {
          "data": {
            "text/html": [
              "<table class=\"simpletable\">\n",
              "<caption>Exponential Smoothing Results</caption>\n",
              "<tr>\n",
              "  <th>Dep. Variable:</th>         <td>Close</td>      <th>  No. Observations:  </th>    <td>1826</td>   \n",
              "</tr>\n",
              "<tr>\n",
              "  <th>Model:</th>             <td>ETS(A, N, N)</td>   <th>  Log Likelihood     </th> <td>-15173.639</td>\n",
              "</tr>\n",
              "<tr>\n",
              "  <th>Date:</th>            <td>Fri, 06 May 2022</td> <th>  AIC                </th>  <td>30353.278</td>\n",
              "</tr>\n",
              "<tr>\n",
              "  <th>Time:</th>                <td>16:25:36</td>     <th>  BIC                </th>  <td>30369.808</td>\n",
              "</tr>\n",
              "<tr>\n",
              "  <th>Sample:</th>                  <td>0</td>        <th>  HQIC               </th>  <td>30359.376</td>\n",
              "</tr>\n",
              "<tr>\n",
              "  <th></th>                      <td> - 1826</td>     <th>  Scale              </th> <td>966717.924</td>\n",
              "</tr>\n",
              "<tr>\n",
              "  <th>Covariance Type:</th>        <td>opg</td>       <th>                     </th>      <td> </td>    \n",
              "</tr>\n",
              "</table>\n",
              "<table class=\"simpletable\">\n",
              "<tr>\n",
              "         <td></td>            <th>coef</th>     <th>std err</th>      <th>z</th>      <th>P>|z|</th>  <th>[0.025</th>    <th>0.975]</th>  \n",
              "</tr>\n",
              "<tr>\n",
              "  <th>smoothing_level</th> <td>    0.9706</td> <td>    0.015</td> <td>   65.955</td> <td> 0.000</td> <td>    0.942</td> <td>    0.999</td>\n",
              "</tr>\n",
              "<tr>\n",
              "  <th>initial_level</th>   <td> 1596.7100</td> <td> 2.59e+05</td> <td>    0.006</td> <td> 0.995</td> <td>-5.06e+05</td> <td> 5.09e+05</td>\n",
              "</tr>\n",
              "</table>\n",
              "<table class=\"simpletable\">\n",
              "<tr>\n",
              "  <th>Ljung-Box (Q):</th>          <td>136.20</td> <th>  Jarque-Bera (JB):  </th> <td>8631.90</td>\n",
              "</tr>\n",
              "<tr>\n",
              "  <th>Prob(Q):</th>                 <td>0.00</td>  <th>  Prob(JB):          </th>  <td>0.00</td>  \n",
              "</tr>\n",
              "<tr>\n",
              "  <th>Heteroskedasticity (H):</th>  <td>13.93</td> <th>  Skew:              </th>  <td>-0.15</td> \n",
              "</tr>\n",
              "<tr>\n",
              "  <th>Prob(H) (two-sided):</th>     <td>0.00</td>  <th>  Kurtosis:          </th>  <td>13.65</td> \n",
              "</tr>\n",
              "</table><br/><br/>Warnings:<br/>[1] Covariance matrix calculated using the outer product of gradients (complex-step)."
            ],
            "text/plain": [
              "<class 'statsmodels.iolib.summary.Summary'>\n",
              "\"\"\"\n",
              "                        Exponential Smoothing Results                         \n",
              "==============================================================================\n",
              "Dep. Variable:                  Close   No. Observations:                 1826\n",
              "Model:                   ETS(A, N, N)   Log Likelihood              -15173.639\n",
              "Date:                Fri, 06 May 2022   AIC                          30353.278\n",
              "Time:                        16:25:36   BIC                          30369.808\n",
              "Sample:                             0   HQIC                         30359.376\n",
              "                               - 1826   Scale                       966717.924\n",
              "Covariance Type:                  opg                                         \n",
              "===================================================================================\n",
              "                      coef    std err          z      P>|z|      [0.025      0.975]\n",
              "-----------------------------------------------------------------------------------\n",
              "smoothing_level     0.9706      0.015     65.955      0.000       0.942       0.999\n",
              "initial_level    1596.7100   2.59e+05      0.006      0.995   -5.06e+05    5.09e+05\n",
              "===================================================================================\n",
              "Ljung-Box (Q):                      136.20   Jarque-Bera (JB):              8631.90\n",
              "Prob(Q):                              0.00   Prob(JB):                         0.00\n",
              "Heteroskedasticity (H):              13.93   Skew:                            -0.15\n",
              "Prob(H) (two-sided):                  0.00   Kurtosis:                        13.65\n",
              "===================================================================================\n",
              "\n",
              "Warnings:\n",
              "[1] Covariance matrix calculated using the outer product of gradients (complex-step).\n",
              "\"\"\""
            ]
          },
          "execution_count": 49,
          "metadata": {},
          "output_type": "execute_result"
        }
      ],
      "source": [
        "results.summary()"
      ]
    },
    {
      "cell_type": "code",
      "execution_count": null,
      "metadata": {
        "id": "N71QOwYoxhlx"
      },
      "outputs": [],
      "source": [
        "from statsmodels.graphics.tsaplots import plot_pacf\n",
        "from statsmodels.graphics.tsaplots import plot_acf\n",
        "from statsmodels.tsa.statespace.sarimax import SARIMAX\n",
        "from statsmodels.tsa.holtwinters import ExponentialSmoothing\n",
        "from statsmodels.tsa.stattools import adfuller\n",
        "import matplotlib.pyplot as plt\n",
        "from tqdm import tqdm_notebook\n",
        "import numpy as np\n",
        "import pandas as pd\n",
        "\n",
        "from itertools import product\n",
        "from sklearn.metrics import mean_squared_error, r2_score, mean_absolute_error\n",
        "from sklearn.metrics import median_absolute_error, mean_squared_log_error\n",
        "\n",
        "import warnings\n",
        "warnings.filterwarnings('ignore')\n",
        "\n",
        "%matplotlib inline"
      ]
    },
    {
      "cell_type": "code",
      "execution_count": null,
      "metadata": {
        "id": "eJsO-Y1lxhlx",
        "outputId": "728257d1-c045-4f99-b93d-2dae9f1d7271"
      },
      "outputs": [
        {
          "data": {
            "image/png": "[encoded data removed]",
            "text/plain": [
              "<Figure size 1080x864 with 4 Axes>"
            ]
          },
          "metadata": {
            "needs_background": "light"
          },
          "output_type": "display_data"
        }
      ],
      "source": [
        "# Diagnosing the model residuals\n",
        "results.plot_diagnostics(figsize = (15, 12))\n",
        "plt.show()"
      ]
    },
    {
      "cell_type": "code",
      "execution_count": null,
      "metadata": {
        "id": "UrGkCOjVxhlx",
        "outputId": "9117b5ed-cf0b-41e3-9f01-9ff50addc14e"
      },
      "outputs": [
        {
          "data": {
            "text/plain": [
              "((1552, 2), (274, 2))"
            ]
          },
          "execution_count": 52,
          "metadata": {},
          "output_type": "execute_result"
        }
      ],
      "source": [
        "# Divide into train and validation set to calculate R-squared score\n",
        "train = df[:int(0.85 * (len(df)))]\n",
        "test  = df[int(0.85 * (len(df))):]\n",
        "\n",
        "train.shape, test.shape"
      ]
    },
    {
      "cell_type": "code",
      "execution_count": null,
      "metadata": {
        "id": "R6CZcJV6xhly",
        "outputId": "bcbec6ca-69bb-4f12-c085-c5aed1a70c34"
      },
      "outputs": [
        {
          "name": "stdout",
          "output_type": "stream",
          "text": [
            "1552    40835.256373\n",
            "1553    42758.318325\n",
            "1554    44503.015481\n",
            "1555    43818.817400\n",
            "1556    46290.618721\n",
            "            ...     \n",
            "1821    38447.746023\n",
            "1822    38526.932365\n",
            "1823    37773.255400\n",
            "1824    39641.837685\n",
            "1825    36665.197985\n",
            "Name: Simple Exponential Smoothing Predictions, Length: 274, dtype: float64\n"
          ]
        }
      ],
      "source": [
        "start = len(train)\n",
        "end   = len(train) + len(test) - 1\n",
        "predictions = results.predict(start = start, end = end, dynamic = False, typ = 'levels').rename('Simple Exponential Smoothing Predictions')\n",
        "print(predictions)"
      ]
    },
    {
      "cell_type": "code",
      "execution_count": null,
      "metadata": {
        "id": "clpsyCZhxhly",
        "outputId": "89b57cd7-43d7-4e0d-f533-7287650a7eca"
      },
      "outputs": [
        {
          "data": {
            "text/html": [
              "<div>\n",
              "<style scoped>\n",
              "    .dataframe tbody tr th:only-of-type {\n",
              "        vertical-align: middle;\n",
              "    }\n",
              "\n",
              "    .dataframe tbody tr th {\n",
              "        vertical-align: top;\n",
              "    }\n",
              "\n",
              "    .dataframe thead th {\n",
              "        text-align: right;\n",
              "    }\n",
              "</style>\n",
              "<table border=\"1\" class=\"dataframe\">\n",
              "  <thead>\n",
              "    <tr style=\"text-align: right;\">\n",
              "      <th></th>\n",
              "      <th>r2_score</th>\n",
              "    </tr>\n",
              "  </thead>\n",
              "  <tbody>\n",
              "    <tr>\n",
              "      <th>0</th>\n",
              "      <td>0.958025</td>\n",
              "    </tr>\n",
              "  </tbody>\n",
              "</table>\n",
              "</div>"
            ],
            "text/plain": [
              "   r2_score\n",
              "0  0.958025"
            ]
          },
          "execution_count": 54,
          "metadata": {},
          "output_type": "execute_result"
        }
      ],
      "source": [
        "# Create a dataframe to store r2 score\n",
        "evaluation_results = pd.DataFrame({'r2_score': r2_score(test['Close'], predictions)}, index = [0])\n",
        "\n",
        "# Display the results\n",
        "evaluation_results"
      ]
    },
    {
      "cell_type": "code",
      "execution_count": null,
      "metadata": {
        "id": "fV8SE-Dqxhlz"
      },
      "outputs": [],
      "source": [
        ""
      ]
    },
    {
      "cell_type": "code",
      "execution_count": null,
      "metadata": {
        "id": "MS0HLiPCxhlz"
      },
      "outputs": [],
      "source": [
        ""
      ]
    },
    {
      "cell_type": "code",
      "execution_count": null,
      "metadata": {
        "id": "kNU0G3o-xhlz"
      },
      "outputs": [],
      "source": [
        "#pip install dash_bootstrap_components"
      ]
    },
    {
      "cell_type": "code",
      "execution_count": null,
      "metadata": {
        "id": "g_UrIogJxhlz"
      },
      "outputs": [],
      "source": [
        "#pip uninstall dash"
      ]
    },
    {
      "cell_type": "code",
      "execution_count": null,
      "metadata": {
        "id": "rDWopWYbevPJ"
      },
      "outputs": [],
      "source": [
        "import dash\n",
        "import dash_html_components as html\n",
        "import plotly.graph_objects as go\n",
        "import dash_core_components as dcc\n",
        "import plotly.express as px\n",
        "from dash.dependencies import Input, Output\n",
        "from dash import Dash, dcc, html, Input, Output, State,callback_context, dash_table\n",
        "\n",
        "\n",
        "\n",
        "app = dash.Dash()"
      ]
    },
    {
      "cell_type": "code",
      "execution_count": null,
      "metadata": {
        "id": "UX3CTL_8xhl0"
      },
      "outputs": [],
      "source": [
        "app.layout = html.Div([\n",
        "\n",
        "html.Div([\n",
        "    html.Img( src = 'https://freepngimg.com/thumb/bitcoin/59620-cryptocurrency-bitcoin-free-frame.png',\n",
        "             style = {'width':'150px','display':'block', 'margin-left':'auto', 'margin-right':'auto'}),\n",
        "    \n",
        "    html.H1(id = 'H1', children = 'Crypto Prediction', style = {'textAlign':'center',\\\n",
        "                                            'marginTop':40,'marginBottom':40})\n",
        "    ]),\n",
        "\n",
        "    \n",
        "html.Div([       \n",
        "        html.H1(id = 'H3',children = 'Bitcoin', style = {'textAlign':'center',\\\n",
        "                                            'marginTop':40,'marginBottom':40}),\n",
        "        dcc.Dropdown( id = 'dropdown',\n",
        "        options = [\n",
        "            {'label':'Prophet', 'value':'Prof' },\n",
        "            {'label': 'ARIMA', 'value':'arm'},\n",
        "            {'label': 'Smoothing', 'value':'smt'},\n",
        "            ],\n",
        "        value = 'arm', style = {'background-color': 'lightblue'}),\n",
        "        dcc.Graph(id = 'bar_plot')\n",
        "        \n",
        "    ]),\n",
        "\n",
        "html.Div([       \n",
        "            \n",
        "        html.H1(id = 'H2',children = 'Ethereum ', style = {'textAlign':'center',\\\n",
        "                                            'marginTop':40,'marginBottom':40}),\n",
        "        dcc.Dropdown( id = 'dropdown_et',\n",
        "        options = [\n",
        "            {'label':'Prophet', 'value':'Profs' },\n",
        "            {'label': 'ARIMA', 'value':'arms'},\n",
        "            {'label': 'Smoothing', 'value':'smts'},\n",
        "            ],\n",
        "        value = 'arms', style = {'background-color': 'lightblue'}),\n",
        "        dcc.Graph(id = 'bar_plot_et')\n",
        "        \n",
        "    ]),\n",
        "    \n",
        "\n",
        "html.Div([\n",
        "    html.Button('10 Days Prediction Prophet model', id='btn-nclicks-1', n_clicks=0, style={'font-size': '12px', 'width': '140px', 'display': 'inline-block', 'margin-bottom': '10px', 'margin-right': '5px', 'height':'37px', 'verticalAlign': 'top'}),\n",
        "    html.Button('10 Days Prediction Arima model', id='btn-nclicks-2', n_clicks=0, style={'font-size': '12px', 'width': '140px', 'display': 'inline-block', 'margin-bottom': '10px', 'margin-right': '5px', 'height':'37px', 'verticalAlign': 'top'}),\n",
        "    html.Button('10 Days Prediction Smoothing model', id='btn-nclicks-3', n_clicks=0, style={'font-size': '12px', 'width': '140px', 'display': 'inline-block', 'margin-bottom': '10px', 'margin-right': '5px', 'height':'37px', 'verticalAlign': 'top'}),\n",
        "    html.Div(id='container-button-timestamp'),\n",
        "    \n",
        "], )\n",
        "    #style={'display':'flex','justify-content':'center', 'align-items':'center'}\n",
        "\n",
        "\n",
        "\n",
        "    \n",
        "   \n",
        "    ])"
      ]
    },
    {
      "cell_type": "code",
      "execution_count": null,
      "metadata": {
        "id": "w9GWn9B8xhl0"
      },
      "outputs": [],
      "source": [
        "@app.callback(Output(component_id='bar_plot', component_property= 'figure'),\n",
        "              [Input(component_id='dropdown', component_property= 'value')])\n",
        "\n",
        "def graph_update(dropdown_value):\n",
        "    print(dropdown_value)\n",
        "    \n",
        "    if dropdown_value == 'Prof':\n",
        "        fig = go.Figure()\n",
        "        \n",
        "        fig.add_trace(go.Scatter(x = forecast['ds'],y = forecast['yhat'],\\\n",
        "                     line = dict(color = 'firebrick', width = 4), name = 'prophet'\n",
        "                     ))\n",
        "        fig.add_trace(go.Scatter(x = forecast_et['ds'],y = forecast_et['yhat'],\\\n",
        "                     line = dict(color = 'blue', width = 4), name = 'prophet'\n",
        "                     ))\n",
        "        fig.update_layout(title = 'Prices over time',\n",
        "                      xaxis_title = 'Dates',\n",
        "                      yaxis_title = 'Prices'\n",
        "                      )\n",
        "        return fig\n",
        "\n",
        "    elif dropdown_value == 'arm':\n",
        "\n",
        "        fig_two = go.Figure([go.Scatter(x = forecast['ds'],y = forecast['yhat'],\\\n",
        "                     line = dict(color = 'firebrick', width = 4))\n",
        "                     ])\n",
        "        fig_two.update_layout(title = 'Prices over time',\n",
        "                      xaxis_title = 'Dates',\n",
        "                      yaxis_title = 'Prices'\n",
        "                      )    \n",
        "\n",
        "        return fig_two  \n",
        "                                 \n",
        "    elif dropdown_value == 'smt':\n",
        "        fig_three = go.Figure()\n",
        "        \n",
        "        fig_three.add_trace(go.Scatter(x = df['date'],y =  df['Close'].iloc[-25:],\\\n",
        "                     line = dict(color = 'green', width = 4)\n",
        "                     ))\n",
        "        fig_three.add_trace(go.Scatter(x = forecast_80['Close'], y = forecast_80['mean'].iloc[:25],\\\n",
        "                     line = dict(color = 'firebrick', width = 4)\n",
        "                     ))\n",
        "        #fig_three.add_trace(go.Scatter(y = results.fittedvalues.iloc[-25:],\\\n",
        "                     #line = dict(color = 'blue', width = 4)\n",
        "                     #))\n",
        "        \n",
        "        fig_three.update_layout(title = 'Prices over time',\n",
        "                      xaxis_title = 'Dates',\n",
        "                      yaxis_title = 'Prices'\n",
        "                      )    \n",
        " \n",
        "        return fig_three\n",
        "    \n",
        "    else:\n",
        "        print('test')\n",
        "        "
      ]
    },
    {
      "cell_type": "code",
      "execution_count": null,
      "metadata": {
        "id": "_lQpyAqExhl1"
      },
      "outputs": [],
      "source": [
        "@app.callback(Output(component_id='bar_plot_et', component_property= 'figure'),\n",
        "              [Input(component_id='dropdown_et', component_property= 'value')])\n",
        "\n",
        "def graph_update(dropdown_value):\n",
        "    print(dropdown_value)\n",
        "    \n",
        "    if dropdown_value == 'Profs':\n",
        "        fig = go.Figure()\n",
        "        fig.add_trace(go.Scatter(x = forecast['ds'],y = forecast['yhat'],\\\n",
        "                     line = dict(color = 'firebrick', width = 4), name = 'prophet'\n",
        "                     ))\n",
        "        fig.add_trace(go.Scatter(x = forecast_et['ds'],y = forecast_et['yhat'],\\\n",
        "                     line = dict(color = 'blue', width = 4), name = 'prophet'\n",
        "                     ))\n",
        "        fig.update_layout(title = 'Prices over time',\n",
        "                      xaxis_title = 'Dates',\n",
        "                      yaxis_title = 'Prices'\n",
        "                      )\n",
        "        return fig\n",
        "\n",
        "    elif dropdown_value == 'arms':\n",
        "\n",
        "        fig_two = go.Figure([go.Scatter(x = forecast['ds'],y = forecast['yhat'],\\\n",
        "                     line = dict(color = 'firebrick', width = 4))\n",
        "                     ])\n",
        "        fig_two.update_layout(title = 'Prices over time',\n",
        "                      xaxis_title = 'Dates',\n",
        "                      yaxis_title = 'Prices'\n",
        "                      )    \n",
        "\n",
        "        return fig_two  \n",
        "                                 \n",
        "    elif dropdown_value == 'smts':\n",
        "        fig_three = go.Figure()\n",
        "        \n",
        "        fig_three.add_trace(go.Scatter(x = df['date'],y =  df['Close'].iloc[-25:],\\\n",
        "                     line = dict(color = 'green', width = 4)\n",
        "                     ))\n",
        "        fig_three.add_trace(go.Scatter(x = forecast_80['Close'], y = forecast_80['mean'].iloc[:25],\\\n",
        "                     line = dict(color = 'firebrick', width = 4)\n",
        "                     ))\n",
        "        #fig_three.add_trace(go.Scatter(y = results.fittedvalues.iloc[-25:],\\\n",
        "                     #line = dict(color = 'blue', width = 4)\n",
        "                     #))\n",
        "        \n",
        "        fig_three.update_layout(title = 'Prices over time',\n",
        "                      xaxis_title = 'Dates',\n",
        "                      yaxis_title = 'Prices'\n",
        "                      )    \n",
        " \n",
        "        return fig_three\n",
        "    \n",
        "    else:\n",
        "        print('test')"
      ]
    },
    {
      "cell_type": "code",
      "execution_count": null,
      "metadata": {
        "id": "tnhAr69nxhl1"
      },
      "outputs": [],
      "source": [
        "@app.callback(\n",
        "    Output('container-button-timestamp', 'children'),\n",
        "    Input('btn-nclicks-1', 'n_clicks'),\n",
        "    Input('btn-nclicks-2', 'n_clicks'),\n",
        "    Input('btn-nclicks-3', 'n_clicks')\n",
        ")\n",
        "def displayClick(btn1, btn2, btn3):\n",
        "    changed_id = [p['prop_id'] for p in callback_context.triggered][0]\n",
        "    if 'btn-nclicks-1' in changed_id:\n",
        "        \n",
        "        \n",
        "        msg = 'Predictions for 10 days'\n",
        "\n",
        "        fig = go.Figure(data=[go.Table(\n",
        "            header=dict(values=['Date','Price'],\n",
        "                        #fill_color='paleturquoise',\n",
        "                        align='left'), \n",
        "            cells=dict(values=[forecast['ds'][1826:1836], forecast['yhat'][1826:1836]],\n",
        "               #fill_color='lavender',\n",
        "               align='left'))\n",
        "        ])\n",
        "        return dcc.Graph(figure=fig)\n",
        "        \n",
        "        \n",
        "                      \n",
        "\n",
        "    elif 'btn-nclicks-2' in changed_id:\n",
        "        msg = 'Button 2 was most recently clicked'\n",
        "    elif 'btn-nclicks-3' in changed_id:\n",
        "        msg = 'Button 3 was most recently clicked'\n",
        "    else:\n",
        "        msg = 'Button 3 was most recently clicked'\n",
        "        \n",
        "    return html.Div(msg)\n"
      ]
    },
    {
      "cell_type": "code",
      "execution_count": null,
      "metadata": {
        "id": "LUb5gz6Cxhl2",
        "outputId": "4b2df9da-d2ce-4f7e-9bcf-97061f73bf3e"
      },
      "outputs": [
        {
          "name": "stdout",
          "output_type": "stream",
          "text": [
            "Dash is running on http://127.0.0.1:8050/\n",
            "\n",
            "Dash is running on http://127.0.0.1:8050/\n",
            "\n",
            "Dash is running on http://127.0.0.1:8050/\n",
            "\n",
            "Dash is running on http://127.0.0.1:8050/\n",
            "\n",
            "Dash is running on http://127.0.0.1:8050/\n",
            "\n",
            "Dash is running on http://127.0.0.1:8050/\n",
            "\n",
            "Dash is running on http://127.0.0.1:8050/\n",
            "\n",
            "Dash is running on http://127.0.0.1:8050/\n",
            "\n",
            "Dash is running on http://127.0.0.1:8050/\n",
            "\n",
            "Dash is running on http://127.0.0.1:8050/\n",
            "\n",
            "Dash is running on http://127.0.0.1:8050/\n",
            "\n",
            "Dash is running on http://127.0.0.1:8050/\n",
            "\n",
            "Dash is running on http://127.0.0.1:8050/\n",
            "\n",
            "Dash is running on http://127.0.0.1:8050/\n",
            "\n",
            "Dash is running on http://127.0.0.1:8050/\n",
            "\n",
            "Dash is running on http://127.0.0.1:8050/\n",
            "\n",
            "Dash is running on http://127.0.0.1:8050/\n",
            "\n",
            "Dash is running on http://127.0.0.1:8050/\n",
            "\n"
          ]
        },
        {
          "name": "stderr",
          "output_type": "stream",
          "text": [
            "INFO:__main__:Dash is running on http://127.0.0.1:8050/\n",
            "\n"
          ]
        },
        {
          "name": "stdout",
          "output_type": "stream",
          "text": [
            " * Serving Flask app \"__main__\" (lazy loading)\n",
            " * Environment: production\n",
            "   WARNING: This is a development server. Do not use it in a production deployment.\n",
            "   Use a production WSGI server instead.\n",
            " * Debug mode: off\n"
          ]
        },
        {
          "name": "stderr",
          "output_type": "stream",
          "text": [
            "INFO:werkzeug: * Running on http://127.0.0.1:8050/ (Press CTRL+C to quit)\n",
            "INFO:werkzeug:127.0.0.1 - - [06/May/2022 21:18:18] \"\u001b[37mGET / HTTP/1.1\u001b[0m\" 200 -\n",
            "INFO:werkzeug:127.0.0.1 - - [06/May/2022 21:18:18] \"\u001b[37mGET /_dash-layout HTTP/1.1\u001b[0m\" 200 -\n",
            "INFO:werkzeug:127.0.0.1 - - [06/May/2022 21:18:18] \"\u001b[37mGET /_dash-dependencies HTTP/1.1\u001b[0m\" 200 -\n",
            "INFO:werkzeug:127.0.0.1 - - [06/May/2022 21:18:18] \"\u001b[37mGET /_dash-component-suites/dash/dcc/async-dropdown.js HTTP/1.1\u001b[0m\" 200 -\n",
            "INFO:werkzeug:127.0.0.1 - - [06/May/2022 21:18:18] \"\u001b[37mGET /_dash-component-suites/dash/dcc/async-graph.js HTTP/1.1\u001b[0m\" 200 -\n",
            "INFO:werkzeug:127.0.0.1 - - [06/May/2022 21:18:18] \"\u001b[37mGET /_dash-component-suites/dash/dcc/async-plotlyjs.js HTTP/1.1\u001b[0m\" 200 -\n",
            "INFO:werkzeug:127.0.0.1 - - [06/May/2022 21:18:18] \"\u001b[37mPOST /_dash-update-component HTTP/1.1\u001b[0m\" 200 -\n",
            "INFO:werkzeug:127.0.0.1 - - [06/May/2022 21:18:19] \"\u001b[37mPOST /_dash-update-component HTTP/1.1\u001b[0m\" 200 -\n"
          ]
        },
        {
          "name": "stdout",
          "output_type": "stream",
          "text": [
            "armarms\n",
            "\n"
          ]
        },
        {
          "name": "stderr",
          "output_type": "stream",
          "text": [
            "INFO:werkzeug:127.0.0.1 - - [06/May/2022 21:18:19] \"\u001b[37mPOST /_dash-update-component HTTP/1.1\u001b[0m\" 200 -\n"
          ]
        }
      ],
      "source": [
        "\n",
        "if __name__ == '__main__': \n",
        "    app.run_server()"
      ]
    },
    {
      "cell_type": "code",
      "execution_count": null,
      "metadata": {
        "id": "ztSIqUoqxhl2"
      },
      "outputs": [],
      "source": [
        ""
      ]
    },
    {
      "cell_type": "code",
      "execution_count": null,
      "metadata": {
        "id": "eHBo89t6xhl2"
      },
      "outputs": [],
      "source": [
        ""
      ]
    },
    {
      "cell_type": "code",
      "execution_count": null,
      "metadata": {
        "id": "Z-4ysfjgxhl2"
      },
      "outputs": [],
      "source": [
        ""
      ]
    }
  ],
  "metadata": {
    "colab": {
      "collapsed_sections": [],
      "name": "Prophet_Model (2) (1).ipynb",
      "provenance": [],
      "include_colab_link": true
    },
    "kernelspec": {
      "display_name": "Python 3",
      "language": "python",
      "name": "python3"
    },
    "language_info": {
      "codemirror_mode": {
        "name": "ipython",
        "version": 3
      },
      "file_extension": ".py",
      "mimetype": "text/x-python",
      "name": "python",
      "nbconvert_exporter": "python",
      "pygments_lexer": "ipython3",
      "version": "3.8.3"
    }
  },
  "nbformat": 4,
  "nbformat_minor": 0
}