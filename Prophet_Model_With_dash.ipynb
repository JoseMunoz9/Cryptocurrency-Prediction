{
  "cells": [
    {
      "cell_type": "markdown",
      "metadata": {
        "id": "view-in-github",
        "colab_type": "text"
      },
      "source": [
        "<a href=\"https://colab.research.google.com/github/SergJohn/Crypto-Prediction-2022-Project/blob/main/Prophet_Model_With_dash.ipynb\" target=\"_parent\"><img src=\"https://colab.research.google.com/assets/colab-badge.svg\" alt=\"Open In Colab\"/></a>"
      ]
    },
    {
      "cell_type": "code",
      "execution_count": null,
      "metadata": {
        "id": "0qgJeVOZgkxh"
      },
      "outputs": [],
      "source": [
        "#pip install --upgrade pandas pip install --upgrade pandas-datareader"
      ]
    },
    {
      "cell_type": "code",
      "execution_count": null,
      "metadata": {
        "id": "CgKDuXcUgrYP"
      },
      "outputs": [],
      "source": [
        "#pip install pandas-datareader\n"
      ]
    },
    {
      "cell_type": "code",
      "execution_count": null,
      "metadata": {
        "id": "oEDn47BXg2X0"
      },
      "outputs": [],
      "source": [
        "#!pip install pystan fbprophet\n"
      ]
    },
    {
      "cell_type": "code",
      "execution_count": null,
      "metadata": {
        "id": "1F7Q0zseg-Bz"
      },
      "outputs": [],
      "source": [
        "import pandas as pd\n",
        "from fbprophet import Prophet"
      ]
    },
    {
      "cell_type": "code",
      "execution_count": null,
      "metadata": {
        "id": "Ruk4urW-hZKj"
      },
      "outputs": [],
      "source": [
        "import pandas_datareader as pdr\n",
        "import pandas as pd\n",
        "from datetime import datetime\n",
        "from matplotlib import pyplot as plt"
      ]
    },
    {
      "cell_type": "code",
      "execution_count": null,
      "metadata": {
        "id": "ChmeovZoUIJW"
      },
      "outputs": [],
      "source": [
        "# Data1 Using static Dataset from Yahoo Finance, data from 2014 afterwards\n",
        "#data_btc = pd.read_csv('BTC-USD.csv',index_col = [0])"
      ]
    },
    {
      "cell_type": "code",
      "execution_count": null,
      "metadata": {
        "id": "EXeCeBe-hf7k"
      },
      "outputs": [],
      "source": [
        "# Data2 Getting Yahoo Finance from pdr = data from 2020 afterwards\n",
        "data_btc = pdr.get_data_yahoo('BTC-USD')"
      ]
    },
    {
      "cell_type": "code",
      "execution_count": null,
      "metadata": {
        "colab": {
          "base_uri": "https://localhost:8080/",
          "height": 368
        },
        "id": "KShTpC9WhiqI",
        "outputId": "d61289f7-9b7c-4379-e4a0-a680af05609a"
      },
      "outputs": [
        {
          "data": {
            "text/html": [
              "<div>\n",
              "<style scoped>\n",
              "    .dataframe tbody tr th:only-of-type {\n",
              "        vertical-align: middle;\n",
              "    }\n",
              "\n",
              "    .dataframe tbody tr th {\n",
              "        vertical-align: top;\n",
              "    }\n",
              "\n",
              "    .dataframe thead th {\n",
              "        text-align: right;\n",
              "    }\n",
              "</style>\n",
              "<table border=\"1\" class=\"dataframe\">\n",
              "  <thead>\n",
              "    <tr style=\"text-align: right;\">\n",
              "      <th></th>\n",
              "      <th>High</th>\n",
              "      <th>Low</th>\n",
              "      <th>Open</th>\n",
              "      <th>Close</th>\n",
              "      <th>Volume</th>\n",
              "      <th>Adj Close</th>\n",
              "    </tr>\n",
              "    <tr>\n",
              "      <th>Date</th>\n",
              "      <th></th>\n",
              "      <th></th>\n",
              "      <th></th>\n",
              "      <th></th>\n",
              "      <th></th>\n",
              "      <th></th>\n",
              "    </tr>\n",
              "  </thead>\n",
              "  <tbody>\n",
              "    <tr>\n",
              "      <th>2017-05-03</th>\n",
              "      <td>1492.770020</td>\n",
              "      <td>1447.489990</td>\n",
              "      <td>1453.780029</td>\n",
              "      <td>1490.089966</td>\n",
              "      <td>583795968</td>\n",
              "      <td>1490.089966</td>\n",
              "    </tr>\n",
              "    <tr>\n",
              "      <th>2017-05-04</th>\n",
              "      <td>1608.910034</td>\n",
              "      <td>1490.719971</td>\n",
              "      <td>1490.719971</td>\n",
              "      <td>1537.670044</td>\n",
              "      <td>933548992</td>\n",
              "      <td>1537.670044</td>\n",
              "    </tr>\n",
              "    <tr>\n",
              "      <th>2017-05-05</th>\n",
              "      <td>1618.030029</td>\n",
              "      <td>1530.310059</td>\n",
              "      <td>1540.869995</td>\n",
              "      <td>1555.449951</td>\n",
              "      <td>946035968</td>\n",
              "      <td>1555.449951</td>\n",
              "    </tr>\n",
              "    <tr>\n",
              "      <th>2017-05-06</th>\n",
              "      <td>1578.800049</td>\n",
              "      <td>1542.500000</td>\n",
              "      <td>1556.810059</td>\n",
              "      <td>1578.800049</td>\n",
              "      <td>582529984</td>\n",
              "      <td>1578.800049</td>\n",
              "    </tr>\n",
              "    <tr>\n",
              "      <th>2017-05-07</th>\n",
              "      <td>1596.719971</td>\n",
              "      <td>1559.760010</td>\n",
              "      <td>1579.469971</td>\n",
              "      <td>1596.709961</td>\n",
              "      <td>1080029952</td>\n",
              "      <td>1596.709961</td>\n",
              "    </tr>\n",
              "  </tbody>\n",
              "</table>\n",
              "</div>"
            ],
            "text/plain": [
              "                   High          Low         Open        Close      Volume  \\\n",
              "Date                                                                         \n",
              "2017-05-03  1492.770020  1447.489990  1453.780029  1490.089966   583795968   \n",
              "2017-05-04  1608.910034  1490.719971  1490.719971  1537.670044   933548992   \n",
              "2017-05-05  1618.030029  1530.310059  1540.869995  1555.449951   946035968   \n",
              "2017-05-06  1578.800049  1542.500000  1556.810059  1578.800049   582529984   \n",
              "2017-05-07  1596.719971  1559.760010  1579.469971  1596.709961  1080029952   \n",
              "\n",
              "              Adj Close  \n",
              "Date                     \n",
              "2017-05-03  1490.089966  \n",
              "2017-05-04  1537.670044  \n",
              "2017-05-05  1555.449951  \n",
              "2017-05-06  1578.800049  \n",
              "2017-05-07  1596.709961  "
            ]
          },
          "execution_count": 8,
          "metadata": {},
          "output_type": "execute_result"
        }
      ],
      "source": [
        "data_btc.head()\n"
      ]
    },
    {
      "cell_type": "code",
      "execution_count": null,
      "metadata": {
        "colab": {
          "base_uri": "https://localhost:8080/"
        },
        "id": "vPxQp31tme2J",
        "outputId": "1841ef6c-8fe5-4b01-ebec-fa30be219b70"
      },
      "outputs": [
        {
          "data": {
            "text/plain": [
              "<bound method DataFrame.info of                     High           Low          Open         Close  \\\n",
              "Date                                                                 \n",
              "2017-05-03   1492.770020   1447.489990   1453.780029   1490.089966   \n",
              "2017-05-04   1608.910034   1490.719971   1490.719971   1537.670044   \n",
              "2017-05-05   1618.030029   1530.310059   1540.869995   1555.449951   \n",
              "2017-05-06   1578.800049   1542.500000   1556.810059   1578.800049   \n",
              "2017-05-07   1596.719971   1559.760010   1579.469971   1596.709961   \n",
              "...                  ...           ...           ...           ...   \n",
              "2022-04-28  40269.464844  38941.421875  39241.429688  39773.828125   \n",
              "2022-04-29  39887.269531  38235.535156  39768.617188  38609.824219   \n",
              "2022-04-30  38771.210938  37697.941406  38605.859375  37714.875000   \n",
              "2022-05-01  38627.859375  37585.789062  37713.265625  38469.093750   \n",
              "2022-05-02  39061.562500  38453.156250  38491.511719  38793.300781   \n",
              "\n",
              "                 Volume     Adj Close  \n",
              "Date                                   \n",
              "2017-05-03    583795968   1490.089966  \n",
              "2017-05-04    933548992   1537.670044  \n",
              "2017-05-05    946035968   1555.449951  \n",
              "2017-05-06    582529984   1578.800049  \n",
              "2017-05-07   1080029952   1596.709961  \n",
              "...                 ...           ...  \n",
              "2022-04-28  33903704907  39773.828125  \n",
              "2022-04-29  30882994649  38609.824219  \n",
              "2022-04-30  23895713731  37714.875000  \n",
              "2022-05-01  27002760110  38469.093750  \n",
              "2022-05-02  28852674560  38793.300781  \n",
              "\n",
              "[1826 rows x 6 columns]>"
            ]
          },
          "execution_count": 9,
          "metadata": {},
          "output_type": "execute_result"
        }
      ],
      "source": [
        "data_btc.info"
      ]
    },
    {
      "cell_type": "code",
      "execution_count": null,
      "metadata": {
        "id": "kwuZ_xmjrg9z"
      },
      "outputs": [],
      "source": [
        "# For Data2 - Transforming the index in a Date columns\n",
        "data_btc=data_btc.reset_index()"
      ]
    },
    {
      "cell_type": "code",
      "execution_count": null,
      "metadata": {
        "colab": {
          "base_uri": "https://localhost:8080/"
        },
        "id": "HN_bYr2Srn69",
        "outputId": "d245fc4f-430e-44ca-96bc-4510efd620b1"
      },
      "outputs": [
        {
          "name": "stdout",
          "output_type": "stream",
          "text": [
            "<class 'pandas.core.frame.DataFrame'>\n",
            "RangeIndex: 1826 entries, 0 to 1825\n",
            "Data columns (total 7 columns):\n",
            " #   Column     Non-Null Count  Dtype         \n",
            "---  ------     --------------  -----         \n",
            " 0   Date       1826 non-null   datetime64[ns]\n",
            " 1   High       1826 non-null   float64       \n",
            " 2   Low        1826 non-null   float64       \n",
            " 3   Open       1826 non-null   float64       \n",
            " 4   Close      1826 non-null   float64       \n",
            " 5   Volume     1826 non-null   int64         \n",
            " 6   Adj Close  1826 non-null   float64       \n",
            "dtypes: datetime64[ns](1), float64(5), int64(1)\n",
            "memory usage: 100.0 KB\n"
          ]
        }
      ],
      "source": [
        "data_btc.info()"
      ]
    },
    {
      "cell_type": "code",
      "execution_count": null,
      "metadata": {
        "id": "pszoy6Q2VBfE"
      },
      "outputs": [],
      "source": [
        "# For Data2\n",
        "data_btc.drop(['High', 'Low', 'Open', 'Volume', 'Adj Close'], axis=1, inplace=True)"
      ]
    },
    {
      "cell_type": "code",
      "execution_count": null,
      "metadata": {
        "id": "pE2RWG-Pzwyy"
      },
      "outputs": [],
      "source": [
        ""
      ]
    },
    {
      "cell_type": "code",
      "execution_count": null,
      "metadata": {
        "colab": {
          "base_uri": "https://localhost:8080/",
          "height": 206
        },
        "id": "NwZ9Nvrcmrf5",
        "outputId": "f4e48259-13e8-49fc-aec6-9a5014951b88"
      },
      "outputs": [
        {
          "data": {
            "text/html": [
              "<div>\n",
              "<style scoped>\n",
              "    .dataframe tbody tr th:only-of-type {\n",
              "        vertical-align: middle;\n",
              "    }\n",
              "\n",
              "    .dataframe tbody tr th {\n",
              "        vertical-align: top;\n",
              "    }\n",
              "\n",
              "    .dataframe thead th {\n",
              "        text-align: right;\n",
              "    }\n",
              "</style>\n",
              "<table border=\"1\" class=\"dataframe\">\n",
              "  <thead>\n",
              "    <tr style=\"text-align: right;\">\n",
              "      <th></th>\n",
              "      <th>Date</th>\n",
              "      <th>Close</th>\n",
              "    </tr>\n",
              "  </thead>\n",
              "  <tbody>\n",
              "    <tr>\n",
              "      <th>1821</th>\n",
              "      <td>2022-04-28</td>\n",
              "      <td>39773.828125</td>\n",
              "    </tr>\n",
              "    <tr>\n",
              "      <th>1822</th>\n",
              "      <td>2022-04-29</td>\n",
              "      <td>38609.824219</td>\n",
              "    </tr>\n",
              "    <tr>\n",
              "      <th>1823</th>\n",
              "      <td>2022-04-30</td>\n",
              "      <td>37714.875000</td>\n",
              "    </tr>\n",
              "    <tr>\n",
              "      <th>1824</th>\n",
              "      <td>2022-05-01</td>\n",
              "      <td>38469.093750</td>\n",
              "    </tr>\n",
              "    <tr>\n",
              "      <th>1825</th>\n",
              "      <td>2022-05-02</td>\n",
              "      <td>38793.300781</td>\n",
              "    </tr>\n",
              "  </tbody>\n",
              "</table>\n",
              "</div>"
            ],
            "text/plain": [
              "           Date         Close\n",
              "1821 2022-04-28  39773.828125\n",
              "1822 2022-04-29  38609.824219\n",
              "1823 2022-04-30  37714.875000\n",
              "1824 2022-05-01  38469.093750\n",
              "1825 2022-05-02  38793.300781"
            ]
          },
          "execution_count": 13,
          "metadata": {},
          "output_type": "execute_result"
        }
      ],
      "source": [
        "data_btc.tail()"
      ]
    },
    {
      "cell_type": "code",
      "execution_count": null,
      "metadata": {
        "id": "CKAgLXo8mgX3"
      },
      "outputs": [],
      "source": [
        "data_btc.columns = ['ds','y']"
      ]
    },
    {
      "cell_type": "code",
      "execution_count": null,
      "metadata": {
        "colab": {
          "base_uri": "https://localhost:8080/",
          "height": 185
        },
        "id": "BcjfzLWLxsmp",
        "outputId": "6c238124-8bbb-4869-d841-5bfa52af1181"
      },
      "outputs": [
        {
          "data": {
            "text/plain": [
              "<matplotlib.axes._subplots.AxesSubplot at 0x1c58161b4f0>"
            ]
          },
          "execution_count": 15,
          "metadata": {},
          "output_type": "execute_result"
        },
        {
          "data": {
            "image/png": "[encoded data removed]",
            "text/plain": [
              "<Figure size 396x396 with 1 Axes>"
            ]
          },
          "metadata": {
            "needs_background": "light"
          },
          "output_type": "display_data"
        }
      ],
      "source": [
        "fig = plt.figure(figsize = (5.5, 5.5))\n",
        "ax = fig.add_subplot(2, 1, 1)\n",
        "fig.subplots_adjust(hspace = 0.5)\n",
        "data_btc['y'].plot(ax = ax)"
      ]
    },
    {
      "cell_type": "code",
      "execution_count": null,
      "metadata": {
        "colab": {
          "base_uri": "https://localhost:8080/",
          "height": 206
        },
        "id": "3YKh0qxzssIb",
        "outputId": "b6f8a9ef-7ad1-43bc-9b00-afe83c771194"
      },
      "outputs": [
        {
          "data": {
            "text/html": [
              "<div>\n",
              "<style scoped>\n",
              "    .dataframe tbody tr th:only-of-type {\n",
              "        vertical-align: middle;\n",
              "    }\n",
              "\n",
              "    .dataframe tbody tr th {\n",
              "        vertical-align: top;\n",
              "    }\n",
              "\n",
              "    .dataframe thead th {\n",
              "        text-align: right;\n",
              "    }\n",
              "</style>\n",
              "<table border=\"1\" class=\"dataframe\">\n",
              "  <thead>\n",
              "    <tr style=\"text-align: right;\">\n",
              "      <th></th>\n",
              "      <th>ds</th>\n",
              "      <th>y</th>\n",
              "    </tr>\n",
              "  </thead>\n",
              "  <tbody>\n",
              "    <tr>\n",
              "      <th>1821</th>\n",
              "      <td>2022-04-28</td>\n",
              "      <td>39773.828125</td>\n",
              "    </tr>\n",
              "    <tr>\n",
              "      <th>1822</th>\n",
              "      <td>2022-04-29</td>\n",
              "      <td>38609.824219</td>\n",
              "    </tr>\n",
              "    <tr>\n",
              "      <th>1823</th>\n",
              "      <td>2022-04-30</td>\n",
              "      <td>37714.875000</td>\n",
              "    </tr>\n",
              "    <tr>\n",
              "      <th>1824</th>\n",
              "      <td>2022-05-01</td>\n",
              "      <td>38469.093750</td>\n",
              "    </tr>\n",
              "    <tr>\n",
              "      <th>1825</th>\n",
              "      <td>2022-05-02</td>\n",
              "      <td>38793.300781</td>\n",
              "    </tr>\n",
              "  </tbody>\n",
              "</table>\n",
              "</div>"
            ],
            "text/plain": [
              "             ds             y\n",
              "1821 2022-04-28  39773.828125\n",
              "1822 2022-04-29  38609.824219\n",
              "1823 2022-04-30  37714.875000\n",
              "1824 2022-05-01  38469.093750\n",
              "1825 2022-05-02  38793.300781"
            ]
          },
          "execution_count": 16,
          "metadata": {},
          "output_type": "execute_result"
        }
      ],
      "source": [
        "data_btc.tail()"
      ]
    },
    {
      "cell_type": "code",
      "execution_count": null,
      "metadata": {
        "colab": {
          "base_uri": "https://localhost:8080/"
        },
        "id": "6nyrPUPQiX1B",
        "outputId": "bfbbfac7-81c3-4e26-9391-ef2fb2c4d4cd"
      },
      "outputs": [
        {
          "name": "stdout",
          "output_type": "stream",
          "text": [
            "<class 'pandas.core.frame.DataFrame'>\n",
            "RangeIndex: 1826 entries, 0 to 1825\n",
            "Data columns (total 2 columns):\n",
            " #   Column  Non-Null Count  Dtype         \n",
            "---  ------  --------------  -----         \n",
            " 0   ds      1826 non-null   datetime64[ns]\n",
            " 1   y       1826 non-null   float64       \n",
            "dtypes: datetime64[ns](1), float64(1)\n",
            "memory usage: 28.7 KB\n"
          ]
        }
      ],
      "source": [
        "data_btc.info()"
      ]
    },
    {
      "cell_type": "code",
      "execution_count": null,
      "metadata": {
        "id": "y0M0k-yLa7Nf"
      },
      "outputs": [],
      "source": [
        "from sklearn.metrics import mean_squared_error, r2_score, mean_absolute_error"
      ]
    },
    {
      "cell_type": "code",
      "execution_count": null,
      "metadata": {
        "id": "LBP9PV8GjbDA",
        "outputId": "06165fac-ed3a-460a-af34-c951ed5332e9"
      },
      "outputs": [
        {
          "name": "stderr",
          "output_type": "stream",
          "text": [
            "C:\\Users\\jonathansantos\\anaconda3\\lib\\site-packages\\fbprophet\\forecaster.py:891: FutureWarning: The frame.append method is deprecated and will be removed from pandas in a future version. Use pandas.concat instead.\n",
            "  components = components.append(new_comp)\n"
          ]
        }
      ],
      "source": [
        "m = Prophet(interval_width=0.95,daily_seasonality=False)\n",
        "model = m.fit(data_btc)"
      ]
    },
    {
      "cell_type": "markdown",
      "metadata": {
        "id": "h5SWBvKzZHK1"
      },
      "source": [
        ""
      ]
    },
    {
      "cell_type": "code",
      "execution_count": null,
      "metadata": {
        "colab": {
          "base_uri": "https://localhost:8080/",
          "height": 356
        },
        "id": "pAX1LUKqj2e1",
        "outputId": "4833bf7a-2c54-41a3-d8ff-10fbab7f989d"
      },
      "outputs": [
        {
          "name": "stderr",
          "output_type": "stream",
          "text": [
            "C:\\Users\\jonathansantos\\anaconda3\\lib\\site-packages\\fbprophet\\forecaster.py:891: FutureWarning: The frame.append method is deprecated and will be removed from pandas in a future version. Use pandas.concat instead.\n",
            "  components = components.append(new_comp)\n",
            "C:\\Users\\jonathansantos\\anaconda3\\lib\\site-packages\\fbprophet\\forecaster.py:891: FutureWarning: The frame.append method is deprecated and will be removed from pandas in a future version. Use pandas.concat instead.\n",
            "  components = components.append(new_comp)\n"
          ]
        },
        {
          "data": {
            "text/html": [
              "<div>\n",
              "<style scoped>\n",
              "    .dataframe tbody tr th:only-of-type {\n",
              "        vertical-align: middle;\n",
              "    }\n",
              "\n",
              "    .dataframe tbody tr th {\n",
              "        vertical-align: top;\n",
              "    }\n",
              "\n",
              "    .dataframe thead th {\n",
              "        text-align: right;\n",
              "    }\n",
              "</style>\n",
              "<table border=\"1\" class=\"dataframe\">\n",
              "  <thead>\n",
              "    <tr style=\"text-align: right;\">\n",
              "      <th></th>\n",
              "      <th>ds</th>\n",
              "      <th>trend</th>\n",
              "      <th>yhat_lower</th>\n",
              "      <th>yhat_upper</th>\n",
              "      <th>trend_lower</th>\n",
              "      <th>trend_upper</th>\n",
              "      <th>additive_terms</th>\n",
              "      <th>additive_terms_lower</th>\n",
              "      <th>additive_terms_upper</th>\n",
              "      <th>weekly</th>\n",
              "      <th>weekly_lower</th>\n",
              "      <th>weekly_upper</th>\n",
              "      <th>yearly</th>\n",
              "      <th>yearly_lower</th>\n",
              "      <th>yearly_upper</th>\n",
              "      <th>multiplicative_terms</th>\n",
              "      <th>multiplicative_terms_lower</th>\n",
              "      <th>multiplicative_terms_upper</th>\n",
              "      <th>yhat</th>\n",
              "    </tr>\n",
              "  </thead>\n",
              "  <tbody>\n",
              "    <tr>\n",
              "      <th>1921</th>\n",
              "      <td>2022-08-06</td>\n",
              "      <td>41599.258391</td>\n",
              "      <td>31139.614725</td>\n",
              "      <td>50396.776004</td>\n",
              "      <td>35834.275298</td>\n",
              "      <td>46937.782176</td>\n",
              "      <td>-700.293038</td>\n",
              "      <td>-700.293038</td>\n",
              "      <td>-700.293038</td>\n",
              "      <td>6.178946</td>\n",
              "      <td>6.178946</td>\n",
              "      <td>6.178946</td>\n",
              "      <td>-706.471984</td>\n",
              "      <td>-706.471984</td>\n",
              "      <td>-706.471984</td>\n",
              "      <td>0.0</td>\n",
              "      <td>0.0</td>\n",
              "      <td>0.0</td>\n",
              "      <td>40898.965353</td>\n",
              "    </tr>\n",
              "    <tr>\n",
              "      <th>1922</th>\n",
              "      <td>2022-08-07</td>\n",
              "      <td>41583.839680</td>\n",
              "      <td>30585.330268</td>\n",
              "      <td>51508.871830</td>\n",
              "      <td>35706.229873</td>\n",
              "      <td>46994.638840</td>\n",
              "      <td>-603.981032</td>\n",
              "      <td>-603.981032</td>\n",
              "      <td>-603.981032</td>\n",
              "      <td>-16.905748</td>\n",
              "      <td>-16.905748</td>\n",
              "      <td>-16.905748</td>\n",
              "      <td>-587.075284</td>\n",
              "      <td>-587.075284</td>\n",
              "      <td>-587.075284</td>\n",
              "      <td>0.0</td>\n",
              "      <td>0.0</td>\n",
              "      <td>0.0</td>\n",
              "      <td>40979.858648</td>\n",
              "    </tr>\n",
              "    <tr>\n",
              "      <th>1923</th>\n",
              "      <td>2022-08-08</td>\n",
              "      <td>41568.420968</td>\n",
              "      <td>30708.154862</td>\n",
              "      <td>49971.668097</td>\n",
              "      <td>35578.184449</td>\n",
              "      <td>47050.820459</td>\n",
              "      <td>-455.259731</td>\n",
              "      <td>-455.259731</td>\n",
              "      <td>-455.259731</td>\n",
              "      <td>16.033761</td>\n",
              "      <td>16.033761</td>\n",
              "      <td>16.033761</td>\n",
              "      <td>-471.293492</td>\n",
              "      <td>-471.293492</td>\n",
              "      <td>-471.293492</td>\n",
              "      <td>0.0</td>\n",
              "      <td>0.0</td>\n",
              "      <td>0.0</td>\n",
              "      <td>41113.161237</td>\n",
              "    </tr>\n",
              "    <tr>\n",
              "      <th>1924</th>\n",
              "      <td>2022-08-09</td>\n",
              "      <td>41553.002256</td>\n",
              "      <td>31433.406927</td>\n",
              "      <td>50943.436549</td>\n",
              "      <td>35450.139024</td>\n",
              "      <td>47106.095160</td>\n",
              "      <td>-357.351692</td>\n",
              "      <td>-357.351692</td>\n",
              "      <td>-357.351692</td>\n",
              "      <td>2.034369</td>\n",
              "      <td>2.034369</td>\n",
              "      <td>2.034369</td>\n",
              "      <td>-359.386061</td>\n",
              "      <td>-359.386061</td>\n",
              "      <td>-359.386061</td>\n",
              "      <td>0.0</td>\n",
              "      <td>0.0</td>\n",
              "      <td>0.0</td>\n",
              "      <td>41195.650564</td>\n",
              "    </tr>\n",
              "    <tr>\n",
              "      <th>1925</th>\n",
              "      <td>2022-08-10</td>\n",
              "      <td>41537.583545</td>\n",
              "      <td>30364.340805</td>\n",
              "      <td>50691.789604</td>\n",
              "      <td>35318.367241</td>\n",
              "      <td>47161.369861</td>\n",
              "      <td>-203.274626</td>\n",
              "      <td>-203.274626</td>\n",
              "      <td>-203.274626</td>\n",
              "      <td>48.318652</td>\n",
              "      <td>48.318652</td>\n",
              "      <td>48.318652</td>\n",
              "      <td>-251.593278</td>\n",
              "      <td>-251.593278</td>\n",
              "      <td>-251.593278</td>\n",
              "      <td>0.0</td>\n",
              "      <td>0.0</td>\n",
              "      <td>0.0</td>\n",
              "      <td>41334.308919</td>\n",
              "    </tr>\n",
              "  </tbody>\n",
              "</table>\n",
              "</div>"
            ],
            "text/plain": [
              "             ds         trend    yhat_lower    yhat_upper   trend_lower  \\\n",
              "1921 2022-08-06  41599.258391  31139.614725  50396.776004  35834.275298   \n",
              "1922 2022-08-07  41583.839680  30585.330268  51508.871830  35706.229873   \n",
              "1923 2022-08-08  41568.420968  30708.154862  49971.668097  35578.184449   \n",
              "1924 2022-08-09  41553.002256  31433.406927  50943.436549  35450.139024   \n",
              "1925 2022-08-10  41537.583545  30364.340805  50691.789604  35318.367241   \n",
              "\n",
              "       trend_upper  additive_terms  additive_terms_lower  \\\n",
              "1921  46937.782176     -700.293038           -700.293038   \n",
              "1922  46994.638840     -603.981032           -603.981032   \n",
              "1923  47050.820459     -455.259731           -455.259731   \n",
              "1924  47106.095160     -357.351692           -357.351692   \n",
              "1925  47161.369861     -203.274626           -203.274626   \n",
              "\n",
              "      additive_terms_upper     weekly  weekly_lower  weekly_upper      yearly  \\\n",
              "1921           -700.293038   6.178946      6.178946      6.178946 -706.471984   \n",
              "1922           -603.981032 -16.905748    -16.905748    -16.905748 -587.075284   \n",
              "1923           -455.259731  16.033761     16.033761     16.033761 -471.293492   \n",
              "1924           -357.351692   2.034369      2.034369      2.034369 -359.386061   \n",
              "1925           -203.274626  48.318652     48.318652     48.318652 -251.593278   \n",
              "\n",
              "      yearly_lower  yearly_upper  multiplicative_terms  \\\n",
              "1921   -706.471984   -706.471984                   0.0   \n",
              "1922   -587.075284   -587.075284                   0.0   \n",
              "1923   -471.293492   -471.293492                   0.0   \n",
              "1924   -359.386061   -359.386061                   0.0   \n",
              "1925   -251.593278   -251.593278                   0.0   \n",
              "\n",
              "      multiplicative_terms_lower  multiplicative_terms_upper          yhat  \n",
              "1921                         0.0                         0.0  40898.965353  \n",
              "1922                         0.0                         0.0  40979.858648  \n",
              "1923                         0.0                         0.0  41113.161237  \n",
              "1924                         0.0                         0.0  41195.650564  \n",
              "1925                         0.0                         0.0  41334.308919  "
            ]
          },
          "execution_count": 20,
          "metadata": {},
          "output_type": "execute_result"
        }
      ],
      "source": [
        "future = m.make_future_dataframe(periods=100, freq='D')\n",
        "forecast = m.predict(future)\n",
        "forecast.tail()"
      ]
    },
    {
      "cell_type": "code",
      "execution_count": null,
      "metadata": {
        "colab": {
          "base_uri": "https://localhost:8080/",
          "height": 356
        },
        "id": "LJqRB-UMsMQw",
        "outputId": "22f2925e-c06c-424d-a435-2d3250b650d6"
      },
      "outputs": [
        {
          "data": {
            "text/html": [
              "<div>\n",
              "<style scoped>\n",
              "    .dataframe tbody tr th:only-of-type {\n",
              "        vertical-align: middle;\n",
              "    }\n",
              "\n",
              "    .dataframe tbody tr th {\n",
              "        vertical-align: top;\n",
              "    }\n",
              "\n",
              "    .dataframe thead th {\n",
              "        text-align: right;\n",
              "    }\n",
              "</style>\n",
              "<table border=\"1\" class=\"dataframe\">\n",
              "  <thead>\n",
              "    <tr style=\"text-align: right;\">\n",
              "      <th></th>\n",
              "      <th>ds</th>\n",
              "      <th>trend</th>\n",
              "      <th>yhat_lower</th>\n",
              "      <th>yhat_upper</th>\n",
              "      <th>trend_lower</th>\n",
              "      <th>trend_upper</th>\n",
              "      <th>additive_terms</th>\n",
              "      <th>additive_terms_lower</th>\n",
              "      <th>additive_terms_upper</th>\n",
              "      <th>weekly</th>\n",
              "      <th>weekly_lower</th>\n",
              "      <th>weekly_upper</th>\n",
              "      <th>yearly</th>\n",
              "      <th>yearly_lower</th>\n",
              "      <th>yearly_upper</th>\n",
              "      <th>multiplicative_terms</th>\n",
              "      <th>multiplicative_terms_lower</th>\n",
              "      <th>multiplicative_terms_upper</th>\n",
              "      <th>yhat</th>\n",
              "    </tr>\n",
              "  </thead>\n",
              "  <tbody>\n",
              "    <tr>\n",
              "      <th>1906</th>\n",
              "      <td>2022-07-22</td>\n",
              "      <td>41830.539067</td>\n",
              "      <td>29625.863892</td>\n",
              "      <td>48310.114188</td>\n",
              "      <td>37486.596440</td>\n",
              "      <td>45784.711122</td>\n",
              "      <td>-2648.529844</td>\n",
              "      <td>-2648.529844</td>\n",
              "      <td>-2648.529844</td>\n",
              "      <td>-16.470557</td>\n",
              "      <td>-16.470557</td>\n",
              "      <td>-16.470557</td>\n",
              "      <td>-2632.059287</td>\n",
              "      <td>-2632.059287</td>\n",
              "      <td>-2632.059287</td>\n",
              "      <td>0.0</td>\n",
              "      <td>0.0</td>\n",
              "      <td>0.0</td>\n",
              "      <td>39182.009223</td>\n",
              "    </tr>\n",
              "    <tr>\n",
              "      <th>1907</th>\n",
              "      <td>2022-07-23</td>\n",
              "      <td>41815.120355</td>\n",
              "      <td>29872.723510</td>\n",
              "      <td>47727.659924</td>\n",
              "      <td>37372.720641</td>\n",
              "      <td>45871.090061</td>\n",
              "      <td>-2511.984544</td>\n",
              "      <td>-2511.984544</td>\n",
              "      <td>-2511.984544</td>\n",
              "      <td>6.178946</td>\n",
              "      <td>6.178946</td>\n",
              "      <td>6.178946</td>\n",
              "      <td>-2518.163490</td>\n",
              "      <td>-2518.163490</td>\n",
              "      <td>-2518.163490</td>\n",
              "      <td>0.0</td>\n",
              "      <td>0.0</td>\n",
              "      <td>0.0</td>\n",
              "      <td>39303.135811</td>\n",
              "    </tr>\n",
              "    <tr>\n",
              "      <th>1908</th>\n",
              "      <td>2022-07-24</td>\n",
              "      <td>41799.701643</td>\n",
              "      <td>30014.680500</td>\n",
              "      <td>48743.046842</td>\n",
              "      <td>37259.154090</td>\n",
              "      <td>45957.129687</td>\n",
              "      <td>-2415.635559</td>\n",
              "      <td>-2415.635559</td>\n",
              "      <td>-2415.635559</td>\n",
              "      <td>-16.905748</td>\n",
              "      <td>-16.905748</td>\n",
              "      <td>-16.905748</td>\n",
              "      <td>-2398.729812</td>\n",
              "      <td>-2398.729812</td>\n",
              "      <td>-2398.729812</td>\n",
              "      <td>0.0</td>\n",
              "      <td>0.0</td>\n",
              "      <td>0.0</td>\n",
              "      <td>39384.066084</td>\n",
              "    </tr>\n",
              "    <tr>\n",
              "      <th>1909</th>\n",
              "      <td>2022-07-25</td>\n",
              "      <td>41784.282932</td>\n",
              "      <td>30259.723375</td>\n",
              "      <td>48105.824917</td>\n",
              "      <td>37145.587538</td>\n",
              "      <td>46011.525259</td>\n",
              "      <td>-2258.624994</td>\n",
              "      <td>-2258.624994</td>\n",
              "      <td>-2258.624994</td>\n",
              "      <td>16.033761</td>\n",
              "      <td>16.033761</td>\n",
              "      <td>16.033761</td>\n",
              "      <td>-2274.658755</td>\n",
              "      <td>-2274.658755</td>\n",
              "      <td>-2274.658755</td>\n",
              "      <td>0.0</td>\n",
              "      <td>0.0</td>\n",
              "      <td>0.0</td>\n",
              "      <td>39525.657938</td>\n",
              "    </tr>\n",
              "    <tr>\n",
              "      <th>1910</th>\n",
              "      <td>2022-07-26</td>\n",
              "      <td>41768.864220</td>\n",
              "      <td>29062.349510</td>\n",
              "      <td>48626.577168</td>\n",
              "      <td>37032.020987</td>\n",
              "      <td>46113.333352</td>\n",
              "      <td>-2144.802779</td>\n",
              "      <td>-2144.802779</td>\n",
              "      <td>-2144.802779</td>\n",
              "      <td>2.034369</td>\n",
              "      <td>2.034369</td>\n",
              "      <td>2.034369</td>\n",
              "      <td>-2146.837148</td>\n",
              "      <td>-2146.837148</td>\n",
              "      <td>-2146.837148</td>\n",
              "      <td>0.0</td>\n",
              "      <td>0.0</td>\n",
              "      <td>0.0</td>\n",
              "      <td>39624.061441</td>\n",
              "    </tr>\n",
              "    <tr>\n",
              "      <th>1911</th>\n",
              "      <td>2022-07-27</td>\n",
              "      <td>41753.445508</td>\n",
              "      <td>30197.943409</td>\n",
              "      <td>49406.770894</td>\n",
              "      <td>36918.454436</td>\n",
              "      <td>46173.905483</td>\n",
              "      <td>-1967.807366</td>\n",
              "      <td>-1967.807366</td>\n",
              "      <td>-1967.807366</td>\n",
              "      <td>48.318652</td>\n",
              "      <td>48.318652</td>\n",
              "      <td>48.318652</td>\n",
              "      <td>-2016.126018</td>\n",
              "      <td>-2016.126018</td>\n",
              "      <td>-2016.126018</td>\n",
              "      <td>0.0</td>\n",
              "      <td>0.0</td>\n",
              "      <td>0.0</td>\n",
              "      <td>39785.638142</td>\n",
              "    </tr>\n",
              "    <tr>\n",
              "      <th>1912</th>\n",
              "      <td>2022-07-28</td>\n",
              "      <td>41738.026797</td>\n",
              "      <td>30805.836053</td>\n",
              "      <td>49415.154738</td>\n",
              "      <td>36804.887885</td>\n",
              "      <td>46234.126253</td>\n",
              "      <td>-1922.539754</td>\n",
              "      <td>-1922.539754</td>\n",
              "      <td>-1922.539754</td>\n",
              "      <td>-39.189423</td>\n",
              "      <td>-39.189423</td>\n",
              "      <td>-39.189423</td>\n",
              "      <td>-1883.350331</td>\n",
              "      <td>-1883.350331</td>\n",
              "      <td>-1883.350331</td>\n",
              "      <td>0.0</td>\n",
              "      <td>0.0</td>\n",
              "      <td>0.0</td>\n",
              "      <td>39815.487043</td>\n",
              "    </tr>\n",
              "    <tr>\n",
              "      <th>1913</th>\n",
              "      <td>2022-07-29</td>\n",
              "      <td>41722.608085</td>\n",
              "      <td>30336.546096</td>\n",
              "      <td>50042.542028</td>\n",
              "      <td>36710.073614</td>\n",
              "      <td>46294.133986</td>\n",
              "      <td>-1765.761275</td>\n",
              "      <td>-1765.761275</td>\n",
              "      <td>-1765.761275</td>\n",
              "      <td>-16.470557</td>\n",
              "      <td>-16.470557</td>\n",
              "      <td>-16.470557</td>\n",
              "      <td>-1749.290718</td>\n",
              "      <td>-1749.290718</td>\n",
              "      <td>-1749.290718</td>\n",
              "      <td>0.0</td>\n",
              "      <td>0.0</td>\n",
              "      <td>0.0</td>\n",
              "      <td>39956.846810</td>\n",
              "    </tr>\n",
              "    <tr>\n",
              "      <th>1914</th>\n",
              "      <td>2022-07-30</td>\n",
              "      <td>41707.189373</td>\n",
              "      <td>30666.678457</td>\n",
              "      <td>49587.576901</td>\n",
              "      <td>36625.638787</td>\n",
              "      <td>46352.997039</td>\n",
              "      <td>-1608.498274</td>\n",
              "      <td>-1608.498274</td>\n",
              "      <td>-1608.498274</td>\n",
              "      <td>6.178946</td>\n",
              "      <td>6.178946</td>\n",
              "      <td>6.178946</td>\n",
              "      <td>-1614.677220</td>\n",
              "      <td>-1614.677220</td>\n",
              "      <td>-1614.677220</td>\n",
              "      <td>0.0</td>\n",
              "      <td>0.0</td>\n",
              "      <td>0.0</td>\n",
              "      <td>40098.691099</td>\n",
              "    </tr>\n",
              "    <tr>\n",
              "      <th>1915</th>\n",
              "      <td>2022-07-31</td>\n",
              "      <td>41691.770662</td>\n",
              "      <td>30418.983594</td>\n",
              "      <td>49221.188530</td>\n",
              "      <td>36541.203959</td>\n",
              "      <td>46413.464118</td>\n",
              "      <td>-1497.090796</td>\n",
              "      <td>-1497.090796</td>\n",
              "      <td>-1497.090796</td>\n",
              "      <td>-16.905748</td>\n",
              "      <td>-16.905748</td>\n",
              "      <td>-16.905748</td>\n",
              "      <td>-1480.185048</td>\n",
              "      <td>-1480.185048</td>\n",
              "      <td>-1480.185048</td>\n",
              "      <td>0.0</td>\n",
              "      <td>0.0</td>\n",
              "      <td>0.0</td>\n",
              "      <td>40194.679866</td>\n",
              "    </tr>\n",
              "    <tr>\n",
              "      <th>1916</th>\n",
              "      <td>2022-08-01</td>\n",
              "      <td>41676.351950</td>\n",
              "      <td>30481.435360</td>\n",
              "      <td>49738.679298</td>\n",
              "      <td>36456.769132</td>\n",
              "      <td>46482.586293</td>\n",
              "      <td>-1330.398532</td>\n",
              "      <td>-1330.398532</td>\n",
              "      <td>-1330.398532</td>\n",
              "      <td>16.033761</td>\n",
              "      <td>16.033761</td>\n",
              "      <td>16.033761</td>\n",
              "      <td>-1346.432292</td>\n",
              "      <td>-1346.432292</td>\n",
              "      <td>-1346.432292</td>\n",
              "      <td>0.0</td>\n",
              "      <td>0.0</td>\n",
              "      <td>0.0</td>\n",
              "      <td>40345.953418</td>\n",
              "    </tr>\n",
              "    <tr>\n",
              "      <th>1917</th>\n",
              "      <td>2022-08-02</td>\n",
              "      <td>41660.933238</td>\n",
              "      <td>30960.078935</td>\n",
              "      <td>49384.850298</td>\n",
              "      <td>36346.456996</td>\n",
              "      <td>46532.429100</td>\n",
              "      <td>-1211.945103</td>\n",
              "      <td>-1211.945103</td>\n",
              "      <td>-1211.945103</td>\n",
              "      <td>2.034369</td>\n",
              "      <td>2.034369</td>\n",
              "      <td>2.034369</td>\n",
              "      <td>-1213.979472</td>\n",
              "      <td>-1213.979472</td>\n",
              "      <td>-1213.979472</td>\n",
              "      <td>0.0</td>\n",
              "      <td>0.0</td>\n",
              "      <td>0.0</td>\n",
              "      <td>40448.988135</td>\n",
              "    </tr>\n",
              "    <tr>\n",
              "      <th>1918</th>\n",
              "      <td>2022-08-03</td>\n",
              "      <td>41645.514526</td>\n",
              "      <td>30820.266271</td>\n",
              "      <td>49922.870399</td>\n",
              "      <td>36218.411572</td>\n",
              "      <td>46608.014100</td>\n",
              "      <td>-1035.012114</td>\n",
              "      <td>-1035.012114</td>\n",
              "      <td>-1035.012114</td>\n",
              "      <td>48.318652</td>\n",
              "      <td>48.318652</td>\n",
              "      <td>48.318652</td>\n",
              "      <td>-1083.330766</td>\n",
              "      <td>-1083.330766</td>\n",
              "      <td>-1083.330766</td>\n",
              "      <td>0.0</td>\n",
              "      <td>0.0</td>\n",
              "      <td>0.0</td>\n",
              "      <td>40610.502412</td>\n",
              "    </tr>\n",
              "    <tr>\n",
              "      <th>1919</th>\n",
              "      <td>2022-08-04</td>\n",
              "      <td>41630.095815</td>\n",
              "      <td>30360.979990</td>\n",
              "      <td>49708.999569</td>\n",
              "      <td>36090.366147</td>\n",
              "      <td>46723.458425</td>\n",
              "      <td>-994.126163</td>\n",
              "      <td>-994.126163</td>\n",
              "      <td>-994.126163</td>\n",
              "      <td>-39.189423</td>\n",
              "      <td>-39.189423</td>\n",
              "      <td>-39.189423</td>\n",
              "      <td>-954.936740</td>\n",
              "      <td>-954.936740</td>\n",
              "      <td>-954.936740</td>\n",
              "      <td>0.0</td>\n",
              "      <td>0.0</td>\n",
              "      <td>0.0</td>\n",
              "      <td>40635.969652</td>\n",
              "    </tr>\n",
              "    <tr>\n",
              "      <th>1920</th>\n",
              "      <td>2022-08-05</td>\n",
              "      <td>41614.677103</td>\n",
              "      <td>31181.784567</td>\n",
              "      <td>49803.872761</td>\n",
              "      <td>35962.320722</td>\n",
              "      <td>46838.014834</td>\n",
              "      <td>-845.668907</td>\n",
              "      <td>-845.668907</td>\n",
              "      <td>-845.668907</td>\n",
              "      <td>-16.470557</td>\n",
              "      <td>-16.470557</td>\n",
              "      <td>-16.470557</td>\n",
              "      <td>-829.198350</td>\n",
              "      <td>-829.198350</td>\n",
              "      <td>-829.198350</td>\n",
              "      <td>0.0</td>\n",
              "      <td>0.0</td>\n",
              "      <td>0.0</td>\n",
              "      <td>40769.008196</td>\n",
              "    </tr>\n",
              "    <tr>\n",
              "      <th>1921</th>\n",
              "      <td>2022-08-06</td>\n",
              "      <td>41599.258391</td>\n",
              "      <td>31139.614725</td>\n",
              "      <td>50396.776004</td>\n",
              "      <td>35834.275298</td>\n",
              "      <td>46937.782176</td>\n",
              "      <td>-700.293038</td>\n",
              "      <td>-700.293038</td>\n",
              "      <td>-700.293038</td>\n",
              "      <td>6.178946</td>\n",
              "      <td>6.178946</td>\n",
              "      <td>6.178946</td>\n",
              "      <td>-706.471984</td>\n",
              "      <td>-706.471984</td>\n",
              "      <td>-706.471984</td>\n",
              "      <td>0.0</td>\n",
              "      <td>0.0</td>\n",
              "      <td>0.0</td>\n",
              "      <td>40898.965353</td>\n",
              "    </tr>\n",
              "    <tr>\n",
              "      <th>1922</th>\n",
              "      <td>2022-08-07</td>\n",
              "      <td>41583.839680</td>\n",
              "      <td>30585.330268</td>\n",
              "      <td>51508.871830</td>\n",
              "      <td>35706.229873</td>\n",
              "      <td>46994.638840</td>\n",
              "      <td>-603.981032</td>\n",
              "      <td>-603.981032</td>\n",
              "      <td>-603.981032</td>\n",
              "      <td>-16.905748</td>\n",
              "      <td>-16.905748</td>\n",
              "      <td>-16.905748</td>\n",
              "      <td>-587.075284</td>\n",
              "      <td>-587.075284</td>\n",
              "      <td>-587.075284</td>\n",
              "      <td>0.0</td>\n",
              "      <td>0.0</td>\n",
              "      <td>0.0</td>\n",
              "      <td>40979.858648</td>\n",
              "    </tr>\n",
              "    <tr>\n",
              "      <th>1923</th>\n",
              "      <td>2022-08-08</td>\n",
              "      <td>41568.420968</td>\n",
              "      <td>30708.154862</td>\n",
              "      <td>49971.668097</td>\n",
              "      <td>35578.184449</td>\n",
              "      <td>47050.820459</td>\n",
              "      <td>-455.259731</td>\n",
              "      <td>-455.259731</td>\n",
              "      <td>-455.259731</td>\n",
              "      <td>16.033761</td>\n",
              "      <td>16.033761</td>\n",
              "      <td>16.033761</td>\n",
              "      <td>-471.293492</td>\n",
              "      <td>-471.293492</td>\n",
              "      <td>-471.293492</td>\n",
              "      <td>0.0</td>\n",
              "      <td>0.0</td>\n",
              "      <td>0.0</td>\n",
              "      <td>41113.161237</td>\n",
              "    </tr>\n",
              "    <tr>\n",
              "      <th>1924</th>\n",
              "      <td>2022-08-09</td>\n",
              "      <td>41553.002256</td>\n",
              "      <td>31433.406927</td>\n",
              "      <td>50943.436549</td>\n",
              "      <td>35450.139024</td>\n",
              "      <td>47106.095160</td>\n",
              "      <td>-357.351692</td>\n",
              "      <td>-357.351692</td>\n",
              "      <td>-357.351692</td>\n",
              "      <td>2.034369</td>\n",
              "      <td>2.034369</td>\n",
              "      <td>2.034369</td>\n",
              "      <td>-359.386061</td>\n",
              "      <td>-359.386061</td>\n",
              "      <td>-359.386061</td>\n",
              "      <td>0.0</td>\n",
              "      <td>0.0</td>\n",
              "      <td>0.0</td>\n",
              "      <td>41195.650564</td>\n",
              "    </tr>\n",
              "    <tr>\n",
              "      <th>1925</th>\n",
              "      <td>2022-08-10</td>\n",
              "      <td>41537.583545</td>\n",
              "      <td>30364.340805</td>\n",
              "      <td>50691.789604</td>\n",
              "      <td>35318.367241</td>\n",
              "      <td>47161.369861</td>\n",
              "      <td>-203.274626</td>\n",
              "      <td>-203.274626</td>\n",
              "      <td>-203.274626</td>\n",
              "      <td>48.318652</td>\n",
              "      <td>48.318652</td>\n",
              "      <td>48.318652</td>\n",
              "      <td>-251.593278</td>\n",
              "      <td>-251.593278</td>\n",
              "      <td>-251.593278</td>\n",
              "      <td>0.0</td>\n",
              "      <td>0.0</td>\n",
              "      <td>0.0</td>\n",
              "      <td>41334.308919</td>\n",
              "    </tr>\n",
              "  </tbody>\n",
              "</table>\n",
              "</div>"
            ],
            "text/plain": [
              "             ds         trend    yhat_lower    yhat_upper   trend_lower  \\\n",
              "1906 2022-07-22  41830.539067  29625.863892  48310.114188  37486.596440   \n",
              "1907 2022-07-23  41815.120355  29872.723510  47727.659924  37372.720641   \n",
              "1908 2022-07-24  41799.701643  30014.680500  48743.046842  37259.154090   \n",
              "1909 2022-07-25  41784.282932  30259.723375  48105.824917  37145.587538   \n",
              "1910 2022-07-26  41768.864220  29062.349510  48626.577168  37032.020987   \n",
              "1911 2022-07-27  41753.445508  30197.943409  49406.770894  36918.454436   \n",
              "1912 2022-07-28  41738.026797  30805.836053  49415.154738  36804.887885   \n",
              "1913 2022-07-29  41722.608085  30336.546096  50042.542028  36710.073614   \n",
              "1914 2022-07-30  41707.189373  30666.678457  49587.576901  36625.638787   \n",
              "1915 2022-07-31  41691.770662  30418.983594  49221.188530  36541.203959   \n",
              "1916 2022-08-01  41676.351950  30481.435360  49738.679298  36456.769132   \n",
              "1917 2022-08-02  41660.933238  30960.078935  49384.850298  36346.456996   \n",
              "1918 2022-08-03  41645.514526  30820.266271  49922.870399  36218.411572   \n",
              "1919 2022-08-04  41630.095815  30360.979990  49708.999569  36090.366147   \n",
              "1920 2022-08-05  41614.677103  31181.784567  49803.872761  35962.320722   \n",
              "1921 2022-08-06  41599.258391  31139.614725  50396.776004  35834.275298   \n",
              "1922 2022-08-07  41583.839680  30585.330268  51508.871830  35706.229873   \n",
              "1923 2022-08-08  41568.420968  30708.154862  49971.668097  35578.184449   \n",
              "1924 2022-08-09  41553.002256  31433.406927  50943.436549  35450.139024   \n",
              "1925 2022-08-10  41537.583545  30364.340805  50691.789604  35318.367241   \n",
              "\n",
              "       trend_upper  additive_terms  additive_terms_lower  \\\n",
              "1906  45784.711122    -2648.529844          -2648.529844   \n",
              "1907  45871.090061    -2511.984544          -2511.984544   \n",
              "1908  45957.129687    -2415.635559          -2415.635559   \n",
              "1909  46011.525259    -2258.624994          -2258.624994   \n",
              "1910  46113.333352    -2144.802779          -2144.802779   \n",
              "1911  46173.905483    -1967.807366          -1967.807366   \n",
              "1912  46234.126253    -1922.539754          -1922.539754   \n",
              "1913  46294.133986    -1765.761275          -1765.761275   \n",
              "1914  46352.997039    -1608.498274          -1608.498274   \n",
              "1915  46413.464118    -1497.090796          -1497.090796   \n",
              "1916  46482.586293    -1330.398532          -1330.398532   \n",
              "1917  46532.429100    -1211.945103          -1211.945103   \n",
              "1918  46608.014100    -1035.012114          -1035.012114   \n",
              "1919  46723.458425     -994.126163           -994.126163   \n",
              "1920  46838.014834     -845.668907           -845.668907   \n",
              "1921  46937.782176     -700.293038           -700.293038   \n",
              "1922  46994.638840     -603.981032           -603.981032   \n",
              "1923  47050.820459     -455.259731           -455.259731   \n",
              "1924  47106.095160     -357.351692           -357.351692   \n",
              "1925  47161.369861     -203.274626           -203.274626   \n",
              "\n",
              "      additive_terms_upper     weekly  weekly_lower  weekly_upper  \\\n",
              "1906          -2648.529844 -16.470557    -16.470557    -16.470557   \n",
              "1907          -2511.984544   6.178946      6.178946      6.178946   \n",
              "1908          -2415.635559 -16.905748    -16.905748    -16.905748   \n",
              "1909          -2258.624994  16.033761     16.033761     16.033761   \n",
              "1910          -2144.802779   2.034369      2.034369      2.034369   \n",
              "1911          -1967.807366  48.318652     48.318652     48.318652   \n",
              "1912          -1922.539754 -39.189423    -39.189423    -39.189423   \n",
              "1913          -1765.761275 -16.470557    -16.470557    -16.470557   \n",
              "1914          -1608.498274   6.178946      6.178946      6.178946   \n",
              "1915          -1497.090796 -16.905748    -16.905748    -16.905748   \n",
              "1916          -1330.398532  16.033761     16.033761     16.033761   \n",
              "1917          -1211.945103   2.034369      2.034369      2.034369   \n",
              "1918          -1035.012114  48.318652     48.318652     48.318652   \n",
              "1919           -994.126163 -39.189423    -39.189423    -39.189423   \n",
              "1920           -845.668907 -16.470557    -16.470557    -16.470557   \n",
              "1921           -700.293038   6.178946      6.178946      6.178946   \n",
              "1922           -603.981032 -16.905748    -16.905748    -16.905748   \n",
              "1923           -455.259731  16.033761     16.033761     16.033761   \n",
              "1924           -357.351692   2.034369      2.034369      2.034369   \n",
              "1925           -203.274626  48.318652     48.318652     48.318652   \n",
              "\n",
              "           yearly  yearly_lower  yearly_upper  multiplicative_terms  \\\n",
              "1906 -2632.059287  -2632.059287  -2632.059287                   0.0   \n",
              "1907 -2518.163490  -2518.163490  -2518.163490                   0.0   \n",
              "1908 -2398.729812  -2398.729812  -2398.729812                   0.0   \n",
              "1909 -2274.658755  -2274.658755  -2274.658755                   0.0   \n",
              "1910 -2146.837148  -2146.837148  -2146.837148                   0.0   \n",
              "1911 -2016.126018  -2016.126018  -2016.126018                   0.0   \n",
              "1912 -1883.350331  -1883.350331  -1883.350331                   0.0   \n",
              "1913 -1749.290718  -1749.290718  -1749.290718                   0.0   \n",
              "1914 -1614.677220  -1614.677220  -1614.677220                   0.0   \n",
              "1915 -1480.185048  -1480.185048  -1480.185048                   0.0   \n",
              "1916 -1346.432292  -1346.432292  -1346.432292                   0.0   \n",
              "1917 -1213.979472  -1213.979472  -1213.979472                   0.0   \n",
              "1918 -1083.330766  -1083.330766  -1083.330766                   0.0   \n",
              "1919  -954.936740   -954.936740   -954.936740                   0.0   \n",
              "1920  -829.198350   -829.198350   -829.198350                   0.0   \n",
              "1921  -706.471984   -706.471984   -706.471984                   0.0   \n",
              "1922  -587.075284   -587.075284   -587.075284                   0.0   \n",
              "1923  -471.293492   -471.293492   -471.293492                   0.0   \n",
              "1924  -359.386061   -359.386061   -359.386061                   0.0   \n",
              "1925  -251.593278   -251.593278   -251.593278                   0.0   \n",
              "\n",
              "      multiplicative_terms_lower  multiplicative_terms_upper          yhat  \n",
              "1906                         0.0                         0.0  39182.009223  \n",
              "1907                         0.0                         0.0  39303.135811  \n",
              "1908                         0.0                         0.0  39384.066084  \n",
              "1909                         0.0                         0.0  39525.657938  \n",
              "1910                         0.0                         0.0  39624.061441  \n",
              "1911                         0.0                         0.0  39785.638142  \n",
              "1912                         0.0                         0.0  39815.487043  \n",
              "1913                         0.0                         0.0  39956.846810  \n",
              "1914                         0.0                         0.0  40098.691099  \n",
              "1915                         0.0                         0.0  40194.679866  \n",
              "1916                         0.0                         0.0  40345.953418  \n",
              "1917                         0.0                         0.0  40448.988135  \n",
              "1918                         0.0                         0.0  40610.502412  \n",
              "1919                         0.0                         0.0  40635.969652  \n",
              "1920                         0.0                         0.0  40769.008196  \n",
              "1921                         0.0                         0.0  40898.965353  \n",
              "1922                         0.0                         0.0  40979.858648  \n",
              "1923                         0.0                         0.0  41113.161237  \n",
              "1924                         0.0                         0.0  41195.650564  \n",
              "1925                         0.0                         0.0  41334.308919  "
            ]
          },
          "execution_count": 21,
          "metadata": {},
          "output_type": "execute_result"
        }
      ],
      "source": [
        "forecast.tail(20)"
      ]
    },
    {
      "cell_type": "code",
      "execution_count": null,
      "metadata": {
        "colab": {
          "base_uri": "https://localhost:8080/",
          "height": 654
        },
        "id": "e5nTcHMNsaW2",
        "outputId": "88346a42-6a61-4129-f954-748f2784044e"
      },
      "outputs": [
        {
          "data": {
            "text/html": [
              "<div>\n",
              "<style scoped>\n",
              "    .dataframe tbody tr th:only-of-type {\n",
              "        vertical-align: middle;\n",
              "    }\n",
              "\n",
              "    .dataframe tbody tr th {\n",
              "        vertical-align: top;\n",
              "    }\n",
              "\n",
              "    .dataframe thead th {\n",
              "        text-align: right;\n",
              "    }\n",
              "</style>\n",
              "<table border=\"1\" class=\"dataframe\">\n",
              "  <thead>\n",
              "    <tr style=\"text-align: right;\">\n",
              "      <th></th>\n",
              "      <th>ds</th>\n",
              "      <th>yhat</th>\n",
              "    </tr>\n",
              "  </thead>\n",
              "  <tbody>\n",
              "    <tr>\n",
              "      <th>0</th>\n",
              "      <td>2017-05-03</td>\n",
              "      <td>3360.320181</td>\n",
              "    </tr>\n",
              "    <tr>\n",
              "      <th>1</th>\n",
              "      <td>2017-05-04</td>\n",
              "      <td>3314.973423</td>\n",
              "    </tr>\n",
              "    <tr>\n",
              "      <th>2</th>\n",
              "      <td>2017-05-05</td>\n",
              "      <td>3364.141931</td>\n",
              "    </tr>\n",
              "    <tr>\n",
              "      <th>3</th>\n",
              "      <td>2017-05-06</td>\n",
              "      <td>3396.068960</td>\n",
              "    </tr>\n",
              "    <tr>\n",
              "      <th>4</th>\n",
              "      <td>2017-05-07</td>\n",
              "      <td>3363.994732</td>\n",
              "    </tr>\n",
              "    <tr>\n",
              "      <th>...</th>\n",
              "      <td>...</td>\n",
              "      <td>...</td>\n",
              "    </tr>\n",
              "    <tr>\n",
              "      <th>1921</th>\n",
              "      <td>2022-08-06</td>\n",
              "      <td>40898.965353</td>\n",
              "    </tr>\n",
              "    <tr>\n",
              "      <th>1922</th>\n",
              "      <td>2022-08-07</td>\n",
              "      <td>40979.858648</td>\n",
              "    </tr>\n",
              "    <tr>\n",
              "      <th>1923</th>\n",
              "      <td>2022-08-08</td>\n",
              "      <td>41113.161237</td>\n",
              "    </tr>\n",
              "    <tr>\n",
              "      <th>1924</th>\n",
              "      <td>2022-08-09</td>\n",
              "      <td>41195.650564</td>\n",
              "    </tr>\n",
              "    <tr>\n",
              "      <th>1925</th>\n",
              "      <td>2022-08-10</td>\n",
              "      <td>41334.308919</td>\n",
              "    </tr>\n",
              "  </tbody>\n",
              "</table>\n",
              "<p>1926 rows × 2 columns</p>\n",
              "</div>"
            ],
            "text/plain": [
              "             ds          yhat\n",
              "0    2017-05-03   3360.320181\n",
              "1    2017-05-04   3314.973423\n",
              "2    2017-05-05   3364.141931\n",
              "3    2017-05-06   3396.068960\n",
              "4    2017-05-07   3363.994732\n",
              "...         ...           ...\n",
              "1921 2022-08-06  40898.965353\n",
              "1922 2022-08-07  40979.858648\n",
              "1923 2022-08-08  41113.161237\n",
              "1924 2022-08-09  41195.650564\n",
              "1925 2022-08-10  41334.308919\n",
              "\n",
              "[1926 rows x 2 columns]"
            ]
          },
          "execution_count": 22,
          "metadata": {},
          "output_type": "execute_result"
        }
      ],
      "source": [
        "forecast[['ds','yhat']]"
      ]
    },
    {
      "cell_type": "code",
      "execution_count": null,
      "metadata": {
        "id": "i7uynb3NRd1l"
      },
      "outputs": [],
      "source": [
        ""
      ]
    },
    {
      "cell_type": "code",
      "execution_count": null,
      "metadata": {
        "colab": {
          "base_uri": "https://localhost:8080/"
        },
        "id": "ro-NNZycjM5Y",
        "outputId": "d9a2e70b-a342-4cc3-800c-35f8bae4daf8"
      },
      "outputs": [
        {
          "name": "stdout",
          "output_type": "stream",
          "text": [
            "MAE: 3163.466\n",
            "r^2 score = 0.9383909852629867\n"
          ]
        }
      ],
      "source": [
        "train = data_btc['y']\n",
        "test = forecast['yhat'][:1826].values\n",
        "\n",
        "mae = mean_absolute_error(train, test)\n",
        "print('MAE: %.3f' % mae)\n",
        "\n",
        "\n",
        "print(f'r^2 score = {r2_score(train,test)}')"
      ]
    },
    {
      "cell_type": "code",
      "execution_count": null,
      "metadata": {
        "colab": {
          "base_uri": "https://localhost:8080/",
          "height": 641
        },
        "id": "wSB8_fBLtEFK",
        "outputId": "9737043c-0c16-44e5-ebe8-fac540869371"
      },
      "outputs": [
        {
          "data": {
            "image/png": "[encoded data removed]",
            "text/plain": [
              "<Figure size 432x288 with 1 Axes>"
            ]
          },
          "metadata": {
            "needs_background": "light"
          },
          "output_type": "display_data"
        },
        {
          "data": {
            "image/png": "[encoded data removed]",
            "text/plain": [
              "<Figure size 720x432 with 1 Axes>"
            ]
          },
          "metadata": {},
          "output_type": "display_data"
        }
      ],
      "source": [
        "data_btc['y'].plot(color='b', linestyle = '-')\n",
        "forecast['yhat'].plot(color='r', linestyle = '-')\n",
        "plot = m.plot(forecast)\n"
      ]
    },
    {
      "cell_type": "code",
      "execution_count": null,
      "metadata": {
        "colab": {
          "base_uri": "https://localhost:8080/",
          "height": 461
        },
        "id": "Oe0fehyjtbyw",
        "outputId": "ef59f7c3-92b7-415c-8e18-ceb2e3bf560e"
      },
      "outputs": [
        {
          "name": "stderr",
          "output_type": "stream",
          "text": [
            "C:\\Users\\jonathansantos\\anaconda3\\lib\\site-packages\\fbprophet\\forecaster.py:891: FutureWarning: The frame.append method is deprecated and will be removed from pandas in a future version. Use pandas.concat instead.\n",
            "  components = components.append(new_comp)\n",
            "C:\\Users\\jonathansantos\\anaconda3\\lib\\site-packages\\fbprophet\\forecaster.py:891: FutureWarning: The frame.append method is deprecated and will be removed from pandas in a future version. Use pandas.concat instead.\n",
            "  components = components.append(new_comp)\n"
          ]
        },
        {
          "data": {
            "image/png": "[encoded data removed]",
            "text/plain": [
              "<Figure size 648x648 with 3 Axes>"
            ]
          },
          "metadata": {},
          "output_type": "display_data"
        }
      ],
      "source": [
        "plot2 = m.plot_components(forecast)"
      ]
    },
    {
      "cell_type": "code",
      "execution_count": null,
      "metadata": {
        "id": "uamQDUM8f4Xy"
      },
      "outputs": [],
      "source": [
        "#pip install dash"
      ]
    },
    {
      "cell_type": "code",
      "execution_count": null,
      "metadata": {
        "id": "aAN24b_Ef4Xz"
      },
      "outputs": [],
      "source": [
        "#pip install dash_bootstrap_components"
      ]
    },
    {
      "cell_type": "code",
      "execution_count": null,
      "metadata": {
        "id": "rDWopWYbevPJ",
        "outputId": "be8ae370-d69b-4311-945e-89414798f9fe"
      },
      "outputs": [
        {
          "name": "stderr",
          "output_type": "stream",
          "text": [
            "<ipython-input-28-0ce921b7a48c>:2: UserWarning: \n",
            "The dash_html_components package is deprecated. Please replace\n",
            "`import dash_html_components as html` with `from dash import html`\n",
            "  import dash_html_components as html\n",
            "<ipython-input-28-0ce921b7a48c>:4: UserWarning: \n",
            "The dash_core_components package is deprecated. Please replace\n",
            "`import dash_core_components as dcc` with `from dash import dcc`\n",
            "  import dash_core_components as dcc\n"
          ]
        }
      ],
      "source": [
        "import dash\n",
        "import dash_html_components as html\n",
        "import plotly.graph_objects as go\n",
        "import dash_core_components as dcc\n",
        "import plotly.express as px\n",
        "from dash.dependencies import Input, Output\n",
        "\n",
        "\n",
        "app = dash.Dash()"
      ]
    },
    {
      "cell_type": "code",
      "execution_count": null,
      "metadata": {
        "id": "CFV9c5Ief4X2"
      },
      "outputs": [],
      "source": [
        "app.layout = html.Div([\n",
        "\n",
        "html.Div([\n",
        "    html.Img( src = 'https://freepngimg.com/thumb/bitcoin/59620-cryptocurrency-bitcoin-free-frame.png',\n",
        "             style = {'width':'150px','display':'block', 'margin-left':'auto', 'margin-right':'auto'}),\n",
        "    \n",
        "    html.H1(id = 'H1', children = 'Crypto Prediction', style = {'textAlign':'center',\\\n",
        "                                            'marginTop':40,'marginBottom':40})\n",
        "    ]),\n",
        "\n",
        "    \n",
        "html.Div([       \n",
        "        \n",
        "        dcc.Dropdown( id = 'dropdown',\n",
        "        options = [\n",
        "            {'label':'Prophet', 'value':'Prof' },\n",
        "            {'label': 'ARIMA', 'value':'arm'},\n",
        "            {'label': 'Smoothing', 'value':'smt'},\n",
        "            ],\n",
        "        value = 'arm', style = {'background-color': 'lightblue'}),\n",
        "        dcc.Graph(id = 'bar_plot')\n",
        "        \n",
        "    ])\n",
        "    \n",
        "   \n",
        "    ])"
      ]
    },
    {
      "cell_type": "code",
      "execution_count": null,
      "metadata": {
        "id": "zdeQhzAUf4X8"
      },
      "outputs": [],
      "source": [
        "@app.callback(Output(component_id='bar_plot', component_property= 'figure'),\n",
        "              [Input(component_id='dropdown', component_property= 'value')])\n",
        "\n",
        "def graph_update(dropdown_value):\n",
        "    print(dropdown_value)\n",
        "    \n",
        "    if dropdown_value == 'Prof':\n",
        "        fig = go.Figure()\n",
        "        fig.add_trace(go.Scatter(x = forecast['ds'],y = forecast['yhat'],\\\n",
        "                     line = dict(color = 'firebrick', width = 4), name = 'prophet'\n",
        "                     ))\n",
        "        fig.add_trace(go.Scatter(x = data_btc['ds'],y = data_btc['y'],\\\n",
        "                     line = dict(color = 'blue', width = 4), name = 'prophet'\n",
        "                     ))\n",
        "        fig.update_layout(title = 'Prices over time',\n",
        "                      xaxis_title = 'Dates',\n",
        "                      yaxis_title = 'Prices'\n",
        "                      )\n",
        "        return fig\n",
        "\n",
        "    elif dropdown_value == 'arm':\n",
        "\n",
        "        fig_two = go.Figure([go.Scatter(x = data_btc['ds'], y = data_btc['y'],\\\n",
        "                     line = dict(color = 'firebrick', width = 4))\n",
        "                     ])\n",
        "        fig_two.update_layout(title = 'Prices over time',\n",
        "                      xaxis_title = 'Dates',\n",
        "                      yaxis_title = 'Prices'\n",
        "                      )    \n",
        "\n",
        "        return fig_two  \n",
        "    elif dropdown_value == 'smt':\n",
        "\n",
        "        fig_three = go.Figure([go.Scatter(x = forecast['ds'],y = forecast['yhat'],\\\n",
        "                     line = dict(color = 'firebrick', width = 4))\n",
        "                     ])\n",
        "        fig_three.update_layout(title = 'Prices over time',\n",
        "                      xaxis_title = 'Dates',\n",
        "                      yaxis_title = 'Prices'\n",
        "                      )    \n",
        "\n",
        "        return fig_three\n",
        "    \n",
        "    else:\n",
        "        print('test')\n",
        "        "
      ]
    },
    {
      "cell_type": "code",
      "execution_count": null,
      "metadata": {
        "id": "_RSykuecf4X_",
        "outputId": "aac9f884-860a-4eb6-cc08-e1ca9b12cba9"
      },
      "outputs": [
        {
          "name": "stdout",
          "output_type": "stream",
          "text": [
            "Dash is running on http://127.0.0.1:8050/\n",
            "\n"
          ]
        },
        {
          "name": "stderr",
          "output_type": "stream",
          "text": [
            "INFO:__main__:Dash is running on http://127.0.0.1:8050/\n",
            "\n"
          ]
        },
        {
          "name": "stdout",
          "output_type": "stream",
          "text": [
            " * Serving Flask app \"__main__\" (lazy loading)\n",
            " * Environment: production\n",
            "   WARNING: This is a development server. Do not use it in a production deployment.\n",
            "   Use a production WSGI server instead.\n",
            " * Debug mode: off\n"
          ]
        },
        {
          "name": "stderr",
          "output_type": "stream",
          "text": [
            "INFO:werkzeug: * Running on http://127.0.0.1:8050/ (Press CTRL+C to quit)\n"
          ]
        },
        {
          "name": "stdout",
          "output_type": "stream",
          "text": [
            "Prof\n"
          ]
        },
        {
          "name": "stderr",
          "output_type": "stream",
          "text": [
            "INFO:werkzeug:127.0.0.1 - - [02/May/2022 12:28:03] \"\u001b[37mPOST /_dash-update-component HTTP/1.1\u001b[0m\" 200 -\n"
          ]
        }
      ],
      "source": [
        "\n",
        "if __name__ == '__main__': \n",
        "    app.run_server()"
      ]
    },
    {
      "cell_type": "code",
      "execution_count": null,
      "metadata": {
        "id": "v3zMMmEXf4YA"
      },
      "outputs": [],
      "source": [
        ""
      ]
    }
  ],
  "metadata": {
    "colab": {
      "collapsed_sections": [],
      "name": "Prophet_Model (2).ipynb",
      "provenance": [],
      "include_colab_link": true
    },
    "kernelspec": {
      "display_name": "Python 3",
      "language": "python",
      "name": "python3"
    },
    "language_info": {
      "codemirror_mode": {
        "name": "ipython",
        "version": 3
      },
      "file_extension": ".py",
      "mimetype": "text/x-python",
      "name": "python",
      "nbconvert_exporter": "python",
      "pygments_lexer": "ipython3",
      "version": "3.8.3"
    }
  },
  "nbformat": 4,
  "nbformat_minor": 0
}